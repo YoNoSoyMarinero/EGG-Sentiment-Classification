{
 "cells": [
  {
   "cell_type": "code",
   "execution_count": 1,
   "metadata": {},
   "outputs": [],
   "source": [
    "import sys\n",
    "sys.path.append(\"..\")"
   ]
  },
  {
   "cell_type": "code",
   "execution_count": 2,
   "metadata": {},
   "outputs": [
    {
     "name": "stderr",
     "output_type": "stream",
     "text": [
      "c:\\app\\Python39\\lib\\site-packages\\tqdm\\auto.py:21: TqdmWarning: IProgress not found. Please update jupyter and ipywidgets. See https://ipywidgets.readthedocs.io/en/stable/user_install.html\n",
      "  from .autonotebook import tqdm as notebook_tqdm\n"
     ]
    }
   ],
   "source": [
    "from datasets import Dataset\n",
    "import torch\n",
    "import os\n",
    "from PIL import Image\n",
    "import numpy as np\n",
    "import matplotlib.pyplot as plt\n",
    "from torchvision.transforms import (\n",
    "    Compose,\n",
    "    Normalize,\n",
    "    ToTensor\n",
    ")"
   ]
  },
  {
   "cell_type": "code",
   "execution_count": 3,
   "metadata": {},
   "outputs": [
    {
     "name": "stdout",
     "output_type": "stream",
     "text": [
      "c:\\Users\\z0224841\\PycharmProjects\\SIAP\\EGG-Sentiment-Classification\n"
     ]
    }
   ],
   "source": [
    "os.chdir('..')\n",
    "print(os.getcwd())"
   ]
  },
  {
   "cell_type": "code",
   "execution_count": 4,
   "metadata": {},
   "outputs": [],
   "source": [
    "def dataset_generator():\n",
    "    \"\"\"\n",
    "    Generator for datasets \n",
    "\n",
    "    Parametrs:\n",
    "    path (str) : path to folder\n",
    "    \"\"\"\n",
    "    labels: list = [\"Disgust\", \"Fear\", \"Sad\", \"Netural\", \"Happy\"]\n",
    "    for file in os.listdir(\"spectrograms\"):\n",
    "        tokens: list = file.split(\"_\")\n",
    "        label: int = int(tokens[1])\n",
    "        spectrogram: np.array = np.load(os.path.join('spectrograms', file))\n",
    "        spectrogram = 10*np.log10(spectrogram)\n",
    "        spectrogram = (spectrogram - np.min(spectrogram)) / (np.max(spectrogram) - np.min(spectrogram)) * 255\n",
    "        spectrogram = spectrogram.astype(np.uint8)\n",
    "        spectrogram = Image.fromarray(spectrogram, mode=\"L\")\n",
    "        yield {\n",
    "            \"img\": spectrogram,\n",
    "            \"label\": labels[label] \n",
    "        }\n",
    "\n",
    "dataset = Dataset.from_generator(dataset_generator)\n",
    "dataset = dataset.class_encode_column(\"label\")"
   ]
  },
  {
   "cell_type": "code",
   "execution_count": 5,
   "metadata": {},
   "outputs": [
    {
     "data": {
      "text/plain": [
       "{0: 'Disgust', 1: 'Fear', 2: 'Happy', 3: 'Netural', 4: 'Sad'}"
      ]
     },
     "execution_count": 5,
     "metadata": {},
     "output_type": "execute_result"
    }
   ],
   "source": [
    "id2label = {id:label for id, label in enumerate(dataset.features['label'].names)}\n",
    "label2id = {label:id for id,label in id2label.items()}\n",
    "id2label"
   ]
  },
  {
   "cell_type": "code",
   "execution_count": 6,
   "metadata": {},
   "outputs": [],
   "source": [
    "splits_train_test = dataset.train_test_split(test_size = 0.3)\n",
    "train_ds = splits_train_test['train']\n",
    "val_test_ds = splits_train_test['test']\n",
    "test_ds = val_test_ds.train_test_split(test_size=0.5)['train']\n",
    "val_ds = val_test_ds.train_test_split(test_size=0.5)['test']"
   ]
  },
  {
   "cell_type": "code",
   "execution_count": 7,
   "metadata": {},
   "outputs": [],
   "source": [
    "_ds_transform = Compose([\n",
    "    ToTensor()\n",
    "])\n",
    "\n",
    "def ds_transform(examples):\n",
    "    examples['img'] = [_ds_transform(image.convert(\"L\")) for image in examples['img']]\n",
    "    return examples\n",
    "\n",
    "train_ds.set_transform(ds_transform)\n",
    "test_ds.set_transform(ds_transform)\n",
    "val_ds.set_transform(ds_transform)"
   ]
  },
  {
   "cell_type": "markdown",
   "metadata": {},
   "source": [
    "## ViT implementation\n"
   ]
  },
  {
   "cell_type": "code",
   "execution_count": 8,
   "metadata": {},
   "outputs": [],
   "source": [
    "import torch\n",
    "import pandas as pd\n",
    "from torch import nn\n",
    "from torch import optim\n",
    "from torch.utils.data import DataLoader, Dataset\n",
    "from torchvision import transforms\n",
    "from sklearn.model_selection import train_test_split\n",
    "import matplotlib.pyplot as plt\n",
    "import numpy as np\n",
    "import random\n",
    "import timeit\n",
    "from tqdm import tqdm"
   ]
  },
  {
   "cell_type": "code",
   "execution_count": 9,
   "metadata": {},
   "outputs": [],
   "source": [
    "#Hyperparameters\n",
    "RANDOM_SEED = 42\n",
    "BATCH_SIZE = 32\n",
    "EPOCHS = 500\n",
    "LEARNING_RATE = .0001\n",
    "PATCH_SIZE = 16\n",
    "IMG_SIZE = 64\n",
    "IN_CHANNELS = 1\n",
    "NUM_HEADS = 16\n",
    "DROPOUT = .0001\n",
    "HIDDEN_DIM = 768\n",
    "ADAM_WEIGHT_DECAY = 0\n",
    "ADAM_BETAS = (0.9, 0.999)\n",
    "ACTIVATION = \"gelu\"\n",
    "NUM_ENCODERS = 4\n",
    "EMBED_DIM = (PATCH_SIZE ** 2) * IN_CHANNELS\n",
    "NUM_PATCHES = (IMG_SIZE // PATCH_SIZE) ** 2\n",
    "NUM_CLASSES = 5\n",
    "\n",
    "device = \"cuda\" if torch.cuda.is_available() else \"cpu\""
   ]
  },
  {
   "cell_type": "code",
   "execution_count": 10,
   "metadata": {},
   "outputs": [],
   "source": [
    "class PatchEmbedding(nn.Module):\n",
    "    def __init__(self, embed_dim, patch_size, num_patches, dropout, in_channels):\n",
    "        super().__init__()\n",
    "        self.patcher = nn.Sequential(\n",
    "            nn.Conv2d(\n",
    "                in_channels=in_channels,\n",
    "                out_channels=embed_dim,\n",
    "                kernel_size=patch_size,\n",
    "                stride=patch_size\n",
    "            ),\n",
    "            nn.Flatten(2)\n",
    "        )\n",
    "\n",
    "        self.cls_token = nn.Parameter(torch.randn(size=(1, in_channels, embed_dim)), requires_grad=True)\n",
    "        self.position_embeddings = nn.Parameter(torch.randn(size=(1, num_patches+1, embed_dim)), requires_grad=True)\n",
    "        self.dropout = nn.Dropout(p=dropout)\n",
    "\n",
    "    def forward(self, x):\n",
    "        cls_token = self.cls_token.expand(x.shape[0], -1, -1)\n",
    "        x = self.patcher(x).permute(0, 2, 1)\n",
    "        x = torch.cat([cls_token, x], dim=1)\n",
    "        x = self.position_embeddings + x \n",
    "        x = self.dropout(x)\n",
    "        return x\n"
   ]
  },
  {
   "cell_type": "code",
   "execution_count": 11,
   "metadata": {},
   "outputs": [
    {
     "name": "stderr",
     "output_type": "stream",
     "text": [
      "c:\\app\\Python39\\lib\\site-packages\\torch\\nn\\modules\\transformer.py:286: UserWarning: enable_nested_tensor is True, but self.use_nested_tensor is False because encoder_layer.norm_first was True\n",
      "  warnings.warn(f\"enable_nested_tensor is True, but self.use_nested_tensor is False because {why_not_sparsity_fast_path}\")\n"
     ]
    },
    {
     "name": "stdout",
     "output_type": "stream",
     "text": [
      "tensor([[0.2984, 0.0900, 0.0779, 0.4428, 0.0908],\n",
      "        [0.2737, 0.0908, 0.0830, 0.4485, 0.1041],\n",
      "        [0.3063, 0.0984, 0.0806, 0.4418, 0.0729],\n",
      "        ...,\n",
      "        [0.2731, 0.0971, 0.0805, 0.4699, 0.0793],\n",
      "        [0.3140, 0.0907, 0.0781, 0.4350, 0.0822],\n",
      "        [0.3103, 0.0965, 0.0772, 0.4359, 0.0801]], grad_fn=<SoftmaxBackward0>)\n"
     ]
    }
   ],
   "source": [
    "class ViT(nn.Module):\n",
    "\n",
    "    def __init__(self, num_patches, img_size, num_classes, patch_size, embed_dim, num_encoders, num_heads, hidden_dim, dropout, activation, in_channels):\n",
    "            super().__init__()\n",
    "            self.embeddings_block = PatchEmbedding(embed_dim, patch_size, num_patches, dropout, in_channels)\n",
    "            \n",
    "            encoder_layer = nn.TransformerEncoderLayer(d_model=embed_dim, nhead=num_heads, dropout=dropout, activation=activation, batch_first=True, norm_first=True)\n",
    "            self.encoder_blocks = nn.TransformerEncoder(encoder_layer, num_layers=num_encoders)\n",
    "\n",
    "            self.mlp_head = nn.Sequential(\n",
    "                nn.LayerNorm(normalized_shape=embed_dim),\n",
    "                nn.Linear(in_features=embed_dim, out_features=num_classes),\n",
    "                nn.Softmax(dim=-1)\n",
    "            )\n",
    "\n",
    "    def forward(self, x):\n",
    "        x = self.embeddings_block(x)\n",
    "        x = self.encoder_blocks(x)\n",
    "        x = self.mlp_head(x[:, 0, :])\n",
    "        return x\n",
    "\n",
    "\n",
    "model = ViT(NUM_PATCHES, IMG_SIZE, NUM_CLASSES, PATCH_SIZE, EMBED_DIM, NUM_ENCODERS, NUM_HEADS, HIDDEN_DIM, DROPOUT, ACTIVATION, IN_CHANNELS).to(device)\n",
    "x = torch.randn(512, 1, 64, 64).to(device)\n",
    "print(model(x))"
   ]
  },
  {
   "cell_type": "code",
   "execution_count": 12,
   "metadata": {},
   "outputs": [],
   "source": [
    "train_dataloader = DataLoader(dataset=train_ds,\n",
    "                              batch_size=BATCH_SIZE,\n",
    "                              shuffle=True)\n",
    "\n",
    "val_dataloader = DataLoader(dataset=val_ds,\n",
    "                            batch_size=BATCH_SIZE,\n",
    "                            shuffle=True)\n",
    "\n",
    "test_dataloader = DataLoader(dataset=test_ds,\n",
    "                             batch_size=BATCH_SIZE,\n",
    "                             shuffle=False)"
   ]
  },
  {
   "cell_type": "code",
   "execution_count": 13,
   "metadata": {},
   "outputs": [
    {
     "name": "stderr",
     "output_type": "stream",
     "text": [
      "100%|██████████| 881/881 [01:38<00:00,  8.94it/s]\n",
      "100%|██████████| 189/189 [00:06<00:00, 28.45it/s]\n",
      "  0%|          | 1/500 [01:45<14:36:49, 105.43s/it]"
     ]
    },
    {
     "name": "stdout",
     "output_type": "stream",
     "text": [
      "------------------------------\n",
      "Train Loss EPOCH 1: 1.6016\n",
      "Valid Loss EPOCH 1: 1.5997\n",
      "Train Accuracy EPOCH 1: 0.2404\n",
      "Valid Accuracy EPOCH 1: 0.2495\n",
      "------------------------------\n"
     ]
    },
    {
     "name": "stderr",
     "output_type": "stream",
     "text": [
      "100%|██████████| 881/881 [01:35<00:00,  9.18it/s]\n",
      "100%|██████████| 189/189 [00:06<00:00, 27.54it/s]\n",
      "  0%|          | 2/500 [03:28<14:23:37, 104.05s/it]"
     ]
    },
    {
     "name": "stdout",
     "output_type": "stream",
     "text": [
      "------------------------------\n",
      "Train Loss EPOCH 2: 1.5994\n",
      "Valid Loss EPOCH 2: 1.5958\n",
      "Train Accuracy EPOCH 2: 0.2435\n",
      "Valid Accuracy EPOCH 2: 0.2495\n",
      "------------------------------\n"
     ]
    },
    {
     "name": "stderr",
     "output_type": "stream",
     "text": [
      "100%|██████████| 881/881 [01:34<00:00,  9.31it/s]\n",
      "100%|██████████| 189/189 [00:06<00:00, 30.28it/s]\n",
      "  1%|          | 3/500 [05:09<14:10:50, 102.72s/it]"
     ]
    },
    {
     "name": "stdout",
     "output_type": "stream",
     "text": [
      "------------------------------\n",
      "Train Loss EPOCH 3: 1.5989\n",
      "Valid Loss EPOCH 3: 1.5952\n",
      "Train Accuracy EPOCH 3: 0.2461\n",
      "Valid Accuracy EPOCH 3: 0.2488\n",
      "------------------------------\n"
     ]
    },
    {
     "name": "stderr",
     "output_type": "stream",
     "text": [
      "100%|██████████| 881/881 [01:35<00:00,  9.26it/s]\n",
      "100%|██████████| 189/189 [00:06<00:00, 30.69it/s]\n",
      "  1%|          | 4/500 [06:51<14:05:25, 102.27s/it]"
     ]
    },
    {
     "name": "stdout",
     "output_type": "stream",
     "text": [
      "------------------------------\n",
      "Train Loss EPOCH 4: 1.5991\n",
      "Valid Loss EPOCH 4: 1.5967\n",
      "Train Accuracy EPOCH 4: 0.2449\n",
      "Valid Accuracy EPOCH 4: 0.2495\n",
      "------------------------------\n"
     ]
    },
    {
     "name": "stderr",
     "output_type": "stream",
     "text": [
      "100%|██████████| 881/881 [01:34<00:00,  9.34it/s]\n",
      "100%|██████████| 189/189 [00:06<00:00, 28.76it/s]\n",
      "  1%|          | 5/500 [08:32<14:00:12, 101.84s/it]"
     ]
    },
    {
     "name": "stdout",
     "output_type": "stream",
     "text": [
      "------------------------------\n",
      "Train Loss EPOCH 5: 1.5986\n",
      "Valid Loss EPOCH 5: 1.5904\n",
      "Train Accuracy EPOCH 5: 0.2472\n",
      "Valid Accuracy EPOCH 5: 0.2644\n",
      "------------------------------\n"
     ]
    },
    {
     "name": "stderr",
     "output_type": "stream",
     "text": [
      "100%|██████████| 881/881 [01:34<00:00,  9.29it/s]\n",
      "100%|██████████| 189/189 [00:06<00:00, 29.96it/s]\n",
      "  1%|          | 6/500 [10:13<13:57:07, 101.67s/it]"
     ]
    },
    {
     "name": "stdout",
     "output_type": "stream",
     "text": [
      "------------------------------\n",
      "Train Loss EPOCH 6: 1.5968\n",
      "Valid Loss EPOCH 6: 1.5916\n",
      "Train Accuracy EPOCH 6: 0.2485\n",
      "Valid Accuracy EPOCH 6: 0.2662\n",
      "------------------------------\n"
     ]
    },
    {
     "name": "stderr",
     "output_type": "stream",
     "text": [
      "100%|██████████| 881/881 [01:38<00:00,  8.94it/s]\n",
      "100%|██████████| 189/189 [00:06<00:00, 27.63it/s]\n"
     ]
    },
    {
     "name": "stdout",
     "output_type": "stream",
     "text": [
      "------------------------------\n",
      "Train Loss EPOCH 7: 1.5937\n",
      "Valid Loss EPOCH 7: 1.5867\n"
     ]
    },
    {
     "name": "stderr",
     "output_type": "stream",
     "text": [
      "  1%|▏         | 7/500 [11:59<14:06:04, 102.97s/it]"
     ]
    },
    {
     "name": "stdout",
     "output_type": "stream",
     "text": [
      "Train Accuracy EPOCH 7: 0.2538\n",
      "Valid Accuracy EPOCH 7: 0.2773\n",
      "------------------------------\n"
     ]
    },
    {
     "name": "stderr",
     "output_type": "stream",
     "text": [
      "100%|██████████| 881/881 [01:41<00:00,  8.68it/s]\n",
      "100%|██████████| 189/189 [00:07<00:00, 24.13it/s]\n"
     ]
    },
    {
     "name": "stdout",
     "output_type": "stream",
     "text": [
      "------------------------------\n",
      "Train Loss EPOCH 8: 1.5918\n",
      "Valid Loss EPOCH 8: 1.5875\n",
      "Train Accuracy EPOCH 8: 0.2596\n"
     ]
    },
    {
     "name": "stderr",
     "output_type": "stream",
     "text": [
      "  2%|▏         | 8/500 [13:48<14:21:36, 105.07s/it]"
     ]
    },
    {
     "name": "stdout",
     "output_type": "stream",
     "text": [
      "Valid Accuracy EPOCH 8: 0.2770\n",
      "------------------------------\n"
     ]
    },
    {
     "name": "stderr",
     "output_type": "stream",
     "text": [
      "100%|██████████| 881/881 [01:39<00:00,  8.85it/s]\n",
      "100%|██████████| 189/189 [00:06<00:00, 30.06it/s]\n"
     ]
    },
    {
     "name": "stdout",
     "output_type": "stream",
     "text": [
      "------------------------------\n",
      "Train Loss EPOCH 9: 1.5902\n",
      "Valid Loss EPOCH 9: 1.5883\n",
      "Train Accuracy EPOCH 9: 0.2610\n"
     ]
    },
    {
     "name": "stderr",
     "output_type": "stream",
     "text": [
      "  2%|▏         | 9/500 [15:35<14:22:37, 105.41s/it]"
     ]
    },
    {
     "name": "stdout",
     "output_type": "stream",
     "text": [
      "Valid Accuracy EPOCH 9: 0.2788\n",
      "------------------------------\n"
     ]
    },
    {
     "name": "stderr",
     "output_type": "stream",
     "text": [
      "100%|██████████| 881/881 [01:34<00:00,  9.33it/s]\n",
      "100%|██████████| 189/189 [00:06<00:00, 30.57it/s]\n"
     ]
    },
    {
     "name": "stdout",
     "output_type": "stream",
     "text": [
      "------------------------------\n",
      "Train Loss EPOCH 10: 1.5900\n",
      "Valid Loss EPOCH 10: 1.5862\n",
      "Train Accuracy EPOCH 10: 0.2622\n"
     ]
    },
    {
     "name": "stderr",
     "output_type": "stream",
     "text": [
      "  2%|▏         | 10/500 [17:15<14:09:29, 104.02s/it]"
     ]
    },
    {
     "name": "stdout",
     "output_type": "stream",
     "text": [
      "Valid Accuracy EPOCH 10: 0.2714\n",
      "------------------------------\n"
     ]
    },
    {
     "name": "stderr",
     "output_type": "stream",
     "text": [
      "100%|██████████| 881/881 [01:35<00:00,  9.18it/s]\n",
      "100%|██████████| 189/189 [00:07<00:00, 26.99it/s]\n"
     ]
    },
    {
     "name": "stdout",
     "output_type": "stream",
     "text": [
      "------------------------------\n",
      "Train Loss EPOCH 11: 1.5881\n",
      "Valid Loss EPOCH 11: 1.5836\n",
      "Train Accuracy EPOCH 11: 0.2674\n"
     ]
    },
    {
     "name": "stderr",
     "output_type": "stream",
     "text": [
      "  2%|▏         | 11/500 [18:59<14:05:46, 103.78s/it]"
     ]
    },
    {
     "name": "stdout",
     "output_type": "stream",
     "text": [
      "Valid Accuracy EPOCH 11: 0.2770\n",
      "------------------------------\n"
     ]
    },
    {
     "name": "stderr",
     "output_type": "stream",
     "text": [
      "100%|██████████| 881/881 [01:40<00:00,  8.76it/s]\n",
      "100%|██████████| 189/189 [00:06<00:00, 28.79it/s]\n"
     ]
    },
    {
     "name": "stdout",
     "output_type": "stream",
     "text": [
      "------------------------------\n",
      "Train Loss EPOCH 12: 1.5889\n",
      "Valid Loss EPOCH 12: 1.5865\n",
      "Train Accuracy EPOCH 12: 0.2646\n"
     ]
    },
    {
     "name": "stderr",
     "output_type": "stream",
     "text": [
      "  2%|▏         | 12/500 [20:46<14:12:52, 104.86s/it]"
     ]
    },
    {
     "name": "stdout",
     "output_type": "stream",
     "text": [
      "Valid Accuracy EPOCH 12: 0.2729\n",
      "------------------------------\n"
     ]
    },
    {
     "name": "stderr",
     "output_type": "stream",
     "text": [
      "100%|██████████| 881/881 [01:34<00:00,  9.27it/s]\n",
      "100%|██████████| 189/189 [00:06<00:00, 29.25it/s]\n"
     ]
    },
    {
     "name": "stdout",
     "output_type": "stream",
     "text": [
      "------------------------------\n",
      "Train Loss EPOCH 13: 1.5875\n",
      "Valid Loss EPOCH 13: 1.5820\n"
     ]
    },
    {
     "name": "stderr",
     "output_type": "stream",
     "text": [
      "  3%|▎         | 13/500 [22:28<14:03:24, 103.91s/it]"
     ]
    },
    {
     "name": "stdout",
     "output_type": "stream",
     "text": [
      "Train Accuracy EPOCH 13: 0.2652\n",
      "Valid Accuracy EPOCH 13: 0.2763\n",
      "------------------------------\n"
     ]
    },
    {
     "name": "stderr",
     "output_type": "stream",
     "text": [
      "100%|██████████| 881/881 [01:30<00:00,  9.78it/s]\n",
      "100%|██████████| 189/189 [00:04<00:00, 41.71it/s]\n",
      "  3%|▎         | 14/500 [24:03<13:39:32, 101.18s/it]"
     ]
    },
    {
     "name": "stdout",
     "output_type": "stream",
     "text": [
      "------------------------------\n",
      "Train Loss EPOCH 14: 1.5856\n",
      "Valid Loss EPOCH 14: 1.5818\n",
      "Train Accuracy EPOCH 14: 0.2703\n",
      "Valid Accuracy EPOCH 14: 0.2810\n",
      "------------------------------\n"
     ]
    },
    {
     "name": "stderr",
     "output_type": "stream",
     "text": [
      "100%|██████████| 881/881 [01:11<00:00, 12.27it/s]\n",
      "100%|██████████| 189/189 [00:04<00:00, 38.45it/s]\n",
      "  3%|▎         | 15/500 [25:20<12:38:44, 93.86s/it] "
     ]
    },
    {
     "name": "stdout",
     "output_type": "stream",
     "text": [
      "------------------------------\n",
      "Train Loss EPOCH 15: 1.5846\n",
      "Valid Loss EPOCH 15: 1.5795\n",
      "Train Accuracy EPOCH 15: 0.2718\n",
      "Valid Accuracy EPOCH 15: 0.2802\n",
      "------------------------------\n"
     ]
    },
    {
     "name": "stderr",
     "output_type": "stream",
     "text": [
      "100%|██████████| 881/881 [01:09<00:00, 12.63it/s]\n",
      "100%|██████████| 189/189 [00:04<00:00, 37.85it/s]\n",
      "  3%|▎         | 16/500 [26:34<11:51:14, 88.17s/it]"
     ]
    },
    {
     "name": "stdout",
     "output_type": "stream",
     "text": [
      "------------------------------\n",
      "Train Loss EPOCH 16: 1.5839\n",
      "Valid Loss EPOCH 16: 1.5813\n",
      "Train Accuracy EPOCH 16: 0.2713\n",
      "Valid Accuracy EPOCH 16: 0.2710\n",
      "------------------------------\n"
     ]
    },
    {
     "name": "stderr",
     "output_type": "stream",
     "text": [
      "100%|██████████| 881/881 [01:13<00:00, 12.06it/s]\n",
      "100%|██████████| 189/189 [00:04<00:00, 41.01it/s]\n",
      "  3%|▎         | 17/500 [27:52<11:24:55, 85.08s/it]"
     ]
    },
    {
     "name": "stdout",
     "output_type": "stream",
     "text": [
      "------------------------------\n",
      "Train Loss EPOCH 17: 1.5824\n",
      "Valid Loss EPOCH 17: 1.5931\n",
      "Train Accuracy EPOCH 17: 0.2726\n",
      "Valid Accuracy EPOCH 17: 0.2649\n",
      "------------------------------\n"
     ]
    },
    {
     "name": "stderr",
     "output_type": "stream",
     "text": [
      "100%|██████████| 881/881 [01:12<00:00, 12.16it/s]\n",
      "100%|██████████| 189/189 [00:05<00:00, 34.60it/s]\n",
      "  4%|▎         | 18/500 [29:10<11:06:43, 83.00s/it]"
     ]
    },
    {
     "name": "stdout",
     "output_type": "stream",
     "text": [
      "------------------------------\n",
      "Train Loss EPOCH 18: 1.5843\n",
      "Valid Loss EPOCH 18: 1.5811\n",
      "Train Accuracy EPOCH 18: 0.2722\n",
      "Valid Accuracy EPOCH 18: 0.2838\n",
      "------------------------------\n"
     ]
    },
    {
     "name": "stderr",
     "output_type": "stream",
     "text": [
      "100%|██████████| 881/881 [01:14<00:00, 11.90it/s]\n",
      "100%|██████████| 189/189 [00:04<00:00, 39.65it/s]\n",
      "  4%|▍         | 19/500 [30:29<10:55:43, 81.79s/it]"
     ]
    },
    {
     "name": "stdout",
     "output_type": "stream",
     "text": [
      "------------------------------\n",
      "Train Loss EPOCH 19: 1.5802\n",
      "Valid Loss EPOCH 19: 1.5759\n",
      "Train Accuracy EPOCH 19: 0.2775\n",
      "Valid Accuracy EPOCH 19: 0.2883\n",
      "------------------------------\n"
     ]
    },
    {
     "name": "stderr",
     "output_type": "stream",
     "text": [
      "100%|██████████| 881/881 [01:13<00:00, 11.97it/s]\n",
      "100%|██████████| 189/189 [00:05<00:00, 37.05it/s]\n"
     ]
    },
    {
     "name": "stdout",
     "output_type": "stream",
     "text": [
      "------------------------------\n",
      "Train Loss EPOCH 20: 1.5783\n",
      "Valid Loss EPOCH 20: 1.5766\n",
      "Train Accuracy EPOCH 20: 0.2803\n",
      "Valid Accuracy EPOCH 20: 0.2811\n",
      "------------------------------\n"
     ]
    },
    {
     "name": "stderr",
     "output_type": "stream",
     "text": [
      "100%|██████████| 881/881 [01:06<00:00, 13.22it/s]t]\n",
      "100%|██████████| 189/189 [00:04<00:00, 39.42it/s]\n",
      "  4%|▍         | 21/500 [33:00<10:23:57, 78.16s/it]"
     ]
    },
    {
     "name": "stdout",
     "output_type": "stream",
     "text": [
      "------------------------------\n",
      "Train Loss EPOCH 21: 1.5765\n",
      "Valid Loss EPOCH 21: 1.5775\n",
      "Train Accuracy EPOCH 21: 0.2851\n",
      "Valid Accuracy EPOCH 21: 0.2828\n",
      "------------------------------\n"
     ]
    },
    {
     "name": "stderr",
     "output_type": "stream",
     "text": [
      "100%|██████████| 881/881 [01:13<00:00, 11.98it/s]\n",
      "100%|██████████| 189/189 [00:04<00:00, 42.30it/s]\n",
      "  4%|▍         | 22/500 [34:18<10:22:50, 78.18s/it]"
     ]
    },
    {
     "name": "stdout",
     "output_type": "stream",
     "text": [
      "------------------------------\n",
      "Train Loss EPOCH 22: 1.5751\n",
      "Valid Loss EPOCH 22: 1.5736\n",
      "Train Accuracy EPOCH 22: 0.2872\n",
      "Valid Accuracy EPOCH 22: 0.2921\n",
      "------------------------------\n"
     ]
    },
    {
     "name": "stderr",
     "output_type": "stream",
     "text": [
      "100%|██████████| 881/881 [01:08<00:00, 12.78it/s]\n",
      "100%|██████████| 189/189 [00:04<00:00, 39.68it/s]\n",
      "  5%|▍         | 23/500 [35:32<10:11:24, 76.91s/it]"
     ]
    },
    {
     "name": "stdout",
     "output_type": "stream",
     "text": [
      "------------------------------\n",
      "Train Loss EPOCH 23: 1.5729\n",
      "Valid Loss EPOCH 23: 1.5731\n",
      "Train Accuracy EPOCH 23: 0.2937\n",
      "Valid Accuracy EPOCH 23: 0.2898\n",
      "------------------------------\n"
     ]
    },
    {
     "name": "stderr",
     "output_type": "stream",
     "text": [
      "100%|██████████| 881/881 [01:11<00:00, 12.28it/s]\n",
      "100%|██████████| 189/189 [00:04<00:00, 41.30it/s]\n",
      "  5%|▍         | 24/500 [36:49<10:09:10, 76.79s/it]"
     ]
    },
    {
     "name": "stdout",
     "output_type": "stream",
     "text": [
      "------------------------------\n",
      "Train Loss EPOCH 24: 1.5698\n",
      "Valid Loss EPOCH 24: 1.5824\n",
      "Train Accuracy EPOCH 24: 0.2969\n",
      "Valid Accuracy EPOCH 24: 0.2802\n",
      "------------------------------\n"
     ]
    },
    {
     "name": "stderr",
     "output_type": "stream",
     "text": [
      "100%|██████████| 881/881 [01:10<00:00, 12.58it/s]\n",
      "100%|██████████| 189/189 [00:05<00:00, 37.30it/s]\n"
     ]
    },
    {
     "name": "stdout",
     "output_type": "stream",
     "text": [
      "------------------------------\n",
      "Train Loss EPOCH 25: 1.5676\n",
      "Valid Loss EPOCH 25: 1.5751\n",
      "Train Accuracy EPOCH 25: 0.3002\n",
      "Valid Accuracy EPOCH 25: 0.2846\n",
      "------------------------------\n"
     ]
    },
    {
     "name": "stderr",
     "output_type": "stream",
     "text": [
      "100%|██████████| 881/881 [01:12<00:00, 12.15it/s]t]\n",
      "100%|██████████| 189/189 [00:04<00:00, 38.40it/s]\n",
      "  5%|▌         | 26/500 [39:22<10:06:07, 76.72s/it]"
     ]
    },
    {
     "name": "stdout",
     "output_type": "stream",
     "text": [
      "------------------------------\n",
      "Train Loss EPOCH 26: 1.5637\n",
      "Valid Loss EPOCH 26: 1.5678\n",
      "Train Accuracy EPOCH 26: 0.3042\n",
      "Valid Accuracy EPOCH 26: 0.2962\n",
      "------------------------------\n"
     ]
    },
    {
     "name": "stderr",
     "output_type": "stream",
     "text": [
      "100%|██████████| 881/881 [01:28<00:00,  9.94it/s]\n",
      "100%|██████████| 189/189 [00:05<00:00, 33.90it/s]\n",
      "  5%|▌         | 27/500 [40:56<10:46:47, 82.05s/it]"
     ]
    },
    {
     "name": "stdout",
     "output_type": "stream",
     "text": [
      "------------------------------\n",
      "Train Loss EPOCH 27: 1.5614\n",
      "Valid Loss EPOCH 27: 1.5747\n",
      "Train Accuracy EPOCH 27: 0.3045\n",
      "Valid Accuracy EPOCH 27: 0.2863\n",
      "------------------------------\n"
     ]
    },
    {
     "name": "stderr",
     "output_type": "stream",
     "text": [
      "100%|██████████| 881/881 [01:20<00:00, 10.93it/s]\n",
      "100%|██████████| 189/189 [00:05<00:00, 34.62it/s]\n",
      "  6%|▌         | 28/500 [42:22<10:55:26, 83.32s/it]"
     ]
    },
    {
     "name": "stdout",
     "output_type": "stream",
     "text": [
      "------------------------------\n",
      "Train Loss EPOCH 28: 1.5568\n",
      "Valid Loss EPOCH 28: 1.5676\n",
      "Train Accuracy EPOCH 28: 0.3138\n",
      "Valid Accuracy EPOCH 28: 0.2964\n",
      "------------------------------\n"
     ]
    },
    {
     "name": "stderr",
     "output_type": "stream",
     "text": [
      "100%|██████████| 881/881 [01:14<00:00, 11.89it/s]\n",
      "100%|██████████| 189/189 [00:04<00:00, 42.30it/s]\n"
     ]
    },
    {
     "name": "stdout",
     "output_type": "stream",
     "text": [
      "------------------------------\n",
      "Train Loss EPOCH 29: 1.5537\n",
      "Valid Loss EPOCH 29: 1.5647\n",
      "Train Accuracy EPOCH 29: 0.3180\n",
      "Valid Accuracy EPOCH 29: 0.3077\n",
      "------------------------------\n"
     ]
    },
    {
     "name": "stderr",
     "output_type": "stream",
     "text": [
      "100%|██████████| 881/881 [01:09<00:00, 12.60it/s]t]\n",
      "100%|██████████| 189/189 [00:05<00:00, 36.68it/s]\n",
      "  6%|▌         | 30/500 [44:57<10:26:16, 79.95s/it]"
     ]
    },
    {
     "name": "stdout",
     "output_type": "stream",
     "text": [
      "------------------------------\n",
      "Train Loss EPOCH 30: 1.5472\n",
      "Valid Loss EPOCH 30: 1.5635\n",
      "Train Accuracy EPOCH 30: 0.3253\n",
      "Valid Accuracy EPOCH 30: 0.3072\n",
      "------------------------------\n"
     ]
    },
    {
     "name": "stderr",
     "output_type": "stream",
     "text": [
      "100%|██████████| 881/881 [01:13<00:00, 12.00it/s]\n",
      "100%|██████████| 189/189 [00:05<00:00, 35.63it/s]\n",
      "  6%|▌         | 31/500 [46:15<10:22:33, 79.64s/it]"
     ]
    },
    {
     "name": "stdout",
     "output_type": "stream",
     "text": [
      "------------------------------\n",
      "Train Loss EPOCH 31: 1.5423\n",
      "Valid Loss EPOCH 31: 1.5517\n",
      "Train Accuracy EPOCH 31: 0.3304\n",
      "Valid Accuracy EPOCH 31: 0.3219\n",
      "------------------------------\n"
     ]
    },
    {
     "name": "stderr",
     "output_type": "stream",
     "text": [
      "100%|██████████| 881/881 [01:19<00:00, 11.11it/s]\n",
      "100%|██████████| 189/189 [00:04<00:00, 40.73it/s]\n",
      "  6%|▋         | 32/500 [47:40<10:31:46, 81.00s/it]"
     ]
    },
    {
     "name": "stdout",
     "output_type": "stream",
     "text": [
      "------------------------------\n",
      "Train Loss EPOCH 32: 1.5371\n",
      "Valid Loss EPOCH 32: 1.5491\n",
      "Train Accuracy EPOCH 32: 0.3352\n",
      "Valid Accuracy EPOCH 32: 0.3204\n",
      "------------------------------\n"
     ]
    },
    {
     "name": "stderr",
     "output_type": "stream",
     "text": [
      "100%|██████████| 881/881 [01:16<00:00, 11.46it/s]\n",
      "100%|██████████| 189/189 [00:05<00:00, 35.32it/s]\n",
      "  7%|▋         | 33/500 [49:02<10:33:48, 81.43s/it]"
     ]
    },
    {
     "name": "stdout",
     "output_type": "stream",
     "text": [
      "------------------------------\n",
      "Train Loss EPOCH 33: 1.5337\n",
      "Valid Loss EPOCH 33: 1.5377\n",
      "Train Accuracy EPOCH 33: 0.3443\n",
      "Valid Accuracy EPOCH 33: 0.3406\n",
      "------------------------------\n"
     ]
    },
    {
     "name": "stderr",
     "output_type": "stream",
     "text": [
      "100%|██████████| 881/881 [01:16<00:00, 11.57it/s]\n",
      "100%|██████████| 189/189 [00:04<00:00, 38.93it/s]\n",
      "  7%|▋         | 34/500 [50:23<10:31:58, 81.37s/it]"
     ]
    },
    {
     "name": "stdout",
     "output_type": "stream",
     "text": [
      "------------------------------\n",
      "Train Loss EPOCH 34: 1.5247\n",
      "Valid Loss EPOCH 34: 1.5282\n",
      "Train Accuracy EPOCH 34: 0.3544\n",
      "Valid Accuracy EPOCH 34: 0.3502\n",
      "------------------------------\n"
     ]
    },
    {
     "name": "stderr",
     "output_type": "stream",
     "text": [
      "100%|██████████| 881/881 [01:15<00:00, 11.64it/s]\n",
      "100%|██████████| 189/189 [00:05<00:00, 33.79it/s]\n",
      "  7%|▋         | 35/500 [51:45<10:30:55, 81.41s/it]"
     ]
    },
    {
     "name": "stdout",
     "output_type": "stream",
     "text": [
      "------------------------------\n",
      "Train Loss EPOCH 35: 1.5188\n",
      "Valid Loss EPOCH 35: 1.5196\n",
      "Train Accuracy EPOCH 35: 0.3612\n",
      "Valid Accuracy EPOCH 35: 0.3625\n",
      "------------------------------\n"
     ]
    },
    {
     "name": "stderr",
     "output_type": "stream",
     "text": [
      "100%|██████████| 881/881 [01:20<00:00, 10.88it/s]\n",
      "100%|██████████| 189/189 [00:05<00:00, 33.17it/s]\n"
     ]
    },
    {
     "name": "stdout",
     "output_type": "stream",
     "text": [
      "------------------------------\n",
      "Train Loss EPOCH 36: 1.5129\n",
      "Valid Loss EPOCH 36: 1.5263\n",
      "Train Accuracy EPOCH 36: 0.3683\n"
     ]
    },
    {
     "name": "stderr",
     "output_type": "stream",
     "text": [
      "  7%|▋         | 36/500 [53:12<10:42:13, 83.05s/it]"
     ]
    },
    {
     "name": "stdout",
     "output_type": "stream",
     "text": [
      "Valid Accuracy EPOCH 36: 0.3526\n",
      "------------------------------\n"
     ]
    },
    {
     "name": "stderr",
     "output_type": "stream",
     "text": [
      "100%|██████████| 881/881 [01:17<00:00, 11.40it/s]\n",
      "100%|██████████| 189/189 [00:05<00:00, 36.57it/s]\n",
      "  7%|▋         | 37/500 [54:34<10:39:51, 82.92s/it]"
     ]
    },
    {
     "name": "stdout",
     "output_type": "stream",
     "text": [
      "------------------------------\n",
      "Train Loss EPOCH 37: 1.5068\n",
      "Valid Loss EPOCH 37: 1.5206\n",
      "Train Accuracy EPOCH 37: 0.3760\n",
      "Valid Accuracy EPOCH 37: 0.3575\n",
      "------------------------------\n"
     ]
    },
    {
     "name": "stderr",
     "output_type": "stream",
     "text": [
      "100%|██████████| 881/881 [01:14<00:00, 11.79it/s]\n",
      "100%|██████████| 189/189 [00:04<00:00, 38.50it/s]\n",
      "  8%|▊         | 38/500 [55:54<10:31:21, 82.00s/it]"
     ]
    },
    {
     "name": "stdout",
     "output_type": "stream",
     "text": [
      "------------------------------\n",
      "Train Loss EPOCH 38: 1.4955\n",
      "Valid Loss EPOCH 38: 1.5081\n",
      "Train Accuracy EPOCH 38: 0.3884\n",
      "Valid Accuracy EPOCH 38: 0.3756\n",
      "------------------------------\n"
     ]
    },
    {
     "name": "stderr",
     "output_type": "stream",
     "text": [
      "100%|██████████| 881/881 [01:14<00:00, 11.76it/s]\n",
      "100%|██████████| 189/189 [00:04<00:00, 38.24it/s]\n",
      "  8%|▊         | 39/500 [57:14<10:25:33, 81.42s/it]"
     ]
    },
    {
     "name": "stdout",
     "output_type": "stream",
     "text": [
      "------------------------------\n",
      "Train Loss EPOCH 39: 1.4903\n",
      "Valid Loss EPOCH 39: 1.5184\n",
      "Train Accuracy EPOCH 39: 0.3963\n",
      "Valid Accuracy EPOCH 39: 0.3646\n",
      "------------------------------\n"
     ]
    },
    {
     "name": "stderr",
     "output_type": "stream",
     "text": [
      "100%|██████████| 881/881 [01:14<00:00, 11.81it/s]\n",
      "100%|██████████| 189/189 [00:05<00:00, 36.88it/s]\n"
     ]
    },
    {
     "name": "stdout",
     "output_type": "stream",
     "text": [
      "------------------------------\n",
      "Train Loss EPOCH 40: 1.4850\n",
      "Valid Loss EPOCH 40: 1.5037\n",
      "Train Accuracy EPOCH 40: 0.4008\n",
      "Valid Accuracy EPOCH 40: 0.3801\n",
      "------------------------------\n"
     ]
    },
    {
     "name": "stderr",
     "output_type": "stream",
     "text": [
      "100%|██████████| 881/881 [01:14<00:00, 11.84it/s]t]\n",
      "100%|██████████| 189/189 [00:05<00:00, 34.71it/s]\n",
      "  8%|▊         | 41/500 [59:54<10:17:20, 80.70s/it]"
     ]
    },
    {
     "name": "stdout",
     "output_type": "stream",
     "text": [
      "------------------------------\n",
      "Train Loss EPOCH 41: 1.4755\n",
      "Valid Loss EPOCH 41: 1.5030\n",
      "Train Accuracy EPOCH 41: 0.4122\n",
      "Valid Accuracy EPOCH 41: 0.3832\n",
      "------------------------------\n"
     ]
    },
    {
     "name": "stderr",
     "output_type": "stream",
     "text": [
      "100%|██████████| 881/881 [01:15<00:00, 11.69it/s]\n",
      "100%|██████████| 189/189 [00:04<00:00, 38.84it/s]\n",
      "  8%|▊         | 42/500 [1:01:15<10:15:19, 80.61s/it]"
     ]
    },
    {
     "name": "stdout",
     "output_type": "stream",
     "text": [
      "------------------------------\n",
      "Train Loss EPOCH 42: 1.4700\n",
      "Valid Loss EPOCH 42: 1.4943\n",
      "Train Accuracy EPOCH 42: 0.4175\n",
      "Valid Accuracy EPOCH 42: 0.3926\n",
      "------------------------------\n"
     ]
    },
    {
     "name": "stderr",
     "output_type": "stream",
     "text": [
      "100%|██████████| 881/881 [01:14<00:00, 11.79it/s]\n",
      "100%|██████████| 189/189 [00:05<00:00, 36.42it/s]\n",
      "  9%|▊         | 43/500 [1:02:35<10:12:54, 80.47s/it]"
     ]
    },
    {
     "name": "stdout",
     "output_type": "stream",
     "text": [
      "------------------------------\n",
      "Train Loss EPOCH 43: 1.4627\n",
      "Valid Loss EPOCH 43: 1.4765\n",
      "Train Accuracy EPOCH 43: 0.4251\n",
      "Valid Accuracy EPOCH 43: 0.4097\n",
      "------------------------------\n"
     ]
    },
    {
     "name": "stderr",
     "output_type": "stream",
     "text": [
      "100%|██████████| 881/881 [01:14<00:00, 11.80it/s]\n",
      "100%|██████████| 189/189 [00:04<00:00, 39.05it/s]\n",
      "  9%|▉         | 44/500 [1:03:54<10:09:50, 80.24s/it]"
     ]
    },
    {
     "name": "stdout",
     "output_type": "stream",
     "text": [
      "------------------------------\n",
      "Train Loss EPOCH 44: 1.4577\n",
      "Valid Loss EPOCH 44: 1.4748\n",
      "Train Accuracy EPOCH 44: 0.4315\n",
      "Valid Accuracy EPOCH 44: 0.4158\n",
      "------------------------------\n"
     ]
    },
    {
     "name": "stderr",
     "output_type": "stream",
     "text": [
      "100%|██████████| 881/881 [01:14<00:00, 11.81it/s]\n",
      "100%|██████████| 189/189 [00:04<00:00, 38.38it/s]\n",
      "  9%|▉         | 45/500 [1:05:14<10:07:20, 80.09s/it]"
     ]
    },
    {
     "name": "stdout",
     "output_type": "stream",
     "text": [
      "------------------------------\n",
      "Train Loss EPOCH 45: 1.4498\n",
      "Valid Loss EPOCH 45: 1.4639\n",
      "Train Accuracy EPOCH 45: 0.4409\n",
      "Valid Accuracy EPOCH 45: 0.4253\n",
      "------------------------------\n"
     ]
    },
    {
     "name": "stderr",
     "output_type": "stream",
     "text": [
      "100%|██████████| 881/881 [01:12<00:00, 12.19it/s]\n",
      "100%|██████████| 189/189 [00:04<00:00, 38.01it/s]\n",
      "  9%|▉         | 46/500 [1:06:32<10:00:00, 79.30s/it]"
     ]
    },
    {
     "name": "stdout",
     "output_type": "stream",
     "text": [
      "------------------------------\n",
      "Train Loss EPOCH 46: 1.4457\n",
      "Valid Loss EPOCH 46: 1.4739\n",
      "Train Accuracy EPOCH 46: 0.4433\n",
      "Valid Accuracy EPOCH 46: 0.4135\n",
      "------------------------------\n"
     ]
    },
    {
     "name": "stderr",
     "output_type": "stream",
     "text": [
      "100%|██████████| 881/881 [01:12<00:00, 12.13it/s]\n",
      "100%|██████████| 189/189 [00:04<00:00, 38.64it/s]\n",
      "  9%|▉         | 47/500 [1:07:49<9:55:09, 78.83s/it] "
     ]
    },
    {
     "name": "stdout",
     "output_type": "stream",
     "text": [
      "------------------------------\n",
      "Train Loss EPOCH 47: 1.4368\n",
      "Valid Loss EPOCH 47: 1.4772\n",
      "Train Accuracy EPOCH 47: 0.4539\n",
      "Valid Accuracy EPOCH 47: 0.4109\n",
      "------------------------------\n"
     ]
    },
    {
     "name": "stderr",
     "output_type": "stream",
     "text": [
      "100%|██████████| 881/881 [01:13<00:00, 11.99it/s]\n",
      "100%|██████████| 189/189 [00:04<00:00, 38.65it/s]\n",
      " 10%|▉         | 48/500 [1:09:08<9:53:17, 78.76s/it]"
     ]
    },
    {
     "name": "stdout",
     "output_type": "stream",
     "text": [
      "------------------------------\n",
      "Train Loss EPOCH 48: 1.4341\n",
      "Valid Loss EPOCH 48: 1.4591\n",
      "Train Accuracy EPOCH 48: 0.4577\n",
      "Valid Accuracy EPOCH 48: 0.4314\n",
      "------------------------------\n"
     ]
    },
    {
     "name": "stderr",
     "output_type": "stream",
     "text": [
      "100%|██████████| 881/881 [01:13<00:00, 11.93it/s]\n",
      "100%|██████████| 189/189 [00:05<00:00, 37.55it/s]\n",
      " 10%|▉         | 49/500 [1:10:27<9:52:44, 78.86s/it]"
     ]
    },
    {
     "name": "stdout",
     "output_type": "stream",
     "text": [
      "------------------------------\n",
      "Train Loss EPOCH 49: 1.4267\n",
      "Valid Loss EPOCH 49: 1.4440\n",
      "Train Accuracy EPOCH 49: 0.4658\n",
      "Valid Accuracy EPOCH 49: 0.4448\n",
      "------------------------------\n"
     ]
    },
    {
     "name": "stderr",
     "output_type": "stream",
     "text": [
      "100%|██████████| 881/881 [01:14<00:00, 11.77it/s]\n",
      "100%|██████████| 189/189 [00:05<00:00, 35.26it/s]\n",
      " 10%|█         | 50/500 [1:11:47<9:54:56, 79.33s/it]"
     ]
    },
    {
     "name": "stdout",
     "output_type": "stream",
     "text": [
      "------------------------------\n",
      "Train Loss EPOCH 50: 1.4194\n",
      "Valid Loss EPOCH 50: 1.4532\n",
      "Train Accuracy EPOCH 50: 0.4719\n",
      "Valid Accuracy EPOCH 50: 0.4390\n",
      "------------------------------\n"
     ]
    },
    {
     "name": "stderr",
     "output_type": "stream",
     "text": [
      "100%|██████████| 881/881 [01:14<00:00, 11.77it/s]\n",
      "100%|██████████| 189/189 [00:04<00:00, 39.91it/s]\n",
      " 10%|█         | 51/500 [1:13:07<9:54:38, 79.46s/it]"
     ]
    },
    {
     "name": "stdout",
     "output_type": "stream",
     "text": [
      "------------------------------\n",
      "Train Loss EPOCH 51: 1.4161\n",
      "Valid Loss EPOCH 51: 1.4413\n",
      "Train Accuracy EPOCH 51: 0.4752\n",
      "Valid Accuracy EPOCH 51: 0.4483\n",
      "------------------------------\n"
     ]
    },
    {
     "name": "stderr",
     "output_type": "stream",
     "text": [
      "100%|██████████| 881/881 [01:14<00:00, 11.83it/s]\n",
      "100%|██████████| 189/189 [00:05<00:00, 35.67it/s]\n",
      " 10%|█         | 52/500 [1:14:27<9:54:27, 79.62s/it]"
     ]
    },
    {
     "name": "stdout",
     "output_type": "stream",
     "text": [
      "------------------------------\n",
      "Train Loss EPOCH 52: 1.4081\n",
      "Valid Loss EPOCH 52: 1.4304\n",
      "Train Accuracy EPOCH 52: 0.4861\n",
      "Valid Accuracy EPOCH 52: 0.4579\n",
      "------------------------------\n"
     ]
    },
    {
     "name": "stderr",
     "output_type": "stream",
     "text": [
      "100%|██████████| 881/881 [01:13<00:00, 12.05it/s]\n",
      "100%|██████████| 189/189 [00:05<00:00, 37.79it/s]\n"
     ]
    },
    {
     "name": "stdout",
     "output_type": "stream",
     "text": [
      "------------------------------\n",
      "Train Loss EPOCH 53: 1.3997\n",
      "Valid Loss EPOCH 53: 1.4497\n",
      "Train Accuracy EPOCH 53: 0.4926\n",
      "Valid Accuracy EPOCH 53: 0.4418\n",
      "------------------------------\n"
     ]
    },
    {
     "name": "stderr",
     "output_type": "stream",
     "text": [
      "100%|██████████| 881/881 [01:12<00:00, 12.09it/s]it]\n",
      "100%|██████████| 189/189 [00:04<00:00, 41.79it/s]\n",
      " 11%|█         | 54/500 [1:17:03<9:45:18, 78.74s/it]"
     ]
    },
    {
     "name": "stdout",
     "output_type": "stream",
     "text": [
      "------------------------------\n",
      "Train Loss EPOCH 54: 1.4031\n",
      "Valid Loss EPOCH 54: 1.4354\n",
      "Train Accuracy EPOCH 54: 0.4906\n",
      "Valid Accuracy EPOCH 54: 0.4554\n",
      "------------------------------\n"
     ]
    },
    {
     "name": "stderr",
     "output_type": "stream",
     "text": [
      "100%|██████████| 881/881 [01:14<00:00, 11.87it/s]\n",
      "100%|██████████| 189/189 [00:04<00:00, 38.36it/s]\n",
      " 11%|█         | 55/500 [1:18:22<9:45:23, 78.93s/it]"
     ]
    },
    {
     "name": "stdout",
     "output_type": "stream",
     "text": [
      "------------------------------\n",
      "Train Loss EPOCH 55: 1.3958\n",
      "Valid Loss EPOCH 55: 1.4698\n",
      "Train Accuracy EPOCH 55: 0.4959\n",
      "Valid Accuracy EPOCH 55: 0.4203\n",
      "------------------------------\n"
     ]
    },
    {
     "name": "stderr",
     "output_type": "stream",
     "text": [
      "100%|██████████| 881/881 [01:14<00:00, 11.80it/s]\n",
      "100%|██████████| 189/189 [00:04<00:00, 38.55it/s]\n",
      " 11%|█         | 56/500 [1:19:42<9:46:00, 79.19s/it]"
     ]
    },
    {
     "name": "stdout",
     "output_type": "stream",
     "text": [
      "------------------------------\n",
      "Train Loss EPOCH 56: 1.3860\n",
      "Valid Loss EPOCH 56: 1.4356\n",
      "Train Accuracy EPOCH 56: 0.5094\n",
      "Valid Accuracy EPOCH 56: 0.4549\n",
      "------------------------------\n"
     ]
    },
    {
     "name": "stderr",
     "output_type": "stream",
     "text": [
      "100%|██████████| 881/881 [01:14<00:00, 11.84it/s]\n",
      "100%|██████████| 189/189 [00:04<00:00, 38.28it/s]\n",
      " 11%|█▏        | 57/500 [1:21:02<9:45:27, 79.30s/it]"
     ]
    },
    {
     "name": "stdout",
     "output_type": "stream",
     "text": [
      "------------------------------\n",
      "Train Loss EPOCH 57: 1.3917\n",
      "Valid Loss EPOCH 57: 1.4479\n",
      "Train Accuracy EPOCH 57: 0.5037\n",
      "Valid Accuracy EPOCH 57: 0.4445\n",
      "------------------------------\n"
     ]
    },
    {
     "name": "stderr",
     "output_type": "stream",
     "text": [
      "100%|██████████| 881/881 [01:14<00:00, 11.83it/s]\n",
      "100%|██████████| 189/189 [00:05<00:00, 37.80it/s]\n",
      " 12%|█▏        | 58/500 [1:22:22<9:45:02, 79.42s/it]"
     ]
    },
    {
     "name": "stdout",
     "output_type": "stream",
     "text": [
      "------------------------------\n",
      "Train Loss EPOCH 58: 1.3752\n",
      "Valid Loss EPOCH 58: 1.4059\n",
      "Train Accuracy EPOCH 58: 0.5197\n",
      "Valid Accuracy EPOCH 58: 0.4856\n",
      "------------------------------\n"
     ]
    },
    {
     "name": "stderr",
     "output_type": "stream",
     "text": [
      "100%|██████████| 881/881 [01:14<00:00, 11.80it/s]\n",
      "100%|██████████| 189/189 [00:04<00:00, 39.57it/s]\n",
      " 12%|█▏        | 59/500 [1:23:41<9:44:10, 79.48s/it]"
     ]
    },
    {
     "name": "stdout",
     "output_type": "stream",
     "text": [
      "------------------------------\n",
      "Train Loss EPOCH 59: 1.3710\n",
      "Valid Loss EPOCH 59: 1.4197\n",
      "Train Accuracy EPOCH 59: 0.5246\n",
      "Valid Accuracy EPOCH 59: 0.4732\n",
      "------------------------------\n"
     ]
    },
    {
     "name": "stderr",
     "output_type": "stream",
     "text": [
      "100%|██████████| 881/881 [01:13<00:00, 12.02it/s]\n",
      "100%|██████████| 189/189 [00:05<00:00, 37.58it/s]\n",
      " 12%|█▏        | 60/500 [1:25:00<9:40:44, 79.19s/it]"
     ]
    },
    {
     "name": "stdout",
     "output_type": "stream",
     "text": [
      "------------------------------\n",
      "Train Loss EPOCH 60: 1.3687\n",
      "Valid Loss EPOCH 60: 1.4162\n",
      "Train Accuracy EPOCH 60: 0.5271\n",
      "Valid Accuracy EPOCH 60: 0.4753\n",
      "------------------------------\n"
     ]
    },
    {
     "name": "stderr",
     "output_type": "stream",
     "text": [
      "100%|██████████| 881/881 [01:13<00:00, 11.95it/s]\n",
      "100%|██████████| 189/189 [00:04<00:00, 37.95it/s]\n",
      " 12%|█▏        | 61/500 [1:26:19<9:38:48, 79.11s/it]"
     ]
    },
    {
     "name": "stdout",
     "output_type": "stream",
     "text": [
      "------------------------------\n",
      "Train Loss EPOCH 61: 1.3635\n",
      "Valid Loss EPOCH 61: 1.4084\n",
      "Train Accuracy EPOCH 61: 0.5320\n",
      "Valid Accuracy EPOCH 61: 0.4858\n",
      "------------------------------\n"
     ]
    },
    {
     "name": "stderr",
     "output_type": "stream",
     "text": [
      "100%|██████████| 881/881 [01:14<00:00, 11.87it/s]\n",
      "100%|██████████| 189/189 [00:05<00:00, 37.03it/s]\n",
      " 12%|█▏        | 62/500 [1:27:38<9:38:27, 79.24s/it]"
     ]
    },
    {
     "name": "stdout",
     "output_type": "stream",
     "text": [
      "------------------------------\n",
      "Train Loss EPOCH 62: 1.3593\n",
      "Valid Loss EPOCH 62: 1.4162\n",
      "Train Accuracy EPOCH 62: 0.5366\n",
      "Valid Accuracy EPOCH 62: 0.4722\n",
      "------------------------------\n"
     ]
    },
    {
     "name": "stderr",
     "output_type": "stream",
     "text": [
      "100%|██████████| 881/881 [01:12<00:00, 12.11it/s]\n",
      "100%|██████████| 189/189 [00:04<00:00, 38.94it/s]\n",
      " 13%|█▎        | 63/500 [1:28:56<9:34:04, 78.82s/it]"
     ]
    },
    {
     "name": "stdout",
     "output_type": "stream",
     "text": [
      "------------------------------\n",
      "Train Loss EPOCH 63: 1.3521\n",
      "Valid Loss EPOCH 63: 1.3946\n",
      "Train Accuracy EPOCH 63: 0.5446\n",
      "Valid Accuracy EPOCH 63: 0.4985\n",
      "------------------------------\n"
     ]
    },
    {
     "name": "stderr",
     "output_type": "stream",
     "text": [
      "100%|██████████| 881/881 [01:11<00:00, 12.24it/s]\n",
      "100%|██████████| 189/189 [00:04<00:00, 39.78it/s]\n"
     ]
    },
    {
     "name": "stdout",
     "output_type": "stream",
     "text": [
      "------------------------------\n",
      "Train Loss EPOCH 64: 1.3466\n",
      "Valid Loss EPOCH 64: 1.3849\n",
      "Train Accuracy EPOCH 64: 0.5484\n"
     ]
    },
    {
     "name": "stderr",
     "output_type": "stream",
     "text": [
      " 13%|█▎        | 64/500 [1:30:13<9:28:42, 78.26s/it]"
     ]
    },
    {
     "name": "stdout",
     "output_type": "stream",
     "text": [
      "Valid Accuracy EPOCH 64: 0.5083\n",
      "------------------------------\n"
     ]
    },
    {
     "name": "stderr",
     "output_type": "stream",
     "text": [
      "100%|██████████| 881/881 [01:12<00:00, 12.22it/s]\n",
      "100%|██████████| 189/189 [00:04<00:00, 41.82it/s]\n",
      " 13%|█▎        | 65/500 [1:31:30<9:24:18, 77.84s/it]"
     ]
    },
    {
     "name": "stdout",
     "output_type": "stream",
     "text": [
      "------------------------------\n",
      "Train Loss EPOCH 65: 1.3414\n",
      "Valid Loss EPOCH 65: 1.3901\n",
      "Train Accuracy EPOCH 65: 0.5536\n",
      "Valid Accuracy EPOCH 65: 0.5041\n",
      "------------------------------\n"
     ]
    },
    {
     "name": "stderr",
     "output_type": "stream",
     "text": [
      "100%|██████████| 881/881 [01:12<00:00, 12.17it/s]\n",
      "100%|██████████| 189/189 [00:04<00:00, 38.76it/s]\n",
      " 13%|█▎        | 66/500 [1:32:47<9:22:15, 77.73s/it]"
     ]
    },
    {
     "name": "stdout",
     "output_type": "stream",
     "text": [
      "------------------------------\n",
      "Train Loss EPOCH 66: 1.3333\n",
      "Valid Loss EPOCH 66: 1.4165\n",
      "Train Accuracy EPOCH 66: 0.5630\n",
      "Valid Accuracy EPOCH 66: 0.4743\n",
      "------------------------------\n"
     ]
    },
    {
     "name": "stderr",
     "output_type": "stream",
     "text": [
      "100%|██████████| 881/881 [01:13<00:00, 12.05it/s]\n",
      "100%|██████████| 189/189 [00:04<00:00, 39.01it/s]\n",
      " 13%|█▎        | 67/500 [1:34:05<9:21:53, 77.86s/it]"
     ]
    },
    {
     "name": "stdout",
     "output_type": "stream",
     "text": [
      "------------------------------\n",
      "Train Loss EPOCH 67: 1.3361\n",
      "Valid Loss EPOCH 67: 1.3884\n",
      "Train Accuracy EPOCH 67: 0.5593\n",
      "Valid Accuracy EPOCH 67: 0.5055\n",
      "------------------------------\n"
     ]
    },
    {
     "name": "stderr",
     "output_type": "stream",
     "text": [
      "100%|██████████| 881/881 [01:13<00:00, 12.03it/s]\n",
      "100%|██████████| 189/189 [00:05<00:00, 36.86it/s]\n",
      " 14%|█▎        | 68/500 [1:35:24<9:22:11, 78.08s/it]"
     ]
    },
    {
     "name": "stdout",
     "output_type": "stream",
     "text": [
      "------------------------------\n",
      "Train Loss EPOCH 68: 1.3262\n",
      "Valid Loss EPOCH 68: 1.3807\n",
      "Train Accuracy EPOCH 68: 0.5712\n",
      "Valid Accuracy EPOCH 68: 0.5111\n",
      "------------------------------\n"
     ]
    },
    {
     "name": "stderr",
     "output_type": "stream",
     "text": [
      "100%|██████████| 881/881 [01:12<00:00, 12.12it/s]\n",
      "100%|██████████| 189/189 [00:05<00:00, 35.34it/s]\n",
      " 14%|█▍        | 69/500 [1:36:42<9:21:20, 78.15s/it]"
     ]
    },
    {
     "name": "stdout",
     "output_type": "stream",
     "text": [
      "------------------------------\n",
      "Train Loss EPOCH 69: 1.3245\n",
      "Valid Loss EPOCH 69: 1.3655\n",
      "Train Accuracy EPOCH 69: 0.5711\n",
      "Valid Accuracy EPOCH 69: 0.5288\n",
      "------------------------------\n"
     ]
    },
    {
     "name": "stderr",
     "output_type": "stream",
     "text": [
      "100%|██████████| 881/881 [01:13<00:00, 11.92it/s]\n",
      "100%|██████████| 189/189 [00:04<00:00, 40.32it/s]\n",
      " 14%|█▍        | 70/500 [1:38:01<9:21:33, 78.36s/it]"
     ]
    },
    {
     "name": "stdout",
     "output_type": "stream",
     "text": [
      "------------------------------\n",
      "Train Loss EPOCH 70: 1.3206\n",
      "Valid Loss EPOCH 70: 1.3687\n",
      "Train Accuracy EPOCH 70: 0.5742\n",
      "Valid Accuracy EPOCH 70: 0.5265\n",
      "------------------------------\n"
     ]
    },
    {
     "name": "stderr",
     "output_type": "stream",
     "text": [
      "100%|██████████| 881/881 [01:14<00:00, 11.82it/s]\n",
      "100%|██████████| 189/189 [00:04<00:00, 37.94it/s]\n"
     ]
    },
    {
     "name": "stdout",
     "output_type": "stream",
     "text": [
      "------------------------------\n",
      "Train Loss EPOCH 71: 1.3147\n",
      "Valid Loss EPOCH 71: 1.3592\n",
      "Train Accuracy EPOCH 71: 0.5813\n"
     ]
    },
    {
     "name": "stderr",
     "output_type": "stream",
     "text": [
      " 14%|█▍        | 71/500 [1:39:21<9:23:19, 78.79s/it]"
     ]
    },
    {
     "name": "stdout",
     "output_type": "stream",
     "text": [
      "Valid Accuracy EPOCH 71: 0.5366\n",
      "------------------------------\n"
     ]
    },
    {
     "name": "stderr",
     "output_type": "stream",
     "text": [
      "100%|██████████| 881/881 [01:14<00:00, 11.80it/s]\n",
      "100%|██████████| 189/189 [00:05<00:00, 35.06it/s]\n",
      " 14%|█▍        | 72/500 [1:40:41<9:25:10, 79.23s/it]"
     ]
    },
    {
     "name": "stdout",
     "output_type": "stream",
     "text": [
      "------------------------------\n",
      "Train Loss EPOCH 72: 1.3067\n",
      "Valid Loss EPOCH 72: 1.3949\n",
      "Train Accuracy EPOCH 72: 0.5894\n",
      "Valid Accuracy EPOCH 72: 0.4980\n",
      "------------------------------\n"
     ]
    },
    {
     "name": "stderr",
     "output_type": "stream",
     "text": [
      "100%|██████████| 881/881 [01:14<00:00, 11.89it/s]\n",
      "100%|██████████| 189/189 [00:04<00:00, 38.45it/s]\n",
      " 15%|█▍        | 73/500 [1:42:00<9:23:47, 79.22s/it]"
     ]
    },
    {
     "name": "stdout",
     "output_type": "stream",
     "text": [
      "------------------------------\n",
      "Train Loss EPOCH 73: 1.3080\n",
      "Valid Loss EPOCH 73: 1.3716\n",
      "Train Accuracy EPOCH 73: 0.5892\n",
      "Valid Accuracy EPOCH 73: 0.5195\n",
      "------------------------------\n"
     ]
    },
    {
     "name": "stderr",
     "output_type": "stream",
     "text": [
      "100%|██████████| 881/881 [01:14<00:00, 11.86it/s]\n",
      "100%|██████████| 189/189 [00:04<00:00, 38.43it/s]\n",
      " 15%|█▍        | 74/500 [1:43:20<9:22:55, 79.29s/it]"
     ]
    },
    {
     "name": "stdout",
     "output_type": "stream",
     "text": [
      "------------------------------\n",
      "Train Loss EPOCH 74: 1.3037\n",
      "Valid Loss EPOCH 74: 1.3526\n",
      "Train Accuracy EPOCH 74: 0.5935\n",
      "Valid Accuracy EPOCH 74: 0.5417\n",
      "------------------------------\n"
     ]
    },
    {
     "name": "stderr",
     "output_type": "stream",
     "text": [
      "100%|██████████| 881/881 [01:12<00:00, 12.18it/s]\n",
      "100%|██████████| 189/189 [00:04<00:00, 39.05it/s]\n",
      " 15%|█▌        | 75/500 [1:44:37<9:17:36, 78.72s/it]"
     ]
    },
    {
     "name": "stdout",
     "output_type": "stream",
     "text": [
      "------------------------------\n",
      "Train Loss EPOCH 75: 1.2938\n",
      "Valid Loss EPOCH 75: 1.3599\n",
      "Train Accuracy EPOCH 75: 0.6033\n",
      "Valid Accuracy EPOCH 75: 0.5328\n",
      "------------------------------\n"
     ]
    },
    {
     "name": "stderr",
     "output_type": "stream",
     "text": [
      "100%|██████████| 881/881 [01:12<00:00, 12.20it/s]\n",
      "100%|██████████| 189/189 [00:05<00:00, 37.78it/s]\n",
      " 15%|█▌        | 76/500 [1:45:55<9:13:30, 78.33s/it]"
     ]
    },
    {
     "name": "stdout",
     "output_type": "stream",
     "text": [
      "------------------------------\n",
      "Train Loss EPOCH 76: 1.2856\n",
      "Valid Loss EPOCH 76: 1.3601\n",
      "Train Accuracy EPOCH 76: 0.6123\n",
      "Valid Accuracy EPOCH 76: 0.5355\n",
      "------------------------------\n"
     ]
    },
    {
     "name": "stderr",
     "output_type": "stream",
     "text": [
      "100%|██████████| 881/881 [01:13<00:00, 11.92it/s]\n",
      "100%|██████████| 189/189 [00:05<00:00, 37.36it/s]\n",
      " 15%|█▌        | 77/500 [1:47:14<9:13:57, 78.58s/it]"
     ]
    },
    {
     "name": "stdout",
     "output_type": "stream",
     "text": [
      "------------------------------\n",
      "Train Loss EPOCH 77: 1.2884\n",
      "Valid Loss EPOCH 77: 1.3529\n",
      "Train Accuracy EPOCH 77: 0.6084\n",
      "Valid Accuracy EPOCH 77: 0.5431\n",
      "------------------------------\n"
     ]
    },
    {
     "name": "stderr",
     "output_type": "stream",
     "text": [
      "100%|██████████| 881/881 [01:13<00:00, 11.95it/s]\n",
      "100%|██████████| 189/189 [00:05<00:00, 36.87it/s]\n",
      " 16%|█▌        | 78/500 [1:48:33<9:13:42, 78.73s/it]"
     ]
    },
    {
     "name": "stdout",
     "output_type": "stream",
     "text": [
      "------------------------------\n",
      "Train Loss EPOCH 78: 1.2842\n",
      "Valid Loss EPOCH 78: 1.3566\n",
      "Train Accuracy EPOCH 78: 0.6121\n",
      "Valid Accuracy EPOCH 78: 0.5384\n",
      "------------------------------\n"
     ]
    },
    {
     "name": "stderr",
     "output_type": "stream",
     "text": [
      "100%|██████████| 881/881 [01:14<00:00, 11.91it/s]\n",
      "100%|██████████| 189/189 [00:04<00:00, 38.39it/s]\n",
      " 16%|█▌        | 79/500 [1:49:52<9:13:17, 78.85s/it]"
     ]
    },
    {
     "name": "stdout",
     "output_type": "stream",
     "text": [
      "------------------------------\n",
      "Train Loss EPOCH 79: 1.2781\n",
      "Valid Loss EPOCH 79: 1.3454\n",
      "Train Accuracy EPOCH 79: 0.6198\n",
      "Valid Accuracy EPOCH 79: 0.5497\n",
      "------------------------------\n"
     ]
    },
    {
     "name": "stderr",
     "output_type": "stream",
     "text": [
      "100%|██████████| 881/881 [01:12<00:00, 12.22it/s]\n",
      "100%|██████████| 189/189 [00:05<00:00, 37.32it/s]\n",
      " 16%|█▌        | 80/500 [1:51:09<9:08:51, 78.41s/it]"
     ]
    },
    {
     "name": "stdout",
     "output_type": "stream",
     "text": [
      "------------------------------\n",
      "Train Loss EPOCH 80: 1.2687\n",
      "Valid Loss EPOCH 80: 1.3492\n",
      "Train Accuracy EPOCH 80: 0.6294\n",
      "Valid Accuracy EPOCH 80: 0.5472\n",
      "------------------------------\n"
     ]
    },
    {
     "name": "stderr",
     "output_type": "stream",
     "text": [
      "100%|██████████| 881/881 [01:12<00:00, 12.14it/s]\n",
      "100%|██████████| 189/189 [00:04<00:00, 41.40it/s]\n",
      " 16%|█▌        | 81/500 [1:52:27<9:05:15, 78.08s/it]"
     ]
    },
    {
     "name": "stdout",
     "output_type": "stream",
     "text": [
      "------------------------------\n",
      "Train Loss EPOCH 81: 1.2682\n",
      "Valid Loss EPOCH 81: 1.3520\n",
      "Train Accuracy EPOCH 81: 0.6285\n",
      "Valid Accuracy EPOCH 81: 0.5399\n",
      "------------------------------\n"
     ]
    },
    {
     "name": "stderr",
     "output_type": "stream",
     "text": [
      "100%|██████████| 881/881 [01:12<00:00, 12.14it/s]\n",
      "100%|██████████| 189/189 [00:04<00:00, 39.14it/s]\n",
      " 16%|█▋        | 82/500 [1:53:44<9:02:58, 77.94s/it]"
     ]
    },
    {
     "name": "stdout",
     "output_type": "stream",
     "text": [
      "------------------------------\n",
      "Train Loss EPOCH 82: 1.2611\n",
      "Valid Loss EPOCH 82: 1.3382\n",
      "Train Accuracy EPOCH 82: 0.6374\n",
      "Valid Accuracy EPOCH 82: 0.5598\n",
      "------------------------------\n"
     ]
    },
    {
     "name": "stderr",
     "output_type": "stream",
     "text": [
      "100%|██████████| 881/881 [01:12<00:00, 12.15it/s]\n",
      "100%|██████████| 189/189 [00:04<00:00, 42.14it/s]\n",
      " 17%|█▋        | 83/500 [1:55:02<9:00:06, 77.71s/it]"
     ]
    },
    {
     "name": "stdout",
     "output_type": "stream",
     "text": [
      "------------------------------\n",
      "Train Loss EPOCH 83: 1.2619\n",
      "Valid Loss EPOCH 83: 1.3395\n",
      "Train Accuracy EPOCH 83: 0.6371\n",
      "Valid Accuracy EPOCH 83: 0.5563\n",
      "------------------------------\n"
     ]
    },
    {
     "name": "stderr",
     "output_type": "stream",
     "text": [
      "100%|██████████| 881/881 [01:12<00:00, 12.23it/s]\n",
      "100%|██████████| 189/189 [00:04<00:00, 42.27it/s]\n",
      " 17%|█▋        | 84/500 [1:56:18<8:56:43, 77.41s/it]"
     ]
    },
    {
     "name": "stdout",
     "output_type": "stream",
     "text": [
      "------------------------------\n",
      "Train Loss EPOCH 84: 1.2580\n",
      "Valid Loss EPOCH 84: 1.3389\n",
      "Train Accuracy EPOCH 84: 0.6404\n",
      "Valid Accuracy EPOCH 84: 0.5548\n",
      "------------------------------\n"
     ]
    },
    {
     "name": "stderr",
     "output_type": "stream",
     "text": [
      "100%|██████████| 881/881 [01:12<00:00, 12.18it/s]\n",
      "100%|██████████| 189/189 [00:04<00:00, 40.99it/s]\n",
      " 17%|█▋        | 85/500 [1:57:35<8:54:52, 77.33s/it]"
     ]
    },
    {
     "name": "stdout",
     "output_type": "stream",
     "text": [
      "------------------------------\n",
      "Train Loss EPOCH 85: 1.2545\n",
      "Valid Loss EPOCH 85: 1.3312\n",
      "Train Accuracy EPOCH 85: 0.6436\n",
      "Valid Accuracy EPOCH 85: 0.5661\n",
      "------------------------------\n"
     ]
    },
    {
     "name": "stderr",
     "output_type": "stream",
     "text": [
      "100%|██████████| 881/881 [01:14<00:00, 11.85it/s]\n",
      "100%|██████████| 189/189 [00:05<00:00, 37.26it/s]\n",
      " 17%|█▋        | 86/500 [1:58:55<8:58:18, 78.02s/it]"
     ]
    },
    {
     "name": "stdout",
     "output_type": "stream",
     "text": [
      "------------------------------\n",
      "Train Loss EPOCH 86: 1.2451\n",
      "Valid Loss EPOCH 86: 1.3378\n",
      "Train Accuracy EPOCH 86: 0.6538\n",
      "Valid Accuracy EPOCH 86: 0.5562\n",
      "------------------------------\n"
     ]
    },
    {
     "name": "stderr",
     "output_type": "stream",
     "text": [
      "100%|██████████| 881/881 [01:14<00:00, 11.81it/s]\n",
      "100%|██████████| 189/189 [00:04<00:00, 38.77it/s]\n",
      " 17%|█▋        | 87/500 [2:00:15<9:00:24, 78.51s/it]"
     ]
    },
    {
     "name": "stdout",
     "output_type": "stream",
     "text": [
      "------------------------------\n",
      "Train Loss EPOCH 87: 1.2414\n",
      "Valid Loss EPOCH 87: 1.3341\n",
      "Train Accuracy EPOCH 87: 0.6576\n",
      "Valid Accuracy EPOCH 87: 0.5608\n",
      "------------------------------\n"
     ]
    },
    {
     "name": "stderr",
     "output_type": "stream",
     "text": [
      "100%|██████████| 881/881 [01:14<00:00, 11.85it/s]\n",
      "100%|██████████| 189/189 [00:04<00:00, 39.35it/s]\n",
      " 18%|█▊        | 88/500 [2:01:34<9:00:50, 78.76s/it]"
     ]
    },
    {
     "name": "stdout",
     "output_type": "stream",
     "text": [
      "------------------------------\n",
      "Train Loss EPOCH 88: 1.2465\n",
      "Valid Loss EPOCH 88: 1.3414\n",
      "Train Accuracy EPOCH 88: 0.6534\n",
      "Valid Accuracy EPOCH 88: 0.5543\n",
      "------------------------------\n"
     ]
    },
    {
     "name": "stderr",
     "output_type": "stream",
     "text": [
      "100%|██████████| 881/881 [01:14<00:00, 11.86it/s]\n",
      "100%|██████████| 189/189 [00:05<00:00, 37.44it/s]\n",
      " 18%|█▊        | 89/500 [2:02:54<9:01:06, 78.99s/it]"
     ]
    },
    {
     "name": "stdout",
     "output_type": "stream",
     "text": [
      "------------------------------\n",
      "Train Loss EPOCH 89: 1.2354\n",
      "Valid Loss EPOCH 89: 1.3374\n",
      "Train Accuracy EPOCH 89: 0.6639\n",
      "Valid Accuracy EPOCH 89: 0.5598\n",
      "------------------------------\n"
     ]
    },
    {
     "name": "stderr",
     "output_type": "stream",
     "text": [
      "100%|██████████| 881/881 [01:11<00:00, 12.28it/s]\n",
      "100%|██████████| 189/189 [00:04<00:00, 39.90it/s]\n",
      " 18%|█▊        | 90/500 [2:04:10<8:55:03, 78.30s/it]"
     ]
    },
    {
     "name": "stdout",
     "output_type": "stream",
     "text": [
      "------------------------------\n",
      "Train Loss EPOCH 90: 1.2331\n",
      "Valid Loss EPOCH 90: 1.3428\n",
      "Train Accuracy EPOCH 90: 0.6666\n",
      "Valid Accuracy EPOCH 90: 0.5545\n",
      "------------------------------\n"
     ]
    },
    {
     "name": "stderr",
     "output_type": "stream",
     "text": [
      "100%|██████████| 881/881 [01:14<00:00, 11.86it/s]\n",
      "100%|██████████| 189/189 [00:04<00:00, 39.31it/s]\n",
      " 18%|█▊        | 91/500 [2:05:30<8:55:48, 78.60s/it]"
     ]
    },
    {
     "name": "stdout",
     "output_type": "stream",
     "text": [
      "------------------------------\n",
      "Train Loss EPOCH 91: 1.2273\n",
      "Valid Loss EPOCH 91: 1.3235\n",
      "Train Accuracy EPOCH 91: 0.6725\n",
      "Valid Accuracy EPOCH 91: 0.5724\n",
      "------------------------------\n"
     ]
    },
    {
     "name": "stderr",
     "output_type": "stream",
     "text": [
      "100%|██████████| 881/881 [01:13<00:00, 11.97it/s]\n",
      "100%|██████████| 189/189 [00:04<00:00, 40.93it/s]\n",
      " 18%|█▊        | 92/500 [2:06:48<8:54:09, 78.55s/it]"
     ]
    },
    {
     "name": "stdout",
     "output_type": "stream",
     "text": [
      "------------------------------\n",
      "Train Loss EPOCH 92: 1.2303\n",
      "Valid Loss EPOCH 92: 1.3246\n",
      "Train Accuracy EPOCH 92: 0.6692\n",
      "Valid Accuracy EPOCH 92: 0.5711\n",
      "------------------------------\n"
     ]
    },
    {
     "name": "stderr",
     "output_type": "stream",
     "text": [
      "100%|██████████| 881/881 [01:13<00:00, 11.98it/s]\n",
      "100%|██████████| 189/189 [00:05<00:00, 37.26it/s]\n",
      " 19%|█▊        | 93/500 [2:08:07<8:53:21, 78.63s/it]"
     ]
    },
    {
     "name": "stdout",
     "output_type": "stream",
     "text": [
      "------------------------------\n",
      "Train Loss EPOCH 93: 1.2271\n",
      "Valid Loss EPOCH 93: 1.3666\n",
      "Train Accuracy EPOCH 93: 0.6718\n",
      "Valid Accuracy EPOCH 93: 0.5295\n",
      "------------------------------\n"
     ]
    },
    {
     "name": "stderr",
     "output_type": "stream",
     "text": [
      "100%|██████████| 881/881 [01:14<00:00, 11.89it/s]\n",
      "100%|██████████| 189/189 [00:04<00:00, 38.13it/s]\n",
      " 19%|█▉        | 94/500 [2:09:26<8:53:16, 78.81s/it]"
     ]
    },
    {
     "name": "stdout",
     "output_type": "stream",
     "text": [
      "------------------------------\n",
      "Train Loss EPOCH 94: 1.2208\n",
      "Valid Loss EPOCH 94: 1.3154\n",
      "Train Accuracy EPOCH 94: 0.6783\n",
      "Valid Accuracy EPOCH 94: 0.5797\n",
      "------------------------------\n"
     ]
    },
    {
     "name": "stderr",
     "output_type": "stream",
     "text": [
      "100%|██████████| 881/881 [01:14<00:00, 11.79it/s]\n",
      "100%|██████████| 189/189 [00:04<00:00, 38.49it/s]\n",
      " 19%|█▉        | 95/500 [2:10:46<8:54:07, 79.13s/it]"
     ]
    },
    {
     "name": "stdout",
     "output_type": "stream",
     "text": [
      "------------------------------\n",
      "Train Loss EPOCH 95: 1.2150\n",
      "Valid Loss EPOCH 95: 1.3213\n",
      "Train Accuracy EPOCH 95: 0.6850\n",
      "Valid Accuracy EPOCH 95: 0.5754\n",
      "------------------------------\n"
     ]
    },
    {
     "name": "stderr",
     "output_type": "stream",
     "text": [
      "100%|██████████| 881/881 [01:14<00:00, 11.86it/s]\n",
      "100%|██████████| 189/189 [00:05<00:00, 37.03it/s]\n"
     ]
    },
    {
     "name": "stdout",
     "output_type": "stream",
     "text": [
      "------------------------------\n",
      "Train Loss EPOCH 96: 1.2157\n",
      "Valid Loss EPOCH 96: 1.3218\n",
      "Train Accuracy EPOCH 96: 0.6835\n"
     ]
    },
    {
     "name": "stderr",
     "output_type": "stream",
     "text": [
      " 19%|█▉        | 96/500 [2:12:06<8:53:54, 79.29s/it]"
     ]
    },
    {
     "name": "stdout",
     "output_type": "stream",
     "text": [
      "Valid Accuracy EPOCH 96: 0.5744\n",
      "------------------------------\n"
     ]
    },
    {
     "name": "stderr",
     "output_type": "stream",
     "text": [
      "100%|██████████| 881/881 [01:12<00:00, 12.22it/s]\n",
      "100%|██████████| 189/189 [00:05<00:00, 36.33it/s]\n"
     ]
    },
    {
     "name": "stdout",
     "output_type": "stream",
     "text": [
      "------------------------------\n",
      "Train Loss EPOCH 97: 1.2152\n",
      "Valid Loss EPOCH 97: 1.3193\n",
      "Train Accuracy EPOCH 97: 0.6850\n",
      "Valid Accuracy EPOCH 97: 0.5765\n",
      "------------------------------\n"
     ]
    },
    {
     "name": "stderr",
     "output_type": "stream",
     "text": [
      "100%|██████████| 881/881 [01:11<00:00, 12.37it/s]it]\n",
      "100%|██████████| 189/189 [00:04<00:00, 39.22it/s]\n",
      " 20%|█▉        | 98/500 [2:14:39<8:42:40, 78.01s/it]"
     ]
    },
    {
     "name": "stdout",
     "output_type": "stream",
     "text": [
      "------------------------------\n",
      "Train Loss EPOCH 98: 1.2177\n",
      "Valid Loss EPOCH 98: 1.3221\n",
      "Train Accuracy EPOCH 98: 0.6826\n",
      "Valid Accuracy EPOCH 98: 0.5739\n",
      "------------------------------\n"
     ]
    },
    {
     "name": "stderr",
     "output_type": "stream",
     "text": [
      "100%|██████████| 881/881 [01:12<00:00, 12.12it/s]\n",
      "100%|██████████| 189/189 [00:04<00:00, 39.83it/s]\n"
     ]
    },
    {
     "name": "stdout",
     "output_type": "stream",
     "text": [
      "------------------------------\n",
      "Train Loss EPOCH 99: 1.2010\n",
      "Valid Loss EPOCH 99: 1.3329\n",
      "Train Accuracy EPOCH 99: 0.6988\n"
     ]
    },
    {
     "name": "stderr",
     "output_type": "stream",
     "text": [
      " 20%|█▉        | 99/500 [2:15:57<8:40:40, 77.91s/it]"
     ]
    },
    {
     "name": "stdout",
     "output_type": "stream",
     "text": [
      "Valid Accuracy EPOCH 99: 0.5639\n",
      "------------------------------\n"
     ]
    },
    {
     "name": "stderr",
     "output_type": "stream",
     "text": [
      "100%|██████████| 881/881 [01:14<00:00, 11.80it/s]\n",
      "100%|██████████| 189/189 [00:05<00:00, 36.60it/s]\n",
      " 20%|██        | 100/500 [2:17:17<8:43:41, 78.55s/it]"
     ]
    },
    {
     "name": "stdout",
     "output_type": "stream",
     "text": [
      "------------------------------\n",
      "Train Loss EPOCH 100: 1.2033\n",
      "Valid Loss EPOCH 100: 1.3376\n",
      "Train Accuracy EPOCH 100: 0.6952\n",
      "Valid Accuracy EPOCH 100: 0.5573\n",
      "------------------------------\n"
     ]
    },
    {
     "name": "stderr",
     "output_type": "stream",
     "text": [
      "100%|██████████| 881/881 [01:14<00:00, 11.89it/s]\n",
      "100%|██████████| 189/189 [00:04<00:00, 39.19it/s]\n",
      " 20%|██        | 101/500 [2:18:36<8:43:35, 78.74s/it]"
     ]
    },
    {
     "name": "stdout",
     "output_type": "stream",
     "text": [
      "------------------------------\n",
      "Train Loss EPOCH 101: 1.2033\n",
      "Valid Loss EPOCH 101: 1.3149\n",
      "Train Accuracy EPOCH 101: 0.6970\n",
      "Valid Accuracy EPOCH 101: 0.5818\n",
      "------------------------------\n"
     ]
    },
    {
     "name": "stderr",
     "output_type": "stream",
     "text": [
      "100%|██████████| 881/881 [01:11<00:00, 12.30it/s]\n",
      "100%|██████████| 189/189 [00:04<00:00, 38.63it/s]\n",
      " 20%|██        | 102/500 [2:19:53<8:38:19, 78.14s/it]"
     ]
    },
    {
     "name": "stdout",
     "output_type": "stream",
     "text": [
      "------------------------------\n",
      "Train Loss EPOCH 102: 1.1952\n",
      "Valid Loss EPOCH 102: 1.3234\n",
      "Train Accuracy EPOCH 102: 0.7045\n",
      "Valid Accuracy EPOCH 102: 0.5719\n",
      "------------------------------\n"
     ]
    },
    {
     "name": "stderr",
     "output_type": "stream",
     "text": [
      "100%|██████████| 881/881 [01:14<00:00, 11.86it/s]\n",
      "100%|██████████| 189/189 [00:04<00:00, 38.36it/s]\n",
      " 21%|██        | 103/500 [2:21:12<8:39:32, 78.52s/it]"
     ]
    },
    {
     "name": "stdout",
     "output_type": "stream",
     "text": [
      "------------------------------\n",
      "Train Loss EPOCH 103: 1.1927\n",
      "Valid Loss EPOCH 103: 1.3099\n",
      "Train Accuracy EPOCH 103: 0.7074\n",
      "Valid Accuracy EPOCH 103: 0.5840\n",
      "------------------------------\n"
     ]
    },
    {
     "name": "stderr",
     "output_type": "stream",
     "text": [
      "100%|██████████| 881/881 [01:13<00:00, 11.92it/s]\n",
      "100%|██████████| 189/189 [00:04<00:00, 40.75it/s]\n",
      " 21%|██        | 104/500 [2:22:31<8:38:44, 78.60s/it]"
     ]
    },
    {
     "name": "stdout",
     "output_type": "stream",
     "text": [
      "------------------------------\n",
      "Train Loss EPOCH 104: 1.1894\n",
      "Valid Loss EPOCH 104: 1.2981\n",
      "Train Accuracy EPOCH 104: 0.7100\n",
      "Valid Accuracy EPOCH 104: 0.5977\n",
      "------------------------------\n"
     ]
    },
    {
     "name": "stderr",
     "output_type": "stream",
     "text": [
      "100%|██████████| 881/881 [01:14<00:00, 11.86it/s]\n",
      "100%|██████████| 189/189 [00:04<00:00, 39.72it/s]\n",
      " 21%|██        | 105/500 [2:23:50<8:38:46, 78.80s/it]"
     ]
    },
    {
     "name": "stdout",
     "output_type": "stream",
     "text": [
      "------------------------------\n",
      "Train Loss EPOCH 105: 1.1932\n",
      "Valid Loss EPOCH 105: 1.3343\n",
      "Train Accuracy EPOCH 105: 0.7064\n",
      "Valid Accuracy EPOCH 105: 0.5630\n",
      "------------------------------\n"
     ]
    },
    {
     "name": "stderr",
     "output_type": "stream",
     "text": [
      "100%|██████████| 881/881 [01:12<00:00, 12.11it/s]\n",
      "100%|██████████| 189/189 [00:04<00:00, 38.01it/s]\n",
      " 21%|██        | 106/500 [2:25:08<8:35:44, 78.54s/it]"
     ]
    },
    {
     "name": "stdout",
     "output_type": "stream",
     "text": [
      "------------------------------\n",
      "Train Loss EPOCH 106: 1.1889\n",
      "Valid Loss EPOCH 106: 1.3084\n",
      "Train Accuracy EPOCH 106: 0.7102\n",
      "Valid Accuracy EPOCH 106: 0.5900\n",
      "------------------------------\n"
     ]
    },
    {
     "name": "stderr",
     "output_type": "stream",
     "text": [
      "100%|██████████| 881/881 [01:12<00:00, 12.11it/s]\n",
      "100%|██████████| 189/189 [00:04<00:00, 38.79it/s]\n",
      " 21%|██▏       | 107/500 [2:26:26<8:33:04, 78.33s/it]"
     ]
    },
    {
     "name": "stdout",
     "output_type": "stream",
     "text": [
      "------------------------------\n",
      "Train Loss EPOCH 107: 1.1866\n",
      "Valid Loss EPOCH 107: 1.3031\n",
      "Train Accuracy EPOCH 107: 0.7136\n",
      "Valid Accuracy EPOCH 107: 0.5941\n",
      "------------------------------\n"
     ]
    },
    {
     "name": "stderr",
     "output_type": "stream",
     "text": [
      "100%|██████████| 881/881 [01:14<00:00, 11.86it/s]\n",
      "100%|██████████| 189/189 [00:05<00:00, 37.64it/s]\n",
      " 22%|██▏       | 108/500 [2:27:46<8:34:03, 78.68s/it]"
     ]
    },
    {
     "name": "stdout",
     "output_type": "stream",
     "text": [
      "------------------------------\n",
      "Train Loss EPOCH 108: 1.1840\n",
      "Valid Loss EPOCH 108: 1.3155\n",
      "Train Accuracy EPOCH 108: 0.7161\n",
      "Valid Accuracy EPOCH 108: 0.5789\n",
      "------------------------------\n"
     ]
    },
    {
     "name": "stderr",
     "output_type": "stream",
     "text": [
      "100%|██████████| 881/881 [01:13<00:00, 11.95it/s]\n",
      "100%|██████████| 189/189 [00:05<00:00, 37.65it/s]\n",
      " 22%|██▏       | 109/500 [2:29:05<8:33:18, 78.77s/it]"
     ]
    },
    {
     "name": "stdout",
     "output_type": "stream",
     "text": [
      "------------------------------\n",
      "Train Loss EPOCH 109: 1.1810\n",
      "Valid Loss EPOCH 109: 1.3130\n",
      "Train Accuracy EPOCH 109: 0.7204\n",
      "Valid Accuracy EPOCH 109: 0.5835\n",
      "------------------------------\n"
     ]
    },
    {
     "name": "stderr",
     "output_type": "stream",
     "text": [
      "100%|██████████| 881/881 [01:14<00:00, 11.90it/s]\n",
      "100%|██████████| 189/189 [00:04<00:00, 38.42it/s]\n",
      " 22%|██▏       | 110/500 [2:30:24<8:32:47, 78.89s/it]"
     ]
    },
    {
     "name": "stdout",
     "output_type": "stream",
     "text": [
      "------------------------------\n",
      "Train Loss EPOCH 110: 1.1764\n",
      "Valid Loss EPOCH 110: 1.3097\n",
      "Train Accuracy EPOCH 110: 0.7238\n",
      "Valid Accuracy EPOCH 110: 0.5891\n",
      "------------------------------\n"
     ]
    },
    {
     "name": "stderr",
     "output_type": "stream",
     "text": [
      "100%|██████████| 881/881 [01:14<00:00, 11.88it/s]\n",
      "100%|██████████| 189/189 [00:04<00:00, 38.03it/s]\n",
      " 22%|██▏       | 111/500 [2:31:43<8:32:26, 79.04s/it]"
     ]
    },
    {
     "name": "stdout",
     "output_type": "stream",
     "text": [
      "------------------------------\n",
      "Train Loss EPOCH 111: 1.1745\n",
      "Valid Loss EPOCH 111: 1.3111\n",
      "Train Accuracy EPOCH 111: 0.7256\n",
      "Valid Accuracy EPOCH 111: 0.5852\n",
      "------------------------------\n"
     ]
    },
    {
     "name": "stderr",
     "output_type": "stream",
     "text": [
      "100%|██████████| 881/881 [01:13<00:00, 12.07it/s]\n",
      "100%|██████████| 189/189 [00:04<00:00, 42.85it/s]\n",
      " 22%|██▏       | 112/500 [2:33:01<8:28:24, 78.62s/it]"
     ]
    },
    {
     "name": "stdout",
     "output_type": "stream",
     "text": [
      "------------------------------\n",
      "Train Loss EPOCH 112: 1.1811\n",
      "Valid Loss EPOCH 112: 1.3025\n",
      "Train Accuracy EPOCH 112: 0.7194\n",
      "Valid Accuracy EPOCH 112: 0.5944\n",
      "------------------------------\n"
     ]
    },
    {
     "name": "stderr",
     "output_type": "stream",
     "text": [
      "100%|██████████| 881/881 [01:12<00:00, 12.20it/s]\n",
      "100%|██████████| 189/189 [00:04<00:00, 39.66it/s]\n",
      " 23%|██▎       | 113/500 [2:34:18<8:24:18, 78.19s/it]"
     ]
    },
    {
     "name": "stdout",
     "output_type": "stream",
     "text": [
      "------------------------------\n",
      "Train Loss EPOCH 113: 1.1734\n",
      "Valid Loss EPOCH 113: 1.3004\n",
      "Train Accuracy EPOCH 113: 0.7261\n",
      "Valid Accuracy EPOCH 113: 0.5963\n",
      "------------------------------\n"
     ]
    },
    {
     "name": "stderr",
     "output_type": "stream",
     "text": [
      "100%|██████████| 881/881 [01:12<00:00, 12.19it/s]\n",
      "100%|██████████| 189/189 [00:04<00:00, 38.65it/s]\n",
      " 23%|██▎       | 114/500 [2:35:35<8:21:28, 77.95s/it]"
     ]
    },
    {
     "name": "stdout",
     "output_type": "stream",
     "text": [
      "------------------------------\n",
      "Train Loss EPOCH 114: 1.1606\n",
      "Valid Loss EPOCH 114: 1.3002\n",
      "Train Accuracy EPOCH 114: 0.7420\n",
      "Valid Accuracy EPOCH 114: 0.5966\n",
      "------------------------------\n"
     ]
    },
    {
     "name": "stderr",
     "output_type": "stream",
     "text": [
      "100%|██████████| 881/881 [01:12<00:00, 12.13it/s]\n",
      "100%|██████████| 189/189 [00:04<00:00, 42.89it/s]\n",
      " 23%|██▎       | 115/500 [2:36:53<8:18:50, 77.74s/it]"
     ]
    },
    {
     "name": "stdout",
     "output_type": "stream",
     "text": [
      "------------------------------\n",
      "Train Loss EPOCH 115: 1.1739\n",
      "Valid Loss EPOCH 115: 1.2913\n",
      "Train Accuracy EPOCH 115: 0.7270\n",
      "Valid Accuracy EPOCH 115: 0.6032\n",
      "------------------------------\n"
     ]
    },
    {
     "name": "stderr",
     "output_type": "stream",
     "text": [
      "100%|██████████| 881/881 [01:12<00:00, 12.18it/s]\n",
      "100%|██████████| 189/189 [00:04<00:00, 38.69it/s]\n",
      " 23%|██▎       | 116/500 [2:38:10<8:16:53, 77.64s/it]"
     ]
    },
    {
     "name": "stdout",
     "output_type": "stream",
     "text": [
      "------------------------------\n",
      "Train Loss EPOCH 116: 1.1598\n",
      "Valid Loss EPOCH 116: 1.3440\n",
      "Train Accuracy EPOCH 116: 0.7415\n",
      "Valid Accuracy EPOCH 116: 0.5519\n",
      "------------------------------\n"
     ]
    },
    {
     "name": "stderr",
     "output_type": "stream",
     "text": [
      "100%|██████████| 881/881 [01:12<00:00, 12.12it/s]\n",
      "100%|██████████| 189/189 [00:05<00:00, 37.79it/s]\n",
      " 23%|██▎       | 117/500 [2:39:28<8:16:12, 77.73s/it]"
     ]
    },
    {
     "name": "stdout",
     "output_type": "stream",
     "text": [
      "------------------------------\n",
      "Train Loss EPOCH 117: 1.1661\n",
      "Valid Loss EPOCH 117: 1.2956\n",
      "Train Accuracy EPOCH 117: 0.7346\n",
      "Valid Accuracy EPOCH 117: 0.6001\n",
      "------------------------------\n"
     ]
    },
    {
     "name": "stderr",
     "output_type": "stream",
     "text": [
      "100%|██████████| 881/881 [01:11<00:00, 12.28it/s]\n",
      "100%|██████████| 189/189 [00:05<00:00, 37.63it/s]\n",
      " 24%|██▎       | 118/500 [2:40:45<8:13:24, 77.50s/it]"
     ]
    },
    {
     "name": "stdout",
     "output_type": "stream",
     "text": [
      "------------------------------\n",
      "Train Loss EPOCH 118: 1.1611\n",
      "Valid Loss EPOCH 118: 1.2975\n",
      "Train Accuracy EPOCH 118: 0.7398\n",
      "Valid Accuracy EPOCH 118: 0.5982\n",
      "------------------------------\n"
     ]
    },
    {
     "name": "stderr",
     "output_type": "stream",
     "text": [
      "100%|██████████| 881/881 [01:12<00:00, 12.16it/s]\n",
      "100%|██████████| 189/189 [00:04<00:00, 43.75it/s]\n",
      " 24%|██▍       | 119/500 [2:42:02<8:11:07, 77.34s/it]"
     ]
    },
    {
     "name": "stdout",
     "output_type": "stream",
     "text": [
      "------------------------------\n",
      "Train Loss EPOCH 119: 1.1535\n",
      "Valid Loss EPOCH 119: 1.2895\n",
      "Train Accuracy EPOCH 119: 0.7479\n",
      "Valid Accuracy EPOCH 119: 0.6095\n",
      "------------------------------\n"
     ]
    },
    {
     "name": "stderr",
     "output_type": "stream",
     "text": [
      "100%|██████████| 881/881 [01:12<00:00, 12.11it/s]\n",
      "100%|██████████| 189/189 [00:04<00:00, 37.85it/s]\n",
      " 24%|██▍       | 120/500 [2:43:20<8:11:06, 77.54s/it]"
     ]
    },
    {
     "name": "stdout",
     "output_type": "stream",
     "text": [
      "------------------------------\n",
      "Train Loss EPOCH 120: 1.1587\n",
      "Valid Loss EPOCH 120: 1.2877\n",
      "Train Accuracy EPOCH 120: 0.7424\n",
      "Valid Accuracy EPOCH 120: 0.6115\n",
      "------------------------------\n"
     ]
    },
    {
     "name": "stderr",
     "output_type": "stream",
     "text": [
      "100%|██████████| 881/881 [01:12<00:00, 12.11it/s]\n",
      "100%|██████████| 189/189 [00:04<00:00, 40.31it/s]\n",
      " 24%|██▍       | 121/500 [2:44:38<8:10:06, 77.59s/it]"
     ]
    },
    {
     "name": "stdout",
     "output_type": "stream",
     "text": [
      "------------------------------\n",
      "Train Loss EPOCH 121: 1.1591\n",
      "Valid Loss EPOCH 121: 1.3045\n",
      "Train Accuracy EPOCH 121: 0.7413\n",
      "Valid Accuracy EPOCH 121: 0.5900\n",
      "------------------------------\n"
     ]
    },
    {
     "name": "stderr",
     "output_type": "stream",
     "text": [
      "100%|██████████| 881/881 [01:11<00:00, 12.26it/s]\n",
      "100%|██████████| 189/189 [00:04<00:00, 38.79it/s]\n",
      " 24%|██▍       | 122/500 [2:45:55<8:07:37, 77.40s/it]"
     ]
    },
    {
     "name": "stdout",
     "output_type": "stream",
     "text": [
      "------------------------------\n",
      "Train Loss EPOCH 122: 1.1540\n",
      "Valid Loss EPOCH 122: 1.3023\n",
      "Train Accuracy EPOCH 122: 0.7470\n",
      "Valid Accuracy EPOCH 122: 0.5949\n",
      "------------------------------\n"
     ]
    },
    {
     "name": "stderr",
     "output_type": "stream",
     "text": [
      "100%|██████████| 881/881 [01:12<00:00, 12.17it/s]\n",
      "100%|██████████| 189/189 [00:04<00:00, 41.51it/s]\n",
      " 25%|██▍       | 123/500 [2:47:12<8:05:55, 77.33s/it]"
     ]
    },
    {
     "name": "stdout",
     "output_type": "stream",
     "text": [
      "------------------------------\n",
      "Train Loss EPOCH 123: 1.1482\n",
      "Valid Loss EPOCH 123: 1.3042\n",
      "Train Accuracy EPOCH 123: 0.7526\n",
      "Valid Accuracy EPOCH 123: 0.5929\n",
      "------------------------------\n"
     ]
    },
    {
     "name": "stderr",
     "output_type": "stream",
     "text": [
      "100%|██████████| 881/881 [01:12<00:00, 12.16it/s]\n",
      "100%|██████████| 189/189 [00:04<00:00, 38.63it/s]\n",
      " 25%|██▍       | 124/500 [2:48:29<8:04:59, 77.39s/it]"
     ]
    },
    {
     "name": "stdout",
     "output_type": "stream",
     "text": [
      "------------------------------\n",
      "Train Loss EPOCH 124: 1.1457\n",
      "Valid Loss EPOCH 124: 1.2994\n",
      "Train Accuracy EPOCH 124: 0.7567\n",
      "Valid Accuracy EPOCH 124: 0.5982\n",
      "------------------------------\n"
     ]
    },
    {
     "name": "stderr",
     "output_type": "stream",
     "text": [
      "100%|██████████| 881/881 [01:12<00:00, 12.19it/s]\n",
      "100%|██████████| 189/189 [00:04<00:00, 38.12it/s]\n",
      " 25%|██▌       | 125/500 [2:49:47<8:03:52, 77.42s/it]"
     ]
    },
    {
     "name": "stdout",
     "output_type": "stream",
     "text": [
      "------------------------------\n",
      "Train Loss EPOCH 125: 1.1510\n",
      "Valid Loss EPOCH 125: 1.3144\n",
      "Train Accuracy EPOCH 125: 0.7498\n",
      "Valid Accuracy EPOCH 125: 0.5807\n",
      "------------------------------\n"
     ]
    },
    {
     "name": "stderr",
     "output_type": "stream",
     "text": [
      "100%|██████████| 881/881 [01:12<00:00, 12.17it/s]\n",
      "100%|██████████| 189/189 [00:04<00:00, 39.11it/s]\n",
      " 25%|██▌       | 126/500 [2:51:04<8:02:38, 77.43s/it]"
     ]
    },
    {
     "name": "stdout",
     "output_type": "stream",
     "text": [
      "------------------------------\n",
      "Train Loss EPOCH 126: 1.1406\n",
      "Valid Loss EPOCH 126: 1.2960\n",
      "Train Accuracy EPOCH 126: 0.7606\n",
      "Valid Accuracy EPOCH 126: 0.6024\n",
      "------------------------------\n"
     ]
    },
    {
     "name": "stderr",
     "output_type": "stream",
     "text": [
      "100%|██████████| 881/881 [01:12<00:00, 12.15it/s]\n",
      "100%|██████████| 189/189 [00:04<00:00, 42.43it/s]\n",
      " 25%|██▌       | 127/500 [2:52:22<8:00:54, 77.36s/it]"
     ]
    },
    {
     "name": "stdout",
     "output_type": "stream",
     "text": [
      "------------------------------\n",
      "Train Loss EPOCH 127: 1.1475\n",
      "Valid Loss EPOCH 127: 1.2948\n",
      "Train Accuracy EPOCH 127: 0.7530\n",
      "Valid Accuracy EPOCH 127: 0.6017\n",
      "------------------------------\n"
     ]
    },
    {
     "name": "stderr",
     "output_type": "stream",
     "text": [
      "100%|██████████| 881/881 [01:12<00:00, 12.22it/s]\n",
      "100%|██████████| 189/189 [00:04<00:00, 39.26it/s]\n",
      " 26%|██▌       | 128/500 [2:53:39<7:59:09, 77.28s/it]"
     ]
    },
    {
     "name": "stdout",
     "output_type": "stream",
     "text": [
      "------------------------------\n",
      "Train Loss EPOCH 128: 1.1346\n",
      "Valid Loss EPOCH 128: 1.2991\n",
      "Train Accuracy EPOCH 128: 0.7656\n",
      "Valid Accuracy EPOCH 128: 0.6001\n",
      "------------------------------\n"
     ]
    },
    {
     "name": "stderr",
     "output_type": "stream",
     "text": [
      "100%|██████████| 881/881 [01:12<00:00, 12.14it/s]\n",
      "100%|██████████| 189/189 [00:04<00:00, 41.16it/s]\n",
      " 26%|██▌       | 129/500 [2:54:56<7:58:02, 77.31s/it]"
     ]
    },
    {
     "name": "stdout",
     "output_type": "stream",
     "text": [
      "------------------------------\n",
      "Train Loss EPOCH 129: 1.1285\n",
      "Valid Loss EPOCH 129: 1.2945\n",
      "Train Accuracy EPOCH 129: 0.7720\n",
      "Valid Accuracy EPOCH 129: 0.6032\n",
      "------------------------------\n"
     ]
    },
    {
     "name": "stderr",
     "output_type": "stream",
     "text": [
      "100%|██████████| 881/881 [01:13<00:00, 12.04it/s]\n",
      "100%|██████████| 189/189 [00:05<00:00, 37.28it/s]\n",
      " 26%|██▌       | 130/500 [2:56:14<7:58:53, 77.66s/it]"
     ]
    },
    {
     "name": "stdout",
     "output_type": "stream",
     "text": [
      "------------------------------\n",
      "Train Loss EPOCH 130: 1.1330\n",
      "Valid Loss EPOCH 130: 1.2882\n",
      "Train Accuracy EPOCH 130: 0.7688\n",
      "Valid Accuracy EPOCH 130: 0.6075\n",
      "------------------------------\n"
     ]
    },
    {
     "name": "stderr",
     "output_type": "stream",
     "text": [
      "100%|██████████| 881/881 [01:14<00:00, 11.82it/s]\n",
      "100%|██████████| 189/189 [00:04<00:00, 40.93it/s]\n",
      " 26%|██▌       | 131/500 [2:57:34<8:00:41, 78.16s/it]"
     ]
    },
    {
     "name": "stdout",
     "output_type": "stream",
     "text": [
      "------------------------------\n",
      "Train Loss EPOCH 131: 1.1331\n",
      "Valid Loss EPOCH 131: 1.2984\n",
      "Train Accuracy EPOCH 131: 0.7682\n",
      "Valid Accuracy EPOCH 131: 0.5972\n",
      "------------------------------\n"
     ]
    },
    {
     "name": "stderr",
     "output_type": "stream",
     "text": [
      "100%|██████████| 881/881 [01:14<00:00, 11.86it/s]\n",
      "100%|██████████| 189/189 [00:04<00:00, 38.63it/s]\n",
      " 26%|██▋       | 132/500 [2:58:53<8:01:40, 78.54s/it]"
     ]
    },
    {
     "name": "stdout",
     "output_type": "stream",
     "text": [
      "------------------------------\n",
      "Train Loss EPOCH 132: 1.1334\n",
      "Valid Loss EPOCH 132: 1.2971\n",
      "Train Accuracy EPOCH 132: 0.7680\n",
      "Valid Accuracy EPOCH 132: 0.5974\n",
      "------------------------------\n"
     ]
    },
    {
     "name": "stderr",
     "output_type": "stream",
     "text": [
      "100%|██████████| 881/881 [01:14<00:00, 11.84it/s]\n",
      "100%|██████████| 189/189 [00:04<00:00, 39.04it/s]\n",
      " 27%|██▋       | 133/500 [3:00:13<8:02:06, 78.82s/it]"
     ]
    },
    {
     "name": "stdout",
     "output_type": "stream",
     "text": [
      "------------------------------\n",
      "Train Loss EPOCH 133: 1.1305\n",
      "Valid Loss EPOCH 133: 1.2877\n",
      "Train Accuracy EPOCH 133: 0.7709\n",
      "Valid Accuracy EPOCH 133: 0.6118\n",
      "------------------------------\n"
     ]
    },
    {
     "name": "stderr",
     "output_type": "stream",
     "text": [
      "100%|██████████| 881/881 [01:13<00:00, 12.04it/s]\n",
      "100%|██████████| 189/189 [00:04<00:00, 39.04it/s]\n",
      " 27%|██▋       | 134/500 [3:01:31<7:59:39, 78.63s/it]"
     ]
    },
    {
     "name": "stdout",
     "output_type": "stream",
     "text": [
      "------------------------------\n",
      "Train Loss EPOCH 134: 1.1227\n",
      "Valid Loss EPOCH 134: 1.3000\n",
      "Train Accuracy EPOCH 134: 0.7785\n",
      "Valid Accuracy EPOCH 134: 0.5972\n",
      "------------------------------\n"
     ]
    },
    {
     "name": "stderr",
     "output_type": "stream",
     "text": [
      "100%|██████████| 881/881 [01:13<00:00, 12.06it/s]\n",
      "100%|██████████| 189/189 [00:04<00:00, 39.45it/s]\n",
      " 27%|██▋       | 135/500 [3:02:49<7:57:19, 78.47s/it]"
     ]
    },
    {
     "name": "stdout",
     "output_type": "stream",
     "text": [
      "------------------------------\n",
      "Train Loss EPOCH 135: 1.1218\n",
      "Valid Loss EPOCH 135: 1.2969\n",
      "Train Accuracy EPOCH 135: 0.7785\n",
      "Valid Accuracy EPOCH 135: 0.6007\n",
      "------------------------------\n"
     ]
    },
    {
     "name": "stderr",
     "output_type": "stream",
     "text": [
      "100%|██████████| 881/881 [01:14<00:00, 11.89it/s]\n",
      "100%|██████████| 189/189 [00:04<00:00, 38.61it/s]\n",
      " 27%|██▋       | 136/500 [3:04:08<7:57:21, 78.69s/it]"
     ]
    },
    {
     "name": "stdout",
     "output_type": "stream",
     "text": [
      "------------------------------\n",
      "Train Loss EPOCH 136: 1.1278\n",
      "Valid Loss EPOCH 136: 1.3209\n",
      "Train Accuracy EPOCH 136: 0.7739\n",
      "Valid Accuracy EPOCH 136: 0.5757\n",
      "------------------------------\n"
     ]
    },
    {
     "name": "stderr",
     "output_type": "stream",
     "text": [
      "100%|██████████| 881/881 [01:14<00:00, 11.88it/s]\n",
      "100%|██████████| 189/189 [00:04<00:00, 38.37it/s]\n"
     ]
    },
    {
     "name": "stdout",
     "output_type": "stream",
     "text": [
      "------------------------------\n",
      "Train Loss EPOCH 137: 1.1225\n",
      "Valid Loss EPOCH 137: 1.2890\n",
      "Train Accuracy EPOCH 137: 0.7789\n",
      "Valid Accuracy EPOCH 137: 0.6055\n",
      "------------------------------\n"
     ]
    },
    {
     "name": "stderr",
     "output_type": "stream",
     "text": [
      "100%|██████████| 881/881 [01:14<00:00, 11.84it/s]/it]\n",
      "100%|██████████| 189/189 [00:04<00:00, 40.73it/s]\n",
      " 28%|██▊       | 138/500 [3:06:47<7:56:35, 78.99s/it]"
     ]
    },
    {
     "name": "stdout",
     "output_type": "stream",
     "text": [
      "------------------------------\n",
      "Train Loss EPOCH 138: 1.1148\n",
      "Valid Loss EPOCH 138: 1.3018\n",
      "Train Accuracy EPOCH 138: 0.7859\n",
      "Valid Accuracy EPOCH 138: 0.5946\n",
      "------------------------------\n"
     ]
    },
    {
     "name": "stderr",
     "output_type": "stream",
     "text": [
      "100%|██████████| 881/881 [01:11<00:00, 12.26it/s]\n",
      "100%|██████████| 189/189 [00:04<00:00, 39.40it/s]\n",
      " 28%|██▊       | 139/500 [3:08:04<7:51:24, 78.35s/it]"
     ]
    },
    {
     "name": "stdout",
     "output_type": "stream",
     "text": [
      "------------------------------\n",
      "Train Loss EPOCH 139: 1.1168\n",
      "Valid Loss EPOCH 139: 1.2871\n",
      "Train Accuracy EPOCH 139: 0.7844\n",
      "Valid Accuracy EPOCH 139: 0.6103\n",
      "------------------------------\n"
     ]
    },
    {
     "name": "stderr",
     "output_type": "stream",
     "text": [
      "100%|██████████| 881/881 [01:14<00:00, 11.88it/s]\n",
      "100%|██████████| 189/189 [00:04<00:00, 39.49it/s]\n",
      " 28%|██▊       | 140/500 [3:09:23<7:51:31, 78.59s/it]"
     ]
    },
    {
     "name": "stdout",
     "output_type": "stream",
     "text": [
      "------------------------------\n",
      "Train Loss EPOCH 140: 1.1181\n",
      "Valid Loss EPOCH 140: 1.2847\n",
      "Train Accuracy EPOCH 140: 0.7835\n",
      "Valid Accuracy EPOCH 140: 0.6125\n",
      "------------------------------\n"
     ]
    },
    {
     "name": "stderr",
     "output_type": "stream",
     "text": [
      "100%|██████████| 881/881 [01:14<00:00, 11.90it/s]\n",
      "100%|██████████| 189/189 [00:04<00:00, 38.88it/s]\n"
     ]
    },
    {
     "name": "stdout",
     "output_type": "stream",
     "text": [
      "------------------------------\n",
      "Train Loss EPOCH 141: 1.1151\n",
      "Valid Loss EPOCH 141: 1.2814\n",
      "Train Accuracy EPOCH 141: 0.7859\n"
     ]
    },
    {
     "name": "stderr",
     "output_type": "stream",
     "text": [
      " 28%|██▊       | 141/500 [3:10:42<7:51:13, 78.76s/it]"
     ]
    },
    {
     "name": "stdout",
     "output_type": "stream",
     "text": [
      "Valid Accuracy EPOCH 141: 0.6123\n",
      "------------------------------\n"
     ]
    },
    {
     "name": "stderr",
     "output_type": "stream",
     "text": [
      "100%|██████████| 881/881 [01:16<00:00, 11.54it/s]\n",
      "100%|██████████| 189/189 [00:05<00:00, 33.71it/s]\n",
      " 28%|██▊       | 142/500 [3:12:04<7:56:01, 79.78s/it]"
     ]
    },
    {
     "name": "stdout",
     "output_type": "stream",
     "text": [
      "------------------------------\n",
      "Train Loss EPOCH 142: 1.1178\n",
      "Valid Loss EPOCH 142: 1.2869\n",
      "Train Accuracy EPOCH 142: 0.7839\n",
      "Valid Accuracy EPOCH 142: 0.6105\n",
      "------------------------------\n"
     ]
    },
    {
     "name": "stderr",
     "output_type": "stream",
     "text": [
      "100%|██████████| 881/881 [01:13<00:00, 11.93it/s]\n",
      "100%|██████████| 189/189 [00:05<00:00, 37.30it/s]\n"
     ]
    },
    {
     "name": "stdout",
     "output_type": "stream",
     "text": [
      "------------------------------\n",
      "Train Loss EPOCH 143: 1.1056\n",
      "Valid Loss EPOCH 143: 1.2813\n",
      "Train Accuracy EPOCH 143: 0.7956\n"
     ]
    },
    {
     "name": "stderr",
     "output_type": "stream",
     "text": [
      " 29%|██▊       | 143/500 [3:13:23<7:53:32, 79.59s/it]"
     ]
    },
    {
     "name": "stdout",
     "output_type": "stream",
     "text": [
      "Valid Accuracy EPOCH 143: 0.6128\n",
      "------------------------------\n"
     ]
    },
    {
     "name": "stderr",
     "output_type": "stream",
     "text": [
      "100%|██████████| 881/881 [01:12<00:00, 12.13it/s]\n",
      "100%|██████████| 189/189 [00:04<00:00, 39.69it/s]\n",
      " 29%|██▉       | 144/500 [3:14:41<7:48:41, 78.99s/it]"
     ]
    },
    {
     "name": "stdout",
     "output_type": "stream",
     "text": [
      "------------------------------\n",
      "Train Loss EPOCH 144: 1.1065\n",
      "Valid Loss EPOCH 144: 1.2924\n",
      "Train Accuracy EPOCH 144: 0.7957\n",
      "Valid Accuracy EPOCH 144: 0.6055\n",
      "------------------------------\n"
     ]
    },
    {
     "name": "stderr",
     "output_type": "stream",
     "text": [
      "100%|██████████| 881/881 [01:12<00:00, 12.10it/s]\n",
      "100%|██████████| 189/189 [00:04<00:00, 38.75it/s]\n"
     ]
    },
    {
     "name": "stdout",
     "output_type": "stream",
     "text": [
      "------------------------------\n",
      "Train Loss EPOCH 145: 1.1132\n",
      "Valid Loss EPOCH 145: 1.2990\n",
      "Train Accuracy EPOCH 145: 0.7883\n"
     ]
    },
    {
     "name": "stderr",
     "output_type": "stream",
     "text": [
      " 29%|██▉       | 145/500 [3:15:59<7:45:28, 78.67s/it]"
     ]
    },
    {
     "name": "stdout",
     "output_type": "stream",
     "text": [
      "Valid Accuracy EPOCH 145: 0.5991\n",
      "------------------------------\n"
     ]
    },
    {
     "name": "stderr",
     "output_type": "stream",
     "text": [
      "100%|██████████| 881/881 [01:12<00:00, 12.19it/s]\n",
      "100%|██████████| 189/189 [00:04<00:00, 39.89it/s]\n",
      " 29%|██▉       | 146/500 [3:17:16<7:41:37, 78.24s/it]"
     ]
    },
    {
     "name": "stdout",
     "output_type": "stream",
     "text": [
      "------------------------------\n",
      "Train Loss EPOCH 146: 1.1067\n",
      "Valid Loss EPOCH 146: 1.2966\n",
      "Train Accuracy EPOCH 146: 0.7951\n",
      "Valid Accuracy EPOCH 146: 0.6004\n",
      "------------------------------\n"
     ]
    },
    {
     "name": "stderr",
     "output_type": "stream",
     "text": [
      "100%|██████████| 881/881 [01:15<00:00, 11.73it/s]\n",
      "100%|██████████| 189/189 [00:04<00:00, 40.76it/s]\n",
      " 29%|██▉       | 147/500 [3:18:36<7:43:20, 78.76s/it]"
     ]
    },
    {
     "name": "stdout",
     "output_type": "stream",
     "text": [
      "------------------------------\n",
      "Train Loss EPOCH 147: 1.1040\n",
      "Valid Loss EPOCH 147: 1.3135\n",
      "Train Accuracy EPOCH 147: 0.7973\n",
      "Valid Accuracy EPOCH 147: 0.5833\n",
      "------------------------------\n"
     ]
    },
    {
     "name": "stderr",
     "output_type": "stream",
     "text": [
      "100%|██████████| 881/881 [01:16<00:00, 11.56it/s]\n",
      "100%|██████████| 189/189 [00:04<00:00, 39.05it/s]\n",
      " 30%|██▉       | 148/500 [3:19:57<7:46:26, 79.51s/it]"
     ]
    },
    {
     "name": "stdout",
     "output_type": "stream",
     "text": [
      "------------------------------\n",
      "Train Loss EPOCH 148: 1.1026\n",
      "Valid Loss EPOCH 148: 1.2863\n",
      "Train Accuracy EPOCH 148: 0.7995\n",
      "Valid Accuracy EPOCH 148: 0.6100\n",
      "------------------------------\n"
     ]
    },
    {
     "name": "stderr",
     "output_type": "stream",
     "text": [
      "100%|██████████| 881/881 [01:14<00:00, 11.90it/s]\n",
      "100%|██████████| 189/189 [00:04<00:00, 38.30it/s]\n",
      " 30%|██▉       | 149/500 [3:21:16<7:44:35, 79.42s/it]"
     ]
    },
    {
     "name": "stdout",
     "output_type": "stream",
     "text": [
      "------------------------------\n",
      "Train Loss EPOCH 149: 1.1156\n",
      "Valid Loss EPOCH 149: 1.2829\n",
      "Train Accuracy EPOCH 149: 0.7872\n",
      "Valid Accuracy EPOCH 149: 0.6148\n",
      "------------------------------\n"
     ]
    },
    {
     "name": "stderr",
     "output_type": "stream",
     "text": [
      "100%|██████████| 881/881 [01:12<00:00, 12.12it/s]\n",
      "100%|██████████| 189/189 [00:04<00:00, 41.84it/s]\n",
      " 30%|███       | 150/500 [3:22:34<7:39:47, 78.82s/it]"
     ]
    },
    {
     "name": "stdout",
     "output_type": "stream",
     "text": [
      "------------------------------\n",
      "Train Loss EPOCH 150: 1.0941\n",
      "Valid Loss EPOCH 150: 1.2789\n",
      "Train Accuracy EPOCH 150: 0.8074\n",
      "Valid Accuracy EPOCH 150: 0.6190\n",
      "------------------------------\n"
     ]
    },
    {
     "name": "stderr",
     "output_type": "stream",
     "text": [
      "100%|██████████| 881/881 [01:12<00:00, 12.13it/s]\n",
      "100%|██████████| 189/189 [00:04<00:00, 42.39it/s]\n",
      " 30%|███       | 151/500 [3:23:51<7:35:46, 78.36s/it]"
     ]
    },
    {
     "name": "stdout",
     "output_type": "stream",
     "text": [
      "------------------------------\n",
      "Train Loss EPOCH 151: 1.0966\n",
      "Valid Loss EPOCH 151: 1.2872\n",
      "Train Accuracy EPOCH 151: 0.8048\n",
      "Valid Accuracy EPOCH 151: 0.6088\n",
      "------------------------------\n"
     ]
    },
    {
     "name": "stderr",
     "output_type": "stream",
     "text": [
      "100%|██████████| 881/881 [01:11<00:00, 12.29it/s]\n",
      "100%|██████████| 189/189 [00:04<00:00, 37.93it/s]\n",
      " 30%|███       | 152/500 [3:25:08<7:31:58, 77.93s/it]"
     ]
    },
    {
     "name": "stdout",
     "output_type": "stream",
     "text": [
      "------------------------------\n",
      "Train Loss EPOCH 152: 1.0957\n",
      "Valid Loss EPOCH 152: 1.2755\n",
      "Train Accuracy EPOCH 152: 0.8056\n",
      "Valid Accuracy EPOCH 152: 0.6223\n",
      "------------------------------\n"
     ]
    },
    {
     "name": "stderr",
     "output_type": "stream",
     "text": [
      "100%|██████████| 881/881 [01:12<00:00, 12.20it/s]\n",
      "100%|██████████| 189/189 [00:05<00:00, 36.66it/s]\n",
      " 31%|███       | 153/500 [3:26:26<7:30:08, 77.83s/it]"
     ]
    },
    {
     "name": "stdout",
     "output_type": "stream",
     "text": [
      "------------------------------\n",
      "Train Loss EPOCH 153: 1.0963\n",
      "Valid Loss EPOCH 153: 1.2841\n",
      "Train Accuracy EPOCH 153: 0.8059\n",
      "Valid Accuracy EPOCH 153: 0.6138\n",
      "------------------------------\n"
     ]
    },
    {
     "name": "stderr",
     "output_type": "stream",
     "text": [
      "100%|██████████| 881/881 [01:12<00:00, 12.13it/s]\n",
      "100%|██████████| 189/189 [00:04<00:00, 38.54it/s]\n",
      " 31%|███       | 154/500 [3:27:43<7:28:39, 77.80s/it]"
     ]
    },
    {
     "name": "stdout",
     "output_type": "stream",
     "text": [
      "------------------------------\n",
      "Train Loss EPOCH 154: 1.0937\n",
      "Valid Loss EPOCH 154: 1.2751\n",
      "Train Accuracy EPOCH 154: 0.8068\n",
      "Valid Accuracy EPOCH 154: 0.6218\n",
      "------------------------------\n"
     ]
    },
    {
     "name": "stderr",
     "output_type": "stream",
     "text": [
      "100%|██████████| 881/881 [01:12<00:00, 12.19it/s]\n",
      "100%|██████████| 189/189 [00:04<00:00, 40.09it/s]\n",
      " 31%|███       | 155/500 [3:29:01<7:26:20, 77.63s/it]"
     ]
    },
    {
     "name": "stdout",
     "output_type": "stream",
     "text": [
      "------------------------------\n",
      "Train Loss EPOCH 155: 1.0878\n",
      "Valid Loss EPOCH 155: 1.2720\n",
      "Train Accuracy EPOCH 155: 0.8148\n",
      "Valid Accuracy EPOCH 155: 0.6277\n",
      "------------------------------\n"
     ]
    },
    {
     "name": "stderr",
     "output_type": "stream",
     "text": [
      "100%|██████████| 881/881 [01:12<00:00, 12.17it/s]\n",
      "100%|██████████| 189/189 [00:04<00:00, 40.37it/s]\n",
      " 31%|███       | 156/500 [3:30:18<7:24:28, 77.52s/it]"
     ]
    },
    {
     "name": "stdout",
     "output_type": "stream",
     "text": [
      "------------------------------\n",
      "Train Loss EPOCH 156: 1.0902\n",
      "Valid Loss EPOCH 156: 1.2848\n",
      "Train Accuracy EPOCH 156: 0.8119\n",
      "Valid Accuracy EPOCH 156: 0.6140\n",
      "------------------------------\n"
     ]
    },
    {
     "name": "stderr",
     "output_type": "stream",
     "text": [
      "100%|██████████| 881/881 [01:12<00:00, 12.19it/s]\n",
      "100%|██████████| 189/189 [00:04<00:00, 37.93it/s]\n",
      " 31%|███▏      | 157/500 [3:31:35<7:23:07, 77.52s/it]"
     ]
    },
    {
     "name": "stdout",
     "output_type": "stream",
     "text": [
      "------------------------------\n",
      "Train Loss EPOCH 157: 1.0922\n",
      "Valid Loss EPOCH 157: 1.2928\n",
      "Train Accuracy EPOCH 157: 0.8097\n",
      "Valid Accuracy EPOCH 157: 0.6052\n",
      "------------------------------\n"
     ]
    },
    {
     "name": "stderr",
     "output_type": "stream",
     "text": [
      "100%|██████████| 881/881 [01:12<00:00, 12.18it/s]\n",
      "100%|██████████| 189/189 [00:04<00:00, 43.43it/s]\n"
     ]
    },
    {
     "name": "stdout",
     "output_type": "stream",
     "text": [
      "------------------------------\n",
      "Train Loss EPOCH 158: 1.0853\n",
      "Valid Loss EPOCH 158: 1.2910\n",
      "Train Accuracy EPOCH 158: 0.8169\n",
      "Valid Accuracy EPOCH 158: 0.6052\n",
      "------------------------------\n"
     ]
    },
    {
     "name": "stderr",
     "output_type": "stream",
     "text": [
      "100%|██████████| 881/881 [01:12<00:00, 12.15it/s]/it]\n",
      "100%|██████████| 189/189 [00:04<00:00, 38.48it/s]\n",
      " 32%|███▏      | 159/500 [3:34:10<7:19:59, 77.42s/it]"
     ]
    },
    {
     "name": "stdout",
     "output_type": "stream",
     "text": [
      "------------------------------\n",
      "Train Loss EPOCH 159: 1.0885\n",
      "Valid Loss EPOCH 159: 1.2813\n",
      "Train Accuracy EPOCH 159: 0.8121\n",
      "Valid Accuracy EPOCH 159: 0.6175\n",
      "------------------------------\n"
     ]
    },
    {
     "name": "stderr",
     "output_type": "stream",
     "text": [
      "100%|██████████| 881/881 [01:15<00:00, 11.70it/s]\n",
      "100%|██████████| 189/189 [00:05<00:00, 35.46it/s]\n",
      " 32%|███▏      | 160/500 [3:35:31<7:24:30, 78.44s/it]"
     ]
    },
    {
     "name": "stdout",
     "output_type": "stream",
     "text": [
      "------------------------------\n",
      "Train Loss EPOCH 160: 1.0849\n",
      "Valid Loss EPOCH 160: 1.2793\n",
      "Train Accuracy EPOCH 160: 0.8181\n",
      "Valid Accuracy EPOCH 160: 0.6181\n",
      "------------------------------\n"
     ]
    },
    {
     "name": "stderr",
     "output_type": "stream",
     "text": [
      "100%|██████████| 881/881 [01:16<00:00, 11.58it/s]\n",
      "100%|██████████| 189/189 [00:04<00:00, 39.04it/s]\n",
      " 32%|███▏      | 161/500 [3:36:52<7:27:48, 79.26s/it]"
     ]
    },
    {
     "name": "stdout",
     "output_type": "stream",
     "text": [
      "------------------------------\n",
      "Train Loss EPOCH 161: 1.0832\n",
      "Valid Loss EPOCH 161: 1.3056\n",
      "Train Accuracy EPOCH 161: 0.8177\n",
      "Valid Accuracy EPOCH 161: 0.5921\n",
      "------------------------------\n"
     ]
    },
    {
     "name": "stderr",
     "output_type": "stream",
     "text": [
      "100%|██████████| 881/881 [01:14<00:00, 11.82it/s]\n",
      "100%|██████████| 189/189 [00:05<00:00, 37.77it/s]\n",
      " 32%|███▏      | 162/500 [3:38:12<7:27:15, 79.40s/it]"
     ]
    },
    {
     "name": "stdout",
     "output_type": "stream",
     "text": [
      "------------------------------\n",
      "Train Loss EPOCH 162: 1.0835\n",
      "Valid Loss EPOCH 162: 1.2790\n",
      "Train Accuracy EPOCH 162: 0.8194\n",
      "Valid Accuracy EPOCH 162: 0.6178\n",
      "------------------------------\n"
     ]
    },
    {
     "name": "stderr",
     "output_type": "stream",
     "text": [
      "100%|██████████| 881/881 [01:14<00:00, 11.88it/s]\n",
      "100%|██████████| 189/189 [00:05<00:00, 37.09it/s]\n"
     ]
    },
    {
     "name": "stdout",
     "output_type": "stream",
     "text": [
      "------------------------------\n",
      "Train Loss EPOCH 163: 1.0776\n",
      "Valid Loss EPOCH 163: 1.2828\n",
      "Train Accuracy EPOCH 163: 0.8239\n",
      "Valid Accuracy EPOCH 163: 0.6153\n",
      "------------------------------\n"
     ]
    },
    {
     "name": "stderr",
     "output_type": "stream",
     "text": [
      "100%|██████████| 881/881 [01:12<00:00, 12.18it/s]/it]\n",
      "100%|██████████| 189/189 [00:04<00:00, 39.95it/s]\n",
      " 33%|███▎      | 164/500 [3:40:48<7:21:15, 78.80s/it]"
     ]
    },
    {
     "name": "stdout",
     "output_type": "stream",
     "text": [
      "------------------------------\n",
      "Train Loss EPOCH 164: 1.0788\n",
      "Valid Loss EPOCH 164: 1.2779\n",
      "Train Accuracy EPOCH 164: 0.8231\n",
      "Valid Accuracy EPOCH 164: 0.6201\n",
      "------------------------------\n"
     ]
    },
    {
     "name": "stderr",
     "output_type": "stream",
     "text": [
      "100%|██████████| 881/881 [01:12<00:00, 12.15it/s]\n",
      "100%|██████████| 189/189 [00:05<00:00, 37.53it/s]\n",
      " 33%|███▎      | 165/500 [3:42:06<7:18:15, 78.50s/it]"
     ]
    },
    {
     "name": "stdout",
     "output_type": "stream",
     "text": [
      "------------------------------\n",
      "Train Loss EPOCH 165: 1.0828\n",
      "Valid Loss EPOCH 165: 1.2837\n",
      "Train Accuracy EPOCH 165: 0.8194\n",
      "Valid Accuracy EPOCH 165: 0.6156\n",
      "------------------------------\n"
     ]
    },
    {
     "name": "stderr",
     "output_type": "stream",
     "text": [
      "100%|██████████| 881/881 [01:13<00:00, 11.93it/s]\n",
      "100%|██████████| 189/189 [00:05<00:00, 37.02it/s]\n",
      " 33%|███▎      | 166/500 [3:43:25<7:18:07, 78.70s/it]"
     ]
    },
    {
     "name": "stdout",
     "output_type": "stream",
     "text": [
      "------------------------------\n",
      "Train Loss EPOCH 166: 1.0779\n",
      "Valid Loss EPOCH 166: 1.2763\n",
      "Train Accuracy EPOCH 166: 0.8244\n",
      "Valid Accuracy EPOCH 166: 0.6194\n",
      "------------------------------\n"
     ]
    },
    {
     "name": "stderr",
     "output_type": "stream",
     "text": [
      "100%|██████████| 881/881 [01:14<00:00, 11.79it/s]\n",
      "100%|██████████| 189/189 [00:04<00:00, 40.39it/s]\n",
      " 33%|███▎      | 167/500 [3:44:45<7:18:24, 78.99s/it]"
     ]
    },
    {
     "name": "stdout",
     "output_type": "stream",
     "text": [
      "------------------------------\n",
      "Train Loss EPOCH 167: 1.0706\n",
      "Valid Loss EPOCH 167: 1.2863\n",
      "Train Accuracy EPOCH 167: 0.8324\n",
      "Valid Accuracy EPOCH 167: 0.6105\n",
      "------------------------------\n"
     ]
    },
    {
     "name": "stderr",
     "output_type": "stream",
     "text": [
      "100%|██████████| 881/881 [01:14<00:00, 11.87it/s]\n",
      "100%|██████████| 189/189 [00:05<00:00, 37.40it/s]\n",
      " 34%|███▎      | 168/500 [3:46:05<7:17:53, 79.14s/it]"
     ]
    },
    {
     "name": "stdout",
     "output_type": "stream",
     "text": [
      "------------------------------\n",
      "Train Loss EPOCH 168: 1.0786\n",
      "Valid Loss EPOCH 168: 1.2871\n",
      "Train Accuracy EPOCH 168: 0.8228\n",
      "Valid Accuracy EPOCH 168: 0.6107\n",
      "------------------------------\n"
     ]
    },
    {
     "name": "stderr",
     "output_type": "stream",
     "text": [
      "100%|██████████| 881/881 [01:20<00:00, 10.91it/s]\n",
      "100%|██████████| 189/189 [00:05<00:00, 36.70it/s]\n",
      " 34%|███▍      | 169/500 [3:47:31<7:28:09, 81.24s/it]"
     ]
    },
    {
     "name": "stdout",
     "output_type": "stream",
     "text": [
      "------------------------------\n",
      "Train Loss EPOCH 169: 1.0754\n",
      "Valid Loss EPOCH 169: 1.2781\n",
      "Train Accuracy EPOCH 169: 0.8263\n",
      "Valid Accuracy EPOCH 169: 0.6219\n",
      "------------------------------\n"
     ]
    },
    {
     "name": "stderr",
     "output_type": "stream",
     "text": [
      "100%|██████████| 881/881 [01:15<00:00, 11.64it/s]\n",
      "100%|██████████| 189/189 [00:05<00:00, 37.37it/s]\n",
      " 34%|███▍      | 170/500 [3:48:52<7:26:20, 81.15s/it]"
     ]
    },
    {
     "name": "stdout",
     "output_type": "stream",
     "text": [
      "------------------------------\n",
      "Train Loss EPOCH 170: 1.0772\n",
      "Valid Loss EPOCH 170: 1.2755\n",
      "Train Accuracy EPOCH 170: 0.8246\n",
      "Valid Accuracy EPOCH 170: 0.6231\n",
      "------------------------------\n"
     ]
    },
    {
     "name": "stderr",
     "output_type": "stream",
     "text": [
      "100%|██████████| 881/881 [01:14<00:00, 11.79it/s]\n",
      "100%|██████████| 189/189 [00:04<00:00, 38.68it/s]\n",
      " 34%|███▍      | 171/500 [3:50:11<7:22:49, 80.76s/it]"
     ]
    },
    {
     "name": "stdout",
     "output_type": "stream",
     "text": [
      "------------------------------\n",
      "Train Loss EPOCH 171: 1.0700\n",
      "Valid Loss EPOCH 171: 1.2774\n",
      "Train Accuracy EPOCH 171: 0.8318\n",
      "Valid Accuracy EPOCH 171: 0.6194\n",
      "------------------------------\n"
     ]
    },
    {
     "name": "stderr",
     "output_type": "stream",
     "text": [
      "100%|██████████| 881/881 [01:14<00:00, 11.77it/s]\n",
      "100%|██████████| 189/189 [00:05<00:00, 37.40it/s]\n",
      " 34%|███▍      | 172/500 [3:51:32<7:20:23, 80.56s/it]"
     ]
    },
    {
     "name": "stdout",
     "output_type": "stream",
     "text": [
      "------------------------------\n",
      "Train Loss EPOCH 172: 1.0644\n",
      "Valid Loss EPOCH 172: 1.2776\n",
      "Train Accuracy EPOCH 172: 0.8368\n",
      "Valid Accuracy EPOCH 172: 0.6201\n",
      "------------------------------\n"
     ]
    },
    {
     "name": "stderr",
     "output_type": "stream",
     "text": [
      "100%|██████████| 881/881 [01:14<00:00, 11.80it/s]\n",
      "100%|██████████| 189/189 [00:05<00:00, 35.98it/s]\n",
      " 35%|███▍      | 173/500 [3:52:52<7:18:23, 80.44s/it]"
     ]
    },
    {
     "name": "stdout",
     "output_type": "stream",
     "text": [
      "------------------------------\n",
      "Train Loss EPOCH 173: 1.0643\n",
      "Valid Loss EPOCH 173: 1.2711\n",
      "Train Accuracy EPOCH 173: 0.8376\n",
      "Valid Accuracy EPOCH 173: 0.6267\n",
      "------------------------------\n"
     ]
    },
    {
     "name": "stderr",
     "output_type": "stream",
     "text": [
      "100%|██████████| 881/881 [01:16<00:00, 11.56it/s]\n",
      "100%|██████████| 189/189 [00:05<00:00, 34.41it/s]\n",
      " 35%|███▍      | 174/500 [3:54:14<7:19:33, 80.90s/it]"
     ]
    },
    {
     "name": "stdout",
     "output_type": "stream",
     "text": [
      "------------------------------\n",
      "Train Loss EPOCH 174: 1.0721\n",
      "Valid Loss EPOCH 174: 1.2793\n",
      "Train Accuracy EPOCH 174: 0.8307\n",
      "Valid Accuracy EPOCH 174: 0.6178\n",
      "------------------------------\n"
     ]
    },
    {
     "name": "stderr",
     "output_type": "stream",
     "text": [
      "100%|██████████| 881/881 [01:14<00:00, 11.83it/s]\n",
      "100%|██████████| 189/189 [00:04<00:00, 38.69it/s]\n",
      " 35%|███▌      | 175/500 [3:55:33<7:16:00, 80.49s/it]"
     ]
    },
    {
     "name": "stdout",
     "output_type": "stream",
     "text": [
      "------------------------------\n",
      "Train Loss EPOCH 175: 1.0689\n",
      "Valid Loss EPOCH 175: 1.2776\n",
      "Train Accuracy EPOCH 175: 0.8335\n",
      "Valid Accuracy EPOCH 175: 0.6219\n",
      "------------------------------\n"
     ]
    },
    {
     "name": "stderr",
     "output_type": "stream",
     "text": [
      "100%|██████████| 881/881 [01:13<00:00, 11.92it/s]\n",
      "100%|██████████| 189/189 [00:05<00:00, 37.39it/s]\n",
      " 35%|███▌      | 176/500 [3:56:52<7:12:33, 80.10s/it]"
     ]
    },
    {
     "name": "stdout",
     "output_type": "stream",
     "text": [
      "------------------------------\n",
      "Train Loss EPOCH 176: 1.0693\n",
      "Valid Loss EPOCH 176: 1.2786\n",
      "Train Accuracy EPOCH 176: 0.8328\n",
      "Valid Accuracy EPOCH 176: 0.6204\n",
      "------------------------------\n"
     ]
    },
    {
     "name": "stderr",
     "output_type": "stream",
     "text": [
      "100%|██████████| 881/881 [01:13<00:00, 11.96it/s]\n",
      "100%|██████████| 189/189 [00:04<00:00, 40.65it/s]\n",
      " 35%|███▌      | 177/500 [3:58:11<7:08:38, 79.62s/it]"
     ]
    },
    {
     "name": "stdout",
     "output_type": "stream",
     "text": [
      "------------------------------\n",
      "Train Loss EPOCH 177: 1.0631\n",
      "Valid Loss EPOCH 177: 1.2851\n",
      "Train Accuracy EPOCH 177: 0.8399\n",
      "Valid Accuracy EPOCH 177: 0.6128\n",
      "------------------------------\n"
     ]
    },
    {
     "name": "stderr",
     "output_type": "stream",
     "text": [
      "100%|██████████| 881/881 [01:14<00:00, 11.86it/s]\n",
      "100%|██████████| 189/189 [00:04<00:00, 37.81it/s]\n"
     ]
    },
    {
     "name": "stdout",
     "output_type": "stream",
     "text": [
      "------------------------------\n",
      "Train Loss EPOCH 178: 1.0608\n",
      "Valid Loss EPOCH 178: 1.2771\n",
      "Train Accuracy EPOCH 178: 0.8415\n"
     ]
    },
    {
     "name": "stderr",
     "output_type": "stream",
     "text": [
      " 36%|███▌      | 178/500 [3:59:30<7:07:08, 79.59s/it]"
     ]
    },
    {
     "name": "stdout",
     "output_type": "stream",
     "text": [
      "Valid Accuracy EPOCH 178: 0.6191\n",
      "------------------------------\n"
     ]
    },
    {
     "name": "stderr",
     "output_type": "stream",
     "text": [
      "100%|██████████| 881/881 [01:21<00:00, 10.84it/s]\n",
      "100%|██████████| 189/189 [00:04<00:00, 38.96it/s]\n",
      " 36%|███▌      | 179/500 [4:00:57<7:16:37, 81.61s/it]"
     ]
    },
    {
     "name": "stdout",
     "output_type": "stream",
     "text": [
      "------------------------------\n",
      "Train Loss EPOCH 179: 1.0567\n",
      "Valid Loss EPOCH 179: 1.2725\n",
      "Train Accuracy EPOCH 179: 0.8461\n",
      "Valid Accuracy EPOCH 179: 0.6266\n",
      "------------------------------\n"
     ]
    },
    {
     "name": "stderr",
     "output_type": "stream",
     "text": [
      "100%|██████████| 881/881 [01:14<00:00, 11.90it/s]\n",
      "100%|██████████| 189/189 [00:04<00:00, 39.27it/s]\n",
      " 36%|███▌      | 180/500 [4:02:16<7:11:10, 80.84s/it]"
     ]
    },
    {
     "name": "stdout",
     "output_type": "stream",
     "text": [
      "------------------------------\n",
      "Train Loss EPOCH 180: 1.0626\n",
      "Valid Loss EPOCH 180: 1.2837\n",
      "Train Accuracy EPOCH 180: 0.8407\n",
      "Valid Accuracy EPOCH 180: 0.6150\n",
      "------------------------------\n"
     ]
    },
    {
     "name": "stderr",
     "output_type": "stream",
     "text": [
      "100%|██████████| 881/881 [01:14<00:00, 11.80it/s]\n",
      "100%|██████████| 189/189 [00:04<00:00, 41.13it/s]\n",
      " 36%|███▌      | 181/500 [4:03:35<7:07:35, 80.42s/it]"
     ]
    },
    {
     "name": "stdout",
     "output_type": "stream",
     "text": [
      "------------------------------\n",
      "Train Loss EPOCH 181: 1.0571\n",
      "Valid Loss EPOCH 181: 1.2844\n",
      "Train Accuracy EPOCH 181: 0.8458\n",
      "Valid Accuracy EPOCH 181: 0.6130\n",
      "------------------------------\n"
     ]
    },
    {
     "name": "stderr",
     "output_type": "stream",
     "text": [
      "100%|██████████| 881/881 [01:15<00:00, 11.74it/s]\n",
      "100%|██████████| 189/189 [00:04<00:00, 40.12it/s]\n",
      " 36%|███▋      | 182/500 [4:04:55<7:05:30, 80.28s/it]"
     ]
    },
    {
     "name": "stdout",
     "output_type": "stream",
     "text": [
      "------------------------------\n",
      "Train Loss EPOCH 182: 1.0579\n",
      "Valid Loss EPOCH 182: 1.2825\n",
      "Train Accuracy EPOCH 182: 0.8441\n",
      "Valid Accuracy EPOCH 182: 0.6153\n",
      "------------------------------\n"
     ]
    },
    {
     "name": "stderr",
     "output_type": "stream",
     "text": [
      "100%|██████████| 881/881 [01:16<00:00, 11.57it/s]\n",
      "100%|██████████| 189/189 [00:05<00:00, 36.05it/s]\n",
      " 37%|███▋      | 183/500 [4:06:17<7:06:16, 80.68s/it]"
     ]
    },
    {
     "name": "stdout",
     "output_type": "stream",
     "text": [
      "------------------------------\n",
      "Train Loss EPOCH 183: 1.0552\n",
      "Valid Loss EPOCH 183: 1.2743\n",
      "Train Accuracy EPOCH 183: 0.8469\n",
      "Valid Accuracy EPOCH 183: 0.6243\n",
      "------------------------------\n"
     ]
    },
    {
     "name": "stderr",
     "output_type": "stream",
     "text": [
      "100%|██████████| 881/881 [01:13<00:00, 12.00it/s]\n",
      "100%|██████████| 189/189 [00:04<00:00, 39.76it/s]\n",
      " 37%|███▋      | 184/500 [4:07:35<7:01:15, 79.99s/it]"
     ]
    },
    {
     "name": "stdout",
     "output_type": "stream",
     "text": [
      "------------------------------\n",
      "Train Loss EPOCH 184: 1.0578\n",
      "Valid Loss EPOCH 184: 1.2908\n",
      "Train Accuracy EPOCH 184: 0.8436\n",
      "Valid Accuracy EPOCH 184: 0.6054\n",
      "------------------------------\n"
     ]
    },
    {
     "name": "stderr",
     "output_type": "stream",
     "text": [
      "100%|██████████| 881/881 [01:13<00:00, 12.06it/s]\n",
      "100%|██████████| 189/189 [00:05<00:00, 35.06it/s]\n",
      " 37%|███▋      | 185/500 [4:08:54<6:57:53, 79.60s/it]"
     ]
    },
    {
     "name": "stdout",
     "output_type": "stream",
     "text": [
      "------------------------------\n",
      "Train Loss EPOCH 185: 1.0563\n",
      "Valid Loss EPOCH 185: 1.2699\n",
      "Train Accuracy EPOCH 185: 0.8460\n",
      "Valid Accuracy EPOCH 185: 0.6291\n",
      "------------------------------\n"
     ]
    },
    {
     "name": "stderr",
     "output_type": "stream",
     "text": [
      "100%|██████████| 881/881 [01:13<00:00, 11.93it/s]\n",
      "100%|██████████| 189/189 [00:04<00:00, 38.21it/s]\n",
      " 37%|███▋      | 186/500 [4:10:13<6:55:42, 79.43s/it]"
     ]
    },
    {
     "name": "stdout",
     "output_type": "stream",
     "text": [
      "------------------------------\n",
      "Train Loss EPOCH 186: 1.0542\n",
      "Valid Loss EPOCH 186: 1.2797\n",
      "Train Accuracy EPOCH 186: 0.8489\n",
      "Valid Accuracy EPOCH 186: 0.6196\n",
      "------------------------------\n"
     ]
    },
    {
     "name": "stderr",
     "output_type": "stream",
     "text": [
      "100%|██████████| 881/881 [01:12<00:00, 12.17it/s]\n",
      "100%|██████████| 189/189 [00:04<00:00, 40.13it/s]\n",
      " 37%|███▋      | 187/500 [4:11:30<6:51:03, 78.80s/it]"
     ]
    },
    {
     "name": "stdout",
     "output_type": "stream",
     "text": [
      "------------------------------\n",
      "Train Loss EPOCH 187: 1.0536\n",
      "Valid Loss EPOCH 187: 1.2779\n",
      "Train Accuracy EPOCH 187: 0.8494\n",
      "Valid Accuracy EPOCH 187: 0.6201\n",
      "------------------------------\n"
     ]
    },
    {
     "name": "stderr",
     "output_type": "stream",
     "text": [
      "100%|██████████| 881/881 [01:12<00:00, 12.15it/s]\n",
      "100%|██████████| 189/189 [00:04<00:00, 40.17it/s]\n",
      " 38%|███▊      | 188/500 [4:12:48<6:47:39, 78.39s/it]"
     ]
    },
    {
     "name": "stdout",
     "output_type": "stream",
     "text": [
      "------------------------------\n",
      "Train Loss EPOCH 188: 1.0587\n",
      "Valid Loss EPOCH 188: 1.2753\n",
      "Train Accuracy EPOCH 188: 0.8431\n",
      "Valid Accuracy EPOCH 188: 0.6231\n",
      "------------------------------\n"
     ]
    },
    {
     "name": "stderr",
     "output_type": "stream",
     "text": [
      "100%|██████████| 881/881 [01:12<00:00, 12.22it/s]\n",
      "100%|██████████| 189/189 [00:04<00:00, 39.52it/s]\n",
      " 38%|███▊      | 189/500 [4:14:05<6:44:18, 78.00s/it]"
     ]
    },
    {
     "name": "stdout",
     "output_type": "stream",
     "text": [
      "------------------------------\n",
      "Train Loss EPOCH 189: 1.0499\n",
      "Valid Loss EPOCH 189: 1.2727\n",
      "Train Accuracy EPOCH 189: 0.8529\n",
      "Valid Accuracy EPOCH 189: 0.6269\n",
      "------------------------------\n"
     ]
    },
    {
     "name": "stderr",
     "output_type": "stream",
     "text": [
      "100%|██████████| 881/881 [01:12<00:00, 12.14it/s]\n",
      "100%|██████████| 189/189 [00:04<00:00, 40.01it/s]\n",
      " 38%|███▊      | 190/500 [4:15:22<6:42:14, 77.85s/it]"
     ]
    },
    {
     "name": "stdout",
     "output_type": "stream",
     "text": [
      "------------------------------\n",
      "Train Loss EPOCH 190: 1.0616\n",
      "Valid Loss EPOCH 190: 1.2705\n",
      "Train Accuracy EPOCH 190: 0.8415\n",
      "Valid Accuracy EPOCH 190: 0.6287\n",
      "------------------------------\n"
     ]
    },
    {
     "name": "stderr",
     "output_type": "stream",
     "text": [
      "100%|██████████| 881/881 [01:12<00:00, 12.14it/s]\n",
      "100%|██████████| 189/189 [00:04<00:00, 39.26it/s]\n",
      " 38%|███▊      | 191/500 [4:16:40<6:40:33, 77.78s/it]"
     ]
    },
    {
     "name": "stdout",
     "output_type": "stream",
     "text": [
      "------------------------------\n",
      "Train Loss EPOCH 191: 1.0459\n",
      "Valid Loss EPOCH 191: 1.2741\n",
      "Train Accuracy EPOCH 191: 0.8569\n",
      "Valid Accuracy EPOCH 191: 0.6243\n",
      "------------------------------\n"
     ]
    },
    {
     "name": "stderr",
     "output_type": "stream",
     "text": [
      "100%|██████████| 881/881 [01:12<00:00, 12.10it/s]\n",
      "100%|██████████| 189/189 [00:04<00:00, 39.76it/s]\n",
      " 38%|███▊      | 192/500 [4:17:58<6:39:15, 77.78s/it]"
     ]
    },
    {
     "name": "stdout",
     "output_type": "stream",
     "text": [
      "------------------------------\n",
      "Train Loss EPOCH 192: 1.0468\n",
      "Valid Loss EPOCH 192: 1.2867\n",
      "Train Accuracy EPOCH 192: 0.8560\n",
      "Valid Accuracy EPOCH 192: 0.6133\n",
      "------------------------------\n"
     ]
    },
    {
     "name": "stderr",
     "output_type": "stream",
     "text": [
      "100%|██████████| 881/881 [01:12<00:00, 12.21it/s]\n",
      "100%|██████████| 189/189 [00:04<00:00, 43.22it/s]\n",
      " 39%|███▊      | 193/500 [4:19:14<6:36:24, 77.47s/it]"
     ]
    },
    {
     "name": "stdout",
     "output_type": "stream",
     "text": [
      "------------------------------\n",
      "Train Loss EPOCH 193: 1.0485\n",
      "Valid Loss EPOCH 193: 1.2724\n",
      "Train Accuracy EPOCH 193: 0.8547\n",
      "Valid Accuracy EPOCH 193: 0.6267\n",
      "------------------------------\n"
     ]
    },
    {
     "name": "stderr",
     "output_type": "stream",
     "text": [
      "100%|██████████| 881/881 [01:12<00:00, 12.16it/s]\n",
      "100%|██████████| 189/189 [00:04<00:00, 38.49it/s]\n",
      " 39%|███▉      | 194/500 [4:20:32<6:35:19, 77.51s/it]"
     ]
    },
    {
     "name": "stdout",
     "output_type": "stream",
     "text": [
      "------------------------------\n",
      "Train Loss EPOCH 194: 1.0444\n",
      "Valid Loss EPOCH 194: 1.2856\n",
      "Train Accuracy EPOCH 194: 0.8580\n",
      "Valid Accuracy EPOCH 194: 0.6130\n",
      "------------------------------\n"
     ]
    },
    {
     "name": "stderr",
     "output_type": "stream",
     "text": [
      "100%|██████████| 881/881 [01:12<00:00, 12.21it/s]\n",
      "100%|██████████| 189/189 [00:04<00:00, 39.88it/s]\n"
     ]
    },
    {
     "name": "stdout",
     "output_type": "stream",
     "text": [
      "------------------------------\n",
      "Train Loss EPOCH 195: 1.0472\n",
      "Valid Loss EPOCH 195: 1.2833\n",
      "Train Accuracy EPOCH 195: 0.8550\n",
      "Valid Accuracy EPOCH 195: 0.6141\n",
      "------------------------------\n"
     ]
    },
    {
     "name": "stderr",
     "output_type": "stream",
     "text": [
      "100%|██████████| 881/881 [01:12<00:00, 12.16it/s]/it]\n",
      "100%|██████████| 189/189 [00:04<00:00, 40.17it/s]\n",
      " 39%|███▉      | 196/500 [4:23:07<6:32:05, 77.39s/it]"
     ]
    },
    {
     "name": "stdout",
     "output_type": "stream",
     "text": [
      "------------------------------\n",
      "Train Loss EPOCH 196: 1.0493\n",
      "Valid Loss EPOCH 196: 1.2787\n",
      "Train Accuracy EPOCH 196: 0.8534\n",
      "Valid Accuracy EPOCH 196: 0.6176\n",
      "------------------------------\n"
     ]
    },
    {
     "name": "stderr",
     "output_type": "stream",
     "text": [
      "100%|██████████| 881/881 [01:11<00:00, 12.24it/s]\n",
      "100%|██████████| 189/189 [00:04<00:00, 38.33it/s]\n",
      " 39%|███▉      | 197/500 [4:24:24<6:30:25, 77.31s/it]"
     ]
    },
    {
     "name": "stdout",
     "output_type": "stream",
     "text": [
      "------------------------------\n",
      "Train Loss EPOCH 197: 1.0402\n",
      "Valid Loss EPOCH 197: 1.2881\n",
      "Train Accuracy EPOCH 197: 0.8624\n",
      "Valid Accuracy EPOCH 197: 0.6080\n",
      "------------------------------\n"
     ]
    },
    {
     "name": "stderr",
     "output_type": "stream",
     "text": [
      "100%|██████████| 881/881 [01:12<00:00, 12.17it/s]\n",
      "100%|██████████| 189/189 [00:04<00:00, 41.66it/s]\n",
      " 40%|███▉      | 198/500 [4:25:41<6:28:51, 77.26s/it]"
     ]
    },
    {
     "name": "stdout",
     "output_type": "stream",
     "text": [
      "------------------------------\n",
      "Train Loss EPOCH 198: 1.0422\n",
      "Valid Loss EPOCH 198: 1.2694\n",
      "Train Accuracy EPOCH 198: 0.8598\n",
      "Valid Accuracy EPOCH 198: 0.6289\n",
      "------------------------------\n"
     ]
    },
    {
     "name": "stderr",
     "output_type": "stream",
     "text": [
      "100%|██████████| 881/881 [01:13<00:00, 12.06it/s]\n",
      "100%|██████████| 189/189 [00:04<00:00, 40.60it/s]\n"
     ]
    },
    {
     "name": "stdout",
     "output_type": "stream",
     "text": [
      "------------------------------\n",
      "Train Loss EPOCH 199: 1.0487\n",
      "Valid Loss EPOCH 199: 1.2722\n",
      "Train Accuracy EPOCH 199: 0.8533\n"
     ]
    },
    {
     "name": "stderr",
     "output_type": "stream",
     "text": [
      " 40%|███▉      | 199/500 [4:26:59<6:28:37, 77.47s/it]"
     ]
    },
    {
     "name": "stdout",
     "output_type": "stream",
     "text": [
      "Valid Accuracy EPOCH 199: 0.6264\n",
      "------------------------------\n"
     ]
    },
    {
     "name": "stderr",
     "output_type": "stream",
     "text": [
      "100%|██████████| 881/881 [01:12<00:00, 12.13it/s]\n",
      "100%|██████████| 189/189 [00:04<00:00, 39.56it/s]\n"
     ]
    },
    {
     "name": "stdout",
     "output_type": "stream",
     "text": [
      "------------------------------\n",
      "Train Loss EPOCH 200: 1.0413\n",
      "Valid Loss EPOCH 200: 1.2788\n",
      "Train Accuracy EPOCH 200: 0.8612\n"
     ]
    },
    {
     "name": "stderr",
     "output_type": "stream",
     "text": [
      " 40%|████      | 200/500 [4:28:16<6:27:38, 77.53s/it]"
     ]
    },
    {
     "name": "stdout",
     "output_type": "stream",
     "text": [
      "Valid Accuracy EPOCH 200: 0.6193\n",
      "------------------------------\n"
     ]
    },
    {
     "name": "stderr",
     "output_type": "stream",
     "text": [
      "100%|██████████| 881/881 [01:12<00:00, 12.16it/s]\n",
      "100%|██████████| 189/189 [00:04<00:00, 40.02it/s]\n",
      " 40%|████      | 201/500 [4:29:34<6:26:08, 77.49s/it]"
     ]
    },
    {
     "name": "stdout",
     "output_type": "stream",
     "text": [
      "------------------------------\n",
      "Train Loss EPOCH 201: 1.0463\n",
      "Valid Loss EPOCH 201: 1.2842\n",
      "Train Accuracy EPOCH 201: 0.8564\n",
      "Valid Accuracy EPOCH 201: 0.6137\n",
      "------------------------------\n"
     ]
    },
    {
     "name": "stderr",
     "output_type": "stream",
     "text": [
      "100%|██████████| 881/881 [01:12<00:00, 12.21it/s]\n",
      "100%|██████████| 189/189 [00:04<00:00, 38.04it/s]\n",
      " 40%|████      | 202/500 [4:30:51<6:24:37, 77.44s/it]"
     ]
    },
    {
     "name": "stdout",
     "output_type": "stream",
     "text": [
      "------------------------------\n",
      "Train Loss EPOCH 202: 1.0422\n",
      "Valid Loss EPOCH 202: 1.2839\n",
      "Train Accuracy EPOCH 202: 0.8598\n",
      "Valid Accuracy EPOCH 202: 0.6146\n",
      "------------------------------\n"
     ]
    },
    {
     "name": "stderr",
     "output_type": "stream",
     "text": [
      "100%|██████████| 881/881 [01:12<00:00, 12.14it/s]\n",
      "100%|██████████| 189/189 [00:04<00:00, 39.13it/s]\n",
      " 41%|████      | 203/500 [4:32:09<6:23:37, 77.50s/it]"
     ]
    },
    {
     "name": "stdout",
     "output_type": "stream",
     "text": [
      "------------------------------\n",
      "Train Loss EPOCH 203: 1.0369\n",
      "Valid Loss EPOCH 203: 1.2635\n",
      "Train Accuracy EPOCH 203: 0.8645\n",
      "Valid Accuracy EPOCH 203: 0.6342\n",
      "------------------------------\n"
     ]
    },
    {
     "name": "stderr",
     "output_type": "stream",
     "text": [
      "100%|██████████| 881/881 [01:12<00:00, 12.18it/s]\n",
      "100%|██████████| 189/189 [00:04<00:00, 39.89it/s]\n",
      " 41%|████      | 204/500 [4:33:26<6:22:01, 77.44s/it]"
     ]
    },
    {
     "name": "stdout",
     "output_type": "stream",
     "text": [
      "------------------------------\n",
      "Train Loss EPOCH 204: 1.0431\n",
      "Valid Loss EPOCH 204: 1.2848\n",
      "Train Accuracy EPOCH 204: 0.8594\n",
      "Valid Accuracy EPOCH 204: 0.6135\n",
      "------------------------------\n"
     ]
    },
    {
     "name": "stderr",
     "output_type": "stream",
     "text": [
      "100%|██████████| 881/881 [01:12<00:00, 12.19it/s]\n",
      "100%|██████████| 189/189 [00:04<00:00, 40.89it/s]\n",
      " 41%|████      | 205/500 [4:34:43<6:20:15, 77.34s/it]"
     ]
    },
    {
     "name": "stdout",
     "output_type": "stream",
     "text": [
      "------------------------------\n",
      "Train Loss EPOCH 205: 1.0359\n",
      "Valid Loss EPOCH 205: 1.2911\n",
      "Train Accuracy EPOCH 205: 0.8666\n",
      "Valid Accuracy EPOCH 205: 0.6064\n",
      "------------------------------\n"
     ]
    },
    {
     "name": "stderr",
     "output_type": "stream",
     "text": [
      "100%|██████████| 881/881 [01:12<00:00, 12.11it/s]\n",
      "100%|██████████| 189/189 [00:04<00:00, 41.29it/s]\n",
      " 41%|████      | 206/500 [4:36:01<6:19:18, 77.41s/it]"
     ]
    },
    {
     "name": "stdout",
     "output_type": "stream",
     "text": [
      "------------------------------\n",
      "Train Loss EPOCH 206: 1.0389\n",
      "Valid Loss EPOCH 206: 1.2714\n",
      "Train Accuracy EPOCH 206: 0.8636\n",
      "Valid Accuracy EPOCH 206: 0.6279\n",
      "------------------------------\n"
     ]
    },
    {
     "name": "stderr",
     "output_type": "stream",
     "text": [
      "100%|██████████| 881/881 [01:12<00:00, 12.14it/s]\n",
      "100%|██████████| 189/189 [00:04<00:00, 38.44it/s]\n",
      " 41%|████▏     | 207/500 [4:37:19<6:18:28, 77.50s/it]"
     ]
    },
    {
     "name": "stdout",
     "output_type": "stream",
     "text": [
      "------------------------------\n",
      "Train Loss EPOCH 207: 1.0374\n",
      "Valid Loss EPOCH 207: 1.2757\n",
      "Train Accuracy EPOCH 207: 0.8646\n",
      "Valid Accuracy EPOCH 207: 0.6223\n",
      "------------------------------\n"
     ]
    },
    {
     "name": "stderr",
     "output_type": "stream",
     "text": [
      "100%|██████████| 881/881 [01:12<00:00, 12.11it/s]\n",
      "100%|██████████| 189/189 [00:05<00:00, 37.64it/s]\n",
      " 42%|████▏     | 208/500 [4:38:37<6:17:55, 77.66s/it]"
     ]
    },
    {
     "name": "stdout",
     "output_type": "stream",
     "text": [
      "------------------------------\n",
      "Train Loss EPOCH 208: 1.0325\n",
      "Valid Loss EPOCH 208: 1.2663\n",
      "Train Accuracy EPOCH 208: 0.8696\n",
      "Valid Accuracy EPOCH 208: 0.6332\n",
      "------------------------------\n"
     ]
    },
    {
     "name": "stderr",
     "output_type": "stream",
     "text": [
      "100%|██████████| 881/881 [01:12<00:00, 12.13it/s]\n",
      "100%|██████████| 189/189 [00:04<00:00, 40.24it/s]\n",
      " 42%|████▏     | 209/500 [4:39:54<6:16:28, 77.62s/it]"
     ]
    },
    {
     "name": "stdout",
     "output_type": "stream",
     "text": [
      "------------------------------\n",
      "Train Loss EPOCH 209: 1.0329\n",
      "Valid Loss EPOCH 209: 1.2810\n",
      "Train Accuracy EPOCH 209: 0.8697\n",
      "Valid Accuracy EPOCH 209: 0.6170\n",
      "------------------------------\n"
     ]
    },
    {
     "name": "stderr",
     "output_type": "stream",
     "text": [
      "100%|██████████| 881/881 [01:12<00:00, 12.19it/s]\n",
      "100%|██████████| 189/189 [00:04<00:00, 40.35it/s]\n",
      " 42%|████▏     | 210/500 [4:41:11<6:14:30, 77.48s/it]"
     ]
    },
    {
     "name": "stdout",
     "output_type": "stream",
     "text": [
      "------------------------------\n",
      "Train Loss EPOCH 210: 1.0379\n",
      "Valid Loss EPOCH 210: 1.2692\n",
      "Train Accuracy EPOCH 210: 0.8640\n",
      "Valid Accuracy EPOCH 210: 0.6317\n",
      "------------------------------\n"
     ]
    },
    {
     "name": "stderr",
     "output_type": "stream",
     "text": [
      "100%|██████████| 881/881 [01:12<00:00, 12.09it/s]\n",
      "100%|██████████| 189/189 [00:04<00:00, 38.02it/s]\n",
      " 42%|████▏     | 211/500 [4:42:29<6:14:01, 77.65s/it]"
     ]
    },
    {
     "name": "stdout",
     "output_type": "stream",
     "text": [
      "------------------------------\n",
      "Train Loss EPOCH 211: 1.0385\n",
      "Valid Loss EPOCH 211: 1.2600\n",
      "Train Accuracy EPOCH 211: 0.8642\n",
      "Valid Accuracy EPOCH 211: 0.6367\n",
      "------------------------------\n"
     ]
    },
    {
     "name": "stderr",
     "output_type": "stream",
     "text": [
      "100%|██████████| 881/881 [01:12<00:00, 12.12it/s]\n",
      "100%|██████████| 189/189 [00:04<00:00, 43.34it/s]\n",
      " 42%|████▏     | 212/500 [4:43:47<6:12:09, 77.53s/it]"
     ]
    },
    {
     "name": "stdout",
     "output_type": "stream",
     "text": [
      "------------------------------\n",
      "Train Loss EPOCH 212: 1.0359\n",
      "Valid Loss EPOCH 212: 1.2741\n",
      "Train Accuracy EPOCH 212: 0.8670\n",
      "Valid Accuracy EPOCH 212: 0.6241\n",
      "------------------------------\n"
     ]
    },
    {
     "name": "stderr",
     "output_type": "stream",
     "text": [
      "100%|██████████| 881/881 [01:13<00:00, 12.05it/s]\n",
      "100%|██████████| 189/189 [00:04<00:00, 39.49it/s]\n"
     ]
    },
    {
     "name": "stdout",
     "output_type": "stream",
     "text": [
      "------------------------------\n",
      "Train Loss EPOCH 213: 1.0346\n",
      "Valid Loss EPOCH 213: 1.2647\n",
      "Train Accuracy EPOCH 213: 0.8680\n"
     ]
    },
    {
     "name": "stderr",
     "output_type": "stream",
     "text": [
      " 43%|████▎     | 213/500 [4:45:05<6:11:41, 77.71s/it]"
     ]
    },
    {
     "name": "stdout",
     "output_type": "stream",
     "text": [
      "Valid Accuracy EPOCH 213: 0.6359\n",
      "------------------------------\n"
     ]
    },
    {
     "name": "stderr",
     "output_type": "stream",
     "text": [
      "100%|██████████| 881/881 [01:12<00:00, 12.14it/s]\n",
      "100%|██████████| 189/189 [00:04<00:00, 39.44it/s]\n",
      " 43%|████▎     | 214/500 [4:46:22<6:10:11, 77.66s/it]"
     ]
    },
    {
     "name": "stdout",
     "output_type": "stream",
     "text": [
      "------------------------------\n",
      "Train Loss EPOCH 214: 1.0369\n",
      "Valid Loss EPOCH 214: 1.2748\n",
      "Train Accuracy EPOCH 214: 0.8655\n",
      "Valid Accuracy EPOCH 214: 0.6204\n",
      "------------------------------\n"
     ]
    },
    {
     "name": "stderr",
     "output_type": "stream",
     "text": [
      "100%|██████████| 881/881 [01:13<00:00, 12.05it/s]\n",
      "100%|██████████| 189/189 [00:04<00:00, 38.73it/s]\n"
     ]
    },
    {
     "name": "stdout",
     "output_type": "stream",
     "text": [
      "------------------------------\n",
      "Train Loss EPOCH 215: 1.0334\n",
      "Valid Loss EPOCH 215: 1.2721\n",
      "Train Accuracy EPOCH 215: 0.8689\n"
     ]
    },
    {
     "name": "stderr",
     "output_type": "stream",
     "text": [
      " 43%|████▎     | 215/500 [4:47:40<6:09:39, 77.82s/it]"
     ]
    },
    {
     "name": "stdout",
     "output_type": "stream",
     "text": [
      "Valid Accuracy EPOCH 215: 0.6274\n",
      "------------------------------\n"
     ]
    },
    {
     "name": "stderr",
     "output_type": "stream",
     "text": [
      "100%|██████████| 881/881 [01:12<00:00, 12.17it/s]\n",
      "100%|██████████| 189/189 [00:04<00:00, 38.39it/s]\n"
     ]
    },
    {
     "name": "stdout",
     "output_type": "stream",
     "text": [
      "------------------------------\n",
      "Train Loss EPOCH 216: 1.0333\n",
      "Valid Loss EPOCH 216: 1.2706\n",
      "Train Accuracy EPOCH 216: 0.8690\n"
     ]
    },
    {
     "name": "stderr",
     "output_type": "stream",
     "text": [
      " 43%|████▎     | 216/500 [4:48:58<6:07:58, 77.74s/it]"
     ]
    },
    {
     "name": "stdout",
     "output_type": "stream",
     "text": [
      "Valid Accuracy EPOCH 216: 0.6271\n",
      "------------------------------\n"
     ]
    },
    {
     "name": "stderr",
     "output_type": "stream",
     "text": [
      "100%|██████████| 881/881 [01:12<00:00, 12.15it/s]\n",
      "100%|██████████| 189/189 [00:04<00:00, 38.47it/s]\n",
      " 43%|████▎     | 217/500 [4:50:16<6:06:29, 77.70s/it]"
     ]
    },
    {
     "name": "stdout",
     "output_type": "stream",
     "text": [
      "------------------------------\n",
      "Train Loss EPOCH 217: 1.0317\n",
      "Valid Loss EPOCH 217: 1.2670\n",
      "Train Accuracy EPOCH 217: 0.8706\n",
      "Valid Accuracy EPOCH 217: 0.6319\n",
      "------------------------------\n"
     ]
    },
    {
     "name": "stderr",
     "output_type": "stream",
     "text": [
      "100%|██████████| 881/881 [01:12<00:00, 12.12it/s]\n",
      "100%|██████████| 189/189 [00:04<00:00, 39.00it/s]\n",
      " 44%|████▎     | 218/500 [4:51:33<6:05:19, 77.73s/it]"
     ]
    },
    {
     "name": "stdout",
     "output_type": "stream",
     "text": [
      "------------------------------\n",
      "Train Loss EPOCH 218: 1.0251\n",
      "Valid Loss EPOCH 218: 1.2750\n",
      "Train Accuracy EPOCH 218: 0.8774\n",
      "Valid Accuracy EPOCH 218: 0.6198\n",
      "------------------------------\n"
     ]
    },
    {
     "name": "stderr",
     "output_type": "stream",
     "text": [
      "100%|██████████| 881/881 [01:13<00:00, 12.02it/s]\n",
      "100%|██████████| 189/189 [00:04<00:00, 39.52it/s]\n",
      " 44%|████▍     | 219/500 [4:52:52<6:04:49, 77.90s/it]"
     ]
    },
    {
     "name": "stdout",
     "output_type": "stream",
     "text": [
      "------------------------------\n",
      "Train Loss EPOCH 219: 1.0286\n",
      "Valid Loss EPOCH 219: 1.2666\n",
      "Train Accuracy EPOCH 219: 0.8744\n",
      "Valid Accuracy EPOCH 219: 0.6322\n",
      "------------------------------\n"
     ]
    },
    {
     "name": "stderr",
     "output_type": "stream",
     "text": [
      "100%|██████████| 881/881 [01:12<00:00, 12.17it/s]\n",
      "100%|██████████| 189/189 [00:04<00:00, 40.29it/s]\n",
      " 44%|████▍     | 220/500 [4:54:09<6:02:41, 77.72s/it]"
     ]
    },
    {
     "name": "stdout",
     "output_type": "stream",
     "text": [
      "------------------------------\n",
      "Train Loss EPOCH 220: 1.0306\n",
      "Valid Loss EPOCH 220: 1.2794\n",
      "Train Accuracy EPOCH 220: 0.8727\n",
      "Valid Accuracy EPOCH 220: 0.6170\n",
      "------------------------------\n"
     ]
    },
    {
     "name": "stderr",
     "output_type": "stream",
     "text": [
      "100%|██████████| 881/881 [01:12<00:00, 12.11it/s]\n",
      "100%|██████████| 189/189 [00:04<00:00, 40.14it/s]\n"
     ]
    },
    {
     "name": "stdout",
     "output_type": "stream",
     "text": [
      "------------------------------\n",
      "Train Loss EPOCH 221: 1.0209\n",
      "Valid Loss EPOCH 221: 1.2666\n",
      "Train Accuracy EPOCH 221: 0.8818\n"
     ]
    },
    {
     "name": "stderr",
     "output_type": "stream",
     "text": [
      " 44%|████▍     | 221/500 [4:55:27<6:01:23, 77.72s/it]"
     ]
    },
    {
     "name": "stdout",
     "output_type": "stream",
     "text": [
      "Valid Accuracy EPOCH 221: 0.6322\n",
      "------------------------------\n"
     ]
    },
    {
     "name": "stderr",
     "output_type": "stream",
     "text": [
      "100%|██████████| 881/881 [01:12<00:00, 12.22it/s]\n",
      "100%|██████████| 189/189 [00:04<00:00, 41.10it/s]\n",
      " 44%|████▍     | 222/500 [4:56:44<5:58:57, 77.47s/it]"
     ]
    },
    {
     "name": "stdout",
     "output_type": "stream",
     "text": [
      "------------------------------\n",
      "Train Loss EPOCH 222: 1.0256\n",
      "Valid Loss EPOCH 222: 1.2801\n",
      "Train Accuracy EPOCH 222: 0.8771\n",
      "Valid Accuracy EPOCH 222: 0.6188\n",
      "------------------------------\n"
     ]
    },
    {
     "name": "stderr",
     "output_type": "stream",
     "text": [
      "100%|██████████| 881/881 [01:12<00:00, 12.07it/s]\n",
      "100%|██████████| 189/189 [00:04<00:00, 39.17it/s]\n",
      " 45%|████▍     | 223/500 [4:58:02<5:58:26, 77.64s/it]"
     ]
    },
    {
     "name": "stdout",
     "output_type": "stream",
     "text": [
      "------------------------------\n",
      "Train Loss EPOCH 223: 1.0233\n",
      "Valid Loss EPOCH 223: 1.2674\n",
      "Train Accuracy EPOCH 223: 0.8786\n",
      "Valid Accuracy EPOCH 223: 0.6322\n",
      "------------------------------\n"
     ]
    },
    {
     "name": "stderr",
     "output_type": "stream",
     "text": [
      "100%|██████████| 881/881 [01:12<00:00, 12.17it/s]\n",
      "100%|██████████| 189/189 [00:04<00:00, 40.28it/s]\n",
      " 45%|████▍     | 224/500 [4:59:19<5:56:41, 77.54s/it]"
     ]
    },
    {
     "name": "stdout",
     "output_type": "stream",
     "text": [
      "------------------------------\n",
      "Train Loss EPOCH 224: 1.0303\n",
      "Valid Loss EPOCH 224: 1.2744\n",
      "Train Accuracy EPOCH 224: 0.8720\n",
      "Valid Accuracy EPOCH 224: 0.6261\n",
      "------------------------------\n"
     ]
    },
    {
     "name": "stderr",
     "output_type": "stream",
     "text": [
      "100%|██████████| 881/881 [01:12<00:00, 12.17it/s]\n",
      "100%|██████████| 189/189 [00:04<00:00, 39.26it/s]\n",
      " 45%|████▌     | 225/500 [5:00:36<5:55:17, 77.52s/it]"
     ]
    },
    {
     "name": "stdout",
     "output_type": "stream",
     "text": [
      "------------------------------\n",
      "Train Loss EPOCH 225: 1.0258\n",
      "Valid Loss EPOCH 225: 1.2713\n",
      "Train Accuracy EPOCH 225: 0.8770\n",
      "Valid Accuracy EPOCH 225: 0.6262\n",
      "------------------------------\n"
     ]
    },
    {
     "name": "stderr",
     "output_type": "stream",
     "text": [
      "100%|██████████| 881/881 [01:13<00:00, 12.06it/s]\n",
      "100%|██████████| 189/189 [00:04<00:00, 38.23it/s]\n",
      " 45%|████▌     | 226/500 [5:01:55<5:54:58, 77.73s/it]"
     ]
    },
    {
     "name": "stdout",
     "output_type": "stream",
     "text": [
      "------------------------------\n",
      "Train Loss EPOCH 226: 1.0246\n",
      "Valid Loss EPOCH 226: 1.2645\n",
      "Train Accuracy EPOCH 226: 0.8780\n",
      "Valid Accuracy EPOCH 226: 0.6357\n",
      "------------------------------\n"
     ]
    },
    {
     "name": "stderr",
     "output_type": "stream",
     "text": [
      "100%|██████████| 881/881 [01:12<00:00, 12.08it/s]\n",
      "100%|██████████| 189/189 [00:04<00:00, 37.90it/s]\n"
     ]
    },
    {
     "name": "stdout",
     "output_type": "stream",
     "text": [
      "------------------------------\n",
      "Train Loss EPOCH 227: 1.0228\n",
      "Valid Loss EPOCH 227: 1.2604\n",
      "Train Accuracy EPOCH 227: 0.8803\n",
      "Valid Accuracy EPOCH 227: 0.6380\n",
      "------------------------------\n"
     ]
    },
    {
     "name": "stderr",
     "output_type": "stream",
     "text": [
      "100%|██████████| 881/881 [01:12<00:00, 12.17it/s]/it]\n",
      "100%|██████████| 189/189 [00:04<00:00, 38.40it/s]\n",
      " 46%|████▌     | 228/500 [5:04:30<5:52:30, 77.76s/it]"
     ]
    },
    {
     "name": "stdout",
     "output_type": "stream",
     "text": [
      "------------------------------\n",
      "Train Loss EPOCH 228: 1.0260\n",
      "Valid Loss EPOCH 228: 1.2734\n",
      "Train Accuracy EPOCH 228: 0.8762\n",
      "Valid Accuracy EPOCH 228: 0.6252\n",
      "------------------------------\n"
     ]
    },
    {
     "name": "stderr",
     "output_type": "stream",
     "text": [
      "100%|██████████| 881/881 [01:12<00:00, 12.24it/s]\n",
      "100%|██████████| 189/189 [00:04<00:00, 39.80it/s]\n",
      " 46%|████▌     | 229/500 [5:05:47<5:50:07, 77.52s/it]"
     ]
    },
    {
     "name": "stdout",
     "output_type": "stream",
     "text": [
      "------------------------------\n",
      "Train Loss EPOCH 229: 1.0284\n",
      "Valid Loss EPOCH 229: 1.2686\n",
      "Train Accuracy EPOCH 229: 0.8740\n",
      "Valid Accuracy EPOCH 229: 0.6301\n",
      "------------------------------\n"
     ]
    },
    {
     "name": "stderr",
     "output_type": "stream",
     "text": [
      "100%|██████████| 881/881 [01:15<00:00, 11.65it/s]\n",
      "100%|██████████| 189/189 [00:04<00:00, 41.87it/s]\n",
      " 46%|████▌     | 230/500 [5:07:08<5:52:40, 78.37s/it]"
     ]
    },
    {
     "name": "stdout",
     "output_type": "stream",
     "text": [
      "------------------------------\n",
      "Train Loss EPOCH 230: 1.0238\n",
      "Valid Loss EPOCH 230: 1.2736\n",
      "Train Accuracy EPOCH 230: 0.8788\n",
      "Valid Accuracy EPOCH 230: 0.6228\n",
      "------------------------------\n"
     ]
    },
    {
     "name": "stderr",
     "output_type": "stream",
     "text": [
      "100%|██████████| 881/881 [01:12<00:00, 12.15it/s]\n",
      "100%|██████████| 189/189 [00:04<00:00, 42.18it/s]\n",
      " 46%|████▌     | 231/500 [5:08:25<5:49:49, 78.03s/it]"
     ]
    },
    {
     "name": "stdout",
     "output_type": "stream",
     "text": [
      "------------------------------\n",
      "Train Loss EPOCH 231: 1.0200\n",
      "Valid Loss EPOCH 231: 1.2701\n",
      "Train Accuracy EPOCH 231: 0.8828\n",
      "Valid Accuracy EPOCH 231: 0.6279\n",
      "------------------------------\n"
     ]
    },
    {
     "name": "stderr",
     "output_type": "stream",
     "text": [
      "100%|██████████| 881/881 [01:12<00:00, 12.16it/s]\n",
      "100%|██████████| 189/189 [00:04<00:00, 39.83it/s]\n",
      " 46%|████▋     | 232/500 [5:09:42<5:47:44, 77.85s/it]"
     ]
    },
    {
     "name": "stdout",
     "output_type": "stream",
     "text": [
      "------------------------------\n",
      "Train Loss EPOCH 232: 1.0259\n",
      "Valid Loss EPOCH 232: 1.2694\n",
      "Train Accuracy EPOCH 232: 0.8760\n",
      "Valid Accuracy EPOCH 232: 0.6281\n",
      "------------------------------\n"
     ]
    },
    {
     "name": "stderr",
     "output_type": "stream",
     "text": [
      "100%|██████████| 881/881 [01:12<00:00, 12.21it/s]\n",
      "100%|██████████| 189/189 [00:04<00:00, 39.86it/s]\n",
      " 47%|████▋     | 233/500 [5:10:59<5:45:27, 77.63s/it]"
     ]
    },
    {
     "name": "stdout",
     "output_type": "stream",
     "text": [
      "------------------------------\n",
      "Train Loss EPOCH 233: 1.0238\n",
      "Valid Loss EPOCH 233: 1.2702\n",
      "Train Accuracy EPOCH 233: 0.8791\n",
      "Valid Accuracy EPOCH 233: 0.6267\n",
      "------------------------------\n"
     ]
    },
    {
     "name": "stderr",
     "output_type": "stream",
     "text": [
      "100%|██████████| 881/881 [01:11<00:00, 12.30it/s]\n",
      "100%|██████████| 189/189 [00:04<00:00, 41.47it/s]\n",
      " 47%|████▋     | 234/500 [5:12:16<5:42:31, 77.26s/it]"
     ]
    },
    {
     "name": "stdout",
     "output_type": "stream",
     "text": [
      "------------------------------\n",
      "Train Loss EPOCH 234: 1.0237\n",
      "Valid Loss EPOCH 234: 1.2712\n",
      "Train Accuracy EPOCH 234: 0.8783\n",
      "Valid Accuracy EPOCH 234: 0.6264\n",
      "------------------------------\n"
     ]
    },
    {
     "name": "stderr",
     "output_type": "stream",
     "text": [
      "100%|██████████| 881/881 [01:12<00:00, 12.14it/s]\n",
      "100%|██████████| 189/189 [00:04<00:00, 41.46it/s]\n",
      " 47%|████▋     | 235/500 [5:13:33<5:41:18, 77.28s/it]"
     ]
    },
    {
     "name": "stdout",
     "output_type": "stream",
     "text": [
      "------------------------------\n",
      "Train Loss EPOCH 235: 1.0190\n",
      "Valid Loss EPOCH 235: 1.2746\n",
      "Train Accuracy EPOCH 235: 0.8839\n",
      "Valid Accuracy EPOCH 235: 0.6219\n",
      "------------------------------\n"
     ]
    },
    {
     "name": "stderr",
     "output_type": "stream",
     "text": [
      "100%|██████████| 881/881 [01:12<00:00, 12.21it/s]\n",
      "100%|██████████| 189/189 [00:04<00:00, 39.45it/s]\n",
      " 47%|████▋     | 236/500 [5:14:50<5:39:52, 77.24s/it]"
     ]
    },
    {
     "name": "stdout",
     "output_type": "stream",
     "text": [
      "------------------------------\n",
      "Train Loss EPOCH 236: 1.0194\n",
      "Valid Loss EPOCH 236: 1.2693\n",
      "Train Accuracy EPOCH 236: 0.8836\n",
      "Valid Accuracy EPOCH 236: 0.6287\n",
      "------------------------------\n"
     ]
    },
    {
     "name": "stderr",
     "output_type": "stream",
     "text": [
      "100%|██████████| 881/881 [01:12<00:00, 12.20it/s]\n",
      "100%|██████████| 189/189 [00:04<00:00, 40.60it/s]\n",
      " 47%|████▋     | 237/500 [5:16:07<5:38:19, 77.19s/it]"
     ]
    },
    {
     "name": "stdout",
     "output_type": "stream",
     "text": [
      "------------------------------\n",
      "Train Loss EPOCH 237: 1.0176\n",
      "Valid Loss EPOCH 237: 1.2810\n",
      "Train Accuracy EPOCH 237: 0.8846\n",
      "Valid Accuracy EPOCH 237: 0.6166\n",
      "------------------------------\n"
     ]
    },
    {
     "name": "stderr",
     "output_type": "stream",
     "text": [
      "100%|██████████| 881/881 [01:12<00:00, 12.21it/s]\n",
      "100%|██████████| 189/189 [00:04<00:00, 40.73it/s]\n"
     ]
    },
    {
     "name": "stdout",
     "output_type": "stream",
     "text": [
      "------------------------------\n",
      "Train Loss EPOCH 238: 1.0192\n",
      "Valid Loss EPOCH 238: 1.2676\n",
      "Train Accuracy EPOCH 238: 0.8838\n"
     ]
    },
    {
     "name": "stderr",
     "output_type": "stream",
     "text": [
      " 48%|████▊     | 238/500 [5:17:24<5:36:51, 77.14s/it]"
     ]
    },
    {
     "name": "stdout",
     "output_type": "stream",
     "text": [
      "Valid Accuracy EPOCH 238: 0.6329\n",
      "------------------------------\n"
     ]
    },
    {
     "name": "stderr",
     "output_type": "stream",
     "text": [
      "100%|██████████| 881/881 [01:12<00:00, 12.13it/s]\n",
      "100%|██████████| 189/189 [00:04<00:00, 38.89it/s]\n",
      " 48%|████▊     | 239/500 [5:18:42<5:36:17, 77.31s/it]"
     ]
    },
    {
     "name": "stdout",
     "output_type": "stream",
     "text": [
      "------------------------------\n",
      "Train Loss EPOCH 239: 1.0160\n",
      "Valid Loss EPOCH 239: 1.2623\n",
      "Train Accuracy EPOCH 239: 0.8871\n",
      "Valid Accuracy EPOCH 239: 0.6375\n",
      "------------------------------\n"
     ]
    },
    {
     "name": "stderr",
     "output_type": "stream",
     "text": [
      "100%|██████████| 881/881 [01:12<00:00, 12.21it/s]\n",
      "100%|██████████| 189/189 [00:04<00:00, 41.87it/s]\n"
     ]
    },
    {
     "name": "stdout",
     "output_type": "stream",
     "text": [
      "------------------------------\n",
      "Train Loss EPOCH 240: 1.0146\n",
      "Valid Loss EPOCH 240: 1.2605\n",
      "Train Accuracy EPOCH 240: 0.8887\n"
     ]
    },
    {
     "name": "stderr",
     "output_type": "stream",
     "text": [
      " 48%|████▊     | 240/500 [5:19:59<5:34:30, 77.20s/it]"
     ]
    },
    {
     "name": "stdout",
     "output_type": "stream",
     "text": [
      "Valid Accuracy EPOCH 240: 0.6388\n",
      "------------------------------\n"
     ]
    },
    {
     "name": "stderr",
     "output_type": "stream",
     "text": [
      "100%|██████████| 881/881 [01:12<00:00, 12.19it/s]\n",
      "100%|██████████| 189/189 [00:04<00:00, 39.64it/s]\n",
      " 48%|████▊     | 241/500 [5:21:16<5:33:20, 77.22s/it]"
     ]
    },
    {
     "name": "stdout",
     "output_type": "stream",
     "text": [
      "------------------------------\n",
      "Train Loss EPOCH 241: 1.0149\n",
      "Valid Loss EPOCH 241: 1.2794\n",
      "Train Accuracy EPOCH 241: 0.8876\n",
      "Valid Accuracy EPOCH 241: 0.6191\n",
      "------------------------------\n"
     ]
    },
    {
     "name": "stderr",
     "output_type": "stream",
     "text": [
      "100%|██████████| 881/881 [01:12<00:00, 12.21it/s]\n",
      "100%|██████████| 189/189 [00:04<00:00, 41.20it/s]\n",
      " 48%|████▊     | 242/500 [5:22:33<5:31:42, 77.14s/it]"
     ]
    },
    {
     "name": "stdout",
     "output_type": "stream",
     "text": [
      "------------------------------\n",
      "Train Loss EPOCH 242: 1.0144\n",
      "Valid Loss EPOCH 242: 1.2568\n",
      "Train Accuracy EPOCH 242: 0.8887\n",
      "Valid Accuracy EPOCH 242: 0.6430\n",
      "------------------------------\n"
     ]
    },
    {
     "name": "stderr",
     "output_type": "stream",
     "text": [
      "100%|██████████| 881/881 [01:12<00:00, 12.16it/s]\n",
      "100%|██████████| 189/189 [00:04<00:00, 39.74it/s]\n",
      " 49%|████▊     | 243/500 [5:23:51<5:30:50, 77.24s/it]"
     ]
    },
    {
     "name": "stdout",
     "output_type": "stream",
     "text": [
      "------------------------------\n",
      "Train Loss EPOCH 243: 1.0155\n",
      "Valid Loss EPOCH 243: 1.2596\n",
      "Train Accuracy EPOCH 243: 0.8877\n",
      "Valid Accuracy EPOCH 243: 0.6377\n",
      "------------------------------\n"
     ]
    },
    {
     "name": "stderr",
     "output_type": "stream",
     "text": [
      "100%|██████████| 881/881 [01:12<00:00, 12.22it/s]\n",
      "100%|██████████| 189/189 [00:04<00:00, 43.97it/s]\n",
      " 49%|████▉     | 244/500 [5:25:07<5:28:46, 77.06s/it]"
     ]
    },
    {
     "name": "stdout",
     "output_type": "stream",
     "text": [
      "------------------------------\n",
      "Train Loss EPOCH 244: 1.0124\n",
      "Valid Loss EPOCH 244: 1.2652\n",
      "Train Accuracy EPOCH 244: 0.8901\n",
      "Valid Accuracy EPOCH 244: 0.6342\n",
      "------------------------------\n"
     ]
    },
    {
     "name": "stderr",
     "output_type": "stream",
     "text": [
      "100%|██████████| 881/881 [01:12<00:00, 12.15it/s]\n",
      "100%|██████████| 189/189 [00:04<00:00, 39.82it/s]\n",
      " 49%|████▉     | 245/500 [5:26:25<5:28:00, 77.18s/it]"
     ]
    },
    {
     "name": "stdout",
     "output_type": "stream",
     "text": [
      "------------------------------\n",
      "Train Loss EPOCH 245: 1.0133\n",
      "Valid Loss EPOCH 245: 1.2675\n",
      "Train Accuracy EPOCH 245: 0.8901\n",
      "Valid Accuracy EPOCH 245: 0.6310\n",
      "------------------------------\n"
     ]
    },
    {
     "name": "stderr",
     "output_type": "stream",
     "text": [
      "100%|██████████| 881/881 [01:12<00:00, 12.21it/s]\n",
      "100%|██████████| 189/189 [00:04<00:00, 40.24it/s]\n",
      " 49%|████▉     | 246/500 [5:27:42<5:26:33, 77.14s/it]"
     ]
    },
    {
     "name": "stdout",
     "output_type": "stream",
     "text": [
      "------------------------------\n",
      "Train Loss EPOCH 246: 1.0152\n",
      "Valid Loss EPOCH 246: 1.2797\n",
      "Train Accuracy EPOCH 246: 0.8873\n",
      "Valid Accuracy EPOCH 246: 0.6181\n",
      "------------------------------\n"
     ]
    },
    {
     "name": "stderr",
     "output_type": "stream",
     "text": [
      "100%|██████████| 881/881 [01:12<00:00, 12.12it/s]\n",
      "100%|██████████| 189/189 [00:04<00:00, 37.90it/s]\n"
     ]
    },
    {
     "name": "stdout",
     "output_type": "stream",
     "text": [
      "------------------------------\n",
      "Train Loss EPOCH 247: 1.0102\n",
      "Valid Loss EPOCH 247: 1.2806\n",
      "Train Accuracy EPOCH 247: 0.8922\n"
     ]
    },
    {
     "name": "stderr",
     "output_type": "stream",
     "text": [
      " 49%|████▉     | 247/500 [5:29:00<5:26:15, 77.37s/it]"
     ]
    },
    {
     "name": "stdout",
     "output_type": "stream",
     "text": [
      "Valid Accuracy EPOCH 247: 0.6181\n",
      "------------------------------\n"
     ]
    },
    {
     "name": "stderr",
     "output_type": "stream",
     "text": [
      "100%|██████████| 881/881 [01:12<00:00, 12.23it/s]\n",
      "100%|██████████| 189/189 [00:04<00:00, 38.93it/s]\n"
     ]
    },
    {
     "name": "stdout",
     "output_type": "stream",
     "text": [
      "------------------------------\n",
      "Train Loss EPOCH 248: 1.0174\n",
      "Valid Loss EPOCH 248: 1.2765\n",
      "Train Accuracy EPOCH 248: 0.8848\n"
     ]
    },
    {
     "name": "stderr",
     "output_type": "stream",
     "text": [
      " 50%|████▉     | 248/500 [5:30:17<5:24:41, 77.31s/it]"
     ]
    },
    {
     "name": "stdout",
     "output_type": "stream",
     "text": [
      "Valid Accuracy EPOCH 248: 0.6209\n",
      "------------------------------\n"
     ]
    },
    {
     "name": "stderr",
     "output_type": "stream",
     "text": [
      "100%|██████████| 881/881 [01:12<00:00, 12.18it/s]\n",
      "100%|██████████| 189/189 [00:04<00:00, 40.15it/s]\n",
      " 50%|████▉     | 249/500 [5:31:34<5:23:22, 77.30s/it]"
     ]
    },
    {
     "name": "stdout",
     "output_type": "stream",
     "text": [
      "------------------------------\n",
      "Train Loss EPOCH 249: 1.0104\n",
      "Valid Loss EPOCH 249: 1.2639\n",
      "Train Accuracy EPOCH 249: 0.8920\n",
      "Valid Accuracy EPOCH 249: 0.6322\n",
      "------------------------------\n"
     ]
    },
    {
     "name": "stderr",
     "output_type": "stream",
     "text": [
      "100%|██████████| 881/881 [01:12<00:00, 12.18it/s]\n",
      "100%|██████████| 189/189 [00:04<00:00, 41.32it/s]\n"
     ]
    },
    {
     "name": "stdout",
     "output_type": "stream",
     "text": [
      "------------------------------\n",
      "Train Loss EPOCH 250: 1.0114\n",
      "Valid Loss EPOCH 250: 1.2651\n",
      "Train Accuracy EPOCH 250: 0.8915\n"
     ]
    },
    {
     "name": "stderr",
     "output_type": "stream",
     "text": [
      " 50%|█████     | 250/500 [5:32:51<5:21:53, 77.25s/it]"
     ]
    },
    {
     "name": "stdout",
     "output_type": "stream",
     "text": [
      "Valid Accuracy EPOCH 250: 0.6325\n",
      "------------------------------\n"
     ]
    },
    {
     "name": "stderr",
     "output_type": "stream",
     "text": [
      "100%|██████████| 881/881 [01:12<00:00, 12.14it/s]\n",
      "100%|██████████| 189/189 [00:04<00:00, 43.01it/s]\n",
      " 50%|█████     | 251/500 [5:34:08<5:20:31, 77.23s/it]"
     ]
    },
    {
     "name": "stdout",
     "output_type": "stream",
     "text": [
      "------------------------------\n",
      "Train Loss EPOCH 251: 1.0056\n",
      "Valid Loss EPOCH 251: 1.2732\n",
      "Train Accuracy EPOCH 251: 0.8969\n",
      "Valid Accuracy EPOCH 251: 0.6236\n",
      "------------------------------\n"
     ]
    },
    {
     "name": "stderr",
     "output_type": "stream",
     "text": [
      "100%|██████████| 881/881 [01:11<00:00, 12.27it/s]\n",
      "100%|██████████| 189/189 [00:04<00:00, 39.77it/s]\n"
     ]
    },
    {
     "name": "stdout",
     "output_type": "stream",
     "text": [
      "------------------------------\n",
      "Train Loss EPOCH 252: 1.0138\n",
      "Valid Loss EPOCH 252: 1.2621\n",
      "Train Accuracy EPOCH 252: 0.8890\n",
      "Valid Accuracy EPOCH 252: 0.6352\n",
      "------------------------------\n"
     ]
    },
    {
     "name": "stderr",
     "output_type": "stream",
     "text": [
      "100%|██████████| 881/881 [01:12<00:00, 12.15it/s]/it]\n",
      "100%|██████████| 189/189 [00:04<00:00, 42.53it/s]\n"
     ]
    },
    {
     "name": "stdout",
     "output_type": "stream",
     "text": [
      "------------------------------\n",
      "Train Loss EPOCH 253: 1.0150\n",
      "Valid Loss EPOCH 253: 1.2629\n",
      "Train Accuracy EPOCH 253: 0.8874\n",
      "Valid Accuracy EPOCH 253: 0.6355\n",
      "------------------------------\n"
     ]
    },
    {
     "name": "stderr",
     "output_type": "stream",
     "text": [
      "100%|██████████| 881/881 [01:12<00:00, 12.19it/s]/it]\n",
      "100%|██████████| 189/189 [00:04<00:00, 39.90it/s]\n",
      " 51%|█████     | 254/500 [5:38:00<5:16:22, 77.16s/it]"
     ]
    },
    {
     "name": "stdout",
     "output_type": "stream",
     "text": [
      "------------------------------\n",
      "Train Loss EPOCH 254: 1.0078\n",
      "Valid Loss EPOCH 254: 1.2604\n",
      "Train Accuracy EPOCH 254: 0.8952\n",
      "Valid Accuracy EPOCH 254: 0.6380\n",
      "------------------------------\n"
     ]
    },
    {
     "name": "stderr",
     "output_type": "stream",
     "text": [
      "100%|██████████| 881/881 [01:12<00:00, 12.16it/s]\n",
      "100%|██████████| 189/189 [00:04<00:00, 40.75it/s]\n",
      " 51%|█████     | 255/500 [5:39:17<5:15:15, 77.21s/it]"
     ]
    },
    {
     "name": "stdout",
     "output_type": "stream",
     "text": [
      "------------------------------\n",
      "Train Loss EPOCH 255: 1.0126\n",
      "Valid Loss EPOCH 255: 1.2770\n",
      "Train Accuracy EPOCH 255: 0.8906\n",
      "Valid Accuracy EPOCH 255: 0.6211\n",
      "------------------------------\n"
     ]
    },
    {
     "name": "stderr",
     "output_type": "stream",
     "text": [
      "100%|██████████| 881/881 [01:12<00:00, 12.20it/s]\n",
      "100%|██████████| 189/189 [00:04<00:00, 39.21it/s]\n",
      " 51%|█████     | 256/500 [5:40:34<5:14:02, 77.22s/it]"
     ]
    },
    {
     "name": "stdout",
     "output_type": "stream",
     "text": [
      "------------------------------\n",
      "Train Loss EPOCH 256: 1.0040\n",
      "Valid Loss EPOCH 256: 1.2696\n",
      "Train Accuracy EPOCH 256: 0.8996\n",
      "Valid Accuracy EPOCH 256: 0.6284\n",
      "------------------------------\n"
     ]
    },
    {
     "name": "stderr",
     "output_type": "stream",
     "text": [
      "100%|██████████| 881/881 [01:12<00:00, 12.17it/s]\n",
      "100%|██████████| 189/189 [00:04<00:00, 40.00it/s]\n",
      " 51%|█████▏    | 257/500 [5:41:52<5:12:51, 77.25s/it]"
     ]
    },
    {
     "name": "stdout",
     "output_type": "stream",
     "text": [
      "------------------------------\n",
      "Train Loss EPOCH 257: 1.0077\n",
      "Valid Loss EPOCH 257: 1.2817\n",
      "Train Accuracy EPOCH 257: 0.8957\n",
      "Valid Accuracy EPOCH 257: 0.6163\n",
      "------------------------------\n"
     ]
    },
    {
     "name": "stderr",
     "output_type": "stream",
     "text": [
      "100%|██████████| 881/881 [01:11<00:00, 12.28it/s]\n",
      "100%|██████████| 189/189 [00:04<00:00, 37.90it/s]\n"
     ]
    },
    {
     "name": "stdout",
     "output_type": "stream",
     "text": [
      "------------------------------\n",
      "Train Loss EPOCH 258: 1.0037\n",
      "Valid Loss EPOCH 258: 1.2710\n",
      "Train Accuracy EPOCH 258: 0.8983\n",
      "Valid Accuracy EPOCH 258: 0.6291\n",
      "------------------------------\n"
     ]
    },
    {
     "name": "stderr",
     "output_type": "stream",
     "text": [
      "100%|██████████| 881/881 [01:12<00:00, 12.17it/s]/it]\n",
      "100%|██████████| 189/189 [00:04<00:00, 40.30it/s]\n",
      " 52%|█████▏    | 259/500 [5:44:26<5:10:05, 77.20s/it]"
     ]
    },
    {
     "name": "stdout",
     "output_type": "stream",
     "text": [
      "------------------------------\n",
      "Train Loss EPOCH 259: 1.0112\n",
      "Valid Loss EPOCH 259: 1.2591\n",
      "Train Accuracy EPOCH 259: 0.8910\n",
      "Valid Accuracy EPOCH 259: 0.6392\n",
      "------------------------------\n"
     ]
    },
    {
     "name": "stderr",
     "output_type": "stream",
     "text": [
      "100%|██████████| 881/881 [01:12<00:00, 12.21it/s]\n",
      "100%|██████████| 189/189 [00:04<00:00, 41.79it/s]\n",
      " 52%|█████▏    | 260/500 [5:45:43<5:08:23, 77.10s/it]"
     ]
    },
    {
     "name": "stdout",
     "output_type": "stream",
     "text": [
      "------------------------------\n",
      "Train Loss EPOCH 260: 1.0076\n",
      "Valid Loss EPOCH 260: 1.2750\n",
      "Train Accuracy EPOCH 260: 0.8950\n",
      "Valid Accuracy EPOCH 260: 0.6251\n",
      "------------------------------\n"
     ]
    },
    {
     "name": "stderr",
     "output_type": "stream",
     "text": [
      "100%|██████████| 881/881 [01:12<00:00, 12.13it/s]\n",
      "100%|██████████| 189/189 [00:04<00:00, 38.46it/s]\n",
      " 52%|█████▏    | 261/500 [5:47:00<5:07:54, 77.30s/it]"
     ]
    },
    {
     "name": "stdout",
     "output_type": "stream",
     "text": [
      "------------------------------\n",
      "Train Loss EPOCH 261: 1.0052\n",
      "Valid Loss EPOCH 261: 1.2622\n",
      "Train Accuracy EPOCH 261: 0.8981\n",
      "Valid Accuracy EPOCH 261: 0.6372\n",
      "------------------------------\n"
     ]
    },
    {
     "name": "stderr",
     "output_type": "stream",
     "text": [
      "100%|██████████| 881/881 [01:12<00:00, 12.17it/s]\n",
      "100%|██████████| 189/189 [00:04<00:00, 40.82it/s]\n"
     ]
    },
    {
     "name": "stdout",
     "output_type": "stream",
     "text": [
      "------------------------------\n",
      "Train Loss EPOCH 262: 1.0101\n",
      "Valid Loss EPOCH 262: 1.2671\n",
      "Train Accuracy EPOCH 262: 0.8925\n"
     ]
    },
    {
     "name": "stderr",
     "output_type": "stream",
     "text": [
      " 52%|█████▏    | 262/500 [5:48:18<5:06:36, 77.30s/it]"
     ]
    },
    {
     "name": "stdout",
     "output_type": "stream",
     "text": [
      "Valid Accuracy EPOCH 262: 0.6306\n",
      "------------------------------\n"
     ]
    },
    {
     "name": "stderr",
     "output_type": "stream",
     "text": [
      "100%|██████████| 881/881 [01:12<00:00, 12.19it/s]\n",
      "100%|██████████| 189/189 [00:04<00:00, 39.21it/s]\n",
      " 53%|█████▎    | 263/500 [5:49:35<5:05:19, 77.30s/it]"
     ]
    },
    {
     "name": "stdout",
     "output_type": "stream",
     "text": [
      "------------------------------\n",
      "Train Loss EPOCH 263: 1.0062\n",
      "Valid Loss EPOCH 263: 1.2541\n",
      "Train Accuracy EPOCH 263: 0.8965\n",
      "Valid Accuracy EPOCH 263: 0.6450\n",
      "------------------------------\n"
     ]
    },
    {
     "name": "stderr",
     "output_type": "stream",
     "text": [
      "100%|██████████| 881/881 [01:11<00:00, 12.27it/s]\n",
      "100%|██████████| 189/189 [00:04<00:00, 43.74it/s]\n",
      " 53%|█████▎    | 264/500 [5:50:51<5:02:54, 77.01s/it]"
     ]
    },
    {
     "name": "stdout",
     "output_type": "stream",
     "text": [
      "------------------------------\n",
      "Train Loss EPOCH 264: 1.0041\n",
      "Valid Loss EPOCH 264: 1.2621\n",
      "Train Accuracy EPOCH 264: 0.8990\n",
      "Valid Accuracy EPOCH 264: 0.6363\n",
      "------------------------------\n"
     ]
    },
    {
     "name": "stderr",
     "output_type": "stream",
     "text": [
      "100%|██████████| 881/881 [01:12<00:00, 12.18it/s]\n",
      "100%|██████████| 189/189 [00:04<00:00, 38.43it/s]\n",
      " 53%|█████▎    | 265/500 [5:52:09<5:02:09, 77.15s/it]"
     ]
    },
    {
     "name": "stdout",
     "output_type": "stream",
     "text": [
      "------------------------------\n",
      "Train Loss EPOCH 265: 1.0071\n",
      "Valid Loss EPOCH 265: 1.2689\n",
      "Train Accuracy EPOCH 265: 0.8958\n",
      "Valid Accuracy EPOCH 265: 0.6306\n",
      "------------------------------\n"
     ]
    },
    {
     "name": "stderr",
     "output_type": "stream",
     "text": [
      "100%|██████████| 881/881 [01:12<00:00, 12.20it/s]\n",
      "100%|██████████| 189/189 [00:04<00:00, 38.71it/s]\n",
      " 53%|█████▎    | 266/500 [5:53:26<5:01:03, 77.20s/it]"
     ]
    },
    {
     "name": "stdout",
     "output_type": "stream",
     "text": [
      "------------------------------\n",
      "Train Loss EPOCH 266: 1.0022\n",
      "Valid Loss EPOCH 266: 1.2634\n",
      "Train Accuracy EPOCH 266: 0.9003\n",
      "Valid Accuracy EPOCH 266: 0.6359\n",
      "------------------------------\n"
     ]
    },
    {
     "name": "stderr",
     "output_type": "stream",
     "text": [
      "100%|██████████| 881/881 [01:12<00:00, 12.16it/s]\n",
      "100%|██████████| 189/189 [00:04<00:00, 39.38it/s]\n",
      " 53%|█████▎    | 267/500 [5:54:44<5:00:04, 77.27s/it]"
     ]
    },
    {
     "name": "stdout",
     "output_type": "stream",
     "text": [
      "------------------------------\n",
      "Train Loss EPOCH 267: 1.0043\n",
      "Valid Loss EPOCH 267: 1.2598\n",
      "Train Accuracy EPOCH 267: 0.8987\n",
      "Valid Accuracy EPOCH 267: 0.6378\n",
      "------------------------------\n"
     ]
    },
    {
     "name": "stderr",
     "output_type": "stream",
     "text": [
      "100%|██████████| 881/881 [01:12<00:00, 12.21it/s]\n",
      "100%|██████████| 189/189 [00:04<00:00, 41.37it/s]\n",
      " 54%|█████▎    | 268/500 [5:56:01<4:58:25, 77.18s/it]"
     ]
    },
    {
     "name": "stdout",
     "output_type": "stream",
     "text": [
      "------------------------------\n",
      "Train Loss EPOCH 268: 1.0005\n",
      "Valid Loss EPOCH 268: 1.2557\n",
      "Train Accuracy EPOCH 268: 0.9021\n",
      "Valid Accuracy EPOCH 268: 0.6423\n",
      "------------------------------\n"
     ]
    },
    {
     "name": "stderr",
     "output_type": "stream",
     "text": [
      "100%|██████████| 881/881 [01:12<00:00, 12.14it/s]\n",
      "100%|██████████| 189/189 [00:04<00:00, 39.52it/s]\n",
      " 54%|█████▍    | 269/500 [5:57:18<4:57:36, 77.30s/it]"
     ]
    },
    {
     "name": "stdout",
     "output_type": "stream",
     "text": [
      "------------------------------\n",
      "Train Loss EPOCH 269: 1.0040\n",
      "Valid Loss EPOCH 269: 1.2663\n",
      "Train Accuracy EPOCH 269: 0.8988\n",
      "Valid Accuracy EPOCH 269: 0.6320\n",
      "------------------------------\n"
     ]
    },
    {
     "name": "stderr",
     "output_type": "stream",
     "text": [
      "100%|██████████| 881/881 [01:11<00:00, 12.26it/s]\n",
      "100%|██████████| 189/189 [00:04<00:00, 38.24it/s]\n",
      " 54%|█████▍    | 270/500 [5:58:35<4:56:00, 77.22s/it]"
     ]
    },
    {
     "name": "stdout",
     "output_type": "stream",
     "text": [
      "------------------------------\n",
      "Train Loss EPOCH 270: 1.0030\n",
      "Valid Loss EPOCH 270: 1.2602\n",
      "Train Accuracy EPOCH 270: 0.8999\n",
      "Valid Accuracy EPOCH 270: 0.6385\n",
      "------------------------------\n"
     ]
    },
    {
     "name": "stderr",
     "output_type": "stream",
     "text": [
      "100%|██████████| 881/881 [01:12<00:00, 12.16it/s]\n",
      "100%|██████████| 189/189 [00:04<00:00, 42.61it/s]\n",
      " 54%|█████▍    | 271/500 [5:59:52<4:54:36, 77.19s/it]"
     ]
    },
    {
     "name": "stdout",
     "output_type": "stream",
     "text": [
      "------------------------------\n",
      "Train Loss EPOCH 271: 1.0004\n",
      "Valid Loss EPOCH 271: 1.2656\n",
      "Train Accuracy EPOCH 271: 0.9021\n",
      "Valid Accuracy EPOCH 271: 0.6334\n",
      "------------------------------\n"
     ]
    },
    {
     "name": "stderr",
     "output_type": "stream",
     "text": [
      "100%|██████████| 881/881 [01:12<00:00, 12.19it/s]\n",
      "100%|██████████| 189/189 [00:04<00:00, 43.07it/s]\n",
      " 54%|█████▍    | 272/500 [6:01:09<4:52:56, 77.09s/it]"
     ]
    },
    {
     "name": "stdout",
     "output_type": "stream",
     "text": [
      "------------------------------\n",
      "Train Loss EPOCH 272: 0.9995\n",
      "Valid Loss EPOCH 272: 1.2606\n",
      "Train Accuracy EPOCH 272: 0.9034\n",
      "Valid Accuracy EPOCH 272: 0.6375\n",
      "------------------------------\n"
     ]
    },
    {
     "name": "stderr",
     "output_type": "stream",
     "text": [
      "100%|██████████| 881/881 [01:12<00:00, 12.10it/s]\n",
      "100%|██████████| 189/189 [00:04<00:00, 41.64it/s]\n",
      " 55%|█████▍    | 273/500 [6:02:27<4:52:12, 77.23s/it]"
     ]
    },
    {
     "name": "stdout",
     "output_type": "stream",
     "text": [
      "------------------------------\n",
      "Train Loss EPOCH 273: 0.9996\n",
      "Valid Loss EPOCH 273: 1.2725\n",
      "Train Accuracy EPOCH 273: 0.9029\n",
      "Valid Accuracy EPOCH 273: 0.6248\n",
      "------------------------------\n"
     ]
    },
    {
     "name": "stderr",
     "output_type": "stream",
     "text": [
      "100%|██████████| 881/881 [01:11<00:00, 12.26it/s]\n",
      "100%|██████████| 189/189 [00:04<00:00, 38.15it/s]\n",
      " 55%|█████▍    | 274/500 [6:03:44<4:50:40, 77.17s/it]"
     ]
    },
    {
     "name": "stdout",
     "output_type": "stream",
     "text": [
      "------------------------------\n",
      "Train Loss EPOCH 274: 1.0021\n",
      "Valid Loss EPOCH 274: 1.2604\n",
      "Train Accuracy EPOCH 274: 0.9009\n",
      "Valid Accuracy EPOCH 274: 0.6368\n",
      "------------------------------\n"
     ]
    },
    {
     "name": "stderr",
     "output_type": "stream",
     "text": [
      "100%|██████████| 881/881 [01:12<00:00, 12.21it/s]\n",
      "100%|██████████| 189/189 [00:04<00:00, 41.76it/s]\n"
     ]
    },
    {
     "name": "stdout",
     "output_type": "stream",
     "text": [
      "------------------------------\n",
      "Train Loss EPOCH 275: 0.9991\n",
      "Valid Loss EPOCH 275: 1.2613\n",
      "Train Accuracy EPOCH 275: 0.9040\n",
      "Valid Accuracy EPOCH 275: 0.6367\n",
      "------------------------------\n"
     ]
    },
    {
     "name": "stderr",
     "output_type": "stream",
     "text": [
      "100%|██████████| 881/881 [01:12<00:00, 12.16it/s]/it]\n",
      "100%|██████████| 189/189 [00:04<00:00, 40.03it/s]\n"
     ]
    },
    {
     "name": "stdout",
     "output_type": "stream",
     "text": [
      "------------------------------\n",
      "Train Loss EPOCH 276: 1.0039\n",
      "Valid Loss EPOCH 276: 1.2664\n",
      "Train Accuracy EPOCH 276: 0.8984\n"
     ]
    },
    {
     "name": "stderr",
     "output_type": "stream",
     "text": [
      " 55%|█████▌    | 276/500 [6:06:18<4:48:08, 77.18s/it]"
     ]
    },
    {
     "name": "stdout",
     "output_type": "stream",
     "text": [
      "Valid Accuracy EPOCH 276: 0.6299\n",
      "------------------------------\n"
     ]
    },
    {
     "name": "stderr",
     "output_type": "stream",
     "text": [
      "100%|██████████| 881/881 [01:12<00:00, 12.15it/s]\n",
      "100%|██████████| 189/189 [00:04<00:00, 39.73it/s]\n",
      " 55%|█████▌    | 277/500 [6:07:36<4:47:13, 77.28s/it]"
     ]
    },
    {
     "name": "stdout",
     "output_type": "stream",
     "text": [
      "------------------------------\n",
      "Train Loss EPOCH 277: 0.9976\n",
      "Valid Loss EPOCH 277: 1.2733\n",
      "Train Accuracy EPOCH 277: 0.9056\n",
      "Valid Accuracy EPOCH 277: 0.6246\n",
      "------------------------------\n"
     ]
    },
    {
     "name": "stderr",
     "output_type": "stream",
     "text": [
      "100%|██████████| 881/881 [01:12<00:00, 12.16it/s]\n",
      "100%|██████████| 189/189 [00:04<00:00, 40.20it/s]\n",
      " 56%|█████▌    | 278/500 [6:08:53<4:46:04, 77.32s/it]"
     ]
    },
    {
     "name": "stdout",
     "output_type": "stream",
     "text": [
      "------------------------------\n",
      "Train Loss EPOCH 278: 0.9988\n",
      "Valid Loss EPOCH 278: 1.2645\n",
      "Train Accuracy EPOCH 278: 0.9035\n",
      "Valid Accuracy EPOCH 278: 0.6330\n",
      "------------------------------\n"
     ]
    },
    {
     "name": "stderr",
     "output_type": "stream",
     "text": [
      "100%|██████████| 881/881 [01:12<00:00, 12.13it/s]\n",
      "100%|██████████| 189/189 [00:04<00:00, 38.84it/s]\n",
      " 56%|█████▌    | 279/500 [6:10:11<4:45:12, 77.43s/it]"
     ]
    },
    {
     "name": "stdout",
     "output_type": "stream",
     "text": [
      "------------------------------\n",
      "Train Loss EPOCH 279: 1.0015\n",
      "Valid Loss EPOCH 279: 1.2686\n",
      "Train Accuracy EPOCH 279: 0.9017\n",
      "Valid Accuracy EPOCH 279: 0.6276\n",
      "------------------------------\n"
     ]
    },
    {
     "name": "stderr",
     "output_type": "stream",
     "text": [
      "100%|██████████| 881/881 [01:12<00:00, 12.18it/s]\n",
      "100%|██████████| 189/189 [00:04<00:00, 39.17it/s]\n",
      " 56%|█████▌    | 280/500 [6:11:28<4:43:49, 77.41s/it]"
     ]
    },
    {
     "name": "stdout",
     "output_type": "stream",
     "text": [
      "------------------------------\n",
      "Train Loss EPOCH 280: 1.0024\n",
      "Valid Loss EPOCH 280: 1.2709\n",
      "Train Accuracy EPOCH 280: 0.9002\n",
      "Valid Accuracy EPOCH 280: 0.6267\n",
      "------------------------------\n"
     ]
    },
    {
     "name": "stderr",
     "output_type": "stream",
     "text": [
      "100%|██████████| 881/881 [01:12<00:00, 12.18it/s]\n",
      "100%|██████████| 189/189 [00:04<00:00, 41.01it/s]\n",
      " 56%|█████▌    | 281/500 [6:12:45<4:42:15, 77.33s/it]"
     ]
    },
    {
     "name": "stdout",
     "output_type": "stream",
     "text": [
      "------------------------------\n",
      "Train Loss EPOCH 281: 1.0025\n",
      "Valid Loss EPOCH 281: 1.2671\n",
      "Train Accuracy EPOCH 281: 0.9008\n",
      "Valid Accuracy EPOCH 281: 0.6299\n",
      "------------------------------\n"
     ]
    },
    {
     "name": "stderr",
     "output_type": "stream",
     "text": [
      "100%|██████████| 881/881 [01:12<00:00, 12.18it/s]\n",
      "100%|██████████| 189/189 [00:04<00:00, 40.43it/s]\n"
     ]
    },
    {
     "name": "stdout",
     "output_type": "stream",
     "text": [
      "------------------------------\n",
      "Train Loss EPOCH 282: 0.9954\n",
      "Valid Loss EPOCH 282: 1.2687\n",
      "Train Accuracy EPOCH 282: 0.9080\n"
     ]
    },
    {
     "name": "stderr",
     "output_type": "stream",
     "text": [
      " 56%|█████▋    | 282/500 [6:14:02<4:40:51, 77.30s/it]"
     ]
    },
    {
     "name": "stdout",
     "output_type": "stream",
     "text": [
      "Valid Accuracy EPOCH 282: 0.6302\n",
      "------------------------------\n"
     ]
    },
    {
     "name": "stderr",
     "output_type": "stream",
     "text": [
      "100%|██████████| 881/881 [01:12<00:00, 12.18it/s]\n",
      "100%|██████████| 189/189 [00:04<00:00, 40.73it/s]\n",
      " 57%|█████▋    | 283/500 [6:15:20<4:39:27, 77.27s/it]"
     ]
    },
    {
     "name": "stdout",
     "output_type": "stream",
     "text": [
      "------------------------------\n",
      "Train Loss EPOCH 283: 0.9945\n",
      "Valid Loss EPOCH 283: 1.2613\n",
      "Train Accuracy EPOCH 283: 0.9088\n",
      "Valid Accuracy EPOCH 283: 0.6375\n",
      "------------------------------\n"
     ]
    },
    {
     "name": "stderr",
     "output_type": "stream",
     "text": [
      "100%|██████████| 881/881 [01:12<00:00, 12.18it/s]\n",
      "100%|██████████| 189/189 [00:04<00:00, 41.73it/s]\n",
      " 57%|█████▋    | 284/500 [6:16:37<4:37:57, 77.21s/it]"
     ]
    },
    {
     "name": "stdout",
     "output_type": "stream",
     "text": [
      "------------------------------\n",
      "Train Loss EPOCH 284: 0.9987\n",
      "Valid Loss EPOCH 284: 1.2690\n",
      "Train Accuracy EPOCH 284: 0.9045\n",
      "Valid Accuracy EPOCH 284: 0.6284\n",
      "------------------------------\n"
     ]
    },
    {
     "name": "stderr",
     "output_type": "stream",
     "text": [
      "100%|██████████| 881/881 [01:12<00:00, 12.23it/s]\n",
      "100%|██████████| 189/189 [00:04<00:00, 42.61it/s]\n",
      " 57%|█████▋    | 285/500 [6:17:53<4:36:05, 77.05s/it]"
     ]
    },
    {
     "name": "stdout",
     "output_type": "stream",
     "text": [
      "------------------------------\n",
      "Train Loss EPOCH 285: 1.0023\n",
      "Valid Loss EPOCH 285: 1.2716\n",
      "Train Accuracy EPOCH 285: 0.9002\n",
      "Valid Accuracy EPOCH 285: 0.6267\n",
      "------------------------------\n"
     ]
    },
    {
     "name": "stderr",
     "output_type": "stream",
     "text": [
      "100%|██████████| 881/881 [01:14<00:00, 11.89it/s]\n",
      "100%|██████████| 189/189 [00:05<00:00, 34.93it/s]\n"
     ]
    },
    {
     "name": "stdout",
     "output_type": "stream",
     "text": [
      "------------------------------\n",
      "Train Loss EPOCH 286: 0.9959\n",
      "Valid Loss EPOCH 286: 1.2633\n",
      "Train Accuracy EPOCH 286: 0.9068\n",
      "Valid Accuracy EPOCH 286: 0.6354\n",
      "------------------------------\n"
     ]
    },
    {
     "name": "stderr",
     "output_type": "stream",
     "text": [
      "100%|██████████| 881/881 [01:13<00:00, 11.93it/s]/it]\n",
      "100%|██████████| 189/189 [00:04<00:00, 41.87it/s]\n"
     ]
    },
    {
     "name": "stdout",
     "output_type": "stream",
     "text": [
      "------------------------------\n",
      "Train Loss EPOCH 287: 0.9942\n",
      "Valid Loss EPOCH 287: 1.2698\n",
      "Train Accuracy EPOCH 287: 0.9091\n",
      "Valid Accuracy EPOCH 287: 0.6286\n",
      "------------------------------\n"
     ]
    },
    {
     "name": "stderr",
     "output_type": "stream",
     "text": [
      "100%|██████████| 881/881 [01:13<00:00, 12.06it/s]/it]\n",
      "100%|██████████| 189/189 [00:05<00:00, 37.42it/s]\n",
      " 58%|█████▊    | 288/500 [6:21:50<4:36:09, 78.16s/it]"
     ]
    },
    {
     "name": "stdout",
     "output_type": "stream",
     "text": [
      "------------------------------\n",
      "Train Loss EPOCH 288: 0.9992\n",
      "Valid Loss EPOCH 288: 1.2736\n",
      "Train Accuracy EPOCH 288: 0.9033\n",
      "Valid Accuracy EPOCH 288: 0.6229\n",
      "------------------------------\n"
     ]
    },
    {
     "name": "stderr",
     "output_type": "stream",
     "text": [
      "100%|██████████| 881/881 [01:13<00:00, 12.05it/s]\n",
      "100%|██████████| 189/189 [00:04<00:00, 39.75it/s]\n",
      " 58%|█████▊    | 289/500 [6:23:08<4:34:47, 78.14s/it]"
     ]
    },
    {
     "name": "stdout",
     "output_type": "stream",
     "text": [
      "------------------------------\n",
      "Train Loss EPOCH 289: 0.9992\n",
      "Valid Loss EPOCH 289: 1.2774\n",
      "Train Accuracy EPOCH 289: 0.9039\n",
      "Valid Accuracy EPOCH 289: 0.6223\n",
      "------------------------------\n"
     ]
    },
    {
     "name": "stderr",
     "output_type": "stream",
     "text": [
      "100%|██████████| 881/881 [01:13<00:00, 12.05it/s]\n",
      "100%|██████████| 189/189 [00:04<00:00, 40.29it/s]\n",
      " 58%|█████▊    | 290/500 [6:24:26<4:33:21, 78.10s/it]"
     ]
    },
    {
     "name": "stdout",
     "output_type": "stream",
     "text": [
      "------------------------------\n",
      "Train Loss EPOCH 290: 0.9980\n",
      "Valid Loss EPOCH 290: 1.2636\n",
      "Train Accuracy EPOCH 290: 0.9051\n",
      "Valid Accuracy EPOCH 290: 0.6354\n",
      "------------------------------\n"
     ]
    },
    {
     "name": "stderr",
     "output_type": "stream",
     "text": [
      "100%|██████████| 881/881 [01:12<00:00, 12.13it/s]\n",
      "100%|██████████| 189/189 [00:04<00:00, 45.33it/s]\n",
      " 58%|█████▊    | 291/500 [6:25:43<4:30:55, 77.78s/it]"
     ]
    },
    {
     "name": "stdout",
     "output_type": "stream",
     "text": [
      "------------------------------\n",
      "Train Loss EPOCH 291: 0.9991\n",
      "Valid Loss EPOCH 291: 1.2610\n",
      "Train Accuracy EPOCH 291: 0.9036\n",
      "Valid Accuracy EPOCH 291: 0.6372\n",
      "------------------------------\n"
     ]
    },
    {
     "name": "stderr",
     "output_type": "stream",
     "text": [
      "100%|██████████| 881/881 [01:12<00:00, 12.11it/s]\n",
      "100%|██████████| 189/189 [00:04<00:00, 40.99it/s]\n",
      " 58%|█████▊    | 292/500 [6:27:01<4:29:23, 77.71s/it]"
     ]
    },
    {
     "name": "stdout",
     "output_type": "stream",
     "text": [
      "------------------------------\n",
      "Train Loss EPOCH 292: 0.9954\n",
      "Valid Loss EPOCH 292: 1.2635\n",
      "Train Accuracy EPOCH 292: 0.9073\n",
      "Valid Accuracy EPOCH 292: 0.6342\n",
      "------------------------------\n"
     ]
    },
    {
     "name": "stderr",
     "output_type": "stream",
     "text": [
      "100%|██████████| 881/881 [01:12<00:00, 12.17it/s]\n",
      "100%|██████████| 189/189 [00:04<00:00, 41.24it/s]\n",
      " 59%|█████▊    | 293/500 [6:28:18<4:27:34, 77.56s/it]"
     ]
    },
    {
     "name": "stdout",
     "output_type": "stream",
     "text": [
      "------------------------------\n",
      "Train Loss EPOCH 293: 0.9968\n",
      "Valid Loss EPOCH 293: 1.2734\n",
      "Train Accuracy EPOCH 293: 0.9055\n",
      "Valid Accuracy EPOCH 293: 0.6257\n",
      "------------------------------\n"
     ]
    },
    {
     "name": "stderr",
     "output_type": "stream",
     "text": [
      "100%|██████████| 881/881 [01:12<00:00, 12.16it/s]\n",
      "100%|██████████| 189/189 [00:04<00:00, 39.88it/s]\n",
      " 59%|█████▉    | 294/500 [6:29:35<4:26:07, 77.51s/it]"
     ]
    },
    {
     "name": "stdout",
     "output_type": "stream",
     "text": [
      "------------------------------\n",
      "Train Loss EPOCH 294: 0.9980\n",
      "Valid Loss EPOCH 294: 1.2688\n",
      "Train Accuracy EPOCH 294: 0.9051\n",
      "Valid Accuracy EPOCH 294: 0.6292\n",
      "------------------------------\n"
     ]
    },
    {
     "name": "stderr",
     "output_type": "stream",
     "text": [
      "100%|██████████| 881/881 [01:12<00:00, 12.19it/s]\n",
      "100%|██████████| 189/189 [00:04<00:00, 41.07it/s]\n",
      " 59%|█████▉    | 295/500 [6:30:52<4:24:23, 77.39s/it]"
     ]
    },
    {
     "name": "stdout",
     "output_type": "stream",
     "text": [
      "------------------------------\n",
      "Train Loss EPOCH 295: 0.9977\n",
      "Valid Loss EPOCH 295: 1.2599\n",
      "Train Accuracy EPOCH 295: 0.9053\n",
      "Valid Accuracy EPOCH 295: 0.6393\n",
      "------------------------------\n"
     ]
    },
    {
     "name": "stderr",
     "output_type": "stream",
     "text": [
      "100%|██████████| 881/881 [01:11<00:00, 12.25it/s]\n",
      "100%|██████████| 189/189 [00:04<00:00, 40.63it/s]\n"
     ]
    },
    {
     "name": "stdout",
     "output_type": "stream",
     "text": [
      "------------------------------\n",
      "Train Loss EPOCH 296: 0.9964\n",
      "Valid Loss EPOCH 296: 1.2814\n",
      "Train Accuracy EPOCH 296: 0.9064\n",
      "Valid Accuracy EPOCH 296: 0.6160\n",
      "------------------------------\n"
     ]
    },
    {
     "name": "stderr",
     "output_type": "stream",
     "text": [
      "100%|██████████| 881/881 [01:11<00:00, 12.26it/s]/it]\n",
      "100%|██████████| 189/189 [00:04<00:00, 38.53it/s]\n",
      " 59%|█████▉    | 297/500 [6:33:26<4:21:00, 77.15s/it]"
     ]
    },
    {
     "name": "stdout",
     "output_type": "stream",
     "text": [
      "------------------------------\n",
      "Train Loss EPOCH 297: 0.9957\n",
      "Valid Loss EPOCH 297: 1.2629\n",
      "Train Accuracy EPOCH 297: 0.9071\n",
      "Valid Accuracy EPOCH 297: 0.6360\n",
      "------------------------------\n"
     ]
    },
    {
     "name": "stderr",
     "output_type": "stream",
     "text": [
      "100%|██████████| 881/881 [01:12<00:00, 12.22it/s]\n",
      "100%|██████████| 189/189 [00:04<00:00, 42.16it/s]\n"
     ]
    },
    {
     "name": "stdout",
     "output_type": "stream",
     "text": [
      "------------------------------\n",
      "Train Loss EPOCH 298: 0.9926\n",
      "Valid Loss EPOCH 298: 1.2577\n",
      "Train Accuracy EPOCH 298: 0.9103\n",
      "Valid Accuracy EPOCH 298: 0.6421\n",
      "------------------------------\n"
     ]
    },
    {
     "name": "stderr",
     "output_type": "stream",
     "text": [
      "100%|██████████| 881/881 [01:12<00:00, 12.15it/s]/it]\n",
      "100%|██████████| 189/189 [00:04<00:00, 41.80it/s]\n",
      " 60%|█████▉    | 299/500 [6:36:00<4:18:18, 77.10s/it]"
     ]
    },
    {
     "name": "stdout",
     "output_type": "stream",
     "text": [
      "------------------------------\n",
      "Train Loss EPOCH 299: 0.9944\n",
      "Valid Loss EPOCH 299: 1.2724\n",
      "Train Accuracy EPOCH 299: 0.9080\n",
      "Valid Accuracy EPOCH 299: 0.6272\n",
      "------------------------------\n"
     ]
    },
    {
     "name": "stderr",
     "output_type": "stream",
     "text": [
      "100%|██████████| 881/881 [01:12<00:00, 12.20it/s]\n",
      "100%|██████████| 189/189 [00:04<00:00, 41.77it/s]\n",
      " 60%|██████    | 300/500 [6:37:17<4:16:51, 77.06s/it]"
     ]
    },
    {
     "name": "stdout",
     "output_type": "stream",
     "text": [
      "------------------------------\n",
      "Train Loss EPOCH 300: 0.9907\n",
      "Valid Loss EPOCH 300: 1.2659\n",
      "Train Accuracy EPOCH 300: 0.9128\n",
      "Valid Accuracy EPOCH 300: 0.6329\n",
      "------------------------------\n"
     ]
    },
    {
     "name": "stderr",
     "output_type": "stream",
     "text": [
      "100%|██████████| 881/881 [01:11<00:00, 12.25it/s]\n",
      "100%|██████████| 189/189 [00:04<00:00, 38.43it/s]\n",
      " 60%|██████    | 301/500 [6:38:34<4:15:34, 77.06s/it]"
     ]
    },
    {
     "name": "stdout",
     "output_type": "stream",
     "text": [
      "------------------------------\n",
      "Train Loss EPOCH 301: 0.9911\n",
      "Valid Loss EPOCH 301: 1.2721\n",
      "Train Accuracy EPOCH 301: 0.9115\n",
      "Valid Accuracy EPOCH 301: 0.6272\n",
      "------------------------------\n"
     ]
    },
    {
     "name": "stderr",
     "output_type": "stream",
     "text": [
      "100%|██████████| 881/881 [01:12<00:00, 12.22it/s]\n",
      "100%|██████████| 189/189 [00:04<00:00, 41.54it/s]\n",
      " 60%|██████    | 302/500 [6:39:51<4:14:04, 76.99s/it]"
     ]
    },
    {
     "name": "stdout",
     "output_type": "stream",
     "text": [
      "------------------------------\n",
      "Train Loss EPOCH 302: 0.9946\n",
      "Valid Loss EPOCH 302: 1.2742\n",
      "Train Accuracy EPOCH 302: 0.9084\n",
      "Valid Accuracy EPOCH 302: 0.6226\n",
      "------------------------------\n"
     ]
    },
    {
     "name": "stderr",
     "output_type": "stream",
     "text": [
      "100%|██████████| 881/881 [01:12<00:00, 12.23it/s]\n",
      "100%|██████████| 189/189 [00:04<00:00, 38.99it/s]\n",
      " 61%|██████    | 303/500 [6:41:08<4:12:52, 77.02s/it]"
     ]
    },
    {
     "name": "stdout",
     "output_type": "stream",
     "text": [
      "------------------------------\n",
      "Train Loss EPOCH 303: 0.9998\n",
      "Valid Loss EPOCH 303: 1.2723\n",
      "Train Accuracy EPOCH 303: 0.9030\n",
      "Valid Accuracy EPOCH 303: 0.6246\n",
      "------------------------------\n"
     ]
    },
    {
     "name": "stderr",
     "output_type": "stream",
     "text": [
      "100%|██████████| 881/881 [01:12<00:00, 12.21it/s]\n",
      "100%|██████████| 189/189 [00:04<00:00, 46.45it/s]\n",
      " 61%|██████    | 304/500 [6:42:25<4:11:00, 76.84s/it]"
     ]
    },
    {
     "name": "stdout",
     "output_type": "stream",
     "text": [
      "------------------------------\n",
      "Train Loss EPOCH 304: 0.9934\n",
      "Valid Loss EPOCH 304: 1.2676\n",
      "Train Accuracy EPOCH 304: 0.9095\n",
      "Valid Accuracy EPOCH 304: 0.6292\n",
      "------------------------------\n"
     ]
    },
    {
     "name": "stderr",
     "output_type": "stream",
     "text": [
      "100%|██████████| 881/881 [01:12<00:00, 12.17it/s]\n",
      "100%|██████████| 189/189 [00:04<00:00, 41.31it/s]\n",
      " 61%|██████    | 305/500 [6:43:42<4:10:05, 76.95s/it]"
     ]
    },
    {
     "name": "stdout",
     "output_type": "stream",
     "text": [
      "------------------------------\n",
      "Train Loss EPOCH 305: 0.9907\n",
      "Valid Loss EPOCH 305: 1.2714\n",
      "Train Accuracy EPOCH 305: 0.9115\n",
      "Valid Accuracy EPOCH 305: 0.6274\n",
      "------------------------------\n"
     ]
    },
    {
     "name": "stderr",
     "output_type": "stream",
     "text": [
      "100%|██████████| 881/881 [01:12<00:00, 12.21it/s]\n",
      "100%|██████████| 189/189 [00:04<00:00, 40.37it/s]\n",
      " 61%|██████    | 306/500 [6:44:59<4:08:55, 76.99s/it]"
     ]
    },
    {
     "name": "stdout",
     "output_type": "stream",
     "text": [
      "------------------------------\n",
      "Train Loss EPOCH 306: 0.9943\n",
      "Valid Loss EPOCH 306: 1.2851\n",
      "Train Accuracy EPOCH 306: 0.9087\n",
      "Valid Accuracy EPOCH 306: 0.6145\n",
      "------------------------------\n"
     ]
    },
    {
     "name": "stderr",
     "output_type": "stream",
     "text": [
      "100%|██████████| 881/881 [01:11<00:00, 12.27it/s]\n",
      "100%|██████████| 189/189 [00:04<00:00, 44.11it/s]\n",
      " 61%|██████▏   | 307/500 [6:46:15<4:07:00, 76.79s/it]"
     ]
    },
    {
     "name": "stdout",
     "output_type": "stream",
     "text": [
      "------------------------------\n",
      "Train Loss EPOCH 307: 0.9923\n",
      "Valid Loss EPOCH 307: 1.2610\n",
      "Train Accuracy EPOCH 307: 0.9100\n",
      "Valid Accuracy EPOCH 307: 0.6370\n",
      "------------------------------\n"
     ]
    },
    {
     "name": "stderr",
     "output_type": "stream",
     "text": [
      "100%|██████████| 881/881 [01:12<00:00, 12.14it/s]\n",
      "100%|██████████| 189/189 [00:04<00:00, 42.72it/s]\n",
      " 62%|██████▏   | 308/500 [6:47:32<4:06:05, 76.90s/it]"
     ]
    },
    {
     "name": "stdout",
     "output_type": "stream",
     "text": [
      "------------------------------\n",
      "Train Loss EPOCH 308: 0.9870\n",
      "Valid Loss EPOCH 308: 1.2606\n",
      "Train Accuracy EPOCH 308: 0.9164\n",
      "Valid Accuracy EPOCH 308: 0.6380\n",
      "------------------------------\n"
     ]
    },
    {
     "name": "stderr",
     "output_type": "stream",
     "text": [
      "100%|██████████| 881/881 [01:12<00:00, 12.19it/s]\n",
      "100%|██████████| 189/189 [00:04<00:00, 44.70it/s]\n",
      " 62%|██████▏   | 309/500 [6:48:49<4:04:39, 76.85s/it]"
     ]
    },
    {
     "name": "stdout",
     "output_type": "stream",
     "text": [
      "------------------------------\n",
      "Train Loss EPOCH 309: 0.9955\n",
      "Valid Loss EPOCH 309: 1.2760\n",
      "Train Accuracy EPOCH 309: 0.9069\n",
      "Valid Accuracy EPOCH 309: 0.6238\n",
      "------------------------------\n"
     ]
    },
    {
     "name": "stderr",
     "output_type": "stream",
     "text": [
      "100%|██████████| 881/881 [01:12<00:00, 12.18it/s]\n",
      "100%|██████████| 189/189 [00:04<00:00, 40.86it/s]\n"
     ]
    },
    {
     "name": "stdout",
     "output_type": "stream",
     "text": [
      "------------------------------\n",
      "Train Loss EPOCH 310: 0.9926\n",
      "Valid Loss EPOCH 310: 1.2684\n",
      "Train Accuracy EPOCH 310: 0.9104\n",
      "Valid Accuracy EPOCH 310: 0.6286\n",
      "------------------------------\n"
     ]
    },
    {
     "name": "stderr",
     "output_type": "stream",
     "text": [
      "100%|██████████| 881/881 [01:12<00:00, 12.15it/s]/it]\n",
      "100%|██████████| 189/189 [00:04<00:00, 38.15it/s]\n"
     ]
    },
    {
     "name": "stdout",
     "output_type": "stream",
     "text": [
      "------------------------------\n",
      "Train Loss EPOCH 311: 0.9889\n",
      "Valid Loss EPOCH 311: 1.2581\n",
      "Train Accuracy EPOCH 311: 0.9135\n",
      "Valid Accuracy EPOCH 311: 0.6418\n",
      "------------------------------\n"
     ]
    },
    {
     "name": "stderr",
     "output_type": "stream",
     "text": [
      "100%|██████████| 881/881 [01:12<00:00, 12.13it/s]/it]\n",
      "100%|██████████| 189/189 [00:04<00:00, 44.85it/s]\n",
      " 62%|██████▏   | 312/500 [6:52:41<4:01:42, 77.14s/it]"
     ]
    },
    {
     "name": "stdout",
     "output_type": "stream",
     "text": [
      "------------------------------\n",
      "Train Loss EPOCH 312: 0.9895\n",
      "Valid Loss EPOCH 312: 1.2634\n",
      "Train Accuracy EPOCH 312: 0.9127\n",
      "Valid Accuracy EPOCH 312: 0.6342\n",
      "------------------------------\n"
     ]
    },
    {
     "name": "stderr",
     "output_type": "stream",
     "text": [
      "100%|██████████| 881/881 [01:12<00:00, 12.23it/s]\n",
      "100%|██████████| 189/189 [00:04<00:00, 38.80it/s]\n",
      " 63%|██████▎   | 313/500 [6:53:58<4:00:25, 77.14s/it]"
     ]
    },
    {
     "name": "stdout",
     "output_type": "stream",
     "text": [
      "------------------------------\n",
      "Train Loss EPOCH 313: 0.9909\n",
      "Valid Loss EPOCH 313: 1.2609\n",
      "Train Accuracy EPOCH 313: 0.9111\n",
      "Valid Accuracy EPOCH 313: 0.6375\n",
      "------------------------------\n"
     ]
    },
    {
     "name": "stderr",
     "output_type": "stream",
     "text": [
      "100%|██████████| 881/881 [01:12<00:00, 12.13it/s]\n",
      "100%|██████████| 189/189 [00:05<00:00, 37.69it/s]\n",
      " 63%|██████▎   | 314/500 [6:55:16<3:59:48, 77.36s/it]"
     ]
    },
    {
     "name": "stdout",
     "output_type": "stream",
     "text": [
      "------------------------------\n",
      "Train Loss EPOCH 314: 0.9884\n",
      "Valid Loss EPOCH 314: 1.2595\n",
      "Train Accuracy EPOCH 314: 0.9144\n",
      "Valid Accuracy EPOCH 314: 0.6400\n",
      "------------------------------\n"
     ]
    },
    {
     "name": "stderr",
     "output_type": "stream",
     "text": [
      "100%|██████████| 881/881 [01:12<00:00, 12.16it/s]\n",
      "100%|██████████| 189/189 [00:05<00:00, 37.27it/s]\n"
     ]
    },
    {
     "name": "stdout",
     "output_type": "stream",
     "text": [
      "------------------------------\n",
      "Train Loss EPOCH 315: 0.9944\n",
      "Valid Loss EPOCH 315: 1.2653\n",
      "Train Accuracy EPOCH 315: 0.9089\n"
     ]
    },
    {
     "name": "stderr",
     "output_type": "stream",
     "text": [
      " 63%|██████▎   | 315/500 [6:56:34<3:58:52, 77.48s/it]"
     ]
    },
    {
     "name": "stdout",
     "output_type": "stream",
     "text": [
      "Valid Accuracy EPOCH 315: 0.6322\n",
      "------------------------------\n"
     ]
    },
    {
     "name": "stderr",
     "output_type": "stream",
     "text": [
      "100%|██████████| 881/881 [01:12<00:00, 12.18it/s]\n",
      "100%|██████████| 189/189 [00:04<00:00, 42.35it/s]\n"
     ]
    },
    {
     "name": "stdout",
     "output_type": "stream",
     "text": [
      "------------------------------\n",
      "Train Loss EPOCH 316: 0.9882\n",
      "Valid Loss EPOCH 316: 1.2674\n",
      "Train Accuracy EPOCH 316: 0.9139\n"
     ]
    },
    {
     "name": "stderr",
     "output_type": "stream",
     "text": [
      " 63%|██████▎   | 316/500 [6:57:51<3:57:09, 77.34s/it]"
     ]
    },
    {
     "name": "stdout",
     "output_type": "stream",
     "text": [
      "Valid Accuracy EPOCH 316: 0.6307\n",
      "------------------------------\n"
     ]
    },
    {
     "name": "stderr",
     "output_type": "stream",
     "text": [
      "100%|██████████| 881/881 [01:12<00:00, 12.15it/s]\n",
      "100%|██████████| 189/189 [00:04<00:00, 44.18it/s]\n"
     ]
    },
    {
     "name": "stdout",
     "output_type": "stream",
     "text": [
      "------------------------------\n",
      "Train Loss EPOCH 317: 0.9864\n",
      "Valid Loss EPOCH 317: 1.2635\n",
      "Train Accuracy EPOCH 317: 0.9161\n"
     ]
    },
    {
     "name": "stderr",
     "output_type": "stream",
     "text": [
      " 63%|██████▎   | 317/500 [6:59:08<3:55:35, 77.24s/it]"
     ]
    },
    {
     "name": "stdout",
     "output_type": "stream",
     "text": [
      "Valid Accuracy EPOCH 317: 0.6352\n",
      "------------------------------\n"
     ]
    },
    {
     "name": "stderr",
     "output_type": "stream",
     "text": [
      "100%|██████████| 881/881 [01:12<00:00, 12.22it/s]\n",
      "100%|██████████| 189/189 [00:04<00:00, 39.31it/s]\n"
     ]
    },
    {
     "name": "stdout",
     "output_type": "stream",
     "text": [
      "------------------------------\n",
      "Train Loss EPOCH 318: 0.9907\n",
      "Valid Loss EPOCH 318: 1.2596\n",
      "Train Accuracy EPOCH 318: 0.9125\n"
     ]
    },
    {
     "name": "stderr",
     "output_type": "stream",
     "text": [
      " 64%|██████▎   | 318/500 [7:00:25<3:54:12, 77.21s/it]"
     ]
    },
    {
     "name": "stdout",
     "output_type": "stream",
     "text": [
      "Valid Accuracy EPOCH 318: 0.6395\n",
      "------------------------------\n"
     ]
    },
    {
     "name": "stderr",
     "output_type": "stream",
     "text": [
      "100%|██████████| 881/881 [01:12<00:00, 12.14it/s]\n",
      "100%|██████████| 189/189 [00:04<00:00, 38.82it/s]\n"
     ]
    },
    {
     "name": "stdout",
     "output_type": "stream",
     "text": [
      "------------------------------\n",
      "Train Loss EPOCH 319: 0.9864\n",
      "Valid Loss EPOCH 319: 1.2670\n",
      "Train Accuracy EPOCH 319: 0.9170\n"
     ]
    },
    {
     "name": "stderr",
     "output_type": "stream",
     "text": [
      " 64%|██████▍   | 319/500 [7:01:43<3:53:20, 77.35s/it]"
     ]
    },
    {
     "name": "stdout",
     "output_type": "stream",
     "text": [
      "Valid Accuracy EPOCH 319: 0.6289\n",
      "------------------------------\n"
     ]
    },
    {
     "name": "stderr",
     "output_type": "stream",
     "text": [
      "100%|██████████| 881/881 [01:12<00:00, 12.10it/s]\n",
      "100%|██████████| 189/189 [00:04<00:00, 38.16it/s]\n",
      " 64%|██████▍   | 320/500 [7:03:01<3:52:35, 77.53s/it]"
     ]
    },
    {
     "name": "stdout",
     "output_type": "stream",
     "text": [
      "------------------------------\n",
      "Train Loss EPOCH 320: 0.9883\n",
      "Valid Loss EPOCH 320: 1.2667\n",
      "Train Accuracy EPOCH 320: 0.9145\n",
      "Valid Accuracy EPOCH 320: 0.6302\n",
      "------------------------------\n"
     ]
    },
    {
     "name": "stderr",
     "output_type": "stream",
     "text": [
      "100%|██████████| 881/881 [01:12<00:00, 12.17it/s]\n",
      "100%|██████████| 189/189 [00:04<00:00, 38.30it/s]\n",
      " 64%|██████▍   | 321/500 [7:04:18<3:51:19, 77.54s/it]"
     ]
    },
    {
     "name": "stdout",
     "output_type": "stream",
     "text": [
      "------------------------------\n",
      "Train Loss EPOCH 321: 0.9933\n",
      "Valid Loss EPOCH 321: 1.2669\n",
      "Train Accuracy EPOCH 321: 0.9092\n",
      "Valid Accuracy EPOCH 321: 0.6314\n",
      "------------------------------\n"
     ]
    },
    {
     "name": "stderr",
     "output_type": "stream",
     "text": [
      "100%|██████████| 881/881 [01:12<00:00, 12.17it/s]\n",
      "100%|██████████| 189/189 [00:04<00:00, 40.04it/s]\n",
      " 64%|██████▍   | 322/500 [7:05:36<3:49:50, 77.47s/it]"
     ]
    },
    {
     "name": "stdout",
     "output_type": "stream",
     "text": [
      "------------------------------\n",
      "Train Loss EPOCH 322: 0.9864\n",
      "Valid Loss EPOCH 322: 1.2626\n",
      "Train Accuracy EPOCH 322: 0.9159\n",
      "Valid Accuracy EPOCH 322: 0.6359\n",
      "------------------------------\n"
     ]
    },
    {
     "name": "stderr",
     "output_type": "stream",
     "text": [
      "100%|██████████| 881/881 [01:12<00:00, 12.17it/s]\n",
      "100%|██████████| 189/189 [00:05<00:00, 37.68it/s]\n"
     ]
    },
    {
     "name": "stdout",
     "output_type": "stream",
     "text": [
      "------------------------------\n",
      "Train Loss EPOCH 323: 0.9909\n",
      "Valid Loss EPOCH 323: 1.2638\n",
      "Train Accuracy EPOCH 323: 0.9118\n"
     ]
    },
    {
     "name": "stderr",
     "output_type": "stream",
     "text": [
      " 65%|██████▍   | 323/500 [7:06:53<3:48:43, 77.53s/it]"
     ]
    },
    {
     "name": "stdout",
     "output_type": "stream",
     "text": [
      "Valid Accuracy EPOCH 323: 0.6349\n",
      "------------------------------\n"
     ]
    },
    {
     "name": "stderr",
     "output_type": "stream",
     "text": [
      "100%|██████████| 881/881 [01:12<00:00, 12.18it/s]\n",
      "100%|██████████| 189/189 [00:04<00:00, 40.65it/s]\n"
     ]
    },
    {
     "name": "stdout",
     "output_type": "stream",
     "text": [
      "------------------------------\n",
      "Train Loss EPOCH 324: 0.9886\n",
      "Valid Loss EPOCH 324: 1.2521\n",
      "Train Accuracy EPOCH 324: 0.9146\n"
     ]
    },
    {
     "name": "stderr",
     "output_type": "stream",
     "text": [
      " 65%|██████▍   | 324/500 [7:08:10<3:47:09, 77.44s/it]"
     ]
    },
    {
     "name": "stdout",
     "output_type": "stream",
     "text": [
      "Valid Accuracy EPOCH 324: 0.6486\n",
      "------------------------------\n"
     ]
    },
    {
     "name": "stderr",
     "output_type": "stream",
     "text": [
      "100%|██████████| 881/881 [01:12<00:00, 12.12it/s]\n",
      "100%|██████████| 189/189 [00:04<00:00, 43.52it/s]\n",
      " 65%|██████▌   | 325/500 [7:09:28<3:45:43, 77.39s/it]"
     ]
    },
    {
     "name": "stdout",
     "output_type": "stream",
     "text": [
      "------------------------------\n",
      "Train Loss EPOCH 325: 0.9905\n",
      "Valid Loss EPOCH 325: 1.2561\n",
      "Train Accuracy EPOCH 325: 0.9121\n",
      "Valid Accuracy EPOCH 325: 0.6426\n",
      "------------------------------\n"
     ]
    },
    {
     "name": "stderr",
     "output_type": "stream",
     "text": [
      "100%|██████████| 881/881 [01:12<00:00, 12.14it/s]\n",
      "100%|██████████| 189/189 [00:04<00:00, 39.14it/s]\n"
     ]
    },
    {
     "name": "stdout",
     "output_type": "stream",
     "text": [
      "------------------------------\n",
      "Train Loss EPOCH 326: 0.9870\n",
      "Valid Loss EPOCH 326: 1.2774\n",
      "Train Accuracy EPOCH 326: 0.9161\n",
      "Valid Accuracy EPOCH 326: 0.6194\n",
      "------------------------------\n"
     ]
    },
    {
     "name": "stderr",
     "output_type": "stream",
     "text": [
      "100%|██████████| 881/881 [01:12<00:00, 12.15it/s]/it]\n",
      "100%|██████████| 189/189 [00:05<00:00, 37.36it/s]\n",
      " 65%|██████▌   | 327/500 [7:12:03<3:43:38, 77.57s/it]"
     ]
    },
    {
     "name": "stdout",
     "output_type": "stream",
     "text": [
      "------------------------------\n",
      "Train Loss EPOCH 327: 0.9864\n",
      "Valid Loss EPOCH 327: 1.2625\n",
      "Train Accuracy EPOCH 327: 0.9158\n",
      "Valid Accuracy EPOCH 327: 0.6357\n",
      "------------------------------\n"
     ]
    },
    {
     "name": "stderr",
     "output_type": "stream",
     "text": [
      "100%|██████████| 881/881 [01:12<00:00, 12.19it/s]\n",
      "100%|██████████| 189/189 [00:05<00:00, 37.10it/s]\n"
     ]
    },
    {
     "name": "stdout",
     "output_type": "stream",
     "text": [
      "------------------------------\n",
      "Train Loss EPOCH 328: 0.9871\n",
      "Valid Loss EPOCH 328: 1.2495\n",
      "Train Accuracy EPOCH 328: 0.9165\n"
     ]
    },
    {
     "name": "stderr",
     "output_type": "stream",
     "text": [
      " 66%|██████▌   | 328/500 [7:13:21<3:42:22, 77.57s/it]"
     ]
    },
    {
     "name": "stdout",
     "output_type": "stream",
     "text": [
      "Valid Accuracy EPOCH 328: 0.6483\n",
      "------------------------------\n"
     ]
    },
    {
     "name": "stderr",
     "output_type": "stream",
     "text": [
      "100%|██████████| 881/881 [01:12<00:00, 12.11it/s]\n",
      "100%|██████████| 189/189 [00:04<00:00, 40.07it/s]\n",
      " 66%|██████▌   | 329/500 [7:14:38<3:41:11, 77.61s/it]"
     ]
    },
    {
     "name": "stdout",
     "output_type": "stream",
     "text": [
      "------------------------------\n",
      "Train Loss EPOCH 329: 0.9832\n",
      "Valid Loss EPOCH 329: 1.2645\n",
      "Train Accuracy EPOCH 329: 0.9199\n",
      "Valid Accuracy EPOCH 329: 0.6355\n",
      "------------------------------\n"
     ]
    },
    {
     "name": "stderr",
     "output_type": "stream",
     "text": [
      "100%|██████████| 881/881 [01:12<00:00, 12.18it/s]\n",
      "100%|██████████| 189/189 [00:04<00:00, 37.96it/s]\n"
     ]
    },
    {
     "name": "stdout",
     "output_type": "stream",
     "text": [
      "------------------------------\n",
      "Train Loss EPOCH 330: 0.9863\n",
      "Valid Loss EPOCH 330: 1.2617\n",
      "Train Accuracy EPOCH 330: 0.9166\n"
     ]
    },
    {
     "name": "stderr",
     "output_type": "stream",
     "text": [
      " 66%|██████▌   | 330/500 [7:15:56<3:39:49, 77.59s/it]"
     ]
    },
    {
     "name": "stdout",
     "output_type": "stream",
     "text": [
      "Valid Accuracy EPOCH 330: 0.6365\n",
      "------------------------------\n"
     ]
    },
    {
     "name": "stderr",
     "output_type": "stream",
     "text": [
      "100%|██████████| 881/881 [01:11<00:00, 12.24it/s]\n",
      "100%|██████████| 189/189 [00:04<00:00, 40.20it/s]\n"
     ]
    },
    {
     "name": "stdout",
     "output_type": "stream",
     "text": [
      "------------------------------\n",
      "Train Loss EPOCH 331: 0.9844\n",
      "Valid Loss EPOCH 331: 1.2595\n",
      "Train Accuracy EPOCH 331: 0.9184\n"
     ]
    },
    {
     "name": "stderr",
     "output_type": "stream",
     "text": [
      " 66%|██████▌   | 331/500 [7:17:13<3:37:58, 77.39s/it]"
     ]
    },
    {
     "name": "stdout",
     "output_type": "stream",
     "text": [
      "Valid Accuracy EPOCH 331: 0.6395\n",
      "------------------------------\n"
     ]
    },
    {
     "name": "stderr",
     "output_type": "stream",
     "text": [
      "100%|██████████| 881/881 [01:12<00:00, 12.21it/s]\n",
      "100%|██████████| 189/189 [00:04<00:00, 41.55it/s]\n",
      " 66%|██████▋   | 332/500 [7:18:30<3:36:18, 77.25s/it]"
     ]
    },
    {
     "name": "stdout",
     "output_type": "stream",
     "text": [
      "------------------------------\n",
      "Train Loss EPOCH 332: 0.9864\n",
      "Valid Loss EPOCH 332: 1.2622\n",
      "Train Accuracy EPOCH 332: 0.9171\n",
      "Valid Accuracy EPOCH 332: 0.6357\n",
      "------------------------------\n"
     ]
    },
    {
     "name": "stderr",
     "output_type": "stream",
     "text": [
      "100%|██████████| 881/881 [01:12<00:00, 12.17it/s]\n",
      "100%|██████████| 189/189 [00:04<00:00, 42.82it/s]\n",
      " 67%|██████▋   | 333/500 [7:19:47<3:34:48, 77.18s/it]"
     ]
    },
    {
     "name": "stdout",
     "output_type": "stream",
     "text": [
      "------------------------------\n",
      "Train Loss EPOCH 333: 0.9839\n",
      "Valid Loss EPOCH 333: 1.2587\n",
      "Train Accuracy EPOCH 333: 0.9193\n",
      "Valid Accuracy EPOCH 333: 0.6395\n",
      "------------------------------\n"
     ]
    },
    {
     "name": "stderr",
     "output_type": "stream",
     "text": [
      "100%|██████████| 881/881 [01:12<00:00, 12.10it/s]\n",
      "100%|██████████| 189/189 [00:04<00:00, 38.95it/s]\n",
      " 67%|██████▋   | 334/500 [7:21:05<3:34:05, 77.38s/it]"
     ]
    },
    {
     "name": "stdout",
     "output_type": "stream",
     "text": [
      "------------------------------\n",
      "Train Loss EPOCH 334: 0.9831\n",
      "Valid Loss EPOCH 334: 1.2621\n",
      "Train Accuracy EPOCH 334: 0.9196\n",
      "Valid Accuracy EPOCH 334: 0.6360\n",
      "------------------------------\n"
     ]
    },
    {
     "name": "stderr",
     "output_type": "stream",
     "text": [
      "100%|██████████| 881/881 [01:12<00:00, 12.19it/s]\n",
      "100%|██████████| 189/189 [00:04<00:00, 39.99it/s]\n"
     ]
    },
    {
     "name": "stdout",
     "output_type": "stream",
     "text": [
      "------------------------------\n",
      "Train Loss EPOCH 335: 0.9846\n",
      "Valid Loss EPOCH 335: 1.2643\n",
      "Train Accuracy EPOCH 335: 0.9185\n"
     ]
    },
    {
     "name": "stderr",
     "output_type": "stream",
     "text": [
      " 67%|██████▋   | 335/500 [7:22:22<3:32:41, 77.34s/it]"
     ]
    },
    {
     "name": "stdout",
     "output_type": "stream",
     "text": [
      "Valid Accuracy EPOCH 335: 0.6354\n",
      "------------------------------\n"
     ]
    },
    {
     "name": "stderr",
     "output_type": "stream",
     "text": [
      "100%|██████████| 881/881 [01:11<00:00, 12.26it/s]\n",
      "100%|██████████| 189/189 [00:04<00:00, 37.93it/s]\n",
      " 67%|██████▋   | 336/500 [7:23:39<3:31:09, 77.25s/it]"
     ]
    },
    {
     "name": "stdout",
     "output_type": "stream",
     "text": [
      "------------------------------\n",
      "Train Loss EPOCH 336: 0.9860\n",
      "Valid Loss EPOCH 336: 1.2629\n",
      "Train Accuracy EPOCH 336: 0.9168\n",
      "Valid Accuracy EPOCH 336: 0.6367\n",
      "------------------------------\n"
     ]
    },
    {
     "name": "stderr",
     "output_type": "stream",
     "text": [
      "100%|██████████| 881/881 [01:11<00:00, 12.24it/s]\n",
      "100%|██████████| 189/189 [00:04<00:00, 40.13it/s]\n"
     ]
    },
    {
     "name": "stdout",
     "output_type": "stream",
     "text": [
      "------------------------------\n",
      "Train Loss EPOCH 337: 0.9852\n",
      "Valid Loss EPOCH 337: 1.2600\n",
      "Train Accuracy EPOCH 337: 0.9171\n"
     ]
    },
    {
     "name": "stderr",
     "output_type": "stream",
     "text": [
      " 67%|██████▋   | 337/500 [7:24:56<3:29:35, 77.15s/it]"
     ]
    },
    {
     "name": "stdout",
     "output_type": "stream",
     "text": [
      "Valid Accuracy EPOCH 337: 0.6382\n",
      "------------------------------\n"
     ]
    },
    {
     "name": "stderr",
     "output_type": "stream",
     "text": [
      "100%|██████████| 881/881 [01:11<00:00, 12.30it/s]\n",
      "100%|██████████| 189/189 [00:04<00:00, 40.59it/s]\n"
     ]
    },
    {
     "name": "stdout",
     "output_type": "stream",
     "text": [
      "------------------------------\n",
      "Train Loss EPOCH 338: 0.9866\n",
      "Valid Loss EPOCH 338: 1.2618\n",
      "Train Accuracy EPOCH 338: 0.9162\n"
     ]
    },
    {
     "name": "stderr",
     "output_type": "stream",
     "text": [
      " 68%|██████▊   | 338/500 [7:26:12<3:27:48, 76.96s/it]"
     ]
    },
    {
     "name": "stdout",
     "output_type": "stream",
     "text": [
      "Valid Accuracy EPOCH 338: 0.6378\n",
      "------------------------------\n"
     ]
    },
    {
     "name": "stderr",
     "output_type": "stream",
     "text": [
      "100%|██████████| 881/881 [01:12<00:00, 12.19it/s]\n",
      "100%|██████████| 189/189 [00:04<00:00, 39.00it/s]\n",
      " 68%|██████▊   | 339/500 [7:27:30<3:26:48, 77.07s/it]"
     ]
    },
    {
     "name": "stdout",
     "output_type": "stream",
     "text": [
      "------------------------------\n",
      "Train Loss EPOCH 339: 0.9874\n",
      "Valid Loss EPOCH 339: 1.2580\n",
      "Train Accuracy EPOCH 339: 0.9154\n",
      "Valid Accuracy EPOCH 339: 0.6415\n",
      "------------------------------\n"
     ]
    },
    {
     "name": "stderr",
     "output_type": "stream",
     "text": [
      "100%|██████████| 881/881 [01:12<00:00, 12.22it/s]\n",
      "100%|██████████| 189/189 [00:04<00:00, 40.11it/s]\n",
      " 68%|██████▊   | 340/500 [7:28:47<3:25:28, 77.05s/it]"
     ]
    },
    {
     "name": "stdout",
     "output_type": "stream",
     "text": [
      "------------------------------\n",
      "Train Loss EPOCH 340: 0.9822\n",
      "Valid Loss EPOCH 340: 1.2694\n",
      "Train Accuracy EPOCH 340: 0.9205\n",
      "Valid Accuracy EPOCH 340: 0.6289\n",
      "------------------------------\n"
     ]
    },
    {
     "name": "stderr",
     "output_type": "stream",
     "text": [
      "100%|██████████| 881/881 [01:12<00:00, 12.18it/s]\n",
      "100%|██████████| 189/189 [00:04<00:00, 37.83it/s]\n",
      " 68%|██████▊   | 341/500 [7:30:04<3:24:35, 77.20s/it]"
     ]
    },
    {
     "name": "stdout",
     "output_type": "stream",
     "text": [
      "------------------------------\n",
      "Train Loss EPOCH 341: 0.9902\n",
      "Valid Loss EPOCH 341: 1.2697\n",
      "Train Accuracy EPOCH 341: 0.9129\n",
      "Valid Accuracy EPOCH 341: 0.6291\n",
      "------------------------------\n"
     ]
    },
    {
     "name": "stderr",
     "output_type": "stream",
     "text": [
      "100%|██████████| 881/881 [01:12<00:00, 12.18it/s]\n",
      "100%|██████████| 189/189 [00:05<00:00, 36.95it/s]\n",
      " 68%|██████▊   | 342/500 [7:31:22<3:23:42, 77.36s/it]"
     ]
    },
    {
     "name": "stdout",
     "output_type": "stream",
     "text": [
      "------------------------------\n",
      "Train Loss EPOCH 342: 0.9846\n",
      "Valid Loss EPOCH 342: 1.2558\n",
      "Train Accuracy EPOCH 342: 0.9174\n",
      "Valid Accuracy EPOCH 342: 0.6421\n",
      "------------------------------\n"
     ]
    },
    {
     "name": "stderr",
     "output_type": "stream",
     "text": [
      "100%|██████████| 881/881 [01:12<00:00, 12.21it/s]\n",
      "100%|██████████| 189/189 [00:04<00:00, 38.04it/s]\n",
      " 69%|██████▊   | 343/500 [7:32:39<3:22:24, 77.36s/it]"
     ]
    },
    {
     "name": "stdout",
     "output_type": "stream",
     "text": [
      "------------------------------\n",
      "Train Loss EPOCH 343: 0.9821\n",
      "Valid Loss EPOCH 343: 1.2718\n",
      "Train Accuracy EPOCH 343: 0.9207\n",
      "Valid Accuracy EPOCH 343: 0.6267\n",
      "------------------------------\n"
     ]
    },
    {
     "name": "stderr",
     "output_type": "stream",
     "text": [
      "100%|██████████| 881/881 [01:12<00:00, 12.20it/s]\n",
      "100%|██████████| 189/189 [00:04<00:00, 39.94it/s]\n",
      " 69%|██████▉   | 344/500 [7:33:57<3:20:58, 77.30s/it]"
     ]
    },
    {
     "name": "stdout",
     "output_type": "stream",
     "text": [
      "------------------------------\n",
      "Train Loss EPOCH 344: 0.9853\n",
      "Valid Loss EPOCH 344: 1.2634\n",
      "Train Accuracy EPOCH 344: 0.9173\n",
      "Valid Accuracy EPOCH 344: 0.6340\n",
      "------------------------------\n"
     ]
    },
    {
     "name": "stderr",
     "output_type": "stream",
     "text": [
      "100%|██████████| 881/881 [01:11<00:00, 12.24it/s]\n",
      "100%|██████████| 189/189 [00:04<00:00, 47.03it/s]\n",
      " 69%|██████▉   | 345/500 [7:35:13<3:18:49, 76.97s/it]"
     ]
    },
    {
     "name": "stdout",
     "output_type": "stream",
     "text": [
      "------------------------------\n",
      "Train Loss EPOCH 345: 0.9833\n",
      "Valid Loss EPOCH 345: 1.2716\n",
      "Train Accuracy EPOCH 345: 0.9201\n",
      "Valid Accuracy EPOCH 345: 0.6269\n",
      "------------------------------\n"
     ]
    },
    {
     "name": "stderr",
     "output_type": "stream",
     "text": [
      "100%|██████████| 881/881 [01:12<00:00, 12.18it/s]\n",
      "100%|██████████| 189/189 [00:05<00:00, 36.82it/s]\n",
      " 69%|██████▉   | 346/500 [7:36:30<3:18:05, 77.18s/it]"
     ]
    },
    {
     "name": "stdout",
     "output_type": "stream",
     "text": [
      "------------------------------\n",
      "Train Loss EPOCH 346: 0.9829\n",
      "Valid Loss EPOCH 346: 1.2586\n",
      "Train Accuracy EPOCH 346: 0.9206\n",
      "Valid Accuracy EPOCH 346: 0.6398\n",
      "------------------------------\n"
     ]
    },
    {
     "name": "stderr",
     "output_type": "stream",
     "text": [
      "100%|██████████| 881/881 [01:12<00:00, 12.18it/s]\n",
      "100%|██████████| 189/189 [00:04<00:00, 44.08it/s]\n",
      " 69%|██████▉   | 347/500 [7:37:47<3:16:33, 77.08s/it]"
     ]
    },
    {
     "name": "stdout",
     "output_type": "stream",
     "text": [
      "------------------------------\n",
      "Train Loss EPOCH 347: 0.9817\n",
      "Valid Loss EPOCH 347: 1.2718\n",
      "Train Accuracy EPOCH 347: 0.9209\n",
      "Valid Accuracy EPOCH 347: 0.6266\n",
      "------------------------------\n"
     ]
    },
    {
     "name": "stderr",
     "output_type": "stream",
     "text": [
      "100%|██████████| 881/881 [01:12<00:00, 12.11it/s]\n",
      "100%|██████████| 189/189 [00:04<00:00, 40.69it/s]\n"
     ]
    },
    {
     "name": "stdout",
     "output_type": "stream",
     "text": [
      "------------------------------\n",
      "Train Loss EPOCH 348: 0.9850\n",
      "Valid Loss EPOCH 348: 1.2610\n",
      "Train Accuracy EPOCH 348: 0.9177\n"
     ]
    },
    {
     "name": "stderr",
     "output_type": "stream",
     "text": [
      " 70%|██████▉   | 348/500 [7:39:05<3:15:42, 77.25s/it]"
     ]
    },
    {
     "name": "stdout",
     "output_type": "stream",
     "text": [
      "Valid Accuracy EPOCH 348: 0.6400\n",
      "------------------------------\n"
     ]
    },
    {
     "name": "stderr",
     "output_type": "stream",
     "text": [
      "100%|██████████| 881/881 [01:12<00:00, 12.19it/s]\n",
      "100%|██████████| 189/189 [00:04<00:00, 39.46it/s]\n",
      " 70%|██████▉   | 349/500 [7:40:22<3:14:25, 77.26s/it]"
     ]
    },
    {
     "name": "stdout",
     "output_type": "stream",
     "text": [
      "------------------------------\n",
      "Train Loss EPOCH 349: 0.9871\n",
      "Valid Loss EPOCH 349: 1.2696\n",
      "Train Accuracy EPOCH 349: 0.9155\n",
      "Valid Accuracy EPOCH 349: 0.6287\n",
      "------------------------------\n"
     ]
    },
    {
     "name": "stderr",
     "output_type": "stream",
     "text": [
      "100%|██████████| 881/881 [01:12<00:00, 12.20it/s]\n",
      "100%|██████████| 189/189 [00:04<00:00, 39.75it/s]\n",
      " 70%|███████   | 350/500 [7:41:39<3:13:03, 77.22s/it]"
     ]
    },
    {
     "name": "stdout",
     "output_type": "stream",
     "text": [
      "------------------------------\n",
      "Train Loss EPOCH 350: 0.9813\n",
      "Valid Loss EPOCH 350: 1.2612\n",
      "Train Accuracy EPOCH 350: 0.9214\n",
      "Valid Accuracy EPOCH 350: 0.6385\n",
      "------------------------------\n"
     ]
    },
    {
     "name": "stderr",
     "output_type": "stream",
     "text": [
      "100%|██████████| 881/881 [01:12<00:00, 12.19it/s]\n",
      "100%|██████████| 189/189 [00:04<00:00, 38.84it/s]\n"
     ]
    },
    {
     "name": "stdout",
     "output_type": "stream",
     "text": [
      "------------------------------\n",
      "Train Loss EPOCH 351: 0.9895\n",
      "Valid Loss EPOCH 351: 1.2663\n",
      "Train Accuracy EPOCH 351: 0.9142\n"
     ]
    },
    {
     "name": "stderr",
     "output_type": "stream",
     "text": [
      " 70%|███████   | 351/500 [7:42:57<3:11:54, 77.28s/it]"
     ]
    },
    {
     "name": "stdout",
     "output_type": "stream",
     "text": [
      "Valid Accuracy EPOCH 351: 0.6319\n",
      "------------------------------\n"
     ]
    },
    {
     "name": "stderr",
     "output_type": "stream",
     "text": [
      "100%|██████████| 881/881 [01:12<00:00, 12.20it/s]\n",
      "100%|██████████| 189/189 [00:04<00:00, 39.57it/s]\n",
      " 70%|███████   | 352/500 [7:44:14<3:10:33, 77.26s/it]"
     ]
    },
    {
     "name": "stdout",
     "output_type": "stream",
     "text": [
      "------------------------------\n",
      "Train Loss EPOCH 352: 0.9802\n",
      "Valid Loss EPOCH 352: 1.2626\n",
      "Train Accuracy EPOCH 352: 0.9229\n",
      "Valid Accuracy EPOCH 352: 0.6370\n",
      "------------------------------\n"
     ]
    },
    {
     "name": "stderr",
     "output_type": "stream",
     "text": [
      "100%|██████████| 881/881 [01:12<00:00, 12.17it/s]\n",
      "100%|██████████| 189/189 [00:04<00:00, 39.06it/s]\n",
      " 71%|███████   | 353/500 [7:45:31<3:09:24, 77.31s/it]"
     ]
    },
    {
     "name": "stdout",
     "output_type": "stream",
     "text": [
      "------------------------------\n",
      "Train Loss EPOCH 353: 0.9847\n",
      "Valid Loss EPOCH 353: 1.2618\n",
      "Train Accuracy EPOCH 353: 0.9177\n",
      "Valid Accuracy EPOCH 353: 0.6372\n",
      "------------------------------\n"
     ]
    },
    {
     "name": "stderr",
     "output_type": "stream",
     "text": [
      "100%|██████████| 881/881 [01:11<00:00, 12.26it/s]\n",
      "100%|██████████| 189/189 [00:04<00:00, 39.03it/s]\n",
      " 71%|███████   | 354/500 [7:46:48<3:07:49, 77.19s/it]"
     ]
    },
    {
     "name": "stdout",
     "output_type": "stream",
     "text": [
      "------------------------------\n",
      "Train Loss EPOCH 354: 0.9770\n",
      "Valid Loss EPOCH 354: 1.2584\n",
      "Train Accuracy EPOCH 354: 0.9258\n",
      "Valid Accuracy EPOCH 354: 0.6403\n",
      "------------------------------\n"
     ]
    },
    {
     "name": "stderr",
     "output_type": "stream",
     "text": [
      "100%|██████████| 881/881 [01:14<00:00, 11.90it/s]\n",
      "100%|██████████| 189/189 [00:05<00:00, 37.47it/s]\n"
     ]
    },
    {
     "name": "stdout",
     "output_type": "stream",
     "text": [
      "------------------------------\n",
      "Train Loss EPOCH 355: 0.9816\n",
      "Valid Loss EPOCH 355: 1.2617\n",
      "Train Accuracy EPOCH 355: 0.9212\n",
      "Valid Accuracy EPOCH 355: 0.6380\n",
      "------------------------------\n"
     ]
    },
    {
     "name": "stderr",
     "output_type": "stream",
     "text": [
      "100%|██████████| 881/881 [01:12<00:00, 12.19it/s]/it]\n",
      "100%|██████████| 189/189 [00:04<00:00, 41.13it/s]\n"
     ]
    },
    {
     "name": "stdout",
     "output_type": "stream",
     "text": [
      "------------------------------\n",
      "Train Loss EPOCH 356: 0.9834\n",
      "Valid Loss EPOCH 356: 1.2532\n",
      "Train Accuracy EPOCH 356: 0.9190\n"
     ]
    },
    {
     "name": "stderr",
     "output_type": "stream",
     "text": [
      " 71%|███████   | 356/500 [7:49:25<3:06:16, 77.62s/it]"
     ]
    },
    {
     "name": "stdout",
     "output_type": "stream",
     "text": [
      "Valid Accuracy EPOCH 356: 0.6456\n",
      "------------------------------\n"
     ]
    },
    {
     "name": "stderr",
     "output_type": "stream",
     "text": [
      "100%|██████████| 881/881 [01:11<00:00, 12.25it/s]\n",
      "100%|██████████| 189/189 [00:04<00:00, 37.82it/s]\n"
     ]
    },
    {
     "name": "stdout",
     "output_type": "stream",
     "text": [
      "------------------------------\n",
      "Train Loss EPOCH 357: 0.9845\n",
      "Valid Loss EPOCH 357: 1.2518\n",
      "Train Accuracy EPOCH 357: 0.9178\n",
      "Valid Accuracy EPOCH 357: 0.6471\n",
      "------------------------------\n"
     ]
    },
    {
     "name": "stderr",
     "output_type": "stream",
     "text": [
      "100%|██████████| 881/881 [01:26<00:00, 10.13it/s]/it]\n",
      "100%|██████████| 189/189 [00:05<00:00, 33.18it/s]\n",
      " 72%|███████▏  | 358/500 [7:52:15<3:14:17, 82.10s/it]"
     ]
    },
    {
     "name": "stdout",
     "output_type": "stream",
     "text": [
      "------------------------------\n",
      "Train Loss EPOCH 358: 0.9868\n",
      "Valid Loss EPOCH 358: 1.2583\n",
      "Train Accuracy EPOCH 358: 0.9164\n",
      "Valid Accuracy EPOCH 358: 0.6393\n",
      "------------------------------\n"
     ]
    },
    {
     "name": "stderr",
     "output_type": "stream",
     "text": [
      "100%|██████████| 881/881 [01:27<00:00, 10.11it/s]\n",
      "100%|██████████| 189/189 [00:08<00:00, 23.43it/s]\n"
     ]
    },
    {
     "name": "stdout",
     "output_type": "stream",
     "text": [
      "------------------------------\n",
      "Train Loss EPOCH 359: 0.9809\n",
      "Valid Loss EPOCH 359: 1.2710\n"
     ]
    },
    {
     "name": "stderr",
     "output_type": "stream",
     "text": [
      " 72%|███████▏  | 359/500 [7:53:50<3:22:22, 86.12s/it]"
     ]
    },
    {
     "name": "stdout",
     "output_type": "stream",
     "text": [
      "Train Accuracy EPOCH 359: 0.9220\n",
      "Valid Accuracy EPOCH 359: 0.6274\n",
      "------------------------------\n"
     ]
    },
    {
     "name": "stderr",
     "output_type": "stream",
     "text": [
      "100%|██████████| 881/881 [01:51<00:00,  7.89it/s]\n",
      "100%|██████████| 189/189 [00:08<00:00, 23.21it/s]\n"
     ]
    },
    {
     "name": "stdout",
     "output_type": "stream",
     "text": [
      "------------------------------\n",
      "Train Loss EPOCH 360: 0.9809\n",
      "Valid Loss EPOCH 360: 1.2641\n"
     ]
    },
    {
     "name": "stderr",
     "output_type": "stream",
     "text": [
      " 72%|███████▏  | 360/500 [7:55:50<3:44:43, 96.31s/it]"
     ]
    },
    {
     "name": "stdout",
     "output_type": "stream",
     "text": [
      "Train Accuracy EPOCH 360: 0.9217\n",
      "Valid Accuracy EPOCH 360: 0.6363\n",
      "------------------------------\n"
     ]
    },
    {
     "name": "stderr",
     "output_type": "stream",
     "text": [
      "100%|██████████| 881/881 [01:52<00:00,  7.85it/s]\n",
      "100%|██████████| 189/189 [00:08<00:00, 23.32it/s]\n"
     ]
    },
    {
     "name": "stdout",
     "output_type": "stream",
     "text": [
      "------------------------------\n",
      "Train Loss EPOCH 361: 0.9811\n",
      "Valid Loss EPOCH 361: 1.2576\n"
     ]
    },
    {
     "name": "stderr",
     "output_type": "stream",
     "text": [
      " 72%|███████▏  | 361/500 [7:57:51<4:00:00, 103.60s/it]"
     ]
    },
    {
     "name": "stdout",
     "output_type": "stream",
     "text": [
      "Train Accuracy EPOCH 361: 0.9219\n",
      "Valid Accuracy EPOCH 361: 0.6407\n",
      "------------------------------\n"
     ]
    },
    {
     "name": "stderr",
     "output_type": "stream",
     "text": [
      "100%|██████████| 881/881 [01:51<00:00,  7.87it/s]\n",
      "100%|██████████| 189/189 [00:08<00:00, 23.35it/s]\n"
     ]
    },
    {
     "name": "stdout",
     "output_type": "stream",
     "text": [
      "------------------------------\n",
      "Train Loss EPOCH 362: 0.9770\n",
      "Valid Loss EPOCH 362: 1.2574\n"
     ]
    },
    {
     "name": "stderr",
     "output_type": "stream",
     "text": [
      " 72%|███████▏  | 362/500 [7:59:51<4:09:51, 108.64s/it]"
     ]
    },
    {
     "name": "stdout",
     "output_type": "stream",
     "text": [
      "Train Accuracy EPOCH 362: 0.9266\n",
      "Valid Accuracy EPOCH 362: 0.6400\n",
      "------------------------------\n"
     ]
    },
    {
     "name": "stderr",
     "output_type": "stream",
     "text": [
      "100%|██████████| 881/881 [01:52<00:00,  7.86it/s]\n",
      "100%|██████████| 189/189 [00:08<00:00, 23.27it/s]\n"
     ]
    },
    {
     "name": "stdout",
     "output_type": "stream",
     "text": [
      "------------------------------\n",
      "Train Loss EPOCH 363: 0.9844\n",
      "Valid Loss EPOCH 363: 1.2640\n",
      "Train Accuracy EPOCH 363: 0.9184\n"
     ]
    },
    {
     "name": "stderr",
     "output_type": "stream",
     "text": [
      " 73%|███████▎  | 363/500 [8:01:52<4:16:12, 112.21s/it]"
     ]
    },
    {
     "name": "stdout",
     "output_type": "stream",
     "text": [
      "Valid Accuracy EPOCH 363: 0.6350\n",
      "------------------------------\n"
     ]
    },
    {
     "name": "stderr",
     "output_type": "stream",
     "text": [
      "100%|██████████| 881/881 [01:52<00:00,  7.82it/s]\n",
      "100%|██████████| 189/189 [00:08<00:00, 22.96it/s]\n"
     ]
    },
    {
     "name": "stdout",
     "output_type": "stream",
     "text": [
      "------------------------------\n",
      "Train Loss EPOCH 364: 0.9753\n",
      "Valid Loss EPOCH 364: 1.2690\n"
     ]
    },
    {
     "name": "stderr",
     "output_type": "stream",
     "text": [
      " 73%|███████▎  | 364/500 [8:03:53<4:20:25, 114.90s/it]"
     ]
    },
    {
     "name": "stdout",
     "output_type": "stream",
     "text": [
      "Train Accuracy EPOCH 364: 0.9280\n",
      "Valid Accuracy EPOCH 364: 0.6301\n",
      "------------------------------\n"
     ]
    },
    {
     "name": "stderr",
     "output_type": "stream",
     "text": [
      "100%|██████████| 881/881 [01:52<00:00,  7.86it/s]\n",
      "100%|██████████| 189/189 [00:08<00:00, 23.28it/s]\n"
     ]
    },
    {
     "name": "stdout",
     "output_type": "stream",
     "text": [
      "------------------------------\n",
      "Train Loss EPOCH 365: 0.9779\n",
      "Valid Loss EPOCH 365: 1.2610\n"
     ]
    },
    {
     "name": "stderr",
     "output_type": "stream",
     "text": [
      " 73%|███████▎  | 365/500 [8:05:54<4:22:18, 116.59s/it]"
     ]
    },
    {
     "name": "stdout",
     "output_type": "stream",
     "text": [
      "Train Accuracy EPOCH 365: 0.9248\n",
      "Valid Accuracy EPOCH 365: 0.6367\n",
      "------------------------------\n"
     ]
    },
    {
     "name": "stderr",
     "output_type": "stream",
     "text": [
      "100%|██████████| 881/881 [01:52<00:00,  7.85it/s]\n",
      "100%|██████████| 189/189 [00:08<00:00, 23.20it/s]\n"
     ]
    },
    {
     "name": "stdout",
     "output_type": "stream",
     "text": [
      "------------------------------\n",
      "Train Loss EPOCH 366: 0.9816\n",
      "Valid Loss EPOCH 366: 1.2518\n"
     ]
    },
    {
     "name": "stderr",
     "output_type": "stream",
     "text": [
      " 73%|███████▎  | 366/500 [8:07:54<4:23:09, 117.83s/it]"
     ]
    },
    {
     "name": "stdout",
     "output_type": "stream",
     "text": [
      "Train Accuracy EPOCH 366: 0.9210\n",
      "Valid Accuracy EPOCH 366: 0.6488\n",
      "------------------------------\n"
     ]
    },
    {
     "name": "stderr",
     "output_type": "stream",
     "text": [
      "100%|██████████| 881/881 [01:52<00:00,  7.85it/s]\n",
      "100%|██████████| 189/189 [00:08<00:00, 23.00it/s]\n"
     ]
    },
    {
     "name": "stdout",
     "output_type": "stream",
     "text": [
      "------------------------------\n",
      "Train Loss EPOCH 367: 0.9826\n",
      "Valid Loss EPOCH 367: 1.2603\n"
     ]
    },
    {
     "name": "stderr",
     "output_type": "stream",
     "text": [
      " 73%|███████▎  | 367/500 [8:09:55<4:23:07, 118.70s/it]"
     ]
    },
    {
     "name": "stdout",
     "output_type": "stream",
     "text": [
      "Train Accuracy EPOCH 367: 0.9197\n",
      "Valid Accuracy EPOCH 367: 0.6392\n",
      "------------------------------\n"
     ]
    },
    {
     "name": "stderr",
     "output_type": "stream",
     "text": [
      "100%|██████████| 881/881 [01:52<00:00,  7.83it/s]\n",
      "100%|██████████| 189/189 [00:08<00:00, 23.28it/s]\n"
     ]
    },
    {
     "name": "stdout",
     "output_type": "stream",
     "text": [
      "------------------------------\n",
      "Train Loss EPOCH 368: 0.9782\n",
      "Valid Loss EPOCH 368: 1.2641\n"
     ]
    },
    {
     "name": "stderr",
     "output_type": "stream",
     "text": [
      " 74%|███████▎  | 368/500 [8:11:56<4:22:38, 119.39s/it]"
     ]
    },
    {
     "name": "stdout",
     "output_type": "stream",
     "text": [
      "Train Accuracy EPOCH 368: 0.9248\n",
      "Valid Accuracy EPOCH 368: 0.6320\n",
      "------------------------------\n"
     ]
    },
    {
     "name": "stderr",
     "output_type": "stream",
     "text": [
      "100%|██████████| 881/881 [01:38<00:00,  8.98it/s]\n",
      "100%|██████████| 189/189 [00:05<00:00, 32.27it/s]\n"
     ]
    },
    {
     "name": "stdout",
     "output_type": "stream",
     "text": [
      "------------------------------\n",
      "Train Loss EPOCH 369: 0.9825\n",
      "Valid Loss EPOCH 369: 1.2597\n",
      "Train Accuracy EPOCH 369: 0.9205\n"
     ]
    },
    {
     "name": "stderr",
     "output_type": "stream",
     "text": [
      " 74%|███████▍  | 369/500 [8:13:40<4:10:44, 114.84s/it]"
     ]
    },
    {
     "name": "stdout",
     "output_type": "stream",
     "text": [
      "Valid Accuracy EPOCH 369: 0.6398\n",
      "------------------------------\n"
     ]
    },
    {
     "name": "stderr",
     "output_type": "stream",
     "text": [
      "100%|██████████| 881/881 [01:21<00:00, 10.81it/s]\n",
      "100%|██████████| 189/189 [00:05<00:00, 33.66it/s]\n"
     ]
    },
    {
     "name": "stdout",
     "output_type": "stream",
     "text": [
      "------------------------------\n",
      "Train Loss EPOCH 370: 0.9770\n",
      "Valid Loss EPOCH 370: 1.2498\n",
      "Train Accuracy EPOCH 370: 0.9259\n"
     ]
    },
    {
     "name": "stderr",
     "output_type": "stream",
     "text": [
      " 74%|███████▍  | 370/500 [8:15:08<3:50:57, 106.60s/it]"
     ]
    },
    {
     "name": "stdout",
     "output_type": "stream",
     "text": [
      "Valid Accuracy EPOCH 370: 0.6494\n",
      "------------------------------\n"
     ]
    },
    {
     "name": "stderr",
     "output_type": "stream",
     "text": [
      "100%|██████████| 881/881 [01:20<00:00, 10.90it/s]\n",
      "100%|██████████| 189/189 [00:05<00:00, 33.94it/s]\n"
     ]
    },
    {
     "name": "stdout",
     "output_type": "stream",
     "text": [
      "------------------------------\n",
      "Train Loss EPOCH 371: 0.9772\n",
      "Valid Loss EPOCH 371: 1.2531\n",
      "Train Accuracy EPOCH 371: 0.9250\n"
     ]
    },
    {
     "name": "stderr",
     "output_type": "stream",
     "text": [
      " 74%|███████▍  | 371/500 [8:16:34<3:36:20, 100.62s/it]"
     ]
    },
    {
     "name": "stdout",
     "output_type": "stream",
     "text": [
      "Valid Accuracy EPOCH 371: 0.6463\n",
      "------------------------------\n"
     ]
    },
    {
     "name": "stderr",
     "output_type": "stream",
     "text": [
      "100%|██████████| 881/881 [01:20<00:00, 10.92it/s]\n",
      "100%|██████████| 189/189 [00:05<00:00, 34.15it/s]\n"
     ]
    },
    {
     "name": "stdout",
     "output_type": "stream",
     "text": [
      "------------------------------\n",
      "Train Loss EPOCH 372: 0.9794\n",
      "Valid Loss EPOCH 372: 1.2514\n",
      "Train Accuracy EPOCH 372: 0.9231\n",
      "Valid Accuracy EPOCH 372: 0.6483\n",
      "------------------------------\n"
     ]
    },
    {
     "name": "stderr",
     "output_type": "stream",
     "text": [
      "100%|██████████| 881/881 [01:20<00:00, 10.94it/s]/it] \n",
      "100%|██████████| 189/189 [00:05<00:00, 34.07it/s]\n"
     ]
    },
    {
     "name": "stdout",
     "output_type": "stream",
     "text": [
      "------------------------------\n",
      "Train Loss EPOCH 373: 0.9860\n",
      "Valid Loss EPOCH 373: 1.2546\n",
      "Train Accuracy EPOCH 373: 0.9167\n"
     ]
    },
    {
     "name": "stderr",
     "output_type": "stream",
     "text": [
      " 75%|███████▍  | 373/500 [8:19:27<3:17:36, 93.36s/it]"
     ]
    },
    {
     "name": "stdout",
     "output_type": "stream",
     "text": [
      "Valid Accuracy EPOCH 373: 0.6450\n",
      "------------------------------\n"
     ]
    },
    {
     "name": "stderr",
     "output_type": "stream",
     "text": [
      "100%|██████████| 881/881 [01:20<00:00, 10.97it/s]\n",
      "100%|██████████| 189/189 [00:05<00:00, 34.15it/s]\n"
     ]
    },
    {
     "name": "stdout",
     "output_type": "stream",
     "text": [
      "------------------------------\n",
      "Train Loss EPOCH 374: 0.9764\n",
      "Valid Loss EPOCH 374: 1.2526\n",
      "Train Accuracy EPOCH 374: 0.9265\n"
     ]
    },
    {
     "name": "stderr",
     "output_type": "stream",
     "text": [
      " 75%|███████▍  | 374/500 [8:20:53<3:11:28, 91.17s/it]"
     ]
    },
    {
     "name": "stdout",
     "output_type": "stream",
     "text": [
      "Valid Accuracy EPOCH 374: 0.6471\n",
      "------------------------------\n"
     ]
    },
    {
     "name": "stderr",
     "output_type": "stream",
     "text": [
      "100%|██████████| 881/881 [01:20<00:00, 10.97it/s]\n",
      "100%|██████████| 189/189 [00:05<00:00, 33.68it/s]\n"
     ]
    },
    {
     "name": "stdout",
     "output_type": "stream",
     "text": [
      "------------------------------\n",
      "Train Loss EPOCH 375: 0.9765\n",
      "Valid Loss EPOCH 375: 1.2614\n",
      "Train Accuracy EPOCH 375: 0.9263\n"
     ]
    },
    {
     "name": "stderr",
     "output_type": "stream",
     "text": [
      " 75%|███████▌  | 375/500 [8:22:19<3:06:50, 89.68s/it]"
     ]
    },
    {
     "name": "stdout",
     "output_type": "stream",
     "text": [
      "Valid Accuracy EPOCH 375: 0.6382\n",
      "------------------------------\n"
     ]
    },
    {
     "name": "stderr",
     "output_type": "stream",
     "text": [
      "100%|██████████| 881/881 [01:20<00:00, 10.97it/s]\n",
      "100%|██████████| 189/189 [00:05<00:00, 34.17it/s]\n",
      " 75%|███████▌  | 376/500 [8:23:45<3:03:05, 88.59s/it]"
     ]
    },
    {
     "name": "stdout",
     "output_type": "stream",
     "text": [
      "------------------------------\n",
      "Train Loss EPOCH 376: 0.9773\n",
      "Valid Loss EPOCH 376: 1.2630\n",
      "Train Accuracy EPOCH 376: 0.9257\n",
      "Valid Accuracy EPOCH 376: 0.6363\n",
      "------------------------------\n"
     ]
    },
    {
     "name": "stderr",
     "output_type": "stream",
     "text": [
      "100%|██████████| 881/881 [01:20<00:00, 10.99it/s]\n",
      "100%|██████████| 189/189 [00:05<00:00, 34.10it/s]\n"
     ]
    },
    {
     "name": "stdout",
     "output_type": "stream",
     "text": [
      "------------------------------\n",
      "Train Loss EPOCH 377: 0.9771\n",
      "Valid Loss EPOCH 377: 1.2671\n",
      "Train Accuracy EPOCH 377: 0.9260\n"
     ]
    },
    {
     "name": "stderr",
     "output_type": "stream",
     "text": [
      " 75%|███████▌  | 377/500 [8:25:11<2:59:59, 87.80s/it]"
     ]
    },
    {
     "name": "stdout",
     "output_type": "stream",
     "text": [
      "Valid Accuracy EPOCH 377: 0.6306\n",
      "------------------------------\n"
     ]
    },
    {
     "name": "stderr",
     "output_type": "stream",
     "text": [
      "100%|██████████| 881/881 [01:20<00:00, 10.98it/s]\n",
      "100%|██████████| 189/189 [00:05<00:00, 34.12it/s]\n"
     ]
    },
    {
     "name": "stdout",
     "output_type": "stream",
     "text": [
      "------------------------------\n",
      "Train Loss EPOCH 378: 0.9785\n",
      "Valid Loss EPOCH 378: 1.2537\n",
      "Train Accuracy EPOCH 378: 0.9247\n"
     ]
    },
    {
     "name": "stderr",
     "output_type": "stream",
     "text": [
      " 76%|███████▌  | 378/500 [8:26:37<2:57:27, 87.27s/it]"
     ]
    },
    {
     "name": "stdout",
     "output_type": "stream",
     "text": [
      "Valid Accuracy EPOCH 378: 0.6473\n",
      "------------------------------\n"
     ]
    },
    {
     "name": "stderr",
     "output_type": "stream",
     "text": [
      "100%|██████████| 881/881 [01:20<00:00, 10.96it/s]\n",
      "100%|██████████| 189/189 [00:05<00:00, 34.17it/s]\n"
     ]
    },
    {
     "name": "stdout",
     "output_type": "stream",
     "text": [
      "------------------------------\n",
      "Train Loss EPOCH 379: 0.9778\n",
      "Valid Loss EPOCH 379: 1.2706\n",
      "Train Accuracy EPOCH 379: 0.9246\n"
     ]
    },
    {
     "name": "stderr",
     "output_type": "stream",
     "text": [
      " 76%|███████▌  | 379/500 [8:28:04<2:55:18, 86.93s/it]"
     ]
    },
    {
     "name": "stdout",
     "output_type": "stream",
     "text": [
      "Valid Accuracy EPOCH 379: 0.6286\n",
      "------------------------------\n"
     ]
    },
    {
     "name": "stderr",
     "output_type": "stream",
     "text": [
      "100%|██████████| 881/881 [01:20<00:00, 11.00it/s]\n",
      "100%|██████████| 189/189 [00:05<00:00, 34.15it/s]\n",
      " 76%|███████▌  | 380/500 [8:29:29<2:53:13, 86.61s/it]"
     ]
    },
    {
     "name": "stdout",
     "output_type": "stream",
     "text": [
      "------------------------------\n",
      "Train Loss EPOCH 380: 0.9848\n",
      "Valid Loss EPOCH 380: 1.2680\n",
      "Train Accuracy EPOCH 380: 0.9172\n",
      "Valid Accuracy EPOCH 380: 0.6310\n",
      "------------------------------\n"
     ]
    },
    {
     "name": "stderr",
     "output_type": "stream",
     "text": [
      "100%|██████████| 881/881 [01:20<00:00, 10.99it/s]\n",
      "100%|██████████| 189/189 [00:05<00:00, 34.02it/s]\n"
     ]
    },
    {
     "name": "stdout",
     "output_type": "stream",
     "text": [
      "------------------------------\n",
      "Train Loss EPOCH 381: 0.9738\n",
      "Valid Loss EPOCH 381: 1.2702\n",
      "Train Accuracy EPOCH 381: 0.9290\n"
     ]
    },
    {
     "name": "stderr",
     "output_type": "stream",
     "text": [
      " 76%|███████▌  | 381/500 [8:30:55<2:51:22, 86.41s/it]"
     ]
    },
    {
     "name": "stdout",
     "output_type": "stream",
     "text": [
      "Valid Accuracy EPOCH 381: 0.6291\n",
      "------------------------------\n"
     ]
    },
    {
     "name": "stderr",
     "output_type": "stream",
     "text": [
      "100%|██████████| 881/881 [01:20<00:00, 11.00it/s]\n",
      "100%|██████████| 189/189 [00:05<00:00, 34.16it/s]\n"
     ]
    },
    {
     "name": "stdout",
     "output_type": "stream",
     "text": [
      "------------------------------\n",
      "Train Loss EPOCH 382: 0.9763\n",
      "Valid Loss EPOCH 382: 1.2519\n",
      "Train Accuracy EPOCH 382: 0.9260\n"
     ]
    },
    {
     "name": "stderr",
     "output_type": "stream",
     "text": [
      " 76%|███████▋  | 382/500 [8:32:21<2:49:37, 86.25s/it]"
     ]
    },
    {
     "name": "stdout",
     "output_type": "stream",
     "text": [
      "Valid Accuracy EPOCH 382: 0.6484\n",
      "------------------------------\n"
     ]
    },
    {
     "name": "stderr",
     "output_type": "stream",
     "text": [
      "100%|██████████| 881/881 [01:19<00:00, 11.03it/s]\n",
      "100%|██████████| 189/189 [00:05<00:00, 34.10it/s]\n"
     ]
    },
    {
     "name": "stdout",
     "output_type": "stream",
     "text": [
      "------------------------------\n",
      "Train Loss EPOCH 383: 0.9775\n",
      "Valid Loss EPOCH 383: 1.2661\n",
      "Train Accuracy EPOCH 383: 0.9249\n"
     ]
    },
    {
     "name": "stderr",
     "output_type": "stream",
     "text": [
      " 77%|███████▋  | 383/500 [8:33:47<2:47:51, 86.08s/it]"
     ]
    },
    {
     "name": "stdout",
     "output_type": "stream",
     "text": [
      "Valid Accuracy EPOCH 383: 0.6330\n",
      "------------------------------\n"
     ]
    },
    {
     "name": "stderr",
     "output_type": "stream",
     "text": [
      "100%|██████████| 881/881 [01:19<00:00, 11.01it/s]\n",
      "100%|██████████| 189/189 [00:05<00:00, 34.25it/s]\n"
     ]
    },
    {
     "name": "stdout",
     "output_type": "stream",
     "text": [
      "------------------------------\n",
      "Train Loss EPOCH 384: 0.9789\n",
      "Valid Loss EPOCH 384: 1.2699\n",
      "Train Accuracy EPOCH 384: 0.9252\n",
      "Valid Accuracy EPOCH 384: 0.6279\n",
      "------------------------------\n"
     ]
    },
    {
     "name": "stderr",
     "output_type": "stream",
     "text": [
      "100%|██████████| 881/881 [01:19<00:00, 11.02it/s]/it]\n",
      "100%|██████████| 189/189 [00:05<00:00, 34.17it/s]\n"
     ]
    },
    {
     "name": "stdout",
     "output_type": "stream",
     "text": [
      "------------------------------\n",
      "Train Loss EPOCH 385: 0.9744\n",
      "Valid Loss EPOCH 385: 1.2514\n",
      "Train Accuracy EPOCH 385: 0.9293\n"
     ]
    },
    {
     "name": "stderr",
     "output_type": "stream",
     "text": [
      " 77%|███████▋  | 385/500 [8:36:38<2:44:40, 85.92s/it]"
     ]
    },
    {
     "name": "stdout",
     "output_type": "stream",
     "text": [
      "Valid Accuracy EPOCH 385: 0.6473\n",
      "------------------------------\n"
     ]
    },
    {
     "name": "stderr",
     "output_type": "stream",
     "text": [
      "100%|██████████| 881/881 [01:19<00:00, 11.04it/s]\n",
      "100%|██████████| 189/189 [00:05<00:00, 34.38it/s]\n"
     ]
    },
    {
     "name": "stdout",
     "output_type": "stream",
     "text": [
      "------------------------------\n",
      "Train Loss EPOCH 386: 0.9724\n",
      "Valid Loss EPOCH 386: 1.2588\n",
      "Train Accuracy EPOCH 386: 0.9305\n",
      "Valid Accuracy EPOCH 386: 0.6403\n",
      "------------------------------\n"
     ]
    },
    {
     "name": "stderr",
     "output_type": "stream",
     "text": [
      "100%|██████████| 881/881 [01:19<00:00, 11.01it/s]/it]\n",
      "100%|██████████| 189/189 [00:05<00:00, 34.32it/s]\n"
     ]
    },
    {
     "name": "stdout",
     "output_type": "stream",
     "text": [
      "------------------------------\n",
      "Train Loss EPOCH 387: 0.9758\n",
      "Valid Loss EPOCH 387: 1.2621\n",
      "Train Accuracy EPOCH 387: 0.9274\n"
     ]
    },
    {
     "name": "stderr",
     "output_type": "stream",
     "text": [
      " 77%|███████▋  | 387/500 [8:39:30<2:41:33, 85.79s/it]"
     ]
    },
    {
     "name": "stdout",
     "output_type": "stream",
     "text": [
      "Valid Accuracy EPOCH 387: 0.6370\n",
      "------------------------------\n"
     ]
    },
    {
     "name": "stderr",
     "output_type": "stream",
     "text": [
      "100%|██████████| 881/881 [01:19<00:00, 11.03it/s]\n",
      "100%|██████████| 189/189 [00:05<00:00, 34.35it/s]\n"
     ]
    },
    {
     "name": "stdout",
     "output_type": "stream",
     "text": [
      "------------------------------\n",
      "Train Loss EPOCH 388: 0.9742\n",
      "Valid Loss EPOCH 388: 1.2642\n",
      "Train Accuracy EPOCH 388: 0.9287\n"
     ]
    },
    {
     "name": "stderr",
     "output_type": "stream",
     "text": [
      " 78%|███████▊  | 388/500 [8:40:55<2:40:03, 85.75s/it]"
     ]
    },
    {
     "name": "stdout",
     "output_type": "stream",
     "text": [
      "Valid Accuracy EPOCH 388: 0.6349\n",
      "------------------------------\n"
     ]
    },
    {
     "name": "stderr",
     "output_type": "stream",
     "text": [
      "100%|██████████| 881/881 [01:19<00:00, 11.02it/s]\n",
      "100%|██████████| 189/189 [00:05<00:00, 33.93it/s]\n"
     ]
    },
    {
     "name": "stdout",
     "output_type": "stream",
     "text": [
      "------------------------------\n",
      "Train Loss EPOCH 389: 0.9770\n",
      "Valid Loss EPOCH 389: 1.2743\n",
      "Train Accuracy EPOCH 389: 0.9261\n"
     ]
    },
    {
     "name": "stderr",
     "output_type": "stream",
     "text": [
      " 78%|███████▊  | 389/500 [8:42:21<2:38:37, 85.74s/it]"
     ]
    },
    {
     "name": "stdout",
     "output_type": "stream",
     "text": [
      "Valid Accuracy EPOCH 389: 0.6257\n",
      "------------------------------\n"
     ]
    },
    {
     "name": "stderr",
     "output_type": "stream",
     "text": [
      "100%|██████████| 881/881 [01:19<00:00, 11.02it/s]\n",
      "100%|██████████| 189/189 [00:05<00:00, 34.36it/s]\n"
     ]
    },
    {
     "name": "stdout",
     "output_type": "stream",
     "text": [
      "------------------------------\n",
      "Train Loss EPOCH 390: 0.9788\n",
      "Valid Loss EPOCH 390: 1.2615\n",
      "Train Accuracy EPOCH 390: 0.9244\n"
     ]
    },
    {
     "name": "stderr",
     "output_type": "stream",
     "text": [
      " 78%|███████▊  | 390/500 [8:43:47<2:37:10, 85.73s/it]"
     ]
    },
    {
     "name": "stdout",
     "output_type": "stream",
     "text": [
      "Valid Accuracy EPOCH 390: 0.6380\n",
      "------------------------------\n"
     ]
    },
    {
     "name": "stderr",
     "output_type": "stream",
     "text": [
      "100%|██████████| 881/881 [01:19<00:00, 11.01it/s]\n",
      "100%|██████████| 189/189 [00:05<00:00, 34.26it/s]\n"
     ]
    },
    {
     "name": "stdout",
     "output_type": "stream",
     "text": [
      "------------------------------\n",
      "Train Loss EPOCH 391: 0.9755\n",
      "Valid Loss EPOCH 391: 1.2599\n",
      "Train Accuracy EPOCH 391: 0.9274\n",
      "Valid Accuracy EPOCH 391: 0.6388\n",
      "------------------------------\n"
     ]
    },
    {
     "name": "stderr",
     "output_type": "stream",
     "text": [
      "100%|██████████| 881/881 [01:19<00:00, 11.03it/s]/it]\n",
      "100%|██████████| 189/189 [00:05<00:00, 34.41it/s]\n"
     ]
    },
    {
     "name": "stdout",
     "output_type": "stream",
     "text": [
      "------------------------------\n",
      "Train Loss EPOCH 392: 0.9778\n",
      "Valid Loss EPOCH 392: 1.2618\n",
      "Train Accuracy EPOCH 392: 0.9254\n"
     ]
    },
    {
     "name": "stderr",
     "output_type": "stream",
     "text": [
      " 78%|███████▊  | 392/500 [8:46:38<2:34:14, 85.69s/it]"
     ]
    },
    {
     "name": "stdout",
     "output_type": "stream",
     "text": [
      "Valid Accuracy EPOCH 392: 0.6378\n",
      "------------------------------\n"
     ]
    },
    {
     "name": "stderr",
     "output_type": "stream",
     "text": [
      "100%|██████████| 881/881 [01:19<00:00, 11.01it/s]\n",
      "100%|██████████| 189/189 [00:05<00:00, 34.28it/s]\n"
     ]
    },
    {
     "name": "stdout",
     "output_type": "stream",
     "text": [
      "------------------------------\n",
      "Train Loss EPOCH 393: 0.9756\n",
      "Valid Loss EPOCH 393: 1.2512\n",
      "Train Accuracy EPOCH 393: 0.9270\n"
     ]
    },
    {
     "name": "stderr",
     "output_type": "stream",
     "text": [
      " 79%|███████▊  | 393/500 [8:48:04<2:32:50, 85.71s/it]"
     ]
    },
    {
     "name": "stdout",
     "output_type": "stream",
     "text": [
      "Valid Accuracy EPOCH 393: 0.6484\n",
      "------------------------------\n"
     ]
    },
    {
     "name": "stderr",
     "output_type": "stream",
     "text": [
      "100%|██████████| 881/881 [01:19<00:00, 11.04it/s]\n",
      "100%|██████████| 189/189 [00:05<00:00, 34.17it/s]\n"
     ]
    },
    {
     "name": "stdout",
     "output_type": "stream",
     "text": [
      "------------------------------\n",
      "Train Loss EPOCH 394: 0.9776\n",
      "Valid Loss EPOCH 394: 1.2815\n",
      "Train Accuracy EPOCH 394: 0.9254\n"
     ]
    },
    {
     "name": "stderr",
     "output_type": "stream",
     "text": [
      " 79%|███████▉  | 394/500 [8:49:29<2:31:20, 85.67s/it]"
     ]
    },
    {
     "name": "stdout",
     "output_type": "stream",
     "text": [
      "Valid Accuracy EPOCH 394: 0.6155\n",
      "------------------------------\n"
     ]
    },
    {
     "name": "stderr",
     "output_type": "stream",
     "text": [
      "100%|██████████| 881/881 [01:19<00:00, 11.05it/s]\n",
      "100%|██████████| 189/189 [00:05<00:00, 34.42it/s]\n"
     ]
    },
    {
     "name": "stdout",
     "output_type": "stream",
     "text": [
      "------------------------------\n",
      "Train Loss EPOCH 395: 0.9761\n",
      "Valid Loss EPOCH 395: 1.2581\n",
      "Train Accuracy EPOCH 395: 0.9269\n"
     ]
    },
    {
     "name": "stderr",
     "output_type": "stream",
     "text": [
      " 79%|███████▉  | 395/500 [8:50:55<2:29:49, 85.62s/it]"
     ]
    },
    {
     "name": "stdout",
     "output_type": "stream",
     "text": [
      "Valid Accuracy EPOCH 395: 0.6402\n",
      "------------------------------\n"
     ]
    },
    {
     "name": "stderr",
     "output_type": "stream",
     "text": [
      "100%|██████████| 881/881 [01:19<00:00, 11.04it/s]\n",
      "100%|██████████| 189/189 [00:05<00:00, 34.43it/s]\n"
     ]
    },
    {
     "name": "stdout",
     "output_type": "stream",
     "text": [
      "------------------------------\n",
      "Train Loss EPOCH 396: 0.9737\n",
      "Valid Loss EPOCH 396: 1.2568\n",
      "Train Accuracy EPOCH 396: 0.9289\n",
      "Valid Accuracy EPOCH 396: 0.6433\n",
      "------------------------------\n"
     ]
    },
    {
     "name": "stderr",
     "output_type": "stream",
     "text": [
      "100%|██████████| 881/881 [01:19<00:00, 11.02it/s]/it]\n",
      "100%|██████████| 189/189 [00:05<00:00, 34.33it/s]\n"
     ]
    },
    {
     "name": "stdout",
     "output_type": "stream",
     "text": [
      "------------------------------\n",
      "Train Loss EPOCH 397: 0.9729\n",
      "Valid Loss EPOCH 397: 1.2509\n",
      "Train Accuracy EPOCH 397: 0.9304\n"
     ]
    },
    {
     "name": "stderr",
     "output_type": "stream",
     "text": [
      " 79%|███████▉  | 397/500 [8:53:46<2:26:58, 85.62s/it]"
     ]
    },
    {
     "name": "stdout",
     "output_type": "stream",
     "text": [
      "Valid Accuracy EPOCH 397: 0.6468\n",
      "------------------------------\n"
     ]
    },
    {
     "name": "stderr",
     "output_type": "stream",
     "text": [
      "100%|██████████| 881/881 [01:19<00:00, 11.06it/s]\n",
      "100%|██████████| 189/189 [00:05<00:00, 34.21it/s]\n"
     ]
    },
    {
     "name": "stdout",
     "output_type": "stream",
     "text": [
      "------------------------------\n",
      "Train Loss EPOCH 398: 0.9721\n",
      "Valid Loss EPOCH 398: 1.2601\n",
      "Train Accuracy EPOCH 398: 0.9308\n"
     ]
    },
    {
     "name": "stderr",
     "output_type": "stream",
     "text": [
      " 80%|███████▉  | 398/500 [8:55:12<2:25:28, 85.57s/it]"
     ]
    },
    {
     "name": "stdout",
     "output_type": "stream",
     "text": [
      "Valid Accuracy EPOCH 398: 0.6403\n",
      "------------------------------\n"
     ]
    },
    {
     "name": "stderr",
     "output_type": "stream",
     "text": [
      "100%|██████████| 881/881 [01:19<00:00, 11.03it/s]\n",
      "100%|██████████| 189/189 [00:05<00:00, 34.32it/s]\n"
     ]
    },
    {
     "name": "stdout",
     "output_type": "stream",
     "text": [
      "------------------------------\n",
      "Train Loss EPOCH 399: 0.9745\n",
      "Valid Loss EPOCH 399: 1.2564\n",
      "Train Accuracy EPOCH 399: 0.9279\n"
     ]
    },
    {
     "name": "stderr",
     "output_type": "stream",
     "text": [
      " 80%|███████▉  | 399/500 [8:56:37<2:24:04, 85.59s/it]"
     ]
    },
    {
     "name": "stdout",
     "output_type": "stream",
     "text": [
      "Valid Accuracy EPOCH 399: 0.6431\n",
      "------------------------------\n"
     ]
    },
    {
     "name": "stderr",
     "output_type": "stream",
     "text": [
      "100%|██████████| 881/881 [01:19<00:00, 11.04it/s]\n",
      "100%|██████████| 189/189 [00:05<00:00, 34.17it/s]\n"
     ]
    },
    {
     "name": "stdout",
     "output_type": "stream",
     "text": [
      "------------------------------\n",
      "Train Loss EPOCH 400: 0.9728\n",
      "Valid Loss EPOCH 400: 1.2536\n",
      "Train Accuracy EPOCH 400: 0.9303\n",
      "Valid Accuracy EPOCH 400: 0.6466\n",
      "------------------------------\n"
     ]
    },
    {
     "name": "stderr",
     "output_type": "stream",
     "text": [
      "100%|██████████| 881/881 [01:19<00:00, 11.04it/s]/it]\n",
      "100%|██████████| 189/189 [00:05<00:00, 34.49it/s]\n"
     ]
    },
    {
     "name": "stdout",
     "output_type": "stream",
     "text": [
      "------------------------------\n",
      "Train Loss EPOCH 401: 0.9868\n",
      "Valid Loss EPOCH 401: 1.2568\n",
      "Train Accuracy EPOCH 401: 0.9161\n",
      "Valid Accuracy EPOCH 401: 0.6412\n",
      "------------------------------\n"
     ]
    },
    {
     "name": "stderr",
     "output_type": "stream",
     "text": [
      "100%|██████████| 881/881 [01:19<00:00, 11.03it/s]/it]\n",
      "100%|██████████| 189/189 [00:05<00:00, 34.50it/s]\n"
     ]
    },
    {
     "name": "stdout",
     "output_type": "stream",
     "text": [
      "------------------------------\n",
      "Train Loss EPOCH 402: 0.9705\n",
      "Valid Loss EPOCH 402: 1.2554\n",
      "Train Accuracy EPOCH 402: 0.9328\n"
     ]
    },
    {
     "name": "stderr",
     "output_type": "stream",
     "text": [
      " 80%|████████  | 402/500 [9:00:54<2:19:46, 85.57s/it]"
     ]
    },
    {
     "name": "stdout",
     "output_type": "stream",
     "text": [
      "Valid Accuracy EPOCH 402: 0.6435\n",
      "------------------------------\n"
     ]
    },
    {
     "name": "stderr",
     "output_type": "stream",
     "text": [
      "100%|██████████| 881/881 [01:19<00:00, 11.03it/s]\n",
      "100%|██████████| 189/189 [00:05<00:00, 34.47it/s]\n"
     ]
    },
    {
     "name": "stdout",
     "output_type": "stream",
     "text": [
      "------------------------------\n",
      "Train Loss EPOCH 403: 0.9737\n",
      "Valid Loss EPOCH 403: 1.2557\n",
      "Train Accuracy EPOCH 403: 0.9293\n"
     ]
    },
    {
     "name": "stderr",
     "output_type": "stream",
     "text": [
      " 81%|████████  | 403/500 [9:02:20<2:18:20, 85.58s/it]"
     ]
    },
    {
     "name": "stdout",
     "output_type": "stream",
     "text": [
      "Valid Accuracy EPOCH 403: 0.6443\n",
      "------------------------------\n"
     ]
    },
    {
     "name": "stderr",
     "output_type": "stream",
     "text": [
      "100%|██████████| 881/881 [01:19<00:00, 11.06it/s]\n",
      "100%|██████████| 189/189 [00:05<00:00, 34.30it/s]\n"
     ]
    },
    {
     "name": "stdout",
     "output_type": "stream",
     "text": [
      "------------------------------\n",
      "Train Loss EPOCH 404: 0.9722\n",
      "Valid Loss EPOCH 404: 1.2541\n",
      "Train Accuracy EPOCH 404: 0.9311\n"
     ]
    },
    {
     "name": "stderr",
     "output_type": "stream",
     "text": [
      " 81%|████████  | 404/500 [9:03:45<2:16:50, 85.53s/it]"
     ]
    },
    {
     "name": "stdout",
     "output_type": "stream",
     "text": [
      "Valid Accuracy EPOCH 404: 0.6461\n",
      "------------------------------\n"
     ]
    },
    {
     "name": "stderr",
     "output_type": "stream",
     "text": [
      "100%|██████████| 881/881 [01:19<00:00, 11.03it/s]\n",
      "100%|██████████| 189/189 [00:05<00:00, 34.28it/s]\n"
     ]
    },
    {
     "name": "stdout",
     "output_type": "stream",
     "text": [
      "------------------------------\n",
      "Train Loss EPOCH 405: 0.9712\n",
      "Valid Loss EPOCH 405: 1.2510\n",
      "Train Accuracy EPOCH 405: 0.9314\n"
     ]
    },
    {
     "name": "stderr",
     "output_type": "stream",
     "text": [
      " 81%|████████  | 405/500 [9:05:11<2:15:28, 85.56s/it]"
     ]
    },
    {
     "name": "stdout",
     "output_type": "stream",
     "text": [
      "Valid Accuracy EPOCH 405: 0.6473\n",
      "------------------------------\n"
     ]
    },
    {
     "name": "stderr",
     "output_type": "stream",
     "text": [
      "100%|██████████| 881/881 [01:19<00:00, 11.02it/s]\n",
      "100%|██████████| 189/189 [00:05<00:00, 34.37it/s]\n"
     ]
    },
    {
     "name": "stdout",
     "output_type": "stream",
     "text": [
      "------------------------------\n",
      "Train Loss EPOCH 406: 0.9746\n",
      "Valid Loss EPOCH 406: 1.2631\n",
      "Train Accuracy EPOCH 406: 0.9279\n"
     ]
    },
    {
     "name": "stderr",
     "output_type": "stream",
     "text": [
      " 81%|████████  | 406/500 [9:06:36<2:14:05, 85.59s/it]"
     ]
    },
    {
     "name": "stdout",
     "output_type": "stream",
     "text": [
      "Valid Accuracy EPOCH 406: 0.6370\n",
      "------------------------------\n"
     ]
    },
    {
     "name": "stderr",
     "output_type": "stream",
     "text": [
      "100%|██████████| 881/881 [01:19<00:00, 11.05it/s]\n",
      "100%|██████████| 189/189 [00:05<00:00, 34.25it/s]\n"
     ]
    },
    {
     "name": "stdout",
     "output_type": "stream",
     "text": [
      "------------------------------\n",
      "Train Loss EPOCH 407: 0.9729\n",
      "Valid Loss EPOCH 407: 1.2681\n",
      "Train Accuracy EPOCH 407: 0.9297\n"
     ]
    },
    {
     "name": "stderr",
     "output_type": "stream",
     "text": [
      " 81%|████████▏ | 407/500 [9:08:02<2:12:37, 85.56s/it]"
     ]
    },
    {
     "name": "stdout",
     "output_type": "stream",
     "text": [
      "Valid Accuracy EPOCH 407: 0.6315\n",
      "------------------------------\n"
     ]
    },
    {
     "name": "stderr",
     "output_type": "stream",
     "text": [
      "100%|██████████| 881/881 [01:19<00:00, 11.04it/s]\n",
      "100%|██████████| 189/189 [00:05<00:00, 34.53it/s]\n"
     ]
    },
    {
     "name": "stdout",
     "output_type": "stream",
     "text": [
      "------------------------------\n",
      "Train Loss EPOCH 408: 0.9739\n",
      "Valid Loss EPOCH 408: 1.2668\n",
      "Train Accuracy EPOCH 408: 0.9286\n"
     ]
    },
    {
     "name": "stderr",
     "output_type": "stream",
     "text": [
      " 82%|████████▏ | 408/500 [9:09:27<2:11:10, 85.55s/it]"
     ]
    },
    {
     "name": "stdout",
     "output_type": "stream",
     "text": [
      "Valid Accuracy EPOCH 408: 0.6317\n",
      "------------------------------\n"
     ]
    },
    {
     "name": "stderr",
     "output_type": "stream",
     "text": [
      "100%|██████████| 881/881 [01:19<00:00, 11.03it/s]\n",
      "100%|██████████| 189/189 [00:05<00:00, 34.49it/s]\n"
     ]
    },
    {
     "name": "stdout",
     "output_type": "stream",
     "text": [
      "------------------------------\n",
      "Train Loss EPOCH 409: 0.9710\n",
      "Valid Loss EPOCH 409: 1.2613\n",
      "Train Accuracy EPOCH 409: 0.9319\n",
      "Valid Accuracy EPOCH 409: 0.6370\n",
      "------------------------------\n"
     ]
    },
    {
     "name": "stderr",
     "output_type": "stream",
     "text": [
      "100%|██████████| 881/881 [01:19<00:00, 11.06it/s]/it]\n",
      "100%|██████████| 189/189 [00:05<00:00, 34.37it/s]\n"
     ]
    },
    {
     "name": "stdout",
     "output_type": "stream",
     "text": [
      "------------------------------\n",
      "Train Loss EPOCH 410: 0.9735\n",
      "Valid Loss EPOCH 410: 1.2558\n",
      "Train Accuracy EPOCH 410: 0.9298\n"
     ]
    },
    {
     "name": "stderr",
     "output_type": "stream",
     "text": [
      " 82%|████████▏ | 410/500 [9:12:18<2:08:16, 85.52s/it]"
     ]
    },
    {
     "name": "stdout",
     "output_type": "stream",
     "text": [
      "Valid Accuracy EPOCH 410: 0.6426\n",
      "------------------------------\n"
     ]
    },
    {
     "name": "stderr",
     "output_type": "stream",
     "text": [
      "100%|██████████| 881/881 [01:19<00:00, 11.03it/s]\n",
      "100%|██████████| 189/189 [00:05<00:00, 34.38it/s]\n"
     ]
    },
    {
     "name": "stdout",
     "output_type": "stream",
     "text": [
      "------------------------------\n",
      "Train Loss EPOCH 411: 0.9720\n",
      "Valid Loss EPOCH 411: 1.2707\n",
      "Train Accuracy EPOCH 411: 0.9307\n"
     ]
    },
    {
     "name": "stderr",
     "output_type": "stream",
     "text": [
      " 82%|████████▏ | 411/500 [9:13:44<2:06:53, 85.55s/it]"
     ]
    },
    {
     "name": "stdout",
     "output_type": "stream",
     "text": [
      "Valid Accuracy EPOCH 411: 0.6282\n",
      "------------------------------\n"
     ]
    },
    {
     "name": "stderr",
     "output_type": "stream",
     "text": [
      "100%|██████████| 881/881 [01:19<00:00, 11.04it/s]\n",
      "100%|██████████| 189/189 [00:05<00:00, 34.20it/s]\n"
     ]
    },
    {
     "name": "stdout",
     "output_type": "stream",
     "text": [
      "------------------------------\n",
      "Train Loss EPOCH 412: 0.9727\n",
      "Valid Loss EPOCH 412: 1.2654\n",
      "Train Accuracy EPOCH 412: 0.9297\n"
     ]
    },
    {
     "name": "stderr",
     "output_type": "stream",
     "text": [
      " 82%|████████▏ | 412/500 [9:15:09<2:05:29, 85.56s/it]"
     ]
    },
    {
     "name": "stdout",
     "output_type": "stream",
     "text": [
      "Valid Accuracy EPOCH 412: 0.6347\n",
      "------------------------------\n"
     ]
    },
    {
     "name": "stderr",
     "output_type": "stream",
     "text": [
      "100%|██████████| 881/881 [01:19<00:00, 11.04it/s]\n",
      "100%|██████████| 189/189 [00:05<00:00, 33.94it/s]\n"
     ]
    },
    {
     "name": "stdout",
     "output_type": "stream",
     "text": [
      "------------------------------\n",
      "Train Loss EPOCH 413: 0.9732\n",
      "Valid Loss EPOCH 413: 1.2544\n",
      "Train Accuracy EPOCH 413: 0.9296\n"
     ]
    },
    {
     "name": "stderr",
     "output_type": "stream",
     "text": [
      " 83%|████████▎ | 413/500 [9:16:35<2:04:04, 85.57s/it]"
     ]
    },
    {
     "name": "stdout",
     "output_type": "stream",
     "text": [
      "Valid Accuracy EPOCH 413: 0.6455\n",
      "------------------------------\n"
     ]
    },
    {
     "name": "stderr",
     "output_type": "stream",
     "text": [
      "100%|██████████| 881/881 [01:19<00:00, 11.05it/s]\n",
      "100%|██████████| 189/189 [00:05<00:00, 34.14it/s]\n"
     ]
    },
    {
     "name": "stdout",
     "output_type": "stream",
     "text": [
      "------------------------------\n",
      "Train Loss EPOCH 414: 0.9718\n",
      "Valid Loss EPOCH 414: 1.2611\n",
      "Train Accuracy EPOCH 414: 0.9309\n"
     ]
    },
    {
     "name": "stderr",
     "output_type": "stream",
     "text": [
      " 83%|████████▎ | 414/500 [9:18:01<2:02:37, 85.56s/it]"
     ]
    },
    {
     "name": "stdout",
     "output_type": "stream",
     "text": [
      "Valid Accuracy EPOCH 414: 0.6372\n",
      "------------------------------\n"
     ]
    },
    {
     "name": "stderr",
     "output_type": "stream",
     "text": [
      "100%|██████████| 881/881 [01:19<00:00, 11.03it/s]\n",
      "100%|██████████| 189/189 [00:05<00:00, 34.24it/s]\n"
     ]
    },
    {
     "name": "stdout",
     "output_type": "stream",
     "text": [
      "------------------------------\n",
      "Train Loss EPOCH 415: 0.9714\n",
      "Valid Loss EPOCH 415: 1.2615\n",
      "Train Accuracy EPOCH 415: 0.9313\n"
     ]
    },
    {
     "name": "stderr",
     "output_type": "stream",
     "text": [
      " 83%|████████▎ | 415/500 [9:19:26<2:01:14, 85.58s/it]"
     ]
    },
    {
     "name": "stdout",
     "output_type": "stream",
     "text": [
      "Valid Accuracy EPOCH 415: 0.6378\n",
      "------------------------------\n"
     ]
    },
    {
     "name": "stderr",
     "output_type": "stream",
     "text": [
      "100%|██████████| 881/881 [01:19<00:00, 11.06it/s]\n",
      "100%|██████████| 189/189 [00:05<00:00, 33.75it/s]\n"
     ]
    },
    {
     "name": "stdout",
     "output_type": "stream",
     "text": [
      "------------------------------\n",
      "Train Loss EPOCH 416: 0.9730\n",
      "Valid Loss EPOCH 416: 1.2712\n",
      "Train Accuracy EPOCH 416: 0.9294\n",
      "Valid Accuracy EPOCH 416: 0.6282\n",
      "------------------------------\n"
     ]
    },
    {
     "name": "stderr",
     "output_type": "stream",
     "text": [
      "100%|██████████| 881/881 [01:19<00:00, 11.05it/s]/it]\n",
      "100%|██████████| 189/189 [00:05<00:00, 34.37it/s]\n"
     ]
    },
    {
     "name": "stdout",
     "output_type": "stream",
     "text": [
      "------------------------------\n",
      "Train Loss EPOCH 417: 0.9682\n",
      "Valid Loss EPOCH 417: 1.2583\n",
      "Train Accuracy EPOCH 417: 0.9347\n",
      "Valid Accuracy EPOCH 417: 0.6397\n",
      "------------------------------\n"
     ]
    },
    {
     "name": "stderr",
     "output_type": "stream",
     "text": [
      "100%|██████████| 881/881 [01:19<00:00, 11.04it/s]/it]\n",
      "100%|██████████| 189/189 [00:05<00:00, 34.16it/s]\n"
     ]
    },
    {
     "name": "stdout",
     "output_type": "stream",
     "text": [
      "------------------------------\n",
      "Train Loss EPOCH 418: 0.9747\n",
      "Valid Loss EPOCH 418: 1.2678\n",
      "Train Accuracy EPOCH 418: 0.9281\n"
     ]
    },
    {
     "name": "stderr",
     "output_type": "stream",
     "text": [
      " 84%|████████▎ | 418/500 [9:23:43<1:56:54, 85.55s/it]"
     ]
    },
    {
     "name": "stdout",
     "output_type": "stream",
     "text": [
      "Valid Accuracy EPOCH 418: 0.6306\n",
      "------------------------------\n"
     ]
    },
    {
     "name": "stderr",
     "output_type": "stream",
     "text": [
      "100%|██████████| 881/881 [01:19<00:00, 11.04it/s]\n",
      "100%|██████████| 189/189 [00:05<00:00, 33.81it/s]\n"
     ]
    },
    {
     "name": "stdout",
     "output_type": "stream",
     "text": [
      "------------------------------\n",
      "Train Loss EPOCH 419: 0.9735\n",
      "Valid Loss EPOCH 419: 1.2602\n",
      "Train Accuracy EPOCH 419: 0.9292\n"
     ]
    },
    {
     "name": "stderr",
     "output_type": "stream",
     "text": [
      " 84%|████████▍ | 419/500 [9:25:08<1:55:32, 85.59s/it]"
     ]
    },
    {
     "name": "stdout",
     "output_type": "stream",
     "text": [
      "Valid Accuracy EPOCH 419: 0.6383\n",
      "------------------------------\n"
     ]
    },
    {
     "name": "stderr",
     "output_type": "stream",
     "text": [
      "100%|██████████| 881/881 [01:19<00:00, 11.07it/s]\n",
      "100%|██████████| 189/189 [00:05<00:00, 34.53it/s]\n"
     ]
    },
    {
     "name": "stdout",
     "output_type": "stream",
     "text": [
      "------------------------------\n",
      "Train Loss EPOCH 420: 0.9710\n",
      "Valid Loss EPOCH 420: 1.2594\n",
      "Train Accuracy EPOCH 420: 0.9318\n"
     ]
    },
    {
     "name": "stderr",
     "output_type": "stream",
     "text": [
      " 84%|████████▍ | 420/500 [9:26:34<1:54:00, 85.51s/it]"
     ]
    },
    {
     "name": "stdout",
     "output_type": "stream",
     "text": [
      "Valid Accuracy EPOCH 420: 0.6397\n",
      "------------------------------\n"
     ]
    },
    {
     "name": "stderr",
     "output_type": "stream",
     "text": [
      "100%|██████████| 881/881 [01:19<00:00, 11.03it/s]\n",
      "100%|██████████| 189/189 [00:05<00:00, 34.38it/s]\n"
     ]
    },
    {
     "name": "stdout",
     "output_type": "stream",
     "text": [
      "------------------------------\n",
      "Train Loss EPOCH 421: 0.9726\n",
      "Valid Loss EPOCH 421: 1.2694\n",
      "Train Accuracy EPOCH 421: 0.9299\n"
     ]
    },
    {
     "name": "stderr",
     "output_type": "stream",
     "text": [
      " 84%|████████▍ | 421/500 [9:27:59<1:52:38, 85.54s/it]"
     ]
    },
    {
     "name": "stdout",
     "output_type": "stream",
     "text": [
      "Valid Accuracy EPOCH 421: 0.6312\n",
      "------------------------------\n"
     ]
    },
    {
     "name": "stderr",
     "output_type": "stream",
     "text": [
      "100%|██████████| 881/881 [01:19<00:00, 11.05it/s]\n",
      "100%|██████████| 189/189 [00:05<00:00, 34.39it/s]\n"
     ]
    },
    {
     "name": "stdout",
     "output_type": "stream",
     "text": [
      "------------------------------\n",
      "Train Loss EPOCH 422: 0.9737\n",
      "Valid Loss EPOCH 422: 1.2676\n",
      "Train Accuracy EPOCH 422: 0.9288\n"
     ]
    },
    {
     "name": "stderr",
     "output_type": "stream",
     "text": [
      " 84%|████████▍ | 422/500 [9:29:25<1:51:11, 85.53s/it]"
     ]
    },
    {
     "name": "stdout",
     "output_type": "stream",
     "text": [
      "Valid Accuracy EPOCH 422: 0.6314\n",
      "------------------------------\n"
     ]
    },
    {
     "name": "stderr",
     "output_type": "stream",
     "text": [
      "100%|██████████| 881/881 [01:19<00:00, 11.06it/s]\n",
      "100%|██████████| 189/189 [00:05<00:00, 34.13it/s]\n"
     ]
    },
    {
     "name": "stdout",
     "output_type": "stream",
     "text": [
      "------------------------------\n",
      "Train Loss EPOCH 423: 0.9699\n",
      "Valid Loss EPOCH 423: 1.2826\n",
      "Train Accuracy EPOCH 423: 0.9333\n"
     ]
    },
    {
     "name": "stderr",
     "output_type": "stream",
     "text": [
      " 85%|████████▍ | 423/500 [9:30:50<1:49:44, 85.51s/it]"
     ]
    },
    {
     "name": "stdout",
     "output_type": "stream",
     "text": [
      "Valid Accuracy EPOCH 423: 0.6168\n",
      "------------------------------\n"
     ]
    },
    {
     "name": "stderr",
     "output_type": "stream",
     "text": [
      "100%|██████████| 881/881 [01:19<00:00, 11.04it/s]\n",
      "100%|██████████| 189/189 [00:05<00:00, 34.39it/s]\n"
     ]
    },
    {
     "name": "stdout",
     "output_type": "stream",
     "text": [
      "------------------------------\n",
      "Train Loss EPOCH 424: 0.9703\n",
      "Valid Loss EPOCH 424: 1.2569\n",
      "Train Accuracy EPOCH 424: 0.9334\n"
     ]
    },
    {
     "name": "stderr",
     "output_type": "stream",
     "text": [
      " 85%|████████▍ | 424/500 [9:32:16<1:48:20, 85.53s/it]"
     ]
    },
    {
     "name": "stdout",
     "output_type": "stream",
     "text": [
      "Valid Accuracy EPOCH 424: 0.6421\n",
      "------------------------------\n"
     ]
    },
    {
     "name": "stderr",
     "output_type": "stream",
     "text": [
      "100%|██████████| 881/881 [01:19<00:00, 11.03it/s]\n",
      "100%|██████████| 189/189 [00:05<00:00, 34.51it/s]\n"
     ]
    },
    {
     "name": "stdout",
     "output_type": "stream",
     "text": [
      "------------------------------\n",
      "Train Loss EPOCH 425: 0.9698\n",
      "Valid Loss EPOCH 425: 1.2615\n",
      "Train Accuracy EPOCH 425: 0.9334\n"
     ]
    },
    {
     "name": "stderr",
     "output_type": "stream",
     "text": [
      " 85%|████████▌ | 425/500 [9:33:42<1:46:55, 85.54s/it]"
     ]
    },
    {
     "name": "stdout",
     "output_type": "stream",
     "text": [
      "Valid Accuracy EPOCH 425: 0.6382\n",
      "------------------------------\n"
     ]
    },
    {
     "name": "stderr",
     "output_type": "stream",
     "text": [
      "100%|██████████| 881/881 [01:19<00:00, 11.06it/s]\n",
      "100%|██████████| 189/189 [00:05<00:00, 34.38it/s]\n"
     ]
    },
    {
     "name": "stdout",
     "output_type": "stream",
     "text": [
      "------------------------------\n",
      "Train Loss EPOCH 426: 0.9734\n",
      "Valid Loss EPOCH 426: 1.2585\n",
      "Train Accuracy EPOCH 426: 0.9297\n"
     ]
    },
    {
     "name": "stderr",
     "output_type": "stream",
     "text": [
      " 85%|████████▌ | 426/500 [9:35:07<1:45:26, 85.50s/it]"
     ]
    },
    {
     "name": "stdout",
     "output_type": "stream",
     "text": [
      "Valid Accuracy EPOCH 426: 0.6405\n",
      "------------------------------\n"
     ]
    },
    {
     "name": "stderr",
     "output_type": "stream",
     "text": [
      "100%|██████████| 881/881 [01:19<00:00, 11.04it/s]\n",
      "100%|██████████| 189/189 [00:05<00:00, 34.42it/s]\n"
     ]
    },
    {
     "name": "stdout",
     "output_type": "stream",
     "text": [
      "------------------------------\n",
      "Train Loss EPOCH 427: 0.9682\n",
      "Valid Loss EPOCH 427: 1.2533\n",
      "Train Accuracy EPOCH 427: 0.9344\n"
     ]
    },
    {
     "name": "stderr",
     "output_type": "stream",
     "text": [
      " 85%|████████▌ | 427/500 [9:36:32<1:44:01, 85.50s/it]"
     ]
    },
    {
     "name": "stdout",
     "output_type": "stream",
     "text": [
      "Valid Accuracy EPOCH 427: 0.6471\n",
      "------------------------------\n"
     ]
    },
    {
     "name": "stderr",
     "output_type": "stream",
     "text": [
      "100%|██████████| 881/881 [01:19<00:00, 11.02it/s]\n",
      "100%|██████████| 189/189 [00:05<00:00, 34.34it/s]\n"
     ]
    },
    {
     "name": "stdout",
     "output_type": "stream",
     "text": [
      "------------------------------\n",
      "Train Loss EPOCH 428: 0.9675\n",
      "Valid Loss EPOCH 428: 1.2535\n",
      "Train Accuracy EPOCH 428: 0.9361\n"
     ]
    },
    {
     "name": "stderr",
     "output_type": "stream",
     "text": [
      " 86%|████████▌ | 428/500 [9:37:58<1:42:41, 85.57s/it]"
     ]
    },
    {
     "name": "stdout",
     "output_type": "stream",
     "text": [
      "Valid Accuracy EPOCH 428: 0.6448\n",
      "------------------------------\n"
     ]
    },
    {
     "name": "stderr",
     "output_type": "stream",
     "text": [
      "100%|██████████| 881/881 [01:19<00:00, 11.05it/s]\n",
      "100%|██████████| 189/189 [00:05<00:00, 34.46it/s]\n"
     ]
    },
    {
     "name": "stdout",
     "output_type": "stream",
     "text": [
      "------------------------------\n",
      "Train Loss EPOCH 429: 0.9696\n",
      "Valid Loss EPOCH 429: 1.2666\n",
      "Train Accuracy EPOCH 429: 0.9329\n"
     ]
    },
    {
     "name": "stderr",
     "output_type": "stream",
     "text": [
      " 86%|████████▌ | 429/500 [9:39:24<1:41:13, 85.54s/it]"
     ]
    },
    {
     "name": "stdout",
     "output_type": "stream",
     "text": [
      "Valid Accuracy EPOCH 429: 0.6299\n",
      "------------------------------\n"
     ]
    },
    {
     "name": "stderr",
     "output_type": "stream",
     "text": [
      "100%|██████████| 881/881 [01:19<00:00, 11.06it/s]\n",
      "100%|██████████| 189/189 [00:05<00:00, 34.41it/s]\n"
     ]
    },
    {
     "name": "stdout",
     "output_type": "stream",
     "text": [
      "------------------------------\n",
      "Train Loss EPOCH 430: 0.9696\n",
      "Valid Loss EPOCH 430: 1.2589\n",
      "Train Accuracy EPOCH 430: 0.9331\n"
     ]
    },
    {
     "name": "stderr",
     "output_type": "stream",
     "text": [
      " 86%|████████▌ | 430/500 [9:40:49<1:39:45, 85.50s/it]"
     ]
    },
    {
     "name": "stdout",
     "output_type": "stream",
     "text": [
      "Valid Accuracy EPOCH 430: 0.6408\n",
      "------------------------------\n"
     ]
    },
    {
     "name": "stderr",
     "output_type": "stream",
     "text": [
      "100%|██████████| 881/881 [01:19<00:00, 11.05it/s]\n",
      "100%|██████████| 189/189 [00:05<00:00, 34.32it/s]\n"
     ]
    },
    {
     "name": "stdout",
     "output_type": "stream",
     "text": [
      "------------------------------\n",
      "Train Loss EPOCH 431: 0.9689\n",
      "Valid Loss EPOCH 431: 1.2626\n",
      "Train Accuracy EPOCH 431: 0.9338\n"
     ]
    },
    {
     "name": "stderr",
     "output_type": "stream",
     "text": [
      " 86%|████████▌ | 431/500 [9:42:15<1:38:19, 85.50s/it]"
     ]
    },
    {
     "name": "stdout",
     "output_type": "stream",
     "text": [
      "Valid Accuracy EPOCH 431: 0.6388\n",
      "------------------------------\n"
     ]
    },
    {
     "name": "stderr",
     "output_type": "stream",
     "text": [
      "100%|██████████| 881/881 [01:19<00:00, 11.05it/s]\n",
      "100%|██████████| 189/189 [00:05<00:00, 34.20it/s]\n"
     ]
    },
    {
     "name": "stdout",
     "output_type": "stream",
     "text": [
      "------------------------------\n",
      "Train Loss EPOCH 432: 0.9734\n",
      "Valid Loss EPOCH 432: 1.2608\n",
      "Train Accuracy EPOCH 432: 0.9294\n"
     ]
    },
    {
     "name": "stderr",
     "output_type": "stream",
     "text": [
      " 86%|████████▋ | 432/500 [9:43:40<1:36:53, 85.50s/it]"
     ]
    },
    {
     "name": "stdout",
     "output_type": "stream",
     "text": [
      "Valid Accuracy EPOCH 432: 0.6373\n",
      "------------------------------\n"
     ]
    },
    {
     "name": "stderr",
     "output_type": "stream",
     "text": [
      "100%|██████████| 881/881 [01:19<00:00, 11.05it/s]\n",
      "100%|██████████| 189/189 [00:05<00:00, 34.27it/s]\n"
     ]
    },
    {
     "name": "stdout",
     "output_type": "stream",
     "text": [
      "------------------------------\n",
      "Train Loss EPOCH 433: 0.9696\n",
      "Valid Loss EPOCH 433: 1.2507\n",
      "Train Accuracy EPOCH 433: 0.9334\n"
     ]
    },
    {
     "name": "stderr",
     "output_type": "stream",
     "text": [
      " 87%|████████▋ | 433/500 [9:45:06<1:35:28, 85.50s/it]"
     ]
    },
    {
     "name": "stdout",
     "output_type": "stream",
     "text": [
      "Valid Accuracy EPOCH 433: 0.6476\n",
      "------------------------------\n"
     ]
    },
    {
     "name": "stderr",
     "output_type": "stream",
     "text": [
      "100%|██████████| 881/881 [01:19<00:00, 11.05it/s]\n",
      "100%|██████████| 189/189 [00:05<00:00, 34.27it/s]\n"
     ]
    },
    {
     "name": "stdout",
     "output_type": "stream",
     "text": [
      "------------------------------\n",
      "Train Loss EPOCH 434: 0.9716\n",
      "Valid Loss EPOCH 434: 1.2569\n",
      "Train Accuracy EPOCH 434: 0.9315\n"
     ]
    },
    {
     "name": "stderr",
     "output_type": "stream",
     "text": [
      " 87%|████████▋ | 434/500 [9:46:31<1:34:02, 85.49s/it]"
     ]
    },
    {
     "name": "stdout",
     "output_type": "stream",
     "text": [
      "Valid Accuracy EPOCH 434: 0.6421\n",
      "------------------------------\n"
     ]
    },
    {
     "name": "stderr",
     "output_type": "stream",
     "text": [
      "100%|██████████| 881/881 [01:19<00:00, 11.05it/s]\n",
      "100%|██████████| 189/189 [00:05<00:00, 34.17it/s]\n"
     ]
    },
    {
     "name": "stdout",
     "output_type": "stream",
     "text": [
      "------------------------------\n",
      "Train Loss EPOCH 435: 0.9700\n",
      "Valid Loss EPOCH 435: 1.2653\n",
      "Train Accuracy EPOCH 435: 0.9325\n"
     ]
    },
    {
     "name": "stderr",
     "output_type": "stream",
     "text": [
      " 87%|████████▋ | 435/500 [9:47:57<1:32:37, 85.50s/it]"
     ]
    },
    {
     "name": "stdout",
     "output_type": "stream",
     "text": [
      "Valid Accuracy EPOCH 435: 0.6337\n",
      "------------------------------\n"
     ]
    },
    {
     "name": "stderr",
     "output_type": "stream",
     "text": [
      "100%|██████████| 881/881 [01:35<00:00,  9.19it/s]\n",
      "100%|██████████| 189/189 [00:06<00:00, 29.05it/s]\n"
     ]
    },
    {
     "name": "stdout",
     "output_type": "stream",
     "text": [
      "------------------------------\n",
      "Train Loss EPOCH 436: 0.9683\n",
      "Valid Loss EPOCH 436: 1.2744\n",
      "Train Accuracy EPOCH 436: 0.9348\n"
     ]
    },
    {
     "name": "stderr",
     "output_type": "stream",
     "text": [
      " 87%|████████▋ | 436/500 [9:49:39<1:36:40, 90.63s/it]"
     ]
    },
    {
     "name": "stdout",
     "output_type": "stream",
     "text": [
      "Valid Accuracy EPOCH 436: 0.6231\n",
      "------------------------------\n"
     ]
    },
    {
     "name": "stderr",
     "output_type": "stream",
     "text": [
      "100%|██████████| 881/881 [01:33<00:00,  9.40it/s]\n",
      "100%|██████████| 189/189 [00:06<00:00, 29.78it/s]\n"
     ]
    },
    {
     "name": "stdout",
     "output_type": "stream",
     "text": [
      "------------------------------\n",
      "Train Loss EPOCH 437: 0.9728\n",
      "Valid Loss EPOCH 437: 1.2685\n",
      "Train Accuracy EPOCH 437: 0.9298\n"
     ]
    },
    {
     "name": "stderr",
     "output_type": "stream",
     "text": [
      " 87%|████████▋ | 437/500 [9:51:19<1:38:13, 93.54s/it]"
     ]
    },
    {
     "name": "stdout",
     "output_type": "stream",
     "text": [
      "Valid Accuracy EPOCH 437: 0.6312\n",
      "------------------------------\n"
     ]
    },
    {
     "name": "stderr",
     "output_type": "stream",
     "text": [
      "100%|██████████| 881/881 [01:32<00:00,  9.48it/s]\n",
      "100%|██████████| 189/189 [00:06<00:00, 29.46it/s]\n"
     ]
    },
    {
     "name": "stdout",
     "output_type": "stream",
     "text": [
      "------------------------------\n",
      "Train Loss EPOCH 438: 0.9700\n",
      "Valid Loss EPOCH 438: 1.2565\n",
      "Train Accuracy EPOCH 438: 0.9327\n"
     ]
    },
    {
     "name": "stderr",
     "output_type": "stream",
     "text": [
      " 88%|████████▊ | 438/500 [9:52:59<1:38:32, 95.36s/it]"
     ]
    },
    {
     "name": "stdout",
     "output_type": "stream",
     "text": [
      "Valid Accuracy EPOCH 438: 0.6418\n",
      "------------------------------\n"
     ]
    },
    {
     "name": "stderr",
     "output_type": "stream",
     "text": [
      "100%|██████████| 881/881 [01:33<00:00,  9.46it/s]\n",
      "100%|██████████| 189/189 [00:06<00:00, 29.89it/s]\n"
     ]
    },
    {
     "name": "stdout",
     "output_type": "stream",
     "text": [
      "------------------------------\n",
      "Train Loss EPOCH 439: 0.9707\n",
      "Valid Loss EPOCH 439: 1.2581\n",
      "Train Accuracy EPOCH 439: 0.9321\n"
     ]
    },
    {
     "name": "stderr",
     "output_type": "stream",
     "text": [
      " 88%|████████▊ | 439/500 [9:54:39<1:38:16, 96.67s/it]"
     ]
    },
    {
     "name": "stdout",
     "output_type": "stream",
     "text": [
      "Valid Accuracy EPOCH 439: 0.6417\n",
      "------------------------------\n"
     ]
    },
    {
     "name": "stderr",
     "output_type": "stream",
     "text": [
      "100%|██████████| 881/881 [01:33<00:00,  9.43it/s]\n",
      "100%|██████████| 189/189 [00:06<00:00, 29.65it/s]\n"
     ]
    },
    {
     "name": "stdout",
     "output_type": "stream",
     "text": [
      "------------------------------\n",
      "Train Loss EPOCH 440: 0.9706\n",
      "Valid Loss EPOCH 440: 1.2511\n",
      "Train Accuracy EPOCH 440: 0.9325\n"
     ]
    },
    {
     "name": "stderr",
     "output_type": "stream",
     "text": [
      " 88%|████████▊ | 440/500 [9:56:19<1:37:41, 97.70s/it]"
     ]
    },
    {
     "name": "stdout",
     "output_type": "stream",
     "text": [
      "Valid Accuracy EPOCH 440: 0.6483\n",
      "------------------------------\n"
     ]
    },
    {
     "name": "stderr",
     "output_type": "stream",
     "text": [
      "100%|██████████| 881/881 [01:33<00:00,  9.46it/s]\n",
      "100%|██████████| 189/189 [00:06<00:00, 29.55it/s]\n"
     ]
    },
    {
     "name": "stdout",
     "output_type": "stream",
     "text": [
      "------------------------------\n",
      "Train Loss EPOCH 441: 0.9704\n",
      "Valid Loss EPOCH 441: 1.2605\n",
      "Train Accuracy EPOCH 441: 0.9319\n"
     ]
    },
    {
     "name": "stderr",
     "output_type": "stream",
     "text": [
      " 88%|████████▊ | 441/500 [9:57:59<1:36:41, 98.33s/it]"
     ]
    },
    {
     "name": "stdout",
     "output_type": "stream",
     "text": [
      "Valid Accuracy EPOCH 441: 0.6375\n",
      "------------------------------\n"
     ]
    },
    {
     "name": "stderr",
     "output_type": "stream",
     "text": [
      "100%|██████████| 881/881 [01:33<00:00,  9.46it/s]\n",
      "100%|██████████| 189/189 [00:06<00:00, 29.90it/s]\n"
     ]
    },
    {
     "name": "stdout",
     "output_type": "stream",
     "text": [
      "------------------------------\n",
      "Train Loss EPOCH 442: 0.9686\n",
      "Valid Loss EPOCH 442: 1.2617\n",
      "Train Accuracy EPOCH 442: 0.9335\n"
     ]
    },
    {
     "name": "stderr",
     "output_type": "stream",
     "text": [
      " 88%|████████▊ | 442/500 [9:59:38<1:35:26, 98.74s/it]"
     ]
    },
    {
     "name": "stdout",
     "output_type": "stream",
     "text": [
      "Valid Accuracy EPOCH 442: 0.6367\n",
      "------------------------------\n"
     ]
    },
    {
     "name": "stderr",
     "output_type": "stream",
     "text": [
      "100%|██████████| 881/881 [01:33<00:00,  9.46it/s]\n",
      "100%|██████████| 189/189 [00:06<00:00, 29.99it/s]\n"
     ]
    },
    {
     "name": "stdout",
     "output_type": "stream",
     "text": [
      "------------------------------\n",
      "Train Loss EPOCH 443: 0.9691\n",
      "Valid Loss EPOCH 443: 1.2635\n",
      "Train Accuracy EPOCH 443: 0.9342\n"
     ]
    },
    {
     "name": "stderr",
     "output_type": "stream",
     "text": [
      " 89%|████████▊ | 443/500 [10:01:18<1:34:05, 99.04s/it]"
     ]
    },
    {
     "name": "stdout",
     "output_type": "stream",
     "text": [
      "Valid Accuracy EPOCH 443: 0.6367\n",
      "------------------------------\n"
     ]
    },
    {
     "name": "stderr",
     "output_type": "stream",
     "text": [
      "100%|██████████| 881/881 [01:33<00:00,  9.45it/s]\n",
      "100%|██████████| 189/189 [00:06<00:00, 29.85it/s]\n"
     ]
    },
    {
     "name": "stdout",
     "output_type": "stream",
     "text": [
      "------------------------------\n",
      "Train Loss EPOCH 444: 0.9660\n",
      "Valid Loss EPOCH 444: 1.2686\n",
      "Train Accuracy EPOCH 444: 0.9367\n"
     ]
    },
    {
     "name": "stderr",
     "output_type": "stream",
     "text": [
      " 89%|████████▉ | 444/500 [10:02:58<1:32:39, 99.28s/it]"
     ]
    },
    {
     "name": "stdout",
     "output_type": "stream",
     "text": [
      "Valid Accuracy EPOCH 444: 0.6289\n",
      "------------------------------\n"
     ]
    },
    {
     "name": "stderr",
     "output_type": "stream",
     "text": [
      "100%|██████████| 881/881 [01:33<00:00,  9.45it/s]\n",
      "100%|██████████| 189/189 [00:06<00:00, 29.73it/s]\n",
      " 89%|████████▉ | 445/500 [10:04:38<1:31:08, 99.43s/it]"
     ]
    },
    {
     "name": "stdout",
     "output_type": "stream",
     "text": [
      "------------------------------\n",
      "Train Loss EPOCH 445: 0.9697\n",
      "Valid Loss EPOCH 445: 1.2622\n",
      "Train Accuracy EPOCH 445: 0.9333\n",
      "Valid Accuracy EPOCH 445: 0.6363\n",
      "------------------------------\n"
     ]
    },
    {
     "name": "stderr",
     "output_type": "stream",
     "text": [
      "100%|██████████| 881/881 [01:33<00:00,  9.45it/s]\n",
      "100%|██████████| 189/189 [00:06<00:00, 29.87it/s]\n"
     ]
    },
    {
     "name": "stdout",
     "output_type": "stream",
     "text": [
      "------------------------------\n",
      "Train Loss EPOCH 446: 0.9681\n",
      "Valid Loss EPOCH 446: 1.2529\n",
      "Train Accuracy EPOCH 446: 0.9352\n"
     ]
    },
    {
     "name": "stderr",
     "output_type": "stream",
     "text": [
      " 89%|████████▉ | 446/500 [10:06:18<1:29:35, 99.55s/it]"
     ]
    },
    {
     "name": "stdout",
     "output_type": "stream",
     "text": [
      "Valid Accuracy EPOCH 446: 0.6470\n",
      "------------------------------\n"
     ]
    },
    {
     "name": "stderr",
     "output_type": "stream",
     "text": [
      "100%|██████████| 881/881 [01:32<00:00,  9.48it/s]\n",
      "100%|██████████| 189/189 [00:06<00:00, 29.65it/s]\n"
     ]
    },
    {
     "name": "stdout",
     "output_type": "stream",
     "text": [
      "------------------------------\n",
      "Train Loss EPOCH 447: 0.9693\n",
      "Valid Loss EPOCH 447: 1.2595\n",
      "Train Accuracy EPOCH 447: 0.9329\n"
     ]
    },
    {
     "name": "stderr",
     "output_type": "stream",
     "text": [
      " 89%|████████▉ | 447/500 [10:07:57<1:27:56, 99.56s/it]"
     ]
    },
    {
     "name": "stdout",
     "output_type": "stream",
     "text": [
      "Valid Accuracy EPOCH 447: 0.6393\n",
      "------------------------------\n"
     ]
    },
    {
     "name": "stderr",
     "output_type": "stream",
     "text": [
      "100%|██████████| 881/881 [01:33<00:00,  9.43it/s]\n",
      "100%|██████████| 189/189 [00:06<00:00, 29.79it/s]\n"
     ]
    },
    {
     "name": "stdout",
     "output_type": "stream",
     "text": [
      "------------------------------\n",
      "Train Loss EPOCH 448: 0.9668\n",
      "Valid Loss EPOCH 448: 1.2652\n",
      "Train Accuracy EPOCH 448: 0.9361\n",
      "Valid Accuracy EPOCH 448: 0.6332\n",
      "------------------------------\n"
     ]
    },
    {
     "name": "stderr",
     "output_type": "stream",
     "text": [
      "100%|██████████| 881/881 [01:33<00:00,  9.46it/s]s/it]\n",
      "100%|██████████| 189/189 [00:06<00:00, 29.65it/s]\n"
     ]
    },
    {
     "name": "stdout",
     "output_type": "stream",
     "text": [
      "------------------------------\n",
      "Train Loss EPOCH 449: 0.9683\n",
      "Valid Loss EPOCH 449: 1.2551\n",
      "Train Accuracy EPOCH 449: 0.9354\n"
     ]
    },
    {
     "name": "stderr",
     "output_type": "stream",
     "text": [
      " 90%|████████▉ | 449/500 [10:11:17<1:24:45, 99.72s/it]"
     ]
    },
    {
     "name": "stdout",
     "output_type": "stream",
     "text": [
      "Valid Accuracy EPOCH 449: 0.6455\n",
      "------------------------------\n"
     ]
    },
    {
     "name": "stderr",
     "output_type": "stream",
     "text": [
      "100%|██████████| 881/881 [01:32<00:00,  9.48it/s]\n",
      "100%|██████████| 189/189 [00:06<00:00, 29.77it/s]\n"
     ]
    },
    {
     "name": "stdout",
     "output_type": "stream",
     "text": [
      "------------------------------\n",
      "Train Loss EPOCH 450: 0.9655\n",
      "Valid Loss EPOCH 450: 1.2671\n",
      "Train Accuracy EPOCH 450: 0.9373\n"
     ]
    },
    {
     "name": "stderr",
     "output_type": "stream",
     "text": [
      " 90%|█████████ | 450/500 [10:12:56<1:23:02, 99.66s/it]"
     ]
    },
    {
     "name": "stdout",
     "output_type": "stream",
     "text": [
      "Valid Accuracy EPOCH 450: 0.6314\n",
      "------------------------------\n"
     ]
    },
    {
     "name": "stderr",
     "output_type": "stream",
     "text": [
      "100%|██████████| 881/881 [01:33<00:00,  9.46it/s]\n",
      "100%|██████████| 189/189 [00:06<00:00, 29.29it/s]\n"
     ]
    },
    {
     "name": "stdout",
     "output_type": "stream",
     "text": [
      "------------------------------\n",
      "Train Loss EPOCH 451: 0.9667\n",
      "Valid Loss EPOCH 451: 1.2710\n",
      "Train Accuracy EPOCH 451: 0.9362\n"
     ]
    },
    {
     "name": "stderr",
     "output_type": "stream",
     "text": [
      " 90%|█████████ | 451/500 [10:14:36<1:21:25, 99.71s/it]"
     ]
    },
    {
     "name": "stdout",
     "output_type": "stream",
     "text": [
      "Valid Accuracy EPOCH 451: 0.6279\n",
      "------------------------------\n"
     ]
    },
    {
     "name": "stderr",
     "output_type": "stream",
     "text": [
      "100%|██████████| 881/881 [01:33<00:00,  9.44it/s]\n",
      "100%|██████████| 189/189 [00:06<00:00, 29.70it/s]\n"
     ]
    },
    {
     "name": "stdout",
     "output_type": "stream",
     "text": [
      "------------------------------\n",
      "Train Loss EPOCH 452: 0.9670\n",
      "Valid Loss EPOCH 452: 1.2647\n",
      "Train Accuracy EPOCH 452: 0.9362\n"
     ]
    },
    {
     "name": "stderr",
     "output_type": "stream",
     "text": [
      " 90%|█████████ | 452/500 [10:16:16<1:19:49, 99.78s/it]"
     ]
    },
    {
     "name": "stdout",
     "output_type": "stream",
     "text": [
      "Valid Accuracy EPOCH 452: 0.6357\n",
      "------------------------------\n"
     ]
    },
    {
     "name": "stderr",
     "output_type": "stream",
     "text": [
      "100%|██████████| 881/881 [01:32<00:00,  9.48it/s]\n",
      "100%|██████████| 189/189 [00:06<00:00, 29.94it/s]\n"
     ]
    },
    {
     "name": "stdout",
     "output_type": "stream",
     "text": [
      "------------------------------\n",
      "Train Loss EPOCH 453: 0.9711\n",
      "Valid Loss EPOCH 453: 1.2645\n",
      "Train Accuracy EPOCH 453: 0.9317\n"
     ]
    },
    {
     "name": "stderr",
     "output_type": "stream",
     "text": [
      " 91%|█████████ | 453/500 [10:17:56<1:18:05, 99.70s/it]"
     ]
    },
    {
     "name": "stdout",
     "output_type": "stream",
     "text": [
      "Valid Accuracy EPOCH 453: 0.6340\n",
      "------------------------------\n"
     ]
    },
    {
     "name": "stderr",
     "output_type": "stream",
     "text": [
      "100%|██████████| 881/881 [01:33<00:00,  9.46it/s]\n",
      "100%|██████████| 189/189 [00:06<00:00, 29.65it/s]\n"
     ]
    },
    {
     "name": "stdout",
     "output_type": "stream",
     "text": [
      "------------------------------\n",
      "Train Loss EPOCH 454: 0.9666\n",
      "Valid Loss EPOCH 454: 1.2659\n",
      "Train Accuracy EPOCH 454: 0.9360\n",
      "Valid Accuracy EPOCH 454: 0.6349\n",
      "------------------------------\n"
     ]
    },
    {
     "name": "stderr",
     "output_type": "stream",
     "text": [
      "100%|██████████| 881/881 [01:33<00:00,  9.44it/s]s/it]\n",
      "100%|██████████| 189/189 [00:06<00:00, 29.71it/s]\n"
     ]
    },
    {
     "name": "stdout",
     "output_type": "stream",
     "text": [
      "------------------------------\n",
      "Train Loss EPOCH 455: 0.9678\n",
      "Valid Loss EPOCH 455: 1.2685\n",
      "Train Accuracy EPOCH 455: 0.9351\n"
     ]
    },
    {
     "name": "stderr",
     "output_type": "stream",
     "text": [
      " 91%|█████████ | 455/500 [10:21:15<1:14:49, 99.77s/it]"
     ]
    },
    {
     "name": "stdout",
     "output_type": "stream",
     "text": [
      "Valid Accuracy EPOCH 455: 0.6292\n",
      "------------------------------\n"
     ]
    },
    {
     "name": "stderr",
     "output_type": "stream",
     "text": [
      "100%|██████████| 881/881 [01:32<00:00,  9.48it/s]\n",
      "100%|██████████| 189/189 [00:06<00:00, 29.78it/s]\n",
      " 91%|█████████ | 456/500 [10:22:55<1:13:06, 99.68s/it]"
     ]
    },
    {
     "name": "stdout",
     "output_type": "stream",
     "text": [
      "------------------------------\n",
      "Train Loss EPOCH 456: 0.9687\n",
      "Valid Loss EPOCH 456: 1.2554\n",
      "Train Accuracy EPOCH 456: 0.9340\n",
      "Valid Accuracy EPOCH 456: 0.6440\n",
      "------------------------------\n"
     ]
    },
    {
     "name": "stderr",
     "output_type": "stream",
     "text": [
      "100%|██████████| 881/881 [01:33<00:00,  9.47it/s]\n",
      "100%|██████████| 189/189 [00:06<00:00, 30.03it/s]\n"
     ]
    },
    {
     "name": "stdout",
     "output_type": "stream",
     "text": [
      "------------------------------\n",
      "Train Loss EPOCH 457: 0.9657\n",
      "Valid Loss EPOCH 457: 1.2529\n",
      "Train Accuracy EPOCH 457: 0.9367\n"
     ]
    },
    {
     "name": "stderr",
     "output_type": "stream",
     "text": [
      " 91%|█████████▏| 457/500 [10:24:34<1:11:24, 99.65s/it]"
     ]
    },
    {
     "name": "stdout",
     "output_type": "stream",
     "text": [
      "Valid Accuracy EPOCH 457: 0.6458\n",
      "------------------------------\n"
     ]
    },
    {
     "name": "stderr",
     "output_type": "stream",
     "text": [
      "100%|██████████| 881/881 [01:32<00:00,  9.47it/s]\n",
      "100%|██████████| 189/189 [00:06<00:00, 29.72it/s]\n"
     ]
    },
    {
     "name": "stdout",
     "output_type": "stream",
     "text": [
      "------------------------------\n",
      "Train Loss EPOCH 458: 0.9642\n",
      "Valid Loss EPOCH 458: 1.2563\n",
      "Train Accuracy EPOCH 458: 0.9382\n"
     ]
    },
    {
     "name": "stderr",
     "output_type": "stream",
     "text": [
      " 92%|█████████▏| 458/500 [10:26:14<1:09:44, 99.64s/it]"
     ]
    },
    {
     "name": "stdout",
     "output_type": "stream",
     "text": [
      "Valid Accuracy EPOCH 458: 0.6425\n",
      "------------------------------\n"
     ]
    },
    {
     "name": "stderr",
     "output_type": "stream",
     "text": [
      "100%|██████████| 881/881 [01:33<00:00,  9.45it/s]\n",
      "100%|██████████| 189/189 [00:06<00:00, 29.66it/s]\n"
     ]
    },
    {
     "name": "stdout",
     "output_type": "stream",
     "text": [
      "------------------------------\n",
      "Train Loss EPOCH 459: 0.9667\n",
      "Valid Loss EPOCH 459: 1.2513\n",
      "Train Accuracy EPOCH 459: 0.9361\n"
     ]
    },
    {
     "name": "stderr",
     "output_type": "stream",
     "text": [
      " 92%|█████████▏| 459/500 [10:27:54<1:08:07, 99.71s/it]"
     ]
    },
    {
     "name": "stdout",
     "output_type": "stream",
     "text": [
      "Valid Accuracy EPOCH 459: 0.6491\n",
      "------------------------------\n"
     ]
    },
    {
     "name": "stderr",
     "output_type": "stream",
     "text": [
      "100%|██████████| 881/881 [01:33<00:00,  9.44it/s]\n",
      "100%|██████████| 189/189 [00:06<00:00, 29.66it/s]\n"
     ]
    },
    {
     "name": "stdout",
     "output_type": "stream",
     "text": [
      "------------------------------\n",
      "Train Loss EPOCH 460: 0.9694\n",
      "Valid Loss EPOCH 460: 1.2568\n",
      "Train Accuracy EPOCH 460: 0.9334\n"
     ]
    },
    {
     "name": "stderr",
     "output_type": "stream",
     "text": [
      " 92%|█████████▏| 460/500 [10:29:34<1:06:31, 99.78s/it]"
     ]
    },
    {
     "name": "stdout",
     "output_type": "stream",
     "text": [
      "Valid Accuracy EPOCH 460: 0.6440\n",
      "------------------------------\n"
     ]
    },
    {
     "name": "stderr",
     "output_type": "stream",
     "text": [
      "100%|██████████| 881/881 [01:33<00:00,  9.46it/s]\n",
      "100%|██████████| 189/189 [00:06<00:00, 29.73it/s]\n"
     ]
    },
    {
     "name": "stdout",
     "output_type": "stream",
     "text": [
      "------------------------------\n",
      "Train Loss EPOCH 461: 0.9668\n",
      "Valid Loss EPOCH 461: 1.2554\n",
      "Train Accuracy EPOCH 461: 0.9363\n"
     ]
    },
    {
     "name": "stderr",
     "output_type": "stream",
     "text": [
      " 92%|█████████▏| 461/500 [10:31:14<1:04:50, 99.76s/it]"
     ]
    },
    {
     "name": "stdout",
     "output_type": "stream",
     "text": [
      "Valid Accuracy EPOCH 461: 0.6423\n",
      "------------------------------\n"
     ]
    },
    {
     "name": "stderr",
     "output_type": "stream",
     "text": [
      "100%|██████████| 881/881 [01:32<00:00,  9.48it/s]\n",
      "100%|██████████| 189/189 [00:06<00:00, 29.62it/s]\n"
     ]
    },
    {
     "name": "stdout",
     "output_type": "stream",
     "text": [
      "------------------------------\n",
      "Train Loss EPOCH 462: 0.9652\n",
      "Valid Loss EPOCH 462: 1.2595\n",
      "Train Accuracy EPOCH 462: 0.9380\n"
     ]
    },
    {
     "name": "stderr",
     "output_type": "stream",
     "text": [
      " 92%|█████████▏| 462/500 [10:32:53<1:03:08, 99.70s/it]"
     ]
    },
    {
     "name": "stdout",
     "output_type": "stream",
     "text": [
      "Valid Accuracy EPOCH 462: 0.6397\n",
      "------------------------------\n"
     ]
    },
    {
     "name": "stderr",
     "output_type": "stream",
     "text": [
      "100%|██████████| 881/881 [01:33<00:00,  9.44it/s]\n",
      "100%|██████████| 189/189 [00:06<00:00, 29.69it/s]\n"
     ]
    },
    {
     "name": "stdout",
     "output_type": "stream",
     "text": [
      "------------------------------\n",
      "Train Loss EPOCH 463: 0.9648\n",
      "Valid Loss EPOCH 463: 1.2593\n",
      "Train Accuracy EPOCH 463: 0.9377\n"
     ]
    },
    {
     "name": "stderr",
     "output_type": "stream",
     "text": [
      " 93%|█████████▎| 463/500 [10:34:33<1:01:31, 99.78s/it]"
     ]
    },
    {
     "name": "stdout",
     "output_type": "stream",
     "text": [
      "Valid Accuracy EPOCH 463: 0.6405\n",
      "------------------------------\n"
     ]
    },
    {
     "name": "stderr",
     "output_type": "stream",
     "text": [
      "100%|██████████| 881/881 [01:33<00:00,  9.46it/s]\n",
      "100%|██████████| 189/189 [00:06<00:00, 29.86it/s]\n"
     ]
    },
    {
     "name": "stdout",
     "output_type": "stream",
     "text": [
      "------------------------------\n",
      "Train Loss EPOCH 464: 0.9673\n",
      "Valid Loss EPOCH 464: 1.2554\n",
      "Train Accuracy EPOCH 464: 0.9352\n"
     ]
    },
    {
     "name": "stderr",
     "output_type": "stream",
     "text": [
      " 93%|█████████▎| 464/500 [10:36:13<59:51, 99.76s/it]  "
     ]
    },
    {
     "name": "stdout",
     "output_type": "stream",
     "text": [
      "Valid Accuracy EPOCH 464: 0.6417\n",
      "------------------------------\n"
     ]
    },
    {
     "name": "stderr",
     "output_type": "stream",
     "text": [
      "100%|██████████| 881/881 [01:32<00:00,  9.49it/s]\n",
      "100%|██████████| 189/189 [00:06<00:00, 29.77it/s]\n"
     ]
    },
    {
     "name": "stdout",
     "output_type": "stream",
     "text": [
      "------------------------------\n",
      "Train Loss EPOCH 465: 0.9669\n",
      "Valid Loss EPOCH 465: 1.2585\n",
      "Train Accuracy EPOCH 465: 0.9356\n"
     ]
    },
    {
     "name": "stderr",
     "output_type": "stream",
     "text": [
      " 93%|█████████▎| 465/500 [10:37:52<58:08, 99.66s/it]"
     ]
    },
    {
     "name": "stdout",
     "output_type": "stream",
     "text": [
      "Valid Accuracy EPOCH 465: 0.6403\n",
      "------------------------------\n"
     ]
    },
    {
     "name": "stderr",
     "output_type": "stream",
     "text": [
      "100%|██████████| 881/881 [01:33<00:00,  9.46it/s]\n",
      "100%|██████████| 189/189 [00:06<00:00, 29.29it/s]\n"
     ]
    },
    {
     "name": "stdout",
     "output_type": "stream",
     "text": [
      "------------------------------\n",
      "Train Loss EPOCH 466: 0.9630\n",
      "Valid Loss EPOCH 466: 1.2673\n"
     ]
    },
    {
     "name": "stderr",
     "output_type": "stream",
     "text": [
      " 93%|█████████▎| 466/500 [10:39:32<56:30, 99.73s/it]"
     ]
    },
    {
     "name": "stdout",
     "output_type": "stream",
     "text": [
      "Train Accuracy EPOCH 466: 0.9404\n",
      "Valid Accuracy EPOCH 466: 0.6312\n",
      "------------------------------\n"
     ]
    },
    {
     "name": "stderr",
     "output_type": "stream",
     "text": [
      "100%|██████████| 881/881 [01:33<00:00,  9.45it/s]\n",
      "100%|██████████| 189/189 [00:06<00:00, 29.71it/s]\n"
     ]
    },
    {
     "name": "stdout",
     "output_type": "stream",
     "text": [
      "------------------------------\n",
      "Train Loss EPOCH 467: 0.9712\n",
      "Valid Loss EPOCH 467: 1.2622\n",
      "Train Accuracy EPOCH 467: 0.9315\n"
     ]
    },
    {
     "name": "stderr",
     "output_type": "stream",
     "text": [
      " 93%|█████████▎| 467/500 [10:41:12<54:52, 99.78s/it]"
     ]
    },
    {
     "name": "stdout",
     "output_type": "stream",
     "text": [
      "Valid Accuracy EPOCH 467: 0.6365\n",
      "------------------------------\n"
     ]
    },
    {
     "name": "stderr",
     "output_type": "stream",
     "text": [
      "100%|██████████| 881/881 [01:33<00:00,  9.44it/s]\n",
      "100%|██████████| 189/189 [00:06<00:00, 29.66it/s]\n"
     ]
    },
    {
     "name": "stdout",
     "output_type": "stream",
     "text": [
      "------------------------------\n",
      "Train Loss EPOCH 468: 0.9647\n",
      "Valid Loss EPOCH 468: 1.2551\n",
      "Train Accuracy EPOCH 468: 0.9383\n"
     ]
    },
    {
     "name": "stderr",
     "output_type": "stream",
     "text": [
      " 94%|█████████▎| 468/500 [10:42:52<53:14, 99.84s/it]"
     ]
    },
    {
     "name": "stdout",
     "output_type": "stream",
     "text": [
      "Valid Accuracy EPOCH 468: 0.6425\n",
      "------------------------------\n"
     ]
    },
    {
     "name": "stderr",
     "output_type": "stream",
     "text": [
      "100%|██████████| 881/881 [01:34<00:00,  9.32it/s]\n",
      "100%|██████████| 189/189 [00:06<00:00, 29.34it/s]\n",
      " 94%|█████████▍| 469/500 [10:44:33<51:48, 100.27s/it]"
     ]
    },
    {
     "name": "stdout",
     "output_type": "stream",
     "text": [
      "------------------------------\n",
      "Train Loss EPOCH 469: 0.9626\n",
      "Valid Loss EPOCH 469: 1.2565\n",
      "Train Accuracy EPOCH 469: 0.9401\n",
      "Valid Accuracy EPOCH 469: 0.6417\n",
      "------------------------------\n"
     ]
    },
    {
     "name": "stderr",
     "output_type": "stream",
     "text": [
      "100%|██████████| 881/881 [01:33<00:00,  9.38it/s]\n",
      "100%|██████████| 189/189 [00:06<00:00, 29.01it/s]\n"
     ]
    },
    {
     "name": "stdout",
     "output_type": "stream",
     "text": [
      "------------------------------\n",
      "Train Loss EPOCH 470: 0.9651\n",
      "Valid Loss EPOCH 470: 1.2573\n",
      "Train Accuracy EPOCH 470: 0.9378\n"
     ]
    },
    {
     "name": "stderr",
     "output_type": "stream",
     "text": [
      " 94%|█████████▍| 470/500 [10:46:14<50:11, 100.39s/it]"
     ]
    },
    {
     "name": "stdout",
     "output_type": "stream",
     "text": [
      "Valid Accuracy EPOCH 470: 0.6430\n",
      "------------------------------\n"
     ]
    },
    {
     "name": "stderr",
     "output_type": "stream",
     "text": [
      "100%|██████████| 881/881 [01:33<00:00,  9.40it/s]\n",
      "100%|██████████| 189/189 [00:06<00:00, 29.86it/s]\n"
     ]
    },
    {
     "name": "stdout",
     "output_type": "stream",
     "text": [
      "------------------------------\n",
      "Train Loss EPOCH 471: 0.9651\n",
      "Valid Loss EPOCH 471: 1.2604\n",
      "Train Accuracy EPOCH 471: 0.9384\n"
     ]
    },
    {
     "name": "stderr",
     "output_type": "stream",
     "text": [
      " 94%|█████████▍| 471/500 [10:47:54<48:30, 100.37s/it]"
     ]
    },
    {
     "name": "stdout",
     "output_type": "stream",
     "text": [
      "Valid Accuracy EPOCH 471: 0.6407\n",
      "------------------------------\n"
     ]
    },
    {
     "name": "stderr",
     "output_type": "stream",
     "text": [
      "100%|██████████| 881/881 [01:33<00:00,  9.40it/s]\n",
      "100%|██████████| 189/189 [00:06<00:00, 29.59it/s]\n"
     ]
    },
    {
     "name": "stdout",
     "output_type": "stream",
     "text": [
      "------------------------------\n",
      "Train Loss EPOCH 472: 0.9632\n",
      "Valid Loss EPOCH 472: 1.2482\n",
      "Train Accuracy EPOCH 472: 0.9392\n"
     ]
    },
    {
     "name": "stderr",
     "output_type": "stream",
     "text": [
      " 94%|█████████▍| 472/500 [10:49:35<46:50, 100.36s/it]"
     ]
    },
    {
     "name": "stdout",
     "output_type": "stream",
     "text": [
      "Valid Accuracy EPOCH 472: 0.6519\n",
      "------------------------------\n"
     ]
    },
    {
     "name": "stderr",
     "output_type": "stream",
     "text": [
      "100%|██████████| 881/881 [01:33<00:00,  9.39it/s]\n",
      "100%|██████████| 189/189 [00:06<00:00, 29.22it/s]\n"
     ]
    },
    {
     "name": "stdout",
     "output_type": "stream",
     "text": [
      "------------------------------\n",
      "Train Loss EPOCH 473: 0.9666\n",
      "Valid Loss EPOCH 473: 1.2647\n",
      "Train Accuracy EPOCH 473: 0.9361\n"
     ]
    },
    {
     "name": "stderr",
     "output_type": "stream",
     "text": [
      " 95%|█████████▍| 473/500 [10:51:15<45:11, 100.41s/it]"
     ]
    },
    {
     "name": "stdout",
     "output_type": "stream",
     "text": [
      "Valid Accuracy EPOCH 473: 0.6342\n",
      "------------------------------\n"
     ]
    },
    {
     "name": "stderr",
     "output_type": "stream",
     "text": [
      "100%|██████████| 881/881 [01:34<00:00,  9.37it/s]\n",
      "100%|██████████| 189/189 [00:06<00:00, 29.38it/s]\n"
     ]
    },
    {
     "name": "stdout",
     "output_type": "stream",
     "text": [
      "------------------------------\n",
      "Train Loss EPOCH 474: 0.9660\n",
      "Valid Loss EPOCH 474: 1.2676\n",
      "Train Accuracy EPOCH 474: 0.9374\n"
     ]
    },
    {
     "name": "stderr",
     "output_type": "stream",
     "text": [
      " 95%|█████████▍| 474/500 [10:52:56<43:33, 100.52s/it]"
     ]
    },
    {
     "name": "stdout",
     "output_type": "stream",
     "text": [
      "Valid Accuracy EPOCH 474: 0.6306\n",
      "------------------------------\n"
     ]
    },
    {
     "name": "stderr",
     "output_type": "stream",
     "text": [
      "100%|██████████| 881/881 [01:33<00:00,  9.40it/s]\n",
      "100%|██████████| 189/189 [00:06<00:00, 29.07it/s]\n"
     ]
    },
    {
     "name": "stdout",
     "output_type": "stream",
     "text": [
      "------------------------------\n",
      "Train Loss EPOCH 475: 0.9690\n",
      "Valid Loss EPOCH 475: 1.2757\n",
      "Train Accuracy EPOCH 475: 0.9339\n"
     ]
    },
    {
     "name": "stderr",
     "output_type": "stream",
     "text": [
      " 95%|█████████▌| 475/500 [10:54:36<41:53, 100.53s/it]"
     ]
    },
    {
     "name": "stdout",
     "output_type": "stream",
     "text": [
      "Valid Accuracy EPOCH 475: 0.6229\n",
      "------------------------------\n"
     ]
    },
    {
     "name": "stderr",
     "output_type": "stream",
     "text": [
      "100%|██████████| 881/881 [01:33<00:00,  9.41it/s]\n",
      "100%|██████████| 189/189 [00:06<00:00, 29.45it/s]\n"
     ]
    },
    {
     "name": "stdout",
     "output_type": "stream",
     "text": [
      "------------------------------\n",
      "Train Loss EPOCH 476: 0.9671\n",
      "Valid Loss EPOCH 476: 1.2490\n",
      "Train Accuracy EPOCH 476: 0.9359\n"
     ]
    },
    {
     "name": "stderr",
     "output_type": "stream",
     "text": [
      " 95%|█████████▌| 476/500 [10:56:17<40:11, 100.48s/it]"
     ]
    },
    {
     "name": "stdout",
     "output_type": "stream",
     "text": [
      "Valid Accuracy EPOCH 476: 0.6479\n",
      "------------------------------\n"
     ]
    },
    {
     "name": "stderr",
     "output_type": "stream",
     "text": [
      "100%|██████████| 881/881 [01:34<00:00,  9.36it/s]\n",
      "100%|██████████| 189/189 [00:06<00:00, 28.93it/s]\n"
     ]
    },
    {
     "name": "stdout",
     "output_type": "stream",
     "text": [
      "------------------------------\n",
      "Train Loss EPOCH 477: 0.9636\n",
      "Valid Loss EPOCH 477: 1.2673\n",
      "Train Accuracy EPOCH 477: 0.9391\n",
      "Valid Accuracy EPOCH 477: 0.6315\n",
      "------------------------------\n"
     ]
    },
    {
     "name": "stderr",
     "output_type": "stream",
     "text": [
      "100%|██████████| 881/881 [01:09<00:00, 12.68it/s]/it]\n",
      "100%|██████████| 189/189 [00:04<00:00, 38.77it/s]\n",
      " 96%|█████████▌| 478/500 [10:59:12<34:01, 92.80s/it] "
     ]
    },
    {
     "name": "stdout",
     "output_type": "stream",
     "text": [
      "------------------------------\n",
      "Train Loss EPOCH 478: 0.9648\n",
      "Valid Loss EPOCH 478: 1.2559\n",
      "Train Accuracy EPOCH 478: 0.9378\n",
      "Valid Accuracy EPOCH 478: 0.6425\n",
      "------------------------------\n"
     ]
    },
    {
     "name": "stderr",
     "output_type": "stream",
     "text": [
      "100%|██████████| 881/881 [01:05<00:00, 13.52it/s]\n",
      "100%|██████████| 189/189 [00:04<00:00, 42.12it/s]\n",
      " 96%|█████████▌| 479/500 [11:00:22<30:04, 85.91s/it]"
     ]
    },
    {
     "name": "stdout",
     "output_type": "stream",
     "text": [
      "------------------------------\n",
      "Train Loss EPOCH 479: 0.9665\n",
      "Valid Loss EPOCH 479: 1.2551\n",
      "Train Accuracy EPOCH 479: 0.9363\n",
      "Valid Accuracy EPOCH 479: 0.6436\n",
      "------------------------------\n"
     ]
    },
    {
     "name": "stderr",
     "output_type": "stream",
     "text": [
      "100%|██████████| 881/881 [01:05<00:00, 13.40it/s]\n",
      "100%|██████████| 189/189 [00:04<00:00, 40.97it/s]\n",
      " 96%|█████████▌| 480/500 [11:01:33<27:06, 81.31s/it]"
     ]
    },
    {
     "name": "stdout",
     "output_type": "stream",
     "text": [
      "------------------------------\n",
      "Train Loss EPOCH 480: 0.9652\n",
      "Valid Loss EPOCH 480: 1.2570\n",
      "Train Accuracy EPOCH 480: 0.9377\n",
      "Valid Accuracy EPOCH 480: 0.6423\n",
      "------------------------------\n"
     ]
    },
    {
     "name": "stderr",
     "output_type": "stream",
     "text": [
      "100%|██████████| 881/881 [01:04<00:00, 13.56it/s]\n",
      "100%|██████████| 189/189 [00:04<00:00, 42.60it/s]\n",
      " 96%|█████████▌| 481/500 [11:02:42<24:38, 77.81s/it]"
     ]
    },
    {
     "name": "stdout",
     "output_type": "stream",
     "text": [
      "------------------------------\n",
      "Train Loss EPOCH 481: 0.9639\n",
      "Valid Loss EPOCH 481: 1.2578\n",
      "Train Accuracy EPOCH 481: 0.9389\n",
      "Valid Accuracy EPOCH 481: 0.6421\n",
      "------------------------------\n"
     ]
    },
    {
     "name": "stderr",
     "output_type": "stream",
     "text": [
      "100%|██████████| 881/881 [01:05<00:00, 13.48it/s]\n",
      "100%|██████████| 189/189 [00:04<00:00, 43.88it/s]\n",
      " 96%|█████████▋| 482/500 [11:03:52<22:37, 75.44s/it]"
     ]
    },
    {
     "name": "stdout",
     "output_type": "stream",
     "text": [
      "------------------------------\n",
      "Train Loss EPOCH 482: 0.9680\n",
      "Valid Loss EPOCH 482: 1.2624\n",
      "Train Accuracy EPOCH 482: 0.9351\n",
      "Valid Accuracy EPOCH 482: 0.6350\n",
      "------------------------------\n"
     ]
    },
    {
     "name": "stderr",
     "output_type": "stream",
     "text": [
      "100%|██████████| 881/881 [01:05<00:00, 13.49it/s]\n",
      "100%|██████████| 189/189 [00:04<00:00, 44.42it/s]\n",
      " 97%|█████████▋| 483/500 [11:05:02<20:53, 73.75s/it]"
     ]
    },
    {
     "name": "stdout",
     "output_type": "stream",
     "text": [
      "------------------------------\n",
      "Train Loss EPOCH 483: 0.9620\n",
      "Valid Loss EPOCH 483: 1.2526\n",
      "Train Accuracy EPOCH 483: 0.9408\n",
      "Valid Accuracy EPOCH 483: 0.6468\n",
      "------------------------------\n"
     ]
    },
    {
     "name": "stderr",
     "output_type": "stream",
     "text": [
      "100%|██████████| 881/881 [01:04<00:00, 13.56it/s]\n",
      "100%|██████████| 189/189 [00:04<00:00, 43.42it/s]\n",
      " 97%|█████████▋| 484/500 [11:06:12<19:19, 72.49s/it]"
     ]
    },
    {
     "name": "stdout",
     "output_type": "stream",
     "text": [
      "------------------------------\n",
      "Train Loss EPOCH 484: 0.9638\n",
      "Valid Loss EPOCH 484: 1.2625\n",
      "Train Accuracy EPOCH 484: 0.9389\n",
      "Valid Accuracy EPOCH 484: 0.6362\n",
      "------------------------------\n"
     ]
    },
    {
     "name": "stderr",
     "output_type": "stream",
     "text": [
      "100%|██████████| 881/881 [01:05<00:00, 13.48it/s]\n",
      "100%|██████████| 189/189 [00:04<00:00, 42.77it/s]\n"
     ]
    },
    {
     "name": "stdout",
     "output_type": "stream",
     "text": [
      "------------------------------\n",
      "Train Loss EPOCH 485: 0.9655\n",
      "Valid Loss EPOCH 485: 1.2623\n",
      "Train Accuracy EPOCH 485: 0.9375\n"
     ]
    },
    {
     "name": "stderr",
     "output_type": "stream",
     "text": [
      " 97%|█████████▋| 485/500 [11:07:22<17:56, 71.75s/it]"
     ]
    },
    {
     "name": "stdout",
     "output_type": "stream",
     "text": [
      "Valid Accuracy EPOCH 485: 0.6373\n",
      "------------------------------\n"
     ]
    },
    {
     "name": "stderr",
     "output_type": "stream",
     "text": [
      "100%|██████████| 881/881 [01:04<00:00, 13.57it/s]\n",
      "100%|██████████| 189/189 [00:04<00:00, 42.10it/s]\n",
      " 97%|█████████▋| 486/500 [11:08:31<16:35, 71.12s/it]"
     ]
    },
    {
     "name": "stdout",
     "output_type": "stream",
     "text": [
      "------------------------------\n",
      "Train Loss EPOCH 486: 0.9620\n",
      "Valid Loss EPOCH 486: 1.2569\n",
      "Train Accuracy EPOCH 486: 0.9412\n",
      "Valid Accuracy EPOCH 486: 0.6413\n",
      "------------------------------\n"
     ]
    },
    {
     "name": "stderr",
     "output_type": "stream",
     "text": [
      "100%|██████████| 881/881 [01:04<00:00, 13.56it/s]\n",
      "100%|██████████| 189/189 [00:04<00:00, 41.23it/s]\n",
      " 97%|█████████▋| 487/500 [11:09:41<15:19, 70.71s/it]"
     ]
    },
    {
     "name": "stdout",
     "output_type": "stream",
     "text": [
      "------------------------------\n",
      "Train Loss EPOCH 487: 0.9649\n",
      "Valid Loss EPOCH 487: 1.2547\n",
      "Train Accuracy EPOCH 487: 0.9380\n",
      "Valid Accuracy EPOCH 487: 0.6440\n",
      "------------------------------\n"
     ]
    },
    {
     "name": "stderr",
     "output_type": "stream",
     "text": [
      "100%|██████████| 881/881 [01:05<00:00, 13.45it/s]\n",
      "100%|██████████| 189/189 [00:04<00:00, 42.18it/s]\n",
      " 98%|█████████▊| 488/500 [11:10:51<14:06, 70.56s/it]"
     ]
    },
    {
     "name": "stdout",
     "output_type": "stream",
     "text": [
      "------------------------------\n",
      "Train Loss EPOCH 488: 0.9663\n",
      "Valid Loss EPOCH 488: 1.2592\n",
      "Train Accuracy EPOCH 488: 0.9365\n",
      "Valid Accuracy EPOCH 488: 0.6408\n",
      "------------------------------\n"
     ]
    },
    {
     "name": "stderr",
     "output_type": "stream",
     "text": [
      "100%|██████████| 881/881 [01:05<00:00, 13.52it/s]\n",
      "100%|██████████| 189/189 [00:04<00:00, 39.37it/s]\n",
      " 98%|█████████▊| 489/500 [11:12:01<12:54, 70.44s/it]"
     ]
    },
    {
     "name": "stdout",
     "output_type": "stream",
     "text": [
      "------------------------------\n",
      "Train Loss EPOCH 489: 0.9644\n",
      "Valid Loss EPOCH 489: 1.2603\n",
      "Train Accuracy EPOCH 489: 0.9392\n",
      "Valid Accuracy EPOCH 489: 0.6385\n",
      "------------------------------\n"
     ]
    },
    {
     "name": "stderr",
     "output_type": "stream",
     "text": [
      "100%|██████████| 881/881 [01:04<00:00, 13.59it/s]\n",
      "100%|██████████| 189/189 [00:04<00:00, 41.89it/s]\n",
      " 98%|█████████▊| 490/500 [11:13:11<11:41, 70.17s/it]"
     ]
    },
    {
     "name": "stdout",
     "output_type": "stream",
     "text": [
      "------------------------------\n",
      "Train Loss EPOCH 490: 0.9637\n",
      "Valid Loss EPOCH 490: 1.2608\n",
      "Train Accuracy EPOCH 490: 0.9390\n",
      "Valid Accuracy EPOCH 490: 0.6380\n",
      "------------------------------\n"
     ]
    },
    {
     "name": "stderr",
     "output_type": "stream",
     "text": [
      "100%|██████████| 881/881 [01:04<00:00, 13.60it/s]\n",
      "100%|██████████| 189/189 [00:04<00:00, 43.51it/s]\n",
      " 98%|█████████▊| 491/500 [11:14:20<10:29, 69.93s/it]"
     ]
    },
    {
     "name": "stdout",
     "output_type": "stream",
     "text": [
      "------------------------------\n",
      "Train Loss EPOCH 491: 0.9646\n",
      "Valid Loss EPOCH 491: 1.2624\n",
      "Train Accuracy EPOCH 491: 0.9383\n",
      "Valid Accuracy EPOCH 491: 0.6367\n",
      "------------------------------\n"
     ]
    },
    {
     "name": "stderr",
     "output_type": "stream",
     "text": [
      "100%|██████████| 881/881 [01:04<00:00, 13.59it/s]\n",
      "100%|██████████| 189/189 [00:04<00:00, 44.92it/s]\n",
      " 98%|█████████▊| 492/500 [11:15:30<09:17, 69.72s/it]"
     ]
    },
    {
     "name": "stdout",
     "output_type": "stream",
     "text": [
      "------------------------------\n",
      "Train Loss EPOCH 492: 0.9628\n",
      "Valid Loss EPOCH 492: 1.2641\n",
      "Train Accuracy EPOCH 492: 0.9392\n",
      "Valid Accuracy EPOCH 492: 0.6355\n",
      "------------------------------\n"
     ]
    },
    {
     "name": "stderr",
     "output_type": "stream",
     "text": [
      "100%|██████████| 881/881 [01:05<00:00, 13.51it/s]\n",
      "100%|██████████| 189/189 [00:04<00:00, 43.37it/s]\n",
      " 99%|█████████▊| 493/500 [11:16:39<08:08, 69.74s/it]"
     ]
    },
    {
     "name": "stdout",
     "output_type": "stream",
     "text": [
      "------------------------------\n",
      "Train Loss EPOCH 493: 0.9646\n",
      "Valid Loss EPOCH 493: 1.2655\n",
      "Train Accuracy EPOCH 493: 0.9377\n",
      "Valid Accuracy EPOCH 493: 0.6334\n",
      "------------------------------\n"
     ]
    },
    {
     "name": "stderr",
     "output_type": "stream",
     "text": [
      "100%|██████████| 881/881 [01:05<00:00, 13.51it/s]\n",
      "100%|██████████| 189/189 [00:04<00:00, 41.56it/s]\n",
      " 99%|█████████▉| 494/500 [11:17:49<06:58, 69.82s/it]"
     ]
    },
    {
     "name": "stdout",
     "output_type": "stream",
     "text": [
      "------------------------------\n",
      "Train Loss EPOCH 494: 0.9629\n",
      "Valid Loss EPOCH 494: 1.2618\n",
      "Train Accuracy EPOCH 494: 0.9403\n",
      "Valid Accuracy EPOCH 494: 0.6368\n",
      "------------------------------\n"
     ]
    },
    {
     "name": "stderr",
     "output_type": "stream",
     "text": [
      "100%|██████████| 881/881 [01:04<00:00, 13.65it/s]\n",
      "100%|██████████| 189/189 [00:04<00:00, 42.83it/s]\n",
      " 99%|█████████▉| 495/500 [11:18:59<05:48, 69.63s/it]"
     ]
    },
    {
     "name": "stdout",
     "output_type": "stream",
     "text": [
      "------------------------------\n",
      "Train Loss EPOCH 495: 0.9640\n",
      "Valid Loss EPOCH 495: 1.2592\n",
      "Train Accuracy EPOCH 495: 0.9384\n",
      "Valid Accuracy EPOCH 495: 0.6395\n",
      "------------------------------\n"
     ]
    },
    {
     "name": "stderr",
     "output_type": "stream",
     "text": [
      "100%|██████████| 881/881 [01:10<00:00, 12.54it/s]\n",
      "100%|██████████| 189/189 [00:04<00:00, 39.87it/s]\n",
      " 99%|█████████▉| 496/500 [11:20:14<04:45, 71.31s/it]"
     ]
    },
    {
     "name": "stdout",
     "output_type": "stream",
     "text": [
      "------------------------------\n",
      "Train Loss EPOCH 496: 0.9658\n",
      "Valid Loss EPOCH 496: 1.2529\n",
      "Train Accuracy EPOCH 496: 0.9371\n",
      "Valid Accuracy EPOCH 496: 0.6466\n",
      "------------------------------\n"
     ]
    },
    {
     "name": "stderr",
     "output_type": "stream",
     "text": [
      "100%|██████████| 881/881 [01:10<00:00, 12.44it/s]\n",
      "100%|██████████| 189/189 [00:04<00:00, 40.04it/s]\n"
     ]
    },
    {
     "name": "stdout",
     "output_type": "stream",
     "text": [
      "------------------------------\n",
      "Train Loss EPOCH 497: 0.9621\n",
      "Valid Loss EPOCH 497: 1.2464\n",
      "Train Accuracy EPOCH 497: 0.9409\n",
      "Valid Accuracy EPOCH 497: 0.6528\n",
      "------------------------------\n"
     ]
    },
    {
     "name": "stderr",
     "output_type": "stream",
     "text": [
      "100%|██████████| 881/881 [01:10<00:00, 12.47it/s]it]\n",
      "100%|██████████| 189/189 [00:04<00:00, 38.84it/s]\n",
      "100%|█████████▉| 498/500 [11:22:45<02:27, 73.58s/it]"
     ]
    },
    {
     "name": "stdout",
     "output_type": "stream",
     "text": [
      "------------------------------\n",
      "Train Loss EPOCH 498: 0.9617\n",
      "Valid Loss EPOCH 498: 1.2551\n",
      "Train Accuracy EPOCH 498: 0.9416\n",
      "Valid Accuracy EPOCH 498: 0.6450\n",
      "------------------------------\n"
     ]
    },
    {
     "name": "stderr",
     "output_type": "stream",
     "text": [
      "100%|██████████| 881/881 [01:10<00:00, 12.48it/s]\n",
      "100%|██████████| 189/189 [00:04<00:00, 41.84it/s]\n",
      "100%|█████████▉| 499/500 [11:24:01<01:14, 74.11s/it]"
     ]
    },
    {
     "name": "stdout",
     "output_type": "stream",
     "text": [
      "------------------------------\n",
      "Train Loss EPOCH 499: 0.9657\n",
      "Valid Loss EPOCH 499: 1.2509\n",
      "Train Accuracy EPOCH 499: 0.9374\n",
      "Valid Accuracy EPOCH 499: 0.6474\n",
      "------------------------------\n"
     ]
    },
    {
     "name": "stderr",
     "output_type": "stream",
     "text": [
      "100%|██████████| 881/881 [01:10<00:00, 12.44it/s]\n",
      "100%|██████████| 189/189 [00:04<00:00, 40.40it/s]\n",
      "100%|██████████| 500/500 [11:25:16<00:00, 82.23s/it]"
     ]
    },
    {
     "name": "stdout",
     "output_type": "stream",
     "text": [
      "------------------------------\n",
      "Train Loss EPOCH 500: 0.9642\n",
      "Valid Loss EPOCH 500: 1.2655\n",
      "Train Accuracy EPOCH 500: 0.9379\n",
      "Valid Accuracy EPOCH 500: 0.6344\n",
      "------------------------------\n",
      "Training Time: 41114.53s\n",
      "Model saved to vit_model_v2.pth\n"
     ]
    },
    {
     "name": "stderr",
     "output_type": "stream",
     "text": [
      "\n"
     ]
    }
   ],
   "source": [
    "criterion = nn.CrossEntropyLoss()\n",
    "optimizer = optim.Adam(model.parameters(), betas=ADAM_BETAS, lr=LEARNING_RATE, weight_decay=ADAM_WEIGHT_DECAY)\n",
    "\n",
    "start = timeit.default_timer()\n",
    "for epoch in tqdm(range(EPOCHS), position=0, leave=True):\n",
    "    model.train()\n",
    "    train_labels = []\n",
    "    train_preds = []\n",
    "    train_running_loss = 0\n",
    "    for idx, img_label in enumerate(tqdm(train_dataloader, position=0, leave=True)):\n",
    "        img = img_label[\"img\"].float().to(device)\n",
    "        label = img_label[\"label\"].type(torch.uint8).to(device)\n",
    "        y_pred = model(img)\n",
    "        y_pred_label = torch.argmax(y_pred, dim=1)\n",
    "\n",
    "        train_labels.extend(label.cpu().detach())\n",
    "        train_preds.extend(y_pred_label.cpu().detach())\n",
    "        \n",
    "        loss = criterion(y_pred, label)\n",
    "        \n",
    "        optimizer.zero_grad()\n",
    "        loss.backward()\n",
    "        optimizer.step()\n",
    "\n",
    "        train_running_loss += loss.item()\n",
    "    train_loss = train_running_loss / (idx + 1)\n",
    "\n",
    "    model.eval()\n",
    "    val_labels = []\n",
    "    val_preds = []\n",
    "    val_running_loss = 0\n",
    "    with torch.no_grad():\n",
    "        for idx, img_label in enumerate(tqdm(val_dataloader, position=0, leave=True)):\n",
    "            img = img_label[\"img\"].float().to(device)\n",
    "            label = img_label[\"label\"].type(torch.uint8).to(device)         \n",
    "            y_pred = model(img)\n",
    "            y_pred_label = torch.argmax(y_pred, dim=1)\n",
    "            \n",
    "            val_labels.extend(label.cpu().detach())\n",
    "            val_preds.extend(y_pred_label.cpu().detach())\n",
    "            \n",
    "            loss = criterion(y_pred, label)\n",
    "            val_running_loss += loss.item()\n",
    "    val_loss = val_running_loss / (idx + 1)\n",
    "\n",
    "    print(\"-\"*30)\n",
    "    print(f\"Train Loss EPOCH {epoch+1}: {train_loss:.4f}\")\n",
    "    print(f\"Valid Loss EPOCH {epoch+1}: {val_loss:.4f}\")\n",
    "    print(f\"Train Accuracy EPOCH {epoch+1}: {sum(1 for x,y in zip(train_preds, train_labels) if x == y) / len(train_labels):.4f}\")\n",
    "    print(f\"Valid Accuracy EPOCH {epoch+1}: {sum(1 for x,y in zip(val_preds, val_labels) if x == y) / len(val_labels):.4f}\")\n",
    "    print(\"-\"*30)\n",
    "\n",
    "stop = timeit.default_timer()\n",
    "print(f\"Training Time: {stop-start:.2f}s\")\n",
    "\n",
    "save_path = 'vit_model_v2.pth'\n",
    "torch.save({\n",
    "    'epoch': epoch + 1,\n",
    "    'model_state_dict': model.state_dict(),\n",
    "    'optimizer_state_dict': optimizer.state_dict(),\n",
    "    'train_loss': train_loss,\n",
    "    'val_loss': val_loss,\n",
    "}, save_path)\n",
    "\n",
    "print(f\"Model saved to {save_path}\")\n"
   ]
  },
  {
   "cell_type": "code",
   "execution_count": 14,
   "metadata": {},
   "outputs": [
    {
     "name": "stderr",
     "output_type": "stream",
     "text": [
      "100%|██████████| 189/189 [00:04<00:00, 40.73it/s]\n"
     ]
    },
    {
     "name": "stdout",
     "output_type": "stream",
     "text": [
      "Accuracy: 0.6329743164871583\n",
      "F1: 0.6317608634182748\n"
     ]
    },
    {
     "data": {
      "image/png": "[encoded data removed]",
      "text/plain": [
       "<Figure size 640x480 with 2 Axes>"
      ]
     },
     "metadata": {},
     "output_type": "display_data"
    }
   ],
   "source": [
    "import numpy as np\n",
    "from sklearn.metrics import confusion_matrix, ConfusionMatrixDisplay, accuracy_score, f1_score\n",
    "import torch\n",
    "\n",
    "def compute_confusion_matrix(model, test_dataloader):\n",
    "    model.eval()\n",
    "    all_preds = []\n",
    "    all_labels = []\n",
    "    with torch.no_grad():\n",
    "        for idx, img_label in enumerate(tqdm(test_dataloader, position=0, leave=True)):\n",
    "            inputs = img_label['img']\n",
    "            labels = img_label['label']\n",
    "            outputs = model(inputs)\n",
    "            _, preds = torch.max(outputs, 1)\n",
    "            all_preds.extend(preds.cpu().numpy())\n",
    "            all_labels.extend(labels.cpu().numpy())\n",
    "\n",
    "    confusion_mat = confusion_matrix(all_labels, all_preds)\n",
    "    accuracy = accuracy_score(all_labels, all_preds)\n",
    "    f1 = f1_score(all_labels, all_preds, average='weighted')\n",
    "    return confusion_mat, accuracy, f1\n",
    "\n",
    "\n",
    "confusion_mat, accuracy, f1= compute_confusion_matrix(model, test_dataloader)\n",
    "labels = [0, 1, 2, 3, 4]\n",
    "cm_display = ConfusionMatrixDisplay(confusion_matrix=confusion_mat, display_labels=labels)\n",
    "cm_display.plot(cmap='Blues', xticks_rotation='vertical')\n",
    "print(f\"Accuracy: {accuracy}\")\n",
    "print(f\"F1: {f1}\")"
   ]
  }
 ],
 "metadata": {
  "kernelspec": {
   "display_name": "venv",
   "language": "python",
   "name": "python3"
  },
  "language_info": {
   "codemirror_mode": {
    "name": "ipython",
    "version": 3
   },
   "file_extension": ".py",
   "mimetype": "text/x-python",
   "name": "python",
   "nbconvert_exporter": "python",
   "pygments_lexer": "ipython3",
   "version": "3.9.10"
  }
 },
 "nbformat": 4,
 "nbformat_minor": 2
}
